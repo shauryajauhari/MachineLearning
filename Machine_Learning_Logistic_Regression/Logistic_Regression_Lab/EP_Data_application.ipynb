{
 "cells": [
  {
   "cell_type": "code",
   "execution_count": 1,
   "metadata": {},
   "outputs": [],
   "source": [
    "ep_data <- readRDS(\"/Users/mei/Desktop/Machine_Learning/Machine_Learning_Deep_Learning/data/ep_data.rds\")"
   ]
  },
  {
   "cell_type": "code",
   "execution_count": 2,
   "metadata": {},
   "outputs": [
    {
     "name": "stdout",
     "output_type": "stream",
     "text": [
      "'data.frame':\t17327990 obs. of  10 variables:\n",
      " $ seqnames     : Factor w/ 146 levels \"chr1\",\"chr10\",..: 1 1 1 1 1 1 1 1 1 1 ...\n",
      " $ start        : int  0 847 8000 8952 10101 10148 10235 10444 11362 12000 ...\n",
      " $ end          : int  8000 947 12000 9052 10140 10209 10290 10580 11397 16000 ...\n",
      " $ width        : int  8001 101 4001 101 40 62 56 137 36 4001 ...\n",
      " $ strand       : Factor w/ 3 levels \"+\",\"-\",\"*\": 3 3 3 3 3 3 3 3 3 3 ...\n",
      " $ class        : chr  NA \"Non-Enhancer\" NA \"Non-Enhancer\" ...\n",
      " $ peaks_h3k27ac: num  0 0 0.0568 0 0 ...\n",
      " $ peaks_h3k4me3: num  0 0 0 0 0 0 0 0 0 0 ...\n",
      " $ peaks_h3k4me2: num  0 0 0 0 0 0 0 0 0 0 ...\n",
      " $ peaks_h3k4me1: num  0 0 0 0 0 0 0 0 0 0 ...\n"
     ]
    }
   ],
   "source": [
    "str(ep_data)"
   ]
  },
  {
   "cell_type": "code",
   "execution_count": 3,
   "metadata": {},
   "outputs": [
    {
     "data": {
      "text/plain": [
       "\n",
       "    Enhancer Non-Enhancer \n",
       "     6504779      9422552 "
      ]
     },
     "metadata": {},
     "output_type": "display_data"
    }
   ],
   "source": [
    "table(ep_data$class)"
   ]
  },
  {
   "cell_type": "code",
   "execution_count": 4,
   "metadata": {},
   "outputs": [],
   "source": [
    "set.seed(3)\n",
    "data_partition <- sample(2, nrow(ep_data), replace = TRUE, prob = c(0.8,0.2))\n",
    "train <- ep_data[data_partition==1,]\n",
    "test <- ep_data[data_partition==2,]"
   ]
  },
  {
   "cell_type": "code",
   "execution_count": null,
   "metadata": {},
   "outputs": [],
   "source": [
    "#stats::glm\n",
    "\n",
    "model1 <- glm(formula = train$class ~ peaks_h3k27ac+peaks_h3k4me3+peaks_h3k4me2+peaks_h3k4me1, \n",
    "              data = train, \n",
    "              family = \"binomial\")\n",
    "summary(model1)"
   ]
  },
  {
   "cell_type": "code",
   "execution_count": null,
   "metadata": {},
   "outputs": [],
   "source": [
    "#Prediction\n",
    "y_estimate <- predict(model1, \n",
    "                      test, \n",
    "                      type = \"response\")"
   ]
  },
  {
   "cell_type": "code",
   "execution_count": null,
   "metadata": {},
   "outputs": [],
   "source": [
    "# Converting probabilities to labels\n",
    "prediction_probabilities <- ifelse(y_estimate>0.5, \"Non-Enhancer\", \"Enhancer\")"
   ]
  },
  {
   "cell_type": "code",
   "execution_count": null,
   "metadata": {},
   "outputs": [],
   "source": [
    "# Confusion matrix\n",
    "confusion_matrix<- table(Predicted = prediction_probabilities, Actual = test$Class)\n",
    "print(confusion_matrix)"
   ]
  },
  {
   "cell_type": "code",
   "execution_count": null,
   "metadata": {},
   "outputs": [],
   "source": [
    "#Misclassification error\n",
    "misclassfication_error <- 1- sum(diag(confusion_matrix))/sum(confusion_matrix) \n",
    "cat(\"The misclassification error in test data is\",\n",
    "    (round(misclassfication_error*100)), \"percent\")"
   ]
  }
 ],
 "metadata": {
  "kernelspec": {
   "display_name": "R",
   "language": "R",
   "name": "ir"
  },
  "language_info": {
   "codemirror_mode": "r",
   "file_extension": ".r",
   "mimetype": "text/x-r-source",
   "name": "R",
   "pygments_lexer": "r",
   "version": "3.6.0"
  }
 },
 "nbformat": 4,
 "nbformat_minor": 2
}
