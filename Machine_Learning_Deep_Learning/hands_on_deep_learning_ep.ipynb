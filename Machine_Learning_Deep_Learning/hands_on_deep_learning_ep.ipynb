{
 "cells": [
  {
   "cell_type": "markdown",
   "metadata": {},
   "source": [
    "# Deep Learning "
   ]
  },
  {
   "cell_type": "markdown",
   "metadata": {},
   "source": [
    "## Background"
   ]
  },
  {
   "cell_type": "markdown",
   "metadata": {},
   "source": [
    "Machine learning has conquered our digital space in a much conceivable way. Aritifical Intelligence is the umbrella discipline that describes the varied notions of the systemic behavior akin to humans. Unlike the common held adage, **Deep Learning** isn't a part of Machine Learning per se, rather it has evolved to be an exclusive stream altogether.  \n",
    "If we recall from the previous session, we discussed the relevance of decision trees and random forests and how crucial former is to the latter. The diversity and aggregation of results in the random forests engender them the alacrity to handle multidimensional data. Although, neural nets do not foster the *same* relationship with deep learning, it is of the utmost importance to fathom the concept prior to proceeding to the holistic theme of deep learning. "
   ]
  },
  {
   "cell_type": "markdown",
   "metadata": {},
   "source": [
    "<img src=\"./props/AI_branches.jpg\">"
   ]
  },
  {
   "cell_type": "markdown",
   "metadata": {},
   "source": [
    "As mentioned above, deep learning is founded on **neural networks** that have, generally, outperformed other classification algorithms like Support Vector Machines (SVM), logistic regression, etc. *Neural Networks* are a specialized set of algorithms that work on assigning and moderating weights from the original data (input), across through the layers to the classification result (ouput).  "
   ]
  },
  {
   "cell_type": "markdown",
   "metadata": {},
   "source": [
    "<img src=\"./props/deep_learning_NN_better.jpg\">"
   ]
  },
  {
   "cell_type": "markdown",
   "metadata": {},
   "source": [
    "### Exercise\n",
    "\n",
    "> Loosely, Neural Networks is to Deep Learning as ________ is to Random Forests."
   ]
  },
  {
   "cell_type": "markdown",
   "metadata": {},
   "source": [
    "## Package Installation"
   ]
  },
  {
   "cell_type": "markdown",
   "metadata": {},
   "source": [
    "## keras"
   ]
  },
  {
   "cell_type": "markdown",
   "metadata": {},
   "source": [
    "#### Installation Errors"
   ]
  },
  {
   "cell_type": "markdown",
   "metadata": {},
   "source": [
    "There could be subjective instances of errors that a system would result, owing to some missing or conflicting dependencies. Few encountered are as under:"
   ]
  },
  {
   "cell_type": "markdown",
   "metadata": {},
   "source": [
    "<img src=\"./props/install_keras_error.jpg\">"
   ]
  },
  {
   "cell_type": "markdown",
   "metadata": {},
   "source": [
    "The TensorFlow is the Google's offering for machine learning and deep learning related tasks; *Anaconda* and *Python* libraries are major requisites for *TensorFlow* deployment in R. "
   ]
  },
  {
   "cell_type": "markdown",
   "metadata": {},
   "source": [
    "<img src=\"./props/install_keras_error1.jpg\">"
   ]
  },
  {
   "cell_type": "markdown",
   "metadata": {},
   "source": [
    "Often,\n",
    "- there is a missing declaration in the PATH variable, or \n",
    "- *Anaconda* and *Python* installations have suffered shadowing from the other. "
   ]
  },
  {
   "cell_type": "markdown",
   "metadata": {},
   "source": [
    "<img src=\"./props/install_keras_error2.jpg\">"
   ]
  },
  {
   "cell_type": "markdown",
   "metadata": {},
   "source": [
    "## neuralnet"
   ]
  },
  {
   "cell_type": "code",
   "execution_count": 1,
   "metadata": {},
   "outputs": [
    {
     "name": "stdout",
     "output_type": "stream",
     "text": [
      "\n",
      "The downloaded binary packages are in\n",
      "\t/var/folders/hm/c3_fjypn62v5xh5b5ygv267m0000gn/T//RtmpzQySiq/downloaded_packages\n"
     ]
    }
   ],
   "source": [
    "## Install the package and load the library\n",
    "\n",
    "install.packages(\"neuralnet\", \n",
    "                 repos = \"https://mirrors.tuna.tsinghua.edu.cn/CRAN/\",\n",
    "                 dependencies = TRUE)\n",
    "library(neuralnet)"
   ]
  },
  {
   "cell_type": "markdown",
   "metadata": {},
   "source": [
    "## Dataset Preparation"
   ]
  },
  {
   "cell_type": "markdown",
   "metadata": {},
   "source": [
    "Please consider visiting [Enhancer Prediction Dataset preparation](https://nbviewer.jupyter.org/github/shauryajauhari/Machine_Learning/blob/master/Machine_Learning_Deep_Learning/enhancer_prediction_dataset_protocol.ipynb) for the detailed protocol."
   ]
  },
  {
   "cell_type": "markdown",
   "metadata": {},
   "source": [
    "Let's check out the dataset. "
   ]
  },
  {
   "cell_type": "code",
   "execution_count": 2,
   "metadata": {},
   "outputs": [
    {
     "name": "stdout",
     "output_type": "stream",
     "text": [
      "'data.frame':\t10000 obs. of  5 variables:\n",
      " $ peaks_h3k27ac: num  0.734 0 1.468 0.734 0 ...\n",
      " $ peaks_h3k4me3: num  0 0 1.14 5.68 1.14 ...\n",
      " $ peaks_h3k4me2: num  0 0 0.866 0.866 0 ...\n",
      " $ peaks_h3k4me1: num  0 0 0 0 0 ...\n",
      " $ class        : num  1 0 1 0 1 1 1 1 1 1 ...\n"
     ]
    }
   ],
   "source": [
    "## Let us consider our example dataset\n",
    "d <- readRDS(\"./data/ep_data_sample.rds\")\n",
    "str(d)"
   ]
  },
  {
   "cell_type": "markdown",
   "metadata": {},
   "source": [
    "Great. Here Enhancers are depicted with \"0\" and Non-Enhancers by \"1\". As we look now, the dataset looks in close viability for application to the deep learning module. The only caveat is that the neural networks warrant the data spread between 0 and 1, for mirroring results in probability terms. Also, if chosen the sigmoid activation function shall also restrict the output in the similar range."
   ]
  },
  {
   "cell_type": "markdown",
   "metadata": {},
   "source": [
    "So if it isn't already, some sort of normalization procedure can help do that. The preferred one is the min-max normalization."
   ]
  },
  {
   "cell_type": "code",
   "execution_count": 3,
   "metadata": {},
   "outputs": [],
   "source": [
    "# Min-Max normalization\n",
    "d$peaks_h3k27ac <- (d$peaks_h3k27ac-min(d$peaks_h3k27ac, na.rm = T))/(max(d$peaks_h3k27ac, na.rm = T)-min(d$peaks_h3k27ac, na.rm = T))\n",
    "d$peaks_h3k4me3 <- (d$peaks_h3k4me3-min(d$peaks_h3k4me3, na.rm = T))/(max(d$peaks_h3k4me3, na.rm = T)-min(d$peaks_h3k4me3, na.rm = T))\n",
    "d$peaks_h3k4me2 <- (d$peaks_h3k4me2-min(d$peaks_h3k4me2, na.rm = T))/(max(d$peaks_h3k4me2, na.rm = T)-min(d$peaks_h3k4me2, na.rm = T))\n",
    "d$peaks_h3k4me1 <- (d$peaks_h3k4me1-min(d$peaks_h3k4me1, na.rm = T))/(max(d$peaks_h3k4me1, na.rm = T)-min(d$peaks_h3k4me1, na.rm = T))\n",
    "\n",
    "\n",
    "\n",
    "# Z-Score normalization\n",
    "#d$peaks_h3k27ac <- as.numeric((d$peaks_h3k27ac - mean(d$peaks_h3k27ac)) / sd(d$peaks_h3k27ac))\n",
    "#d$peaks_h3k4me1 <- as.numeric((d$peaks_h3k4me1 - mean(d$peaks_h3k4me1)) / sd(d$peaks_h3k4me1))\n",
    "#d$peaks_h3k4me2 <- as.numeric((d$peaks_h3k4me2 - mean(d$peaks_h3k4me2)) / sd(d$peaks_h3k4me2))\n",
    "#d$peaks_h3k4me3 <- as.numeric((d$peaks_h3k4me3 - mean(d$peaks_h3k4me3)) / sd(d$peaks_h3k4me3))"
   ]
  },
  {
   "cell_type": "markdown",
   "metadata": {},
   "source": [
    "Let us now formalize the dataset and bifurcate it further into training and test cases."
   ]
  },
  {
   "cell_type": "code",
   "execution_count": 4,
   "metadata": {},
   "outputs": [],
   "source": [
    "# Data Partition\n",
    "set.seed(105)\n",
    "ind <- sample(2, nrow(d), replace = TRUE, prob = c(0.7, 0.3))\n",
    "training <- d[ind==1,]\n",
    "testing <- d[ind==2,]"
   ]
  },
  {
   "cell_type": "markdown",
   "metadata": {},
   "source": [
    ">Excercise:  \n",
    "As noted, the data is partitioned in a proportion of 7:3. Try if a different proportion, eg. 8:2 makes any difference in the final result."
   ]
  },
  {
   "cell_type": "markdown",
   "metadata": {},
   "source": [
    "Let us now execute the models from different packages. "
   ]
  },
  {
   "cell_type": "markdown",
   "metadata": {},
   "source": [
    "## Executing 'neuralnet'"
   ]
  },
  {
   "cell_type": "code",
   "execution_count": 5,
   "metadata": {},
   "outputs": [],
   "source": [
    "# Neural Networks\n",
    "set.seed(005)\n",
    "nn <- neuralnet(class~peaks_h3k27ac+peaks_h3k4me3+peaks_h3k4me2+peaks_h3k4me1,\n",
    "                data = training,\n",
    "                hidden = 5,\n",
    "                err.fct = \"sse\",\n",
    "                act.fct = \"logistic\",\n",
    "                linear.output = FALSE)"
   ]
  },
  {
   "cell_type": "markdown",
   "metadata": {},
   "source": [
    "We can also plot the model to have a graphical visualization of the network."
   ]
  },
  {
   "cell_type": "code",
   "execution_count": 6,
   "metadata": {},
   "outputs": [],
   "source": [
    "plot(nn)"
   ]
  },
  {
   "cell_type": "markdown",
   "metadata": {},
   "source": [
    "<img src=\"./props/Nn_Example2.png\">"
   ]
  },
  {
   "cell_type": "markdown",
   "metadata": {},
   "source": [
    ">Excercise:  \n",
    "Check out the error and number of steps. Try if manipulating the number of hidden nodes/layers (as parameter to the neuralnet function) and error function, if given \"ce\" (class entropy) instead of \"sse\" (sum of square errors) makes any difference. These shall also have an impact on the overall accuracy of the model as we learn to calculate further."
   ]
  },
  {
   "cell_type": "code",
   "execution_count": 7,
   "metadata": {},
   "outputs": [
    {
     "data": {
      "text/html": [
       "<table>\n",
       "<caption>A matrix: 6 × 1 of type dbl</caption>\n",
       "<tbody>\n",
       "\t<tr><th scope=row>11034519</th><td>0.6245656</td></tr>\n",
       "\t<tr><th scope=row>2449475</th><td>0.5869564</td></tr>\n",
       "\t<tr><th scope=row>16635621</th><td>0.6322130</td></tr>\n",
       "\t<tr><th scope=row>10889006</th><td>0.6556439</td></tr>\n",
       "\t<tr><th scope=row>16135314</th><td>0.5682042</td></tr>\n",
       "\t<tr><th scope=row>18111072</th><td>0.6056705</td></tr>\n",
       "</tbody>\n",
       "</table>\n"
      ],
      "text/latex": [
       "A matrix: 6 × 1 of type dbl\n",
       "\\begin{tabular}{r|l}\n",
       "\t11034519 & 0.6245656\\\\\n",
       "\t2449475 & 0.5869564\\\\\n",
       "\t16635621 & 0.6322130\\\\\n",
       "\t10889006 & 0.6556439\\\\\n",
       "\t16135314 & 0.5682042\\\\\n",
       "\t18111072 & 0.6056705\\\\\n",
       "\\end{tabular}\n"
      ],
      "text/markdown": [
       "\n",
       "A matrix: 6 × 1 of type dbl\n",
       "\n",
       "| 11034519 | 0.6245656 |\n",
       "| 2449475 | 0.5869564 |\n",
       "| 16635621 | 0.6322130 |\n",
       "| 10889006 | 0.6556439 |\n",
       "| 16135314 | 0.5682042 |\n",
       "| 18111072 | 0.6056705 |\n",
       "\n"
      ],
      "text/plain": [
       "         [,1]     \n",
       "11034519 0.6245656\n",
       "2449475  0.5869564\n",
       "16635621 0.6322130\n",
       "10889006 0.6556439\n",
       "16135314 0.5682042\n",
       "18111072 0.6056705"
      ]
     },
     "metadata": {},
     "output_type": "display_data"
    },
    {
     "data": {
      "text/html": [
       "<table>\n",
       "<caption>A data.frame: 1 × 5</caption>\n",
       "<thead>\n",
       "\t<tr><th></th><th scope=col>peaks_h3k27ac</th><th scope=col>peaks_h3k4me3</th><th scope=col>peaks_h3k4me2</th><th scope=col>peaks_h3k4me1</th><th scope=col>class</th></tr>\n",
       "\t<tr><th></th><th scope=col>&lt;dbl&gt;</th><th scope=col>&lt;dbl&gt;</th><th scope=col>&lt;dbl&gt;</th><th scope=col>&lt;dbl&gt;</th><th scope=col>&lt;dbl&gt;</th></tr>\n",
       "</thead>\n",
       "<tbody>\n",
       "\t<tr><th scope=row>11034519</th><td>0.02127658</td><td>0</td><td>0</td><td>0</td><td>1</td></tr>\n",
       "</tbody>\n",
       "</table>\n"
      ],
      "text/latex": [
       "A data.frame: 1 × 5\n",
       "\\begin{tabular}{r|lllll}\n",
       "  & peaks\\_h3k27ac & peaks\\_h3k4me3 & peaks\\_h3k4me2 & peaks\\_h3k4me1 & class\\\\\n",
       "  & <dbl> & <dbl> & <dbl> & <dbl> & <dbl>\\\\\n",
       "\\hline\n",
       "\t11034519 & 0.02127658 & 0 & 0 & 0 & 1\\\\\n",
       "\\end{tabular}\n"
      ],
      "text/markdown": [
       "\n",
       "A data.frame: 1 × 5\n",
       "\n",
       "| <!--/--> | peaks_h3k27ac &lt;dbl&gt; | peaks_h3k4me3 &lt;dbl&gt; | peaks_h3k4me2 &lt;dbl&gt; | peaks_h3k4me1 &lt;dbl&gt; | class &lt;dbl&gt; |\n",
       "|---|---|---|---|---|---|\n",
       "| 11034519 | 0.02127658 | 0 | 0 | 0 | 1 |\n",
       "\n"
      ],
      "text/plain": [
       "         peaks_h3k27ac peaks_h3k4me3 peaks_h3k4me2 peaks_h3k4me1 class\n",
       "11034519 0.02127658    0             0             0             1    "
      ]
     },
     "metadata": {},
     "output_type": "display_data"
    }
   ],
   "source": [
    "# Prediction\n",
    "output <- compute(nn, training[,-5])\n",
    "head(output$net.result)\n",
    "head(training[1,])"
   ]
  },
  {
   "cell_type": "markdown",
   "metadata": {},
   "source": [
    "Note, how the prediction is made. As reflected in the above graphic, we have a set of weights calculated by the model and some error terms (marked in blue). As an example, let us highlight the input and output to the node 5 (in order)."
   ]
  },
  {
   "cell_type": "code",
   "execution_count": 8,
   "metadata": {},
   "outputs": [
    {
     "name": "stdout",
     "output_type": "stream",
     "text": [
      "[1] -3.314614\n",
      "[1] 28.51176\n"
     ]
    }
   ],
   "source": [
    "in5 <- -0.27206 + (0.7777778*-6.9519)+(0.4166667*1.11426)+(0.8305085*1.25498)+(0.8333333*1.02952)\n",
    "print(in5)\n",
    "out5 <- (1/1+exp(-in5))\n",
    "print(out5)"
   ]
  },
  {
   "cell_type": "markdown",
   "metadata": {},
   "source": [
    "Similarly, calculations can be done for other nodes as well."
   ]
  },
  {
   "cell_type": "markdown",
   "metadata": {},
   "source": [
    "The next step is to ascertain the overall accuracy of the model in terms of misclassification error."
   ]
  },
  {
   "cell_type": "code",
   "execution_count": 9,
   "metadata": {},
   "outputs": [
    {
     "data": {
      "text/plain": [
       "     \n",
       "pred1    0    1\n",
       "    0   20    8\n",
       "    1 2617 4375"
      ]
     },
     "metadata": {},
     "output_type": "display_data"
    },
    {
     "name": "stdout",
     "output_type": "stream",
     "text": [
      "The misclassification error is 0.3739316"
     ]
    }
   ],
   "source": [
    "# Confusion Matrix & Misclassification Error - training data\n",
    "output <- compute(nn, training[,-5])\n",
    "p1 <- output$net.result\n",
    "pred1 <- ifelse(p1>0.5, 1, 0)\n",
    "tab1 <- table(pred1, training$class)\n",
    "tab1\n",
    "ac <- sum(diag(tab1))/sum(tab1) #accuracy#\n",
    "me <- 1 - ac\n",
    "cat(\"The misclassification error is\", me)"
   ]
  },
  {
   "cell_type": "markdown",
   "metadata": {},
   "source": [
    "We are calculating the misclassification error on training data. Intuitively, it should be low because that is the data out of which neural network model was built over. Nonetheless, it is about 21 percent which can still be improved upon. The table shows that 50 leaves and 37 flowers were classified correctly (the diagonal elements), and the off diagonal elements constitute the errors in classification. 15 leaves were classified as flowers and 8 flowers were classified as leaves."
   ]
  },
  {
   "cell_type": "markdown",
   "metadata": {},
   "source": [
    "Let's do the same for testing data."
   ]
  },
  {
   "cell_type": "code",
   "execution_count": 10,
   "metadata": {},
   "outputs": [
    {
     "data": {
      "text/plain": [
       "     \n",
       "pred2    0    1\n",
       "    0   11    3\n",
       "    1 1056 1910"
      ]
     },
     "metadata": {},
     "output_type": "display_data"
    },
    {
     "name": "stdout",
     "output_type": "stream",
     "text": [
      "The misclassification error is 0.3553691"
     ]
    }
   ],
   "source": [
    "# Confusion Matrix & Misclassification Error - testing data\n",
    "output <- compute(nn, testing[,-1])\n",
    "p2 <- output$net.result\n",
    "pred2 <- ifelse(p2>0.5, 1, 0)\n",
    "tab2 <- table(pred2, testing$class)\n",
    "tab2\n",
    "me <- 1-sum(diag(tab2))/sum(tab2)\n",
    "cat(\"The misclassification error is\", me)"
   ]
  },
  {
   "cell_type": "markdown",
   "metadata": {},
   "source": [
    "In order to induce flavor, let us try to fiddle with different parameters of the neuralnet function."
   ]
  },
  {
   "cell_type": "code",
   "execution_count": 12,
   "metadata": {},
   "outputs": [],
   "source": [
    "nn1 <- neuralnet(class~peaks_h3k27ac+peaks_h3k4me3+peaks_h3k4me2+peaks_h3k4me1,\n",
    "               data = training,\n",
    "               hidden = c(2,1),\n",
    "               err.fct = \"ce\",\n",
    "               act.fct = \"logistic\",\n",
    "               linear.output = FALSE)"
   ]
  },
  {
   "cell_type": "code",
   "execution_count": 13,
   "metadata": {},
   "outputs": [
    {
     "name": "stderr",
     "output_type": "stream",
     "text": [
      "hidden: 3    thresh: 0.01    rep: 1/2    steps:    1000\tmin thresh: 0.302976356489358\n",
      "                                                   2000\tmin thresh: 0.161942908591496\n",
      "                                                   3000\tmin thresh: 0.115018379153171\n",
      "                                                   4000\tmin thresh: 0.0828115721468402\n",
      "                                                   5000\tmin thresh: 0.077997950101077\n",
      "                                                   6000\tmin thresh: 0.0548012707903939\n",
      "                                                   7000\tmin thresh: 0.0458120030463763\n",
      "                                                   8000\tmin thresh: 0.0385939637688986\n",
      "                                                   9000\tmin thresh: 0.0344907388478396\n",
      "                                                  10000\tmin thresh: 0.0278713076142123\n",
      "                                                  11000\tmin thresh: 0.026136702552037\n",
      "                                                  12000\tmin thresh: 0.0246879132982603\n",
      "                                                  13000\tmin thresh: 0.0212695806702994\n",
      "                                                  14000\tmin thresh: 0.0206614496785202\n",
      "                                                  15000\tmin thresh: 0.0189897339215724\n",
      "                                                  16000\tmin thresh: 0.0179922542616764\n",
      "                                                  17000\tmin thresh: 0.017279647606415\n",
      "                                                  18000\tmin thresh: 0.0160295000779364\n",
      "                                                  19000\tmin thresh: 0.0152218251117217\n",
      "                                                  20000\tmin thresh: 0.0151740577194723\n",
      "                                                  21000\tmin thresh: 0.0146575080792373\n",
      "                                                  22000\tmin thresh: 0.0140236657425944\n",
      "                                                  23000\tmin thresh: 0.0139591504370229\n",
      "                                                  24000\tmin thresh: 0.0136900058579719\n",
      "                                                  25000\tmin thresh: 0.0136900058579719\n",
      "                                                  26000\tmin thresh: 0.0136900058579719\n",
      "                                                  27000\tmin thresh: 0.0136900058579719\n",
      "                                                  28000\tmin thresh: 0.0136900058579719\n",
      "                                                  29000\tmin thresh: 0.0136900058579719\n",
      "                                                  30000\tmin thresh: 0.0136900058579719\n",
      "                                                  31000\tmin thresh: 0.0136900058579719\n",
      "                                                  32000\tmin thresh: 0.0136900058579719\n",
      "                                                  33000\tmin thresh: 0.0136900058579719\n",
      "                                                  34000\tmin thresh: 0.0136900058579719\n",
      "                                                  35000\tmin thresh: 0.0136900058579719\n",
      "                                                  36000\tmin thresh: 0.0136900058579719\n",
      "                                                  37000\tmin thresh: 0.0136900058579719\n",
      "                                                  38000\tmin thresh: 0.0136900058579719\n",
      "                                                  39000\tmin thresh: 0.0136900058579719\n",
      "                                                  40000\tmin thresh: 0.0136900058579719\n",
      "                                                  41000\tmin thresh: 0.0136900058579719\n",
      "                                                  42000\tmin thresh: 0.0136900058579719\n",
      "                                                  43000\tmin thresh: 0.0136900058579719\n",
      "                                                  44000\tmin thresh: 0.0136900058579719\n",
      "                                                  45000\tmin thresh: 0.0136900058579719\n",
      "                                                  46000\tmin thresh: 0.0136900058579719\n",
      "                                                  47000\tmin thresh: 0.0136900058579719\n",
      "                                                  48000\tmin thresh: 0.0136900058579719\n",
      "                                                  49000\tmin thresh: 0.0136900058579719\n",
      "                                                  50000\tmin thresh: 0.0136900058579719\n",
      "                                                  51000\tmin thresh: 0.0136900058579719\n",
      "                                                  52000\tmin thresh: 0.0136900058579719\n",
      "                                                  53000\tmin thresh: 0.0136900058579719\n",
      "                                                  54000\tmin thresh: 0.0136900058579719\n",
      "                                                  55000\tmin thresh: 0.0136900058579719\n",
      "                                                  56000\tmin thresh: 0.0136900058579719\n",
      "                                                  57000\tmin thresh: 0.0136900058579719\n",
      "                                                  58000\tmin thresh: 0.0136900058579719\n",
      "                                                  59000\tmin thresh: 0.0136900058579719\n",
      "                                                  60000\tmin thresh: 0.0136900058579719\n",
      "                                                  61000\tmin thresh: 0.0136900058579719\n",
      "                                                  62000\tmin thresh: 0.0136900058579719\n",
      "                                                  63000\tmin thresh: 0.0136900058579719\n",
      "                                                  64000\tmin thresh: 0.0136900058579719\n",
      "                                                  65000\tmin thresh: 0.0136900058579719\n",
      "                                                  66000\tmin thresh: 0.0136900058579719\n",
      "                                                  67000\tmin thresh: 0.0136900058579719\n",
      "                                                  68000\tmin thresh: 0.0136900058579719\n",
      "                                                  69000\tmin thresh: 0.0136900058579719\n",
      "                                                  70000\tmin thresh: 0.0136900058579719\n",
      "                                                  71000\tmin thresh: 0.0136900058579719\n",
      "                                                  72000\tmin thresh: 0.0136900058579719\n",
      "                                                  73000\tmin thresh: 0.0136900058579719\n",
      "                                                  74000\tmin thresh: 0.0136900058579719\n",
      "                                                  75000\tmin thresh: 0.0136900058579719\n",
      "                                                  76000\tmin thresh: 0.0136900058579719\n",
      "                                                  77000\tmin thresh: 0.0136900058579719\n",
      "                                                  78000\tmin thresh: 0.0136900058579719\n",
      "                                                  79000\tmin thresh: 0.0136900058579719\n",
      "                                                  80000\tmin thresh: 0.0136900058579719\n",
      "                                                  81000\tmin thresh: 0.0136900058579719\n",
      "                                                  82000\tmin thresh: 0.0136900058579719\n",
      "                                                  83000\tmin thresh: 0.0136900058579719\n",
      "                                                  84000\tmin thresh: 0.0136900058579719\n",
      "                                                  85000\tmin thresh: 0.0136900058579719\n",
      "                                                  86000\tmin thresh: 0.0136900058579719\n",
      "                                                  87000\tmin thresh: 0.0136900058579719\n",
      "                                                  88000\tmin thresh: 0.0136900058579719\n",
      "                                                  89000\tmin thresh: 0.0136900058579719\n",
      "                                                  90000\tmin thresh: 0.0136900058579719\n",
      "                                                  91000\tmin thresh: 0.0136900058579719\n",
      "                                                  92000\tmin thresh: 0.0136900058579719\n",
      "                                                  93000\tmin thresh: 0.0136900058579719\n",
      "                                                  94000\tmin thresh: 0.0136900058579719\n",
      "                                                  95000\tmin thresh: 0.0136900058579719\n",
      "                                                  96000\tmin thresh: 0.0136900058579719\n",
      "                                                  97000\tmin thresh: 0.0136900058579719\n",
      "                                                  98000\tmin thresh: 0.0136900058579719\n",
      "                                                  99000\tmin thresh: 0.0136900058579719\n",
      "                                                stepmax\tmin thresh: 0.0136900058579719\n",
      "hidden: 3    thresh: 0.01    rep: 2/2    steps:    1000\tmin thresh: 0.107642222339116\n",
      "                                                   2000\tmin thresh: 0.107642222339116\n",
      "                                                   3000\tmin thresh: 0.0603793460142689\n",
      "                                                   4000\tmin thresh: 0.0603793460142689\n",
      "                                                   5000\tmin thresh: 0.0603793460142689\n",
      "                                                   6000\tmin thresh: 0.0370911920306297\n",
      "                                                   7000\tmin thresh: 0.0230997475493879\n",
      "                                                   8000\tmin thresh: 0.0230997475493879\n",
      "                                                   9000\tmin thresh: 0.0230997475493879\n",
      "                                                  10000\tmin thresh: 0.0230997475493879\n",
      "                                                  11000\tmin thresh: 0.0230997475493879\n",
      "                                                  12000\tmin thresh: 0.0230997475493879\n",
      "                                                  13000\tmin thresh: 0.0230997475493879\n",
      "                                                  14000\tmin thresh: 0.0230997475493879\n",
      "                                                  15000\tmin thresh: 0.0230997475493879\n",
      "                                                  16000\tmin thresh: 0.0230997475493879\n",
      "                                                  17000\tmin thresh: 0.0230997475493879\n",
      "                                                  17935\terror: 4630.0433 \ttime: 16.46 secs\n"
     ]
    },
    {
     "ename": "ERROR",
     "evalue": "Error in if (ncol.matrix < rep) {: argument is of length zero\n",
     "output_type": "error",
     "traceback": [
      "Error in if (ncol.matrix < rep) {: argument is of length zero\nTraceback:\n",
      "1. neuralnet(class ~ peaks_h3k27ac + peaks_h3k4me3 + peaks_h3k4me2 + \n .     peaks_h3k4me1, data = training, hidden = 3, err.fct = \"ce\", \n .     act.fct = \"logistic\", linear.output = FALSE, lifesign = \"full\", \n .     rep = 2)"
     ]
    }
   ],
   "source": [
    "nn2 <- neuralnet(class~peaks_h3k27ac+peaks_h3k4me3+peaks_h3k4me2+peaks_h3k4me1,\n",
    "               data = training,\n",
    "               hidden = 3,\n",
    "               err.fct = \"ce\",\n",
    "               act.fct = \"logistic\",\n",
    "               linear.output = FALSE,\n",
    "                lifesign='full',\n",
    "                rep=2)"
   ]
  },
  {
   "cell_type": "markdown",
   "metadata": {},
   "source": [
    "The **nn2** network model will undergo 2 repetitions and will dynamically output the execution time and error at each repetition. "
   ]
  },
  {
   "cell_type": "markdown",
   "metadata": {},
   "source": [
    "> Exercise:  \n",
    "Try with different values of 'rep'. Do all of the models converge?"
   ]
  },
  {
   "cell_type": "markdown",
   "metadata": {},
   "source": [
    "## Executing 'keras'"
   ]
  },
  {
   "cell_type": "code",
   "execution_count": 2,
   "metadata": {},
   "outputs": [
    {
     "name": "stdout",
     "output_type": "stream",
     "text": [
      "Using virtual environment '~/.virtualenvs/r-reticulate' ...\n",
      "\n",
      "Installation complete.\n",
      "\n"
     ]
    }
   ],
   "source": [
    "## Loading package library.\n",
    "\n",
    "library(keras)\n",
    "install_keras()"
   ]
  },
  {
   "cell_type": "markdown",
   "metadata": {},
   "source": [
    "The data here gets a slightly different treatment as compared to the former package. Let us recall the structure of the data."
   ]
  },
  {
   "cell_type": "code",
   "execution_count": 3,
   "metadata": {},
   "outputs": [
    {
     "name": "stdout",
     "output_type": "stream",
     "text": [
      "'data.frame':\t10000 obs. of  5 variables:\n",
      " $ peaks_h3k27ac: num  0.734 0 1.468 0.734 0 ...\n",
      " $ peaks_h3k4me3: num  0 0 1.14 5.68 1.14 ...\n",
      " $ peaks_h3k4me2: num  0 0 0.866 0.866 0 ...\n",
      " $ peaks_h3k4me1: num  0 0 0 0 0 ...\n",
      " $ class        : num  1 0 1 0 1 1 1 1 1 1 ...\n"
     ]
    }
   ],
   "source": [
    "## Data manipulation\n",
    "d <- readRDS(\"./data/ep_data_sample.rds\")\n",
    "str(d)\n",
    "d3 <- as.matrix(d)\n",
    "dimnames(d3) <- NULL"
   ]
  },
  {
   "cell_type": "code",
   "execution_count": 4,
   "metadata": {},
   "outputs": [
    {
     "name": "stdout",
     "output_type": "stream",
     "text": [
      " num [1:10000, 1:5] 0.734 0 1.468 0.734 0 ...\n"
     ]
    }
   ],
   "source": [
    "str(d3)"
   ]
  },
  {
   "cell_type": "markdown",
   "metadata": {},
   "source": [
    "The data was converted to a matrix form and the column names were removed."
   ]
  },
  {
   "cell_type": "code",
   "execution_count": 5,
   "metadata": {},
   "outputs": [],
   "source": [
    "# Normalize, function is a part of keras package\n",
    "d3[,1:4] <- normalize(d3[,1:4]) # normalize the features #\n",
    "d3[,5] <- as.numeric(d3[,5]) # the class variable must be numeric, use of which will be known in a while #"
   ]
  },
  {
   "cell_type": "code",
   "execution_count": 6,
   "metadata": {},
   "outputs": [
    {
     "data": {
      "text/plain": [
       "       V1               V2               V3               V4        \n",
       " Min.   :0.0000   Min.   :0.0000   Min.   :0.0000   Min.   :0.0000  \n",
       " 1st Qu.:0.0000   1st Qu.:0.0000   1st Qu.:0.0000   1st Qu.:0.0000  \n",
       " Median :0.0000   Median :0.0000   Median :0.0000   Median :0.0000  \n",
       " Mean   :0.2783   Mean   :0.2253   Mean   :0.1916   Mean   :0.1269  \n",
       " 3rd Qu.:0.6354   3rd Qu.:0.5158   3rd Qu.:0.3409   3rd Qu.:0.0000  \n",
       " Max.   :1.0000   Max.   :1.0000   Max.   :1.0000   Max.   :1.0000  \n",
       "       V5        \n",
       " Min.   :0.0000  \n",
       " 1st Qu.:0.0000  \n",
       " Median :1.0000  \n",
       " Mean   :0.6296  \n",
       " 3rd Qu.:1.0000  \n",
       " Max.   :1.0000  "
      ]
     },
     "metadata": {},
     "output_type": "display_data"
    }
   ],
   "source": [
    "summary(d3)"
   ]
  },
  {
   "cell_type": "markdown",
   "metadata": {},
   "source": [
    "The dataset is well in the ambit of the range 0 and 1. Let us now move towards preparing the training and testing data."
   ]
  },
  {
   "cell_type": "code",
   "execution_count": 7,
   "metadata": {},
   "outputs": [],
   "source": [
    "# Data Partitioning\n",
    "\n",
    "set.seed(1234)\n",
    "ind <- sample(2, nrow(d3),replace=T, prob=c(0.7,0.3))\n",
    "training <- d3[ind==1,1:4] %>% as.matrix()\n",
    "trainlabels <- d3[ind==1,5] %>% as.matrix()\n",
    "testing <- d3[ind==2,1:4] %>% as.matrix()\n",
    "testlabels <- d3[ind==2,5] %>% as.matrix()"
   ]
  },
  {
   "cell_type": "code",
   "execution_count": 8,
   "metadata": {},
   "outputs": [
    {
     "data": {
      "text/html": [
       "<table>\n",
       "<caption>A matrix: 6 × 2 of type dbl</caption>\n",
       "<tbody>\n",
       "\t<tr><td>0</td><td>1</td></tr>\n",
       "\t<tr><td>0</td><td>1</td></tr>\n",
       "\t<tr><td>0</td><td>1</td></tr>\n",
       "\t<tr><td>0</td><td>1</td></tr>\n",
       "\t<tr><td>1</td><td>0</td></tr>\n",
       "\t<tr><td>0</td><td>1</td></tr>\n",
       "</tbody>\n",
       "</table>\n"
      ],
      "text/latex": [
       "A matrix: 6 × 2 of type dbl\n",
       "\\begin{tabular}{ll}\n",
       "\t 0 & 1\\\\\n",
       "\t 0 & 1\\\\\n",
       "\t 0 & 1\\\\\n",
       "\t 0 & 1\\\\\n",
       "\t 1 & 0\\\\\n",
       "\t 0 & 1\\\\\n",
       "\\end{tabular}\n"
      ],
      "text/markdown": [
       "\n",
       "A matrix: 6 × 2 of type dbl\n",
       "\n",
       "| 0 | 1 |\n",
       "| 0 | 1 |\n",
       "| 0 | 1 |\n",
       "| 0 | 1 |\n",
       "| 1 | 0 |\n",
       "| 0 | 1 |\n",
       "\n"
      ],
      "text/plain": [
       "     [,1] [,2]\n",
       "[1,] 0    1   \n",
       "[2,] 0    1   \n",
       "[3,] 0    1   \n",
       "[4,] 0    1   \n",
       "[5,] 1    0   \n",
       "[6,] 0    1   "
      ]
     },
     "metadata": {},
     "output_type": "display_data"
    }
   ],
   "source": [
    "# One hot encoding\n",
    "traininglabels <- to_categorical(trainlabels)\n",
    "testinglabels <- to_categorical(testlabels)\n",
    "head(testinglabels)"
   ]
  },
  {
   "cell_type": "code",
   "execution_count": 9,
   "metadata": {},
   "outputs": [
    {
     "data": {
      "text/html": [
       "<table>\n",
       "<caption>A matrix: 6 × 1 of type dbl</caption>\n",
       "<tbody>\n",
       "\t<tr><td>1</td></tr>\n",
       "\t<tr><td>1</td></tr>\n",
       "\t<tr><td>1</td></tr>\n",
       "\t<tr><td>1</td></tr>\n",
       "\t<tr><td>0</td></tr>\n",
       "\t<tr><td>1</td></tr>\n",
       "</tbody>\n",
       "</table>\n"
      ],
      "text/latex": [
       "A matrix: 6 × 1 of type dbl\n",
       "\\begin{tabular}{l}\n",
       "\t 1\\\\\n",
       "\t 1\\\\\n",
       "\t 1\\\\\n",
       "\t 1\\\\\n",
       "\t 0\\\\\n",
       "\t 1\\\\\n",
       "\\end{tabular}\n"
      ],
      "text/markdown": [
       "\n",
       "A matrix: 6 × 1 of type dbl\n",
       "\n",
       "| 1 |\n",
       "| 1 |\n",
       "| 1 |\n",
       "| 1 |\n",
       "| 0 |\n",
       "| 1 |\n",
       "\n"
      ],
      "text/plain": [
       "     [,1]\n",
       "[1,] 1   \n",
       "[2,] 1   \n",
       "[3,] 1   \n",
       "[4,] 1   \n",
       "[5,] 0   \n",
       "[6,] 1   "
      ]
     },
     "metadata": {},
     "output_type": "display_data"
    }
   ],
   "source": [
    "head(testlabels)"
   ]
  },
  {
   "cell_type": "markdown",
   "metadata": {},
   "source": [
    "**One hot encoding** is a technique that transforms class labels into a proforma that the neural network shall output. The outputs from a neural network are always in terms of probabilities and the class with the highest probability is the effective output. Here we have two classes: leaf and flower that have been encoded as 0 and 1 respectively. From a binary standpoint, there could only be one class associated with each feature row, and so the other class shall be literally \"OFF\". So 0 is represented as [1,0] and 1 as [0,1], thereby meaning that when predicted class label is 0, it can't be 1 and vice versa."
   ]
  },
  {
   "cell_type": "code",
   "execution_count": 11,
   "metadata": {},
   "outputs": [
    {
     "name": "stdout",
     "output_type": "stream",
     "text": [
      "Model: \"sequential\"\n",
      "________________________________________________________________________________\n",
      "Layer (type)                        Output Shape                    Param #     \n",
      "================================================================================\n",
      "dense (Dense)                       (None, 8)                       40          \n",
      "________________________________________________________________________________\n",
      "dense_1 (Dense)                     (None, 2)                       18          \n",
      "================================================================================\n",
      "Total params: 58\n",
      "Trainable params: 58\n",
      "Non-trainable params: 0\n",
      "________________________________________________________________________________\n"
     ]
    }
   ],
   "source": [
    "# Create sequential model\n",
    "dlmodel <- keras_model_sequential()\n",
    "\n",
    "dlmodel %>% layer_dense(units=8,\n",
    "                     activation='relu',\n",
    "                     input_shape=4) %>% \n",
    "            layer_dense(units=2,\n",
    "                     activation='softmax')\n",
    "summary(dlmodel)"
   ]
  },
  {
   "cell_type": "markdown",
   "metadata": {},
   "source": [
    "In the above chunk of code, a sequential model type is defined. In lay terms, it means that the deep learning model will constitute of a linear array of layers. The redirectional operator (**%>%**) is deployed to channel output from one module to another. The number of input variables (features) is listed in the *input_shape* parameter, while the number of nodes in each layer is marked via *units* attribute. In addition, the activation function to be used in each node is defined via *activation* attribute. The activation function is layer specific, i.e. all nodes in a layer will use the same activation function.  \n",
    "The layer_dense() function is peculiar to each layer."
   ]
  },
  {
   "cell_type": "code",
   "execution_count": 12,
   "metadata": {},
   "outputs": [],
   "source": [
    "# Model compilation\n",
    "\n",
    "dlmodel %>% compile (loss='binary_crossentropy',\n",
    "                  optimizer='adam',\n",
    "                  metrics='accuracy')"
   ]
  },
  {
   "cell_type": "markdown",
   "metadata": {},
   "source": [
    "If the multiclass classification is sought, the *loss* attribute can take 'categorical_crossentropy' as input."
   ]
  },
  {
   "cell_type": "code",
   "execution_count": 13,
   "metadata": {},
   "outputs": [
    {
     "data": {
      "image/png": "[encoded data removed]",
      "text/plain": [
       "plot without title"
      ]
     },
     "metadata": {},
     "output_type": "display_data"
    }
   ],
   "source": [
    "# Fitting the model with training data\n",
    "\n",
    "dlmodeltrain <- dlmodel %>% fit (training, \n",
    "                               traininglabels,\n",
    "                              epoch=100, # number of iterations #\n",
    "                              batch_size=10, # default=32 # \n",
    "                              validation_split=0.2) # 20% of the data #\n",
    "                               \n",
    "plot(dlmodeltrain)"
   ]
  },
  {
   "cell_type": "markdown",
   "metadata": {},
   "source": [
    "There are fair indications in the graphs above. The *loss* and *accuracy* of the model aggregately follow same trend in training data and validation data. This signifies that the model is **not overfitting** and is generalizing well for newer data too."
   ]
  },
  {
   "cell_type": "code",
   "execution_count": 14,
   "metadata": {},
   "outputs": [],
   "source": [
    "# Evaluating the model with test data\n",
    "\n",
    "dlmodeltest <- dlmodel %>% evaluate(testing,testinglabels) "
   ]
  },
  {
   "cell_type": "code",
   "execution_count": 16,
   "metadata": {},
   "outputs": [
    {
     "data": {
      "text/html": [
       "<table>\n",
       "<caption>A matrix: 6 × 5 of type dbl</caption>\n",
       "<thead>\n",
       "\t<tr><th scope=col></th><th scope=col></th><th scope=col>pred</th><th scope=col></th><th scope=col></th></tr>\n",
       "</thead>\n",
       "<tbody>\n",
       "\t<tr><td>0.3598568</td><td>0.6401432</td><td>1</td><td>0</td><td>1</td></tr>\n",
       "\t<tr><td>0.3655324</td><td>0.6344676</td><td>1</td><td>0</td><td>1</td></tr>\n",
       "\t<tr><td>0.3633718</td><td>0.6366281</td><td>1</td><td>0</td><td>1</td></tr>\n",
       "\t<tr><td>0.3812934</td><td>0.6187066</td><td>1</td><td>0</td><td>1</td></tr>\n",
       "\t<tr><td>0.3805261</td><td>0.6194739</td><td>1</td><td>1</td><td>0</td></tr>\n",
       "\t<tr><td>0.3598568</td><td>0.6401432</td><td>1</td><td>0</td><td>1</td></tr>\n",
       "</tbody>\n",
       "</table>\n"
      ],
      "text/latex": [
       "A matrix: 6 × 5 of type dbl\n",
       "\\begin{tabular}{lllll}\n",
       "  &  & pred &  & \\\\\n",
       "\\hline\n",
       "\t 0.3598568 & 0.6401432 & 1 & 0 & 1\\\\\n",
       "\t 0.3655324 & 0.6344676 & 1 & 0 & 1\\\\\n",
       "\t 0.3633718 & 0.6366281 & 1 & 0 & 1\\\\\n",
       "\t 0.3812934 & 0.6187066 & 1 & 0 & 1\\\\\n",
       "\t 0.3805261 & 0.6194739 & 1 & 1 & 0\\\\\n",
       "\t 0.3598568 & 0.6401432 & 1 & 0 & 1\\\\\n",
       "\\end{tabular}\n"
      ],
      "text/markdown": [
       "\n",
       "A matrix: 6 × 5 of type dbl\n",
       "\n",
       "| <!----> | <!----> | pred | <!----> | <!----> |\n",
       "|---|---|---|---|---|\n",
       "| 0.3598568 | 0.6401432 | 1 | 0 | 1 |\n",
       "| 0.3655324 | 0.6344676 | 1 | 0 | 1 |\n",
       "| 0.3633718 | 0.6366281 | 1 | 0 | 1 |\n",
       "| 0.3812934 | 0.6187066 | 1 | 0 | 1 |\n",
       "| 0.3805261 | 0.6194739 | 1 | 1 | 0 |\n",
       "| 0.3598568 | 0.6401432 | 1 | 0 | 1 |\n",
       "\n"
      ],
      "text/plain": [
       "                         pred    \n",
       "[1,] 0.3598568 0.6401432 1    0 1\n",
       "[2,] 0.3655324 0.6344676 1    0 1\n",
       "[3,] 0.3633718 0.6366281 1    0 1\n",
       "[4,] 0.3812934 0.6187066 1    0 1\n",
       "[5,] 0.3805261 0.6194739 1    1 0\n",
       "[6,] 0.3598568 0.6401432 1    0 1"
      ]
     },
     "metadata": {},
     "output_type": "display_data"
    }
   ],
   "source": [
    "# Prediction and Confusion Matrix from test data\n",
    "\n",
    "prob <- dlmodel %>% predict_proba(testing)\n",
    "pred <- dlmodel %>% predict_classes(testing) %>% as.numeric()\n",
    "table1 <- table(Predicted =pred, Actual= testlabels)\n",
    "head(cbind(prob, pred, testinglabels))"
   ]
  },
  {
   "cell_type": "code",
   "execution_count": 17,
   "metadata": {},
   "outputs": [
    {
     "data": {
      "text/html": [
       "<dl>\n",
       "\t<dt>$loss</dt>\n",
       "\t\t<dd>0.658982659018737</dd>\n",
       "\t<dt>$acc</dt>\n",
       "\t\t<dd>0.629942536354065</dd>\n",
       "</dl>\n"
      ],
      "text/latex": [
       "\\begin{description}\n",
       "\\item[\\$loss] 0.658982659018737\n",
       "\\item[\\$acc] 0.629942536354065\n",
       "\\end{description}\n"
      ],
      "text/markdown": [
       "$loss\n",
       ":   0.658982659018737\n",
       "$acc\n",
       ":   0.629942536354065\n",
       "\n",
       "\n"
      ],
      "text/plain": [
       "$loss\n",
       "[1] 0.6589827\n",
       "\n",
       "$acc\n",
       "[1] 0.6299425\n"
      ]
     },
     "metadata": {},
     "output_type": "display_data"
    }
   ],
   "source": [
    "# Fine tuning the model\n",
    "\n",
    "dlmodeltest"
   ]
  },
  {
   "cell_type": "markdown",
   "metadata": {},
   "source": [
    "> Excercise:  \n",
    "1. Change number of units in hidden layer from 8 to 50. Rerun the model; observe if there is any any improvement in accuracy.\n",
    "2. Add another hidden layer."
   ]
  }
 ],
 "metadata": {
  "kernelspec": {
   "display_name": "R",
   "language": "R",
   "name": "ir"
  }
 },
 "nbformat": 4,
 "nbformat_minor": 2
}
