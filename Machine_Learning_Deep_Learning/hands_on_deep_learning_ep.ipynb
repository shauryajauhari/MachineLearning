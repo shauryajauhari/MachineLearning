{
 "cells": [
  {
   "cell_type": "markdown",
   "metadata": {},
   "source": [
    "# Deep Learning "
   ]
  },
  {
   "cell_type": "markdown",
   "metadata": {},
   "source": [
    "## Background"
   ]
  },
  {
   "cell_type": "markdown",
   "metadata": {},
   "source": [
    "Machine learning has conquered our digital space in a much conceivable way. Aritifical Intelligence is the umbrella discipline that describes the varied notions of the systemic behavior akin to humans. Unlike the common held adage, **Deep Learning** isn't a part of Machine Learning per se, rather it has evolved to be an exclusive stream altogether.  \n",
    "If we recall from the previous session, we discussed the relevance of decision trees and random forests and how crucial former is to the latter. The diversity and aggregation of results in the random forests engender them the alacrity to handle multidimensional data. Although, neural nets do not foster the *same* relationship with deep learning, it is of the utmost importance to fathom the concept prior to proceeding to the holistic theme of deep learning. "
   ]
  },
  {
   "cell_type": "markdown",
   "metadata": {},
   "source": [
    "<img src=\"./props/AI_branches.jpg\">"
   ]
  },
  {
   "cell_type": "markdown",
   "metadata": {},
   "source": [
    "As mentioned above, deep learning is founded on **neural networks** that have, generally, outperformed other classification algorithms like Support Vector Machines (SVM), logistic regression, etc. *Neural Networks* are a specialized set of algorithms that work on assigning and moderating weights from the original data (input), across through the layers to the classification result (ouput).  "
   ]
  },
  {
   "cell_type": "markdown",
   "metadata": {},
   "source": [
    "<img src=\"./props/deep_learning_NN_better.jpg\">"
   ]
  },
  {
   "cell_type": "markdown",
   "metadata": {},
   "source": [
    "### Exercise\n",
    "\n",
    "> Loosely, Neural Networks is to Deep Learning as ________ is to Random Forests."
   ]
  },
  {
   "cell_type": "markdown",
   "metadata": {},
   "source": [
    "## Package Installation"
   ]
  },
  {
   "cell_type": "markdown",
   "metadata": {},
   "source": [
    "## keras"
   ]
  },
  {
   "cell_type": "markdown",
   "metadata": {},
   "source": [
    "#### Installation Errors"
   ]
  },
  {
   "cell_type": "markdown",
   "metadata": {},
   "source": [
    "There could be subjective instances of errors that a system would result, owing to some missing or conflicting dependencies. Few encountered are as under:"
   ]
  },
  {
   "cell_type": "markdown",
   "metadata": {},
   "source": [
    "<img src=\"./props/install_keras_error.jpg\">"
   ]
  },
  {
   "cell_type": "markdown",
   "metadata": {},
   "source": [
    "The TensorFlow is the Google's offering for machine learning and deep learning related tasks; *Anaconda* and *Python* libraries are major requisites for *TensorFlow* deployment in R. "
   ]
  },
  {
   "cell_type": "markdown",
   "metadata": {},
   "source": [
    "<img src=\"./props/install_keras_error1.jpg\">"
   ]
  },
  {
   "cell_type": "markdown",
   "metadata": {},
   "source": [
    "Often,\n",
    "- there is a missing declaration in the PATH variable, or \n",
    "- *Anaconda* and *Python* installations have suffered shadowing from the other. "
   ]
  },
  {
   "cell_type": "markdown",
   "metadata": {},
   "source": [
    "<img src=\"./props/install_keras_error2.jpg\">"
   ]
  },
  {
   "cell_type": "markdown",
   "metadata": {},
   "source": [
    "## neuralnet"
   ]
  },
  {
   "cell_type": "code",
   "execution_count": 9,
   "metadata": {},
   "outputs": [
    {
     "name": "stderr",
     "output_type": "stream",
     "text": [
      "Installing package into ‘/Users/mei/Library/R/3.6/library’\n",
      "(as ‘lib’ is unspecified)\n",
      "\n"
     ]
    },
    {
     "name": "stdout",
     "output_type": "stream",
     "text": [
      "\n",
      "The downloaded binary packages are in\n",
      "\t/var/folders/hm/c3_fjypn62v5xh5b5ygv267m0000gn/T//Rtmpp3tYOi/downloaded_packages\n"
     ]
    }
   ],
   "source": [
    "## Install the package and load the library\n",
    "\n",
    "install.packages(\"neuralnet\", \n",
    "                 repos = \"https://mirrors.tuna.tsinghua.edu.cn/CRAN/\",\n",
    "                 dependencies = TRUE)\n",
    "library(neuralnet)"
   ]
  },
  {
   "cell_type": "markdown",
   "metadata": {},
   "source": [
    "## Dataset Preparation"
   ]
  },
  {
   "cell_type": "markdown",
   "metadata": {},
   "source": [
    "Please consider visiting [Enhancer Prediction Dataset preparation](https://nbviewer.jupyter.org/github/shauryajauhari/Machine_Learning/blob/master/Machine_Learning_Deep_Learning/enhancer_prediction_dataset_protocol.ipynb) for the detailed protocol."
   ]
  },
  {
   "cell_type": "markdown",
   "metadata": {},
   "source": [
    "Let's check out the dataset. "
   ]
  },
  {
   "cell_type": "code",
   "execution_count": 1,
   "metadata": {},
   "outputs": [
    {
     "name": "stdout",
     "output_type": "stream",
     "text": [
      "'data.frame':\t10000 obs. of  5 variables:\n",
      " $ reads_h3k27ac: num  0.147 0.367 0.11 0.661 0.184 ...\n",
      " $ reads_h3k4me3: num  0.0405 0 0 0.2025 0.162 ...\n",
      " $ reads_h3k4me2: num  0.13 0.0867 0.13 0.6934 0.0867 ...\n",
      " $ reads_h3k4me1: num  0.1137 0.398 0.0569 0.5686 0.0569 ...\n",
      " $ class        : num  1 0 0 0 0 0 0 0 0 0 ...\n"
     ]
    }
   ],
   "source": [
    "## Let us consider our example dataset\n",
    "d <- readRDS(\"./data/ep_data_sample.rds\")\n",
    "\n",
    "# Classes as factor levels. \n",
    "d$class <- as.numeric(as.factor(d$class))-1\n",
    "\n",
    "str(d)"
   ]
  },
  {
   "cell_type": "markdown",
   "metadata": {},
   "source": [
    "Great. Here Enhancers are depicted with \"0\" and Non-Enhancers by \"1\". As we look now, the dataset looks in close viability for application to the deep learning module. The only caveat is that the neural networks warrant the data spread between 0 and 1, for mirroring results in probability terms. Also, if chosen the sigmoid activation function shall also restrict the output in the similar range."
   ]
  },
  {
   "cell_type": "markdown",
   "metadata": {},
   "source": [
    "So if it isn't already, some sort of normalization procedure can help do that. The preferred one is the min-max normalization."
   ]
  },
  {
   "cell_type": "code",
   "execution_count": 5,
   "metadata": {},
   "outputs": [],
   "source": [
    "# Min-Max normalization\n",
    "d$reads_h3k27ac <- (d$reads_h3k27ac-min(d$reads_h3k27ac, na.rm = T))/(max(d$reads_h3k27ac, na.rm = T)-min(d$reads_h3k27ac, na.rm = T))\n",
    "d$reads_h3k4me3 <- (d$reads_h3k4me3-min(d$reads_h3k4me3, na.rm = T))/(max(d$reads_h3k4me3, na.rm = T)-min(d$reads_h3k4me3, na.rm = T))\n",
    "d$reads_h3k4me2 <- (d$reads_h3k4me2-min(d$reads_h3k4me2, na.rm = T))/(max(d$reads_h3k4me2, na.rm = T)-min(d$reads_h3k4me2, na.rm = T))\n",
    "d$reads_h3k4me1 <- (d$reads_h3k4me1-min(d$reads_h3k4me1, na.rm = T))/(max(d$reads_h3k4me1, na.rm = T)-min(d$reads_h3k4me1, na.rm = T))\n",
    "\n",
    "\n",
    "# Z-Score normalization\n",
    "#d$peaks_h3k27ac <- as.numeric((d$peaks_h3k27ac - mean(d$peaks_h3k27ac)) / sd(d$peaks_h3k27ac))\n",
    "#d$peaks_h3k4me1 <- as.numeric((d$peaks_h3k4me1 - mean(d$peaks_h3k4me1)) / sd(d$peaks_h3k4me1))\n",
    "#d$peaks_h3k4me2 <- as.numeric((d$peaks_h3k4me2 - mean(d$peaks_h3k4me2)) / sd(d$peaks_h3k4me2))\n",
    "#d$peaks_h3k4me3 <- as.numeric((d$peaks_h3k4me3 - mean(d$peaks_h3k4me3)) / sd(d$peaks_h3k4me3))"
   ]
  },
  {
   "cell_type": "markdown",
   "metadata": {},
   "source": [
    "Let us now formalize the dataset and bifurcate it further into training and testing cases."
   ]
  },
  {
   "cell_type": "code",
   "execution_count": 6,
   "metadata": {},
   "outputs": [],
   "source": [
    "# Data Partition\n",
    "set.seed(105)\n",
    "ind <- sample(2, nrow(d), replace = TRUE, prob = c(0.7, 0.3))\n",
    "training <- d[ind==1,]\n",
    "testing <- d[ind==2,]"
   ]
  },
  {
   "cell_type": "markdown",
   "metadata": {},
   "source": [
    ">Excercise:  \n",
    "As noted, the data is partitioned in a proportion of 7:3. Try if a different proportion, eg. 8:2 makes any difference in the final result."
   ]
  },
  {
   "cell_type": "code",
   "execution_count": 7,
   "metadata": {},
   "outputs": [],
   "source": [
    "# Data Partitioning would now be somewhat as below.\n",
    "set.seed(105)\n",
    "ind <- sample(2, nrow(d), replace = TRUE, prob = c(0.8, 0.2))\n",
    "training1 <- d[ind==1,]\n",
    "testing1 <- d[ind==2,]"
   ]
  },
  {
   "cell_type": "markdown",
   "metadata": {},
   "source": [
    "Let us now execute the models from different packages. "
   ]
  },
  {
   "cell_type": "markdown",
   "metadata": {},
   "source": [
    "## Executing 'neuralnet'"
   ]
  },
  {
   "cell_type": "code",
   "execution_count": 14,
   "metadata": {},
   "outputs": [],
   "source": [
    "# Neural Networks\n",
    "set.seed(005)\n",
    "nn <- neuralnet(class~reads_h3k27ac+reads_h3k4me3+reads_h3k4me2+reads_h3k4me1,\n",
    "                data = training,\n",
    "                hidden = 9,\n",
    "                err.fct = \"sse\",\n",
    "                act.fct = \"logistic\",\n",
    "                linear.output = FALSE)"
   ]
  },
  {
   "cell_type": "markdown",
   "metadata": {},
   "source": [
    "We can also plot the model to have a graphical visualization of the network."
   ]
  },
  {
   "cell_type": "code",
   "execution_count": 12,
   "metadata": {},
   "outputs": [],
   "source": [
    "plot(nn)"
   ]
  },
  {
   "cell_type": "markdown",
   "metadata": {},
   "source": [
    "<img src=\"./props/Nn_Example1.png\">"
   ]
  },
  {
   "cell_type": "markdown",
   "metadata": {},
   "source": [
    ">Excercise:  \n",
    "Check out the error and number of steps. Try if manipulating the number of hidden nodes/layers (as parameter to the neuralnet function) and error function, if given \"ce\" (class entropy) instead of \"sse\" (sum of square errors) makes any difference. These shall also have an impact on the overall accuracy of the model as we learn to calculate further."
   ]
  },
  {
   "cell_type": "code",
   "execution_count": 15,
   "metadata": {},
   "outputs": [
    {
     "data": {
      "text/html": [
       "<table>\n",
       "<caption>A matrix: 6 × 1 of type dbl</caption>\n",
       "<tbody>\n",
       "\t<tr><th scope=row>5368652</th><td>0.1088052</td></tr>\n",
       "\t<tr><th scope=row>6491345</th><td>0.1101396</td></tr>\n",
       "\t<tr><th scope=row>1296509</th><td>0.1035213</td></tr>\n",
       "\t<tr><th scope=row>546308</th><td>0.1157560</td></tr>\n",
       "\t<tr><th scope=row>7304361</th><td>0.1087531</td></tr>\n",
       "\t<tr><th scope=row>2472066</th><td>0.1329371</td></tr>\n",
       "</tbody>\n",
       "</table>\n"
      ],
      "text/latex": [
       "A matrix: 6 × 1 of type dbl\n",
       "\\begin{tabular}{r|l}\n",
       "\t5368652 & 0.1088052\\\\\n",
       "\t6491345 & 0.1101396\\\\\n",
       "\t1296509 & 0.1035213\\\\\n",
       "\t546308 & 0.1157560\\\\\n",
       "\t7304361 & 0.1087531\\\\\n",
       "\t2472066 & 0.1329371\\\\\n",
       "\\end{tabular}\n"
      ],
      "text/markdown": [
       "\n",
       "A matrix: 6 × 1 of type dbl\n",
       "\n",
       "| 5368652 | 0.1088052 |\n",
       "| 6491345 | 0.1101396 |\n",
       "| 1296509 | 0.1035213 |\n",
       "| 546308 | 0.1157560 |\n",
       "| 7304361 | 0.1087531 |\n",
       "| 2472066 | 0.1329371 |\n",
       "\n"
      ],
      "text/plain": [
       "        [,1]     \n",
       "5368652 0.1088052\n",
       "6491345 0.1101396\n",
       "1296509 0.1035213\n",
       "546308  0.1157560\n",
       "7304361 0.1087531\n",
       "2472066 0.1329371"
      ]
     },
     "metadata": {},
     "output_type": "display_data"
    },
    {
     "data": {
      "text/html": [
       "<table>\n",
       "<caption>A data.frame: 1 × 5</caption>\n",
       "<thead>\n",
       "\t<tr><th></th><th scope=col>reads_h3k27ac</th><th scope=col>reads_h3k4me3</th><th scope=col>reads_h3k4me2</th><th scope=col>reads_h3k4me1</th><th scope=col>class</th></tr>\n",
       "\t<tr><th></th><th scope=col>&lt;dbl&gt;</th><th scope=col>&lt;dbl&gt;</th><th scope=col>&lt;dbl&gt;</th><th scope=col>&lt;dbl&gt;</th><th scope=col>&lt;dbl&gt;</th></tr>\n",
       "</thead>\n",
       "<tbody>\n",
       "\t<tr><th scope=row>5368652</th><td>0.007662829</td><td>0.0007861644</td><td>0.007915584</td><td>0.01142856</td><td>1</td></tr>\n",
       "</tbody>\n",
       "</table>\n"
      ],
      "text/latex": [
       "A data.frame: 1 × 5\n",
       "\\begin{tabular}{r|lllll}\n",
       "  & reads\\_h3k27ac & reads\\_h3k4me3 & reads\\_h3k4me2 & reads\\_h3k4me1 & class\\\\\n",
       "  & <dbl> & <dbl> & <dbl> & <dbl> & <dbl>\\\\\n",
       "\\hline\n",
       "\t5368652 & 0.007662829 & 0.0007861644 & 0.007915584 & 0.01142856 & 1\\\\\n",
       "\\end{tabular}\n"
      ],
      "text/markdown": [
       "\n",
       "A data.frame: 1 × 5\n",
       "\n",
       "| <!--/--> | reads_h3k27ac &lt;dbl&gt; | reads_h3k4me3 &lt;dbl&gt; | reads_h3k4me2 &lt;dbl&gt; | reads_h3k4me1 &lt;dbl&gt; | class &lt;dbl&gt; |\n",
       "|---|---|---|---|---|---|\n",
       "| 5368652 | 0.007662829 | 0.0007861644 | 0.007915584 | 0.01142856 | 1 |\n",
       "\n"
      ],
      "text/plain": [
       "        reads_h3k27ac reads_h3k4me3 reads_h3k4me2 reads_h3k4me1 class\n",
       "5368652 0.007662829   0.0007861644  0.007915584   0.01142856    1    "
      ]
     },
     "metadata": {},
     "output_type": "display_data"
    }
   ],
   "source": [
    "# Prediction\n",
    "output <- compute(nn, training[,-5])\n",
    "head(output$net.result)\n",
    "head(training[1,])"
   ]
  },
  {
   "cell_type": "markdown",
   "metadata": {},
   "source": [
    "Note, how the prediction is made. As reflected in the above graphic, we have a set of weights calculated by the model and some error terms (marked in blue)."
   ]
  },
  {
   "cell_type": "markdown",
   "metadata": {},
   "source": [
    "The next step is to ascertain the overall accuracy of the model in terms of misclassification error."
   ]
  },
  {
   "cell_type": "code",
   "execution_count": 16,
   "metadata": {},
   "outputs": [
    {
     "data": {
      "text/plain": [
       "     \n",
       "pred1    0    1\n",
       "    0 6140  865\n",
       "    1    3   12"
      ]
     },
     "metadata": {},
     "output_type": "display_data"
    },
    {
     "name": "stdout",
     "output_type": "stream",
     "text": [
      "The misclassification error is 0.1236467"
     ]
    }
   ],
   "source": [
    "# Confusion Matrix & Misclassification Error - training data\n",
    "\n",
    "p1 <- output$net.result\n",
    "pred1 <- ifelse(p1>0.5, 1, 0)\n",
    "tab1 <- table(pred1, training$class)\n",
    "tab1\n",
    "ac <- sum(diag(tab1))/sum(tab1) #accuracy#\n",
    "me <- 1 - ac\n",
    "cat(\"The misclassification error is\", me)"
   ]
  },
  {
   "cell_type": "markdown",
   "metadata": {},
   "source": [
    "We are calculating the misclassification error on training data. Intuitively, it should be low because that is the data out of which neural network model was built over. Nonetheless, it is about 12 percent which can still be improved upon. The table shows that 6140 enhancers and 12 non-enhancers were classified correctly (the diagonal elements), and the off diagonal elements constitute the errors in classification. 865 enhancers were classified as non-enhancers and 3 non-enhancers were classified as enhancers."
   ]
  },
  {
   "cell_type": "markdown",
   "metadata": {},
   "source": [
    "Let's do the same for testing data."
   ]
  },
  {
   "cell_type": "code",
   "execution_count": 17,
   "metadata": {},
   "outputs": [
    {
     "data": {
      "text/plain": [
       "     \n",
       "pred2    0    1\n",
       "    0 2635  342\n",
       "    1    0    3"
      ]
     },
     "metadata": {},
     "output_type": "display_data"
    },
    {
     "name": "stdout",
     "output_type": "stream",
     "text": [
      "The misclassification error is 0.1147651"
     ]
    }
   ],
   "source": [
    "# Confusion Matrix & Misclassification Error - testing data\n",
    "output1 <- compute(nn, testing[,-1])\n",
    "p2 <- output1$net.result\n",
    "pred2 <- ifelse(p2>0.5, 1, 0)\n",
    "tab2 <- table(pred2, testing$class)\n",
    "tab2\n",
    "me <- 1-sum(diag(tab2))/sum(tab2)\n",
    "cat(\"The misclassification error is\", me)"
   ]
  },
  {
   "cell_type": "markdown",
   "metadata": {},
   "source": [
    "In order to induce flavor, let us try to fiddle with different parameters of the neuralnet function."
   ]
  },
  {
   "cell_type": "code",
   "execution_count": 18,
   "metadata": {},
   "outputs": [],
   "source": [
    "nn1 <- neuralnet(class~reads_h3k27ac+reads_h3k4me3+reads_h3k4me2+reads_h3k4me1,\n",
    "               data = training,\n",
    "               hidden = c(2,1),\n",
    "               err.fct = \"ce\",\n",
    "               act.fct = \"logistic\",\n",
    "               linear.output = FALSE)"
   ]
  },
  {
   "cell_type": "code",
   "execution_count": 19,
   "metadata": {},
   "outputs": [
    {
     "name": "stderr",
     "output_type": "stream",
     "text": [
      "hidden: 3    thresh: 0.01    rep: 1/2    steps: \n",
      "   1000\tmin thresh: 0.141436631295873\n",
      "                                                \n",
      "   2000\tmin thresh: 0.139730289591093\n",
      "                                                \n",
      "   3000\tmin thresh: 0.0361971868775698\n",
      "                                                \n",
      "   4000\tmin thresh: 0.0361971868775698\n",
      "                                                \n",
      "   5000\tmin thresh: 0.0361971868775698\n",
      "                                                \n",
      "   6000\tmin thresh: 0.0113163263032596\n",
      "                                                \n",
      "   6106\n",
      "\terror: 2623.83827\n",
      "\ttime: 7.5 secs\n",
      "\n",
      "hidden: 3    thresh: 0.01    rep: 2/2    steps: \n",
      "   1000\tmin thresh: 0.202429346238065\n",
      "                                                \n",
      "   2000\tmin thresh: 0.193427698864631\n",
      "                                                \n",
      "   3000\tmin thresh: 0.121192098138238\n",
      "                                                \n",
      "   4000\tmin thresh: 0.0883933727827485\n",
      "                                                \n",
      "   5000\tmin thresh: 0.0749607343412178\n",
      "                                                \n",
      "   6000\tmin thresh: 0.0531285367370187\n",
      "                                                \n",
      "   7000\tmin thresh: 0.041902639930178\n",
      "                                                \n",
      "   8000\tmin thresh: 0.0298620222210113\n",
      "                                                \n",
      "   9000\tmin thresh: 0.0298620222210113\n",
      "                                                \n",
      "  10000\tmin thresh: 0.0252925126491808\n",
      "                                                \n",
      "  11000\tmin thresh: 0.0252925126491808\n",
      "                                                \n",
      "  12000\tmin thresh: 0.0203109584349035\n",
      "                                                \n",
      "  13000\tmin thresh: 0.0199581347218765\n",
      "                                                \n",
      "  14000\tmin thresh: 0.0199581347218765\n",
      "                                                \n",
      "  15000\tmin thresh: 0.0175925832668354\n",
      "                                                \n",
      "  16000\tmin thresh: 0.0175925832668354\n",
      "                                                \n",
      "  17000\tmin thresh: 0.0175925832668354\n",
      "                                                \n",
      "  18000\tmin thresh: 0.0175925832668354\n",
      "                                                \n",
      "  19000\tmin thresh: 0.0175925832668354\n",
      "                                                \n",
      "  20000\tmin thresh: 0.0175925832668354\n",
      "                                                \n",
      "  21000\tmin thresh: 0.0175925832668354\n",
      "                                                \n",
      "  22000\tmin thresh: 0.0175925832668354\n",
      "                                                \n",
      "  23000\tmin thresh: 0.0175925832668354\n",
      "                                                \n",
      "  24000\tmin thresh: 0.0175925832668354\n",
      "                                                \n",
      "  25000\tmin thresh: 0.0175925832668354\n",
      "                                                \n",
      "  26000\tmin thresh: 0.0171959764232379\n",
      "                                                \n",
      "  27000\tmin thresh: 0.0153178282596407\n",
      "                                                \n",
      "  28000\tmin thresh: 0.0148991930370149\n",
      "                                                \n",
      "  29000\tmin thresh: 0.0148991930370149\n",
      "                                                \n",
      "  30000\tmin thresh: 0.0148991930370149\n",
      "                                                \n",
      "  31000\tmin thresh: 0.0142628567944197\n",
      "                                                \n",
      "  32000\tmin thresh: 0.0136968974051112\n",
      "                                                \n",
      "  33000\tmin thresh: 0.0132342960682232\n",
      "                                                \n",
      "  34000\tmin thresh: 0.0132342960682232\n",
      "                                                \n",
      "  35000\tmin thresh: 0.0126120781550247\n",
      "                                                \n",
      "  36000\tmin thresh: 0.0126120781550247\n",
      "                                                \n",
      "  37000\tmin thresh: 0.011426861480902\n",
      "                                                \n",
      "  38000\tmin thresh: 0.011426861480902\n",
      "                                                \n",
      "  39000\tmin thresh: 0.011426861480902\n",
      "                                                \n",
      "  40000\tmin thresh: 0.011426861480902\n",
      "                                                \n",
      "  41000\tmin thresh: 0.011426861480902\n",
      "                                                \n",
      "  42000\tmin thresh: 0.011426861480902\n",
      "                                                \n",
      "  43000\tmin thresh: 0.011426861480902\n",
      "                                                \n",
      "  44000\tmin thresh: 0.011426861480902\n",
      "                                                \n",
      "  45000\tmin thresh: 0.011426861480902\n",
      "                                                \n",
      "  46000\tmin thresh: 0.011426861480902\n",
      "                                                \n",
      "  47000\tmin thresh: 0.0101558977882979\n",
      "                                                \n",
      "  48000\tmin thresh: 0.0101558977882979\n",
      "                                                \n",
      "  49000\tmin thresh: 0.0101558977882979\n",
      "                                                \n",
      "  50000\tmin thresh: 0.0101558977882979\n",
      "                                                \n",
      "  51000\tmin thresh: 0.0101558977882979\n",
      "                                                \n",
      "  52000\tmin thresh: 0.0101558977882979\n",
      "                                                \n",
      "  53000\tmin thresh: 0.0101299853750241\n",
      "                                                \n",
      "  54000\tmin thresh: 0.0101299853750241\n",
      "                                                \n",
      "  54147\n",
      "\terror: 2632.93434\n",
      "\ttime: 1.15 mins\n",
      "\n"
     ]
    }
   ],
   "source": [
    "nn2 <- neuralnet(class~reads_h3k27ac+reads_h3k4me3+reads_h3k4me2+reads_h3k4me1,\n",
    "               data = training,\n",
    "               hidden = 3,\n",
    "               err.fct = \"ce\",\n",
    "               act.fct = \"logistic\",\n",
    "               linear.output = FALSE,\n",
    "                lifesign='full',\n",
    "                rep=2)"
   ]
  },
  {
   "cell_type": "markdown",
   "metadata": {},
   "source": [
    "The **nn2** network model will undergo 2 repetitions and will dynamically output the execution time and error at each repetition. "
   ]
  },
  {
   "cell_type": "markdown",
   "metadata": {},
   "source": [
    "> Exercise:  \n",
    "Try with different values of 'rep'. Do all of the models converge?"
   ]
  },
  {
   "cell_type": "code",
   "execution_count": 20,
   "metadata": {},
   "outputs": [
    {
     "name": "stderr",
     "output_type": "stream",
     "text": [
      "hidden: 3    thresh: 0.01    rep: 1/1    steps: \n",
      "   1000\tmin thresh: 0.265135815479763\n",
      "                                                \n",
      "   2000\tmin thresh: 0.192712022983896\n",
      "                                                \n",
      "   3000\tmin thresh: 0.192712022983896\n",
      "                                                \n",
      "   4000\tmin thresh: 0.180474363207272\n",
      "                                                \n",
      "   5000\tmin thresh: 0.104621498000258\n",
      "                                                \n",
      "   6000\tmin thresh: 0.0669015416823961\n",
      "                                                \n",
      "   7000\tmin thresh: 0.0442563921188228\n",
      "                                                \n",
      "   8000\tmin thresh: 0.0396656054282061\n",
      "                                                \n",
      "   9000\tmin thresh: 0.0346495342787353\n",
      "                                                \n",
      "  10000\tmin thresh: 0.0339505933164121\n",
      "                                                \n",
      "  11000\tmin thresh: 0.0339505933164121\n",
      "                                                \n",
      "  12000\tmin thresh: 0.0284175959826302\n",
      "                                                \n",
      "  13000\tmin thresh: 0.0284175959826302\n",
      "                                                \n",
      "  14000\tmin thresh: 0.0255468879942451\n",
      "                                                \n",
      "  15000\tmin thresh: 0.0255468879942451\n",
      "                                                \n",
      "  16000\tmin thresh: 0.0218701495162721\n",
      "                                                \n",
      "  17000\tmin thresh: 0.0205927364355205\n",
      "                                                \n",
      "  18000\tmin thresh: 0.0186829889598462\n",
      "                                                \n",
      "  19000\tmin thresh: 0.0143912554582415\n",
      "                                                \n",
      "  20000\tmin thresh: 0.0143912554582415\n",
      "                                                \n",
      "  21000\tmin thresh: 0.0143912554582415\n",
      "                                                \n",
      "  22000\tmin thresh: 0.0133437960765829\n",
      "                                                \n",
      "  23000\tmin thresh: 0.0133437960765829\n",
      "                                                \n",
      "  24000\tmin thresh: 0.0133437960765829\n",
      "                                                \n",
      "  25000\tmin thresh: 0.0130238705418292\n",
      "                                                \n",
      "  26000\tmin thresh: 0.0130238705418292\n",
      "                                                \n",
      "  27000\tmin thresh: 0.0130238705418292\n",
      "                                                \n",
      "  28000\tmin thresh: 0.0125629267981435\n",
      "                                                \n",
      "  29000\tmin thresh: 0.011645261730538\n",
      "                                                \n",
      "  30000\tmin thresh: 0.0108430242826963\n",
      "                                                \n",
      "  31000\tmin thresh: 0.0108430242826963\n",
      "                                                \n",
      "  32000\tmin thresh: 0.010141126861888\n",
      "                                                \n",
      "  33000\tmin thresh: 0.010141126861888\n",
      "                                                \n",
      "  34000\tmin thresh: 0.010141126861888\n",
      "                                                \n",
      "  35000\tmin thresh: 0.010141126861888\n",
      "                                                \n",
      "  36000\tmin thresh: 0.010141126861888\n",
      "                                                \n",
      "  36262\n",
      "\terror: 2612.82847\n",
      "\ttime: 44.17 secs\n",
      "\n"
     ]
    }
   ],
   "source": [
    "## As an example lets try with rep=1.\n",
    "\n",
    "nn2 <- neuralnet(class~reads_h3k27ac+reads_h3k4me3+reads_h3k4me2+reads_h3k4me1,\n",
    "               data = training,\n",
    "               hidden = 3,\n",
    "               err.fct = \"ce\",\n",
    "               act.fct = \"logistic\",\n",
    "               linear.output = FALSE,\n",
    "                lifesign='full',\n",
    "                rep=1)"
   ]
  },
  {
   "cell_type": "markdown",
   "metadata": {},
   "source": [
    "This model of neural network coverges. Similarly, other values of 'rep' parameter can be tried and other parameters of the function can be tweaked as well to get optimized error terms."
   ]
  },
  {
   "cell_type": "markdown",
   "metadata": {},
   "source": [
    "## Executing 'keras'"
   ]
  },
  {
   "cell_type": "code",
   "execution_count": 10,
   "metadata": {},
   "outputs": [
    {
     "name": "stderr",
     "output_type": "stream",
     "text": [
      "Installing package into ‘/Users/mei/Library/R/3.6/library’\n",
      "(as ‘lib’ is unspecified)\n",
      "\n"
     ]
    },
    {
     "name": "stdout",
     "output_type": "stream",
     "text": [
      "\n",
      "The downloaded binary packages are in\n",
      "\t/var/folders/hm/c3_fjypn62v5xh5b5ygv267m0000gn/T//RtmpOgf6jy/downloaded_packages\n",
      "\n",
      "Installation complete.\n",
      "\n"
     ]
    }
   ],
   "source": [
    "## Loading package library.\n",
    "install.packages(\"keras\")\n",
    "library(keras)\n",
    "\n",
    "install_keras()"
   ]
  },
  {
   "cell_type": "markdown",
   "metadata": {},
   "source": [
    "The data here gets a slightly different treatment as compared to the former package. Let us recall the structure of the data."
   ]
  },
  {
   "cell_type": "code",
   "execution_count": 11,
   "metadata": {},
   "outputs": [
    {
     "name": "stdout",
     "output_type": "stream",
     "text": [
      "'data.frame':\t10000 obs. of  5 variables:\n",
      " $ reads_h3k27ac: num  0.147 0.367 0.11 0.661 0.184 ...\n",
      " $ reads_h3k4me3: num  0.0405 0 0 0.2025 0.162 ...\n",
      " $ reads_h3k4me2: num  0.13 0.0867 0.13 0.6934 0.0867 ...\n",
      " $ reads_h3k4me1: num  0.1137 0.398 0.0569 0.5686 0.0569 ...\n",
      " $ class        : num  1 0 0 0 0 0 0 0 0 0 ...\n"
     ]
    }
   ],
   "source": [
    "## Data manipulation\n",
    "d <- readRDS(\"./data/ep_data_sample.rds\")\n",
    "\n",
    "# Classes as factor levels. \n",
    "d$class <- as.numeric(as.factor(d$class))-1\n",
    "str(d)\n",
    "\n",
    "d3 <- as.matrix(d)\n",
    "dimnames(d3) <- NULL"
   ]
  },
  {
   "cell_type": "code",
   "execution_count": 12,
   "metadata": {},
   "outputs": [
    {
     "name": "stdout",
     "output_type": "stream",
     "text": [
      " num [1:10000, 1:5] 0.147 0.367 0.11 0.661 0.184 ...\n"
     ]
    }
   ],
   "source": [
    "str(d3)"
   ]
  },
  {
   "cell_type": "markdown",
   "metadata": {},
   "source": [
    "The data was converted to a matrix form and the column names were removed."
   ]
  },
  {
   "cell_type": "code",
   "execution_count": 13,
   "metadata": {},
   "outputs": [],
   "source": [
    "# Normalize, function is a part of keras package\n",
    "d3[,1:4] <- normalize(d3[,1:4]) # normalize the features #\n",
    "d3[,5] <- as.numeric(d3[,5]) # the class variable must be numeric, use of which will be known in a while #"
   ]
  },
  {
   "cell_type": "code",
   "execution_count": 14,
   "metadata": {},
   "outputs": [
    {
     "data": {
      "text/plain": [
       "       V1               V2                V3               V4        \n",
       " Min.   :0.0000   Min.   :0.00000   Min.   :0.0000   Min.   :0.0000  \n",
       " 1st Qu.:0.3887   1st Qu.:0.09972   1st Qu.:0.2049   1st Qu.:0.2827  \n",
       " Median :0.5869   Median :0.20143   Median :0.3552   Median :0.5160  \n",
       " Mean   :0.5550   Mean   :0.24409   Mean   :0.3609   Mean   :0.4915  \n",
       " 3rd Qu.:0.7523   3rd Qu.:0.33826   3rd Qu.:0.5151   3rd Qu.:0.7175  \n",
       " Max.   :1.0000   Max.   :1.00000   Max.   :1.0000   Max.   :1.0000  \n",
       "       V5        \n",
       " Min.   :0.0000  \n",
       " 1st Qu.:0.0000  \n",
       " Median :0.0000  \n",
       " Mean   :0.1222  \n",
       " 3rd Qu.:0.0000  \n",
       " Max.   :1.0000  "
      ]
     },
     "metadata": {},
     "output_type": "display_data"
    }
   ],
   "source": [
    "summary(d3)"
   ]
  },
  {
   "cell_type": "markdown",
   "metadata": {},
   "source": [
    "The dataset is well in the ambit of the range 0 and 1. Let us now move towards preparing the training and testing data."
   ]
  },
  {
   "cell_type": "code",
   "execution_count": 15,
   "metadata": {},
   "outputs": [],
   "source": [
    "# Data Partitioning\n",
    "\n",
    "set.seed(1234)\n",
    "ind <- sample(2, nrow(d3),replace=T, prob=c(0.7,0.3))\n",
    "training <- d3[ind==1,1:4] %>% as.matrix()\n",
    "trainlabels <- d3[ind==1,5] %>% as.matrix()\n",
    "testing <- d3[ind==2,1:4] %>% as.matrix()\n",
    "testlabels <- d3[ind==2,5] %>% as.matrix()"
   ]
  },
  {
   "cell_type": "code",
   "execution_count": 16,
   "metadata": {},
   "outputs": [
    {
     "data": {
      "text/html": [
       "<table>\n",
       "<caption>A matrix: 6 × 2 of type dbl</caption>\n",
       "<tbody>\n",
       "\t<tr><td>1</td><td>0</td></tr>\n",
       "\t<tr><td>1</td><td>0</td></tr>\n",
       "\t<tr><td>1</td><td>0</td></tr>\n",
       "\t<tr><td>1</td><td>0</td></tr>\n",
       "\t<tr><td>1</td><td>0</td></tr>\n",
       "\t<tr><td>1</td><td>0</td></tr>\n",
       "</tbody>\n",
       "</table>\n"
      ],
      "text/latex": [
       "A matrix: 6 × 2 of type dbl\n",
       "\\begin{tabular}{ll}\n",
       "\t 1 & 0\\\\\n",
       "\t 1 & 0\\\\\n",
       "\t 1 & 0\\\\\n",
       "\t 1 & 0\\\\\n",
       "\t 1 & 0\\\\\n",
       "\t 1 & 0\\\\\n",
       "\\end{tabular}\n"
      ],
      "text/markdown": [
       "\n",
       "A matrix: 6 × 2 of type dbl\n",
       "\n",
       "| 1 | 0 |\n",
       "| 1 | 0 |\n",
       "| 1 | 0 |\n",
       "| 1 | 0 |\n",
       "| 1 | 0 |\n",
       "| 1 | 0 |\n",
       "\n"
      ],
      "text/plain": [
       "     [,1] [,2]\n",
       "[1,] 1    0   \n",
       "[2,] 1    0   \n",
       "[3,] 1    0   \n",
       "[4,] 1    0   \n",
       "[5,] 1    0   \n",
       "[6,] 1    0   "
      ]
     },
     "metadata": {},
     "output_type": "display_data"
    }
   ],
   "source": [
    "# One hot encoding\n",
    "traininglabels <- to_categorical(trainlabels)\n",
    "testinglabels <- to_categorical(testlabels)\n",
    "head(testinglabels)"
   ]
  },
  {
   "cell_type": "code",
   "execution_count": 17,
   "metadata": {},
   "outputs": [
    {
     "data": {
      "text/html": [
       "<table>\n",
       "<caption>A matrix: 6 × 1 of type dbl</caption>\n",
       "<tbody>\n",
       "\t<tr><td>0</td></tr>\n",
       "\t<tr><td>0</td></tr>\n",
       "\t<tr><td>0</td></tr>\n",
       "\t<tr><td>0</td></tr>\n",
       "\t<tr><td>0</td></tr>\n",
       "\t<tr><td>0</td></tr>\n",
       "</tbody>\n",
       "</table>\n"
      ],
      "text/latex": [
       "A matrix: 6 × 1 of type dbl\n",
       "\\begin{tabular}{l}\n",
       "\t 0\\\\\n",
       "\t 0\\\\\n",
       "\t 0\\\\\n",
       "\t 0\\\\\n",
       "\t 0\\\\\n",
       "\t 0\\\\\n",
       "\\end{tabular}\n"
      ],
      "text/markdown": [
       "\n",
       "A matrix: 6 × 1 of type dbl\n",
       "\n",
       "| 0 |\n",
       "| 0 |\n",
       "| 0 |\n",
       "| 0 |\n",
       "| 0 |\n",
       "| 0 |\n",
       "\n"
      ],
      "text/plain": [
       "     [,1]\n",
       "[1,] 0   \n",
       "[2,] 0   \n",
       "[3,] 0   \n",
       "[4,] 0   \n",
       "[5,] 0   \n",
       "[6,] 0   "
      ]
     },
     "metadata": {},
     "output_type": "display_data"
    }
   ],
   "source": [
    "head(testlabels)"
   ]
  },
  {
   "cell_type": "markdown",
   "metadata": {},
   "source": [
    "**One hot encoding** is a technique that transforms class labels into a proforma that the neural network shall output. The outputs from a neural network are always in terms of probabilities and the class with the highest probability is the effective output. Here we have two classes: leaf and flower that have been encoded as 0 and 1 respectively. From a binary standpoint, there could only be one class associated with each feature row, and so the other class shall be literally \"OFF\". So 0 is represented as [1,0] and 1 as [0,1], thereby meaning that when predicted class label is 0, it can't be 1 and vice versa."
   ]
  },
  {
   "cell_type": "code",
   "execution_count": 18,
   "metadata": {},
   "outputs": [
    {
     "name": "stdout",
     "output_type": "stream",
     "text": [
      "________________________________________________________________________________\n",
      "Layer (type)                        Output Shape                    Param #     \n",
      "================================================================================\n",
      "dense (Dense)                       (None, 8)                       40          \n",
      "________________________________________________________________________________\n",
      "dense_1 (Dense)                     (None, 2)                       18          \n",
      "================================================================================\n",
      "Total params: 58\n",
      "Trainable params: 58\n",
      "Non-trainable params: 0\n",
      "________________________________________________________________________________\n"
     ]
    }
   ],
   "source": [
    "# Create sequential model\n",
    "dlmodel <- keras_model_sequential()\n",
    "\n",
    "dlmodel %>% layer_dense(units=8,\n",
    "                     activation='relu',\n",
    "                     input_shape=4) %>% \n",
    "            layer_dense(units=2,\n",
    "                     activation='softmax')\n",
    "summary(dlmodel)"
   ]
  },
  {
   "cell_type": "markdown",
   "metadata": {},
   "source": [
    "In the above chunk of code, a sequential model type is defined. In lay terms, it means that the deep learning model will constitute of a linear array of layers. The redirectional operator (**%>%**) is deployed to channel output from one module to another. The number of input variables (features) is listed in the *input_shape* parameter, while the number of nodes in each layer is marked via *units* attribute. In addition, the activation function to be used in each node is defined via *activation* attribute. The activation function is layer specific, i.e. all nodes in a layer will use the same activation function.  \n",
    "The layer_dense() function is peculiar to each layer."
   ]
  },
  {
   "cell_type": "code",
   "execution_count": 19,
   "metadata": {},
   "outputs": [],
   "source": [
    "# Model compilation\n",
    "\n",
    "dlmodel %>% compile (loss='binary_crossentropy',\n",
    "                  optimizer='adam',\n",
    "                  metrics='accuracy')"
   ]
  },
  {
   "cell_type": "markdown",
   "metadata": {},
   "source": [
    "If the multiclass classification is sought, the *loss* attribute can take 'categorical_crossentropy' as input."
   ]
  },
  {
   "cell_type": "code",
   "execution_count": 20,
   "metadata": {},
   "outputs": [
    {
     "data": {
      "image/png": "[encoded data removed]",
      "text/plain": [
       "plot without title"
      ]
     },
     "metadata": {
      "image/png": {
       "height": 420,
       "width": 420
      },
      "text/plain": {
       "height": 420,
       "width": 420
      }
     },
     "output_type": "display_data"
    }
   ],
   "source": [
    "# Fitting the model with training data\n",
    "\n",
    "dlmodeltrain <- dlmodel %>% fit (training, \n",
    "                               traininglabels,\n",
    "                              epoch=100, # number of iterations #\n",
    "                              batch_size=10, # default=32 # \n",
    "                              validation_split=0.2) # 20% of the data #\n",
    "                               \n",
    "plot(dlmodeltrain)"
   ]
  },
  {
   "cell_type": "markdown",
   "metadata": {},
   "source": [
    "There are fair indications in the graphs above. The *loss* and *accuracy* of the model aggregately follow same trend in training data and validation data. This signifies that the model is **not overfitting** and is generalizing well for newer data too."
   ]
  },
  {
   "cell_type": "code",
   "execution_count": 21,
   "metadata": {},
   "outputs": [],
   "source": [
    "# Evaluating the model with test data\n",
    "\n",
    "dlmodeltest <- dlmodel %>% evaluate(testing,testinglabels) "
   ]
  },
  {
   "cell_type": "code",
   "execution_count": 22,
   "metadata": {},
   "outputs": [
    {
     "data": {
      "text/html": [
       "<table>\n",
       "<caption>A matrix: 6 × 5 of type dbl</caption>\n",
       "<thead>\n",
       "\t<tr><th scope=col></th><th scope=col></th><th scope=col>pred</th><th scope=col></th><th scope=col></th></tr>\n",
       "</thead>\n",
       "<tbody>\n",
       "\t<tr><td>0.8570393</td><td>0.1429608</td><td>0</td><td>1</td><td>0</td></tr>\n",
       "\t<tr><td>0.8813053</td><td>0.1186948</td><td>0</td><td>1</td><td>0</td></tr>\n",
       "\t<tr><td>0.8771946</td><td>0.1228053</td><td>0</td><td>1</td><td>0</td></tr>\n",
       "\t<tr><td>0.8699461</td><td>0.1300538</td><td>0</td><td>1</td><td>0</td></tr>\n",
       "\t<tr><td>0.8606709</td><td>0.1393291</td><td>0</td><td>1</td><td>0</td></tr>\n",
       "\t<tr><td>0.8784215</td><td>0.1215785</td><td>0</td><td>1</td><td>0</td></tr>\n",
       "</tbody>\n",
       "</table>\n"
      ],
      "text/latex": [
       "A matrix: 6 × 5 of type dbl\n",
       "\\begin{tabular}{lllll}\n",
       "  &  & pred &  & \\\\\n",
       "\\hline\n",
       "\t 0.8570393 & 0.1429608 & 0 & 1 & 0\\\\\n",
       "\t 0.8813053 & 0.1186948 & 0 & 1 & 0\\\\\n",
       "\t 0.8771946 & 0.1228053 & 0 & 1 & 0\\\\\n",
       "\t 0.8699461 & 0.1300538 & 0 & 1 & 0\\\\\n",
       "\t 0.8606709 & 0.1393291 & 0 & 1 & 0\\\\\n",
       "\t 0.8784215 & 0.1215785 & 0 & 1 & 0\\\\\n",
       "\\end{tabular}\n"
      ],
      "text/markdown": [
       "\n",
       "A matrix: 6 × 5 of type dbl\n",
       "\n",
       "| <!----> | <!----> | pred | <!----> | <!----> |\n",
       "|---|---|---|---|---|\n",
       "| 0.8570393 | 0.1429608 | 0 | 1 | 0 |\n",
       "| 0.8813053 | 0.1186948 | 0 | 1 | 0 |\n",
       "| 0.8771946 | 0.1228053 | 0 | 1 | 0 |\n",
       "| 0.8699461 | 0.1300538 | 0 | 1 | 0 |\n",
       "| 0.8606709 | 0.1393291 | 0 | 1 | 0 |\n",
       "| 0.8784215 | 0.1215785 | 0 | 1 | 0 |\n",
       "\n"
      ],
      "text/plain": [
       "                         pred    \n",
       "[1,] 0.8570393 0.1429608 0    1 0\n",
       "[2,] 0.8813053 0.1186948 0    1 0\n",
       "[3,] 0.8771946 0.1228053 0    1 0\n",
       "[4,] 0.8699461 0.1300538 0    1 0\n",
       "[5,] 0.8606709 0.1393291 0    1 0\n",
       "[6,] 0.8784215 0.1215785 0    1 0"
      ]
     },
     "metadata": {},
     "output_type": "display_data"
    }
   ],
   "source": [
    "# Prediction and Confusion Matrix from test data\n",
    "\n",
    "prob <- dlmodel %>% predict_proba(testing)\n",
    "pred <- dlmodel %>% predict_classes(testing) %>% as.numeric()\n",
    "table1 <- table(Predicted =pred, Actual= testlabels)\n",
    "head(cbind(prob, pred, testinglabels))"
   ]
  },
  {
   "cell_type": "code",
   "execution_count": 23,
   "metadata": {},
   "outputs": [
    {
     "data": {
      "text/html": [
       "<dl>\n",
       "\t<dt>$loss</dt>\n",
       "\t\t<dd>0.389061760725142</dd>\n",
       "\t<dt>$acc</dt>\n",
       "\t\t<dd>0.867860734462738</dd>\n",
       "</dl>\n"
      ],
      "text/latex": [
       "\\begin{description}\n",
       "\\item[\\$loss] 0.389061760725142\n",
       "\\item[\\$acc] 0.867860734462738\n",
       "\\end{description}\n"
      ],
      "text/markdown": [
       "$loss\n",
       ":   0.389061760725142\n",
       "$acc\n",
       ":   0.867860734462738\n",
       "\n",
       "\n"
      ],
      "text/plain": [
       "$loss\n",
       "[1] 0.3890618\n",
       "\n",
       "$acc\n",
       "[1] 0.8678607\n"
      ]
     },
     "metadata": {},
     "output_type": "display_data"
    }
   ],
   "source": [
    "# Fine tuning the model\n",
    "\n",
    "dlmodeltest"
   ]
  },
  {
   "cell_type": "markdown",
   "metadata": {},
   "source": [
    "> Excercise:  \n",
    "1. Change number of units in hidden layer from 8 to 50. Rerun the model; observe if there is any any improvement in accuracy.\n",
    "2. Add another hidden layer."
   ]
  },
  {
   "cell_type": "code",
   "execution_count": 24,
   "metadata": {},
   "outputs": [
    {
     "name": "stdout",
     "output_type": "stream",
     "text": [
      "________________________________________________________________________________\n",
      "Layer (type)                        Output Shape                    Param #     \n",
      "================================================================================\n",
      "dense_2 (Dense)                     (None, 50)                      250         \n",
      "________________________________________________________________________________\n",
      "dense_3 (Dense)                     (None, 2)                       102         \n",
      "================================================================================\n",
      "Total params: 352\n",
      "Trainable params: 352\n",
      "Non-trainable params: 0\n",
      "________________________________________________________________________________\n"
     ]
    }
   ],
   "source": [
    "# Changing the hidden layer units to 50.\n",
    "\n",
    "# Create sequential model\n",
    "dlmodel1 <- keras_model_sequential()\n",
    "\n",
    "dlmodel1 %>% layer_dense(units=50,\n",
    "                     activation='relu',\n",
    "                     input_shape=4) %>% \n",
    "            layer_dense(units=2,\n",
    "                     activation='softmax')\n",
    "summary(dlmodel1)"
   ]
  },
  {
   "cell_type": "code",
   "execution_count": 26,
   "metadata": {},
   "outputs": [
    {
     "data": {
      "image/png": "[encoded data removed]",
      "text/plain": [
       "plot without title"
      ]
     },
     "metadata": {
      "image/png": {
       "height": 420,
       "width": 420
      },
      "text/plain": {
       "height": 420,
       "width": 420
      }
     },
     "output_type": "display_data"
    }
   ],
   "source": [
    "# Model compilation\n",
    "\n",
    "dlmodel1 %>% compile (loss='binary_crossentropy',\n",
    "                  optimizer='adam',\n",
    "                  metrics='accuracy')\n",
    "\n",
    "# Fitting the model with training data\n",
    "\n",
    "dlmodeltrain1 <- dlmodel1 %>% fit (training, \n",
    "                               traininglabels,\n",
    "                              epoch=100, # number of iterations #\n",
    "                              batch_size=10, # default=32 # \n",
    "                              validation_split=0.2) # 20% of the data #\n",
    "                               \n",
    "plot(dlmodeltrain1)"
   ]
  },
  {
   "cell_type": "markdown",
   "metadata": {},
   "source": [
    "The model aligns well with the training data, but is offsetted to the validation data. It seems that it overfits."
   ]
  },
  {
   "cell_type": "code",
   "execution_count": 28,
   "metadata": {},
   "outputs": [
    {
     "data": {
      "text/html": [
       "<table>\n",
       "<caption>A matrix: 6 × 5 of type dbl</caption>\n",
       "<thead>\n",
       "\t<tr><th scope=col></th><th scope=col></th><th scope=col>pred1</th><th scope=col></th><th scope=col></th></tr>\n",
       "</thead>\n",
       "<tbody>\n",
       "\t<tr><td>0.9040226</td><td>0.09597738</td><td>0</td><td>1</td><td>0</td></tr>\n",
       "\t<tr><td>0.8971477</td><td>0.10285235</td><td>0</td><td>1</td><td>0</td></tr>\n",
       "\t<tr><td>0.8979051</td><td>0.10209499</td><td>0</td><td>1</td><td>0</td></tr>\n",
       "\t<tr><td>0.9038945</td><td>0.09610555</td><td>0</td><td>1</td><td>0</td></tr>\n",
       "\t<tr><td>0.8830470</td><td>0.11695293</td><td>0</td><td>1</td><td>0</td></tr>\n",
       "\t<tr><td>0.8946407</td><td>0.10535930</td><td>0</td><td>1</td><td>0</td></tr>\n",
       "</tbody>\n",
       "</table>\n"
      ],
      "text/latex": [
       "A matrix: 6 × 5 of type dbl\n",
       "\\begin{tabular}{lllll}\n",
       "  &  & pred1 &  & \\\\\n",
       "\\hline\n",
       "\t 0.9040226 & 0.09597738 & 0 & 1 & 0\\\\\n",
       "\t 0.8971477 & 0.10285235 & 0 & 1 & 0\\\\\n",
       "\t 0.8979051 & 0.10209499 & 0 & 1 & 0\\\\\n",
       "\t 0.9038945 & 0.09610555 & 0 & 1 & 0\\\\\n",
       "\t 0.8830470 & 0.11695293 & 0 & 1 & 0\\\\\n",
       "\t 0.8946407 & 0.10535930 & 0 & 1 & 0\\\\\n",
       "\\end{tabular}\n"
      ],
      "text/markdown": [
       "\n",
       "A matrix: 6 × 5 of type dbl\n",
       "\n",
       "| <!----> | <!----> | pred1 | <!----> | <!----> |\n",
       "|---|---|---|---|---|\n",
       "| 0.9040226 | 0.09597738 | 0 | 1 | 0 |\n",
       "| 0.8971477 | 0.10285235 | 0 | 1 | 0 |\n",
       "| 0.8979051 | 0.10209499 | 0 | 1 | 0 |\n",
       "| 0.9038945 | 0.09610555 | 0 | 1 | 0 |\n",
       "| 0.8830470 | 0.11695293 | 0 | 1 | 0 |\n",
       "| 0.8946407 | 0.10535930 | 0 | 1 | 0 |\n",
       "\n"
      ],
      "text/plain": [
       "                          pred1    \n",
       "[1,] 0.9040226 0.09597738 0     1 0\n",
       "[2,] 0.8971477 0.10285235 0     1 0\n",
       "[3,] 0.8979051 0.10209499 0     1 0\n",
       "[4,] 0.9038945 0.09610555 0     1 0\n",
       "[5,] 0.8830470 0.11695293 0     1 0\n",
       "[6,] 0.8946407 0.10535930 0     1 0"
      ]
     },
     "metadata": {},
     "output_type": "display_data"
    },
    {
     "data": {
      "text/html": [
       "<dl>\n",
       "\t<dt>$loss</dt>\n",
       "\t\t<dd>0.394827232102197</dd>\n",
       "\t<dt>$acc</dt>\n",
       "\t\t<dd>0.867860734462738</dd>\n",
       "</dl>\n"
      ],
      "text/latex": [
       "\\begin{description}\n",
       "\\item[\\$loss] 0.394827232102197\n",
       "\\item[\\$acc] 0.867860734462738\n",
       "\\end{description}\n"
      ],
      "text/markdown": [
       "$loss\n",
       ":   0.394827232102197\n",
       "$acc\n",
       ":   0.867860734462738\n",
       "\n",
       "\n"
      ],
      "text/plain": [
       "$loss\n",
       "[1] 0.3948272\n",
       "\n",
       "$acc\n",
       "[1] 0.8678607\n"
      ]
     },
     "metadata": {},
     "output_type": "display_data"
    }
   ],
   "source": [
    "# Evaluating the model with test data\n",
    "\n",
    "dlmodeltest1 <- dlmodel1 %>% evaluate(testing,testinglabels) \n",
    "\n",
    "# Prediction and Confusion Matrix from test data\n",
    "\n",
    "prob1 <- dlmodel1 %>% predict_proba(testing)\n",
    "pred1 <- dlmodel1 %>% predict_classes(testing) %>% as.numeric()\n",
    "table2 <- table(Predicted =pred1, Actual= testlabels)\n",
    "head(cbind(prob1, pred1, testinglabels))\n",
    "\n",
    "# Fine tuning the model\n",
    "\n",
    "dlmodeltest1"
   ]
  },
  {
   "cell_type": "markdown",
   "metadata": {},
   "source": [
    "There is no noticeable difference in loss and accuracy though."
   ]
  },
  {
   "cell_type": "code",
   "execution_count": 31,
   "metadata": {},
   "outputs": [
    {
     "name": "stdout",
     "output_type": "stream",
     "text": [
      "________________________________________________________________________________\n",
      "Layer (type)                        Output Shape                    Param #     \n",
      "================================================================================\n",
      "dense_7 (Dense)                     (None, 5)                       25          \n",
      "________________________________________________________________________________\n",
      "dense_8 (Dense)                     (None, 50)                      300         \n",
      "________________________________________________________________________________\n",
      "dense_9 (Dense)                     (None, 2)                       102         \n",
      "================================================================================\n",
      "Total params: 427\n",
      "Trainable params: 427\n",
      "Non-trainable params: 0\n",
      "________________________________________________________________________________\n"
     ]
    }
   ],
   "source": [
    "# Adding a hidden layer.\n",
    "\n",
    "# Create sequential model\n",
    "dlmodel2 <- keras_model_sequential()\n",
    "\n",
    "dlmodel2 %>% layer_dense(units=5,\n",
    "                     activation='relu',\n",
    "                     input_shape=4) %>% \n",
    "            layer_dense(units=50,\n",
    "                     activation='relu',\n",
    "                     input_shape=4) %>%\n",
    "            layer_dense(units=2,\n",
    "                     activation='softmax')\n",
    "summary(dlmodel2)"
   ]
  },
  {
   "cell_type": "code",
   "execution_count": 32,
   "metadata": {},
   "outputs": [
    {
     "data": {
      "image/png": "[encoded data removed]",
      "text/plain": [
       "plot without title"
      ]
     },
     "metadata": {
      "image/png": {
       "height": 420,
       "width": 420
      },
      "text/plain": {
       "height": 420,
       "width": 420
      }
     },
     "output_type": "display_data"
    }
   ],
   "source": [
    "# Model compilation\n",
    "\n",
    "dlmodel2 %>% compile (loss='binary_crossentropy',\n",
    "                  optimizer='adam',\n",
    "                  metrics='accuracy')\n",
    "\n",
    "# Fitting the model with training data\n",
    "\n",
    "dlmodeltrain2 <- dlmodel2 %>% fit (training, \n",
    "                               traininglabels,\n",
    "                              epoch=100, # number of iterations #\n",
    "                              batch_size=10, # default=32 # \n",
    "                              validation_split=0.2) # 20% of the data #\n",
    "                               \n",
    "plot(dlmodeltrain2)"
   ]
  },
  {
   "cell_type": "code",
   "execution_count": 33,
   "metadata": {},
   "outputs": [
    {
     "data": {
      "text/html": [
       "<table>\n",
       "<caption>A matrix: 6 × 5 of type dbl</caption>\n",
       "<thead>\n",
       "\t<tr><th scope=col></th><th scope=col></th><th scope=col>pred2</th><th scope=col></th><th scope=col></th></tr>\n",
       "</thead>\n",
       "<tbody>\n",
       "\t<tr><td>0.9169337</td><td>0.08306631</td><td>0</td><td>1</td><td>0</td></tr>\n",
       "\t<tr><td>0.8959633</td><td>0.10403674</td><td>0</td><td>1</td><td>0</td></tr>\n",
       "\t<tr><td>0.8847933</td><td>0.11520664</td><td>0</td><td>1</td><td>0</td></tr>\n",
       "\t<tr><td>0.8841794</td><td>0.11582059</td><td>0</td><td>1</td><td>0</td></tr>\n",
       "\t<tr><td>0.8672924</td><td>0.13270760</td><td>0</td><td>1</td><td>0</td></tr>\n",
       "\t<tr><td>0.8959633</td><td>0.10403674</td><td>0</td><td>1</td><td>0</td></tr>\n",
       "</tbody>\n",
       "</table>\n"
      ],
      "text/latex": [
       "A matrix: 6 × 5 of type dbl\n",
       "\\begin{tabular}{lllll}\n",
       "  &  & pred2 &  & \\\\\n",
       "\\hline\n",
       "\t 0.9169337 & 0.08306631 & 0 & 1 & 0\\\\\n",
       "\t 0.8959633 & 0.10403674 & 0 & 1 & 0\\\\\n",
       "\t 0.8847933 & 0.11520664 & 0 & 1 & 0\\\\\n",
       "\t 0.8841794 & 0.11582059 & 0 & 1 & 0\\\\\n",
       "\t 0.8672924 & 0.13270760 & 0 & 1 & 0\\\\\n",
       "\t 0.8959633 & 0.10403674 & 0 & 1 & 0\\\\\n",
       "\\end{tabular}\n"
      ],
      "text/markdown": [
       "\n",
       "A matrix: 6 × 5 of type dbl\n",
       "\n",
       "| <!----> | <!----> | pred2 | <!----> | <!----> |\n",
       "|---|---|---|---|---|\n",
       "| 0.9169337 | 0.08306631 | 0 | 1 | 0 |\n",
       "| 0.8959633 | 0.10403674 | 0 | 1 | 0 |\n",
       "| 0.8847933 | 0.11520664 | 0 | 1 | 0 |\n",
       "| 0.8841794 | 0.11582059 | 0 | 1 | 0 |\n",
       "| 0.8672924 | 0.13270760 | 0 | 1 | 0 |\n",
       "| 0.8959633 | 0.10403674 | 0 | 1 | 0 |\n",
       "\n"
      ],
      "text/plain": [
       "                          pred2    \n",
       "[1,] 0.9169337 0.08306631 0     1 0\n",
       "[2,] 0.8959633 0.10403674 0     1 0\n",
       "[3,] 0.8847933 0.11520664 0     1 0\n",
       "[4,] 0.8841794 0.11582059 0     1 0\n",
       "[5,] 0.8672924 0.13270760 0     1 0\n",
       "[6,] 0.8959633 0.10403674 0     1 0"
      ]
     },
     "metadata": {},
     "output_type": "display_data"
    },
    {
     "data": {
      "text/html": [
       "<dl>\n",
       "\t<dt>$loss</dt>\n",
       "\t\t<dd>0.393081300129315</dd>\n",
       "\t<dt>$acc</dt>\n",
       "\t\t<dd>0.867860734462738</dd>\n",
       "</dl>\n"
      ],
      "text/latex": [
       "\\begin{description}\n",
       "\\item[\\$loss] 0.393081300129315\n",
       "\\item[\\$acc] 0.867860734462738\n",
       "\\end{description}\n"
      ],
      "text/markdown": [
       "$loss\n",
       ":   0.393081300129315\n",
       "$acc\n",
       ":   0.867860734462738\n",
       "\n",
       "\n"
      ],
      "text/plain": [
       "$loss\n",
       "[1] 0.3930813\n",
       "\n",
       "$acc\n",
       "[1] 0.8678607\n"
      ]
     },
     "metadata": {},
     "output_type": "display_data"
    }
   ],
   "source": [
    "# Evaluating the model with test data\n",
    "\n",
    "dlmodeltest2 <- dlmodel2 %>% evaluate(testing,testinglabels) \n",
    "\n",
    "# Prediction and Confusion Matrix from test data\n",
    "\n",
    "prob2 <- dlmodel2 %>% predict_proba(testing)\n",
    "pred2 <- dlmodel2 %>% predict_classes(testing) %>% as.numeric()\n",
    "table3 <- table(Predicted =pred2, Actual= testlabels)\n",
    "head(cbind(prob2, pred2, testinglabels))\n",
    "\n",
    "# Fine tuning the model\n",
    "\n",
    "dlmodeltest2"
   ]
  },
  {
   "cell_type": "markdown",
   "metadata": {},
   "source": [
    "Infinitesimal change in loss; none in accuracy though."
   ]
  }
 ],
 "metadata": {
  "kernelspec": {
   "display_name": "R",
   "language": "R",
   "name": "ir"
  },
  "language_info": {
   "codemirror_mode": "r",
   "file_extension": ".r",
   "mimetype": "text/x-r-source",
   "name": "R",
   "pygments_lexer": "r",
   "version": "3.6.0"
  }
 },
 "nbformat": 4,
 "nbformat_minor": 2
}
