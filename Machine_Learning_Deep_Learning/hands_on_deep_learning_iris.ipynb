{
 "cells": [
  {
   "cell_type": "markdown",
   "metadata": {},
   "source": [
    "# Deep Learning "
   ]
  },
  {
   "cell_type": "markdown",
   "metadata": {},
   "source": [
    "## Background"
   ]
  },
  {
   "cell_type": "markdown",
   "metadata": {},
   "source": [
    "Machine learning has conquered our digital space in a much conceivable way. Aritifical Intelligence is the umbrella discipline that describes the varied notions of the systemic behavior akin to humans. Unlike the common held adage, **Deep Learning** isn't a part of Machine Learning per se, rather it has evolved to be an exclusive stream altogether.  \n",
    "If we recall from the previous session, we discussed the relevance of decision trees and random forests and how crucial former is to the latter. The diversity and aggregation of results in the random forests engender them the alacrity to handle multidimensional data. Although, neural nets do not foster the *same* relationship with deep learning, it is of the utmost importance to fathom the concept prior to proceeding to the holistic theme of deep learning. "
   ]
  },
  {
   "cell_type": "markdown",
   "metadata": {},
   "source": [
    "<img src=\"./props/AI_branches.jpg\">"
   ]
  },
  {
   "cell_type": "markdown",
   "metadata": {},
   "source": [
    "As mentioned above, deep learning is founded on **neural networks** that have, generally, outperformed other classification algorithms like Support Vector Machines (SVM), logistic regression, etc. *Neural Networks* are a specialized set of algorithms that work on assigning and moderating weights from the original data (input), across through the layers to the classification result (ouput).  "
   ]
  },
  {
   "cell_type": "markdown",
   "metadata": {},
   "source": [
    "<img src=\"./props/deep_learning_NN_better.jpg\">"
   ]
  },
  {
   "cell_type": "markdown",
   "metadata": {},
   "source": [
    "### Exercise\n",
    "\n",
    "> Loosely, Neural Networks is to Deep Learning as ________ is to Random Forests."
   ]
  },
  {
   "cell_type": "markdown",
   "metadata": {},
   "source": [
    "## Package Installation"
   ]
  },
  {
   "cell_type": "markdown",
   "metadata": {},
   "source": [
    "## keras"
   ]
  },
  {
   "cell_type": "markdown",
   "metadata": {},
   "source": [
    "#### Installation Errors"
   ]
  },
  {
   "cell_type": "markdown",
   "metadata": {},
   "source": [
    "There could be subjective instances of errors that a system would result, owing to some missing or conflicting dependencies. Few encountered are as under:"
   ]
  },
  {
   "cell_type": "markdown",
   "metadata": {},
   "source": [
    "<img src=\"./props/install_keras_error.jpg\">"
   ]
  },
  {
   "cell_type": "markdown",
   "metadata": {},
   "source": [
    "The TensorFlow is the Google's offering for machine learning and deep learning related tasks; *Anaconda* and *Python* libraries are major requisites for *TensorFlow* deployment in R. "
   ]
  },
  {
   "cell_type": "markdown",
   "metadata": {},
   "source": [
    "<img src=\"./props/install_keras_error1.jpg\">"
   ]
  },
  {
   "cell_type": "markdown",
   "metadata": {},
   "source": [
    "Often,\n",
    "- there is a missing declaration in the PATH variable, or \n",
    "- *Anaconda* and *Python* installations have suffered shadowing from the other. "
   ]
  },
  {
   "cell_type": "markdown",
   "metadata": {},
   "source": [
    "<img src=\"./props/install_keras_error2.jpg\">"
   ]
  },
  {
   "cell_type": "markdown",
   "metadata": {},
   "source": [
    "## neuralnet"
   ]
  },
  {
   "cell_type": "code",
   "execution_count": 6,
   "metadata": {},
   "outputs": [
    {
     "name": "stdout",
     "output_type": "stream",
     "text": [
      "\n",
      "The downloaded binary packages are in\n",
      "\t/var/folders/hm/c3_fjypn62v5xh5b5ygv267m0000gn/T//RtmppeIYgb/downloaded_packages\n"
     ]
    }
   ],
   "source": [
    "## Install the package and load the library\n",
    "\n",
    "install.packages(\"neuralnet\", \n",
    "                 repos = \"https://mirrors.tuna.tsinghua.edu.cn/CRAN/\",\n",
    "                 dependencies = TRUE)\n",
    "library(neuralnet)"
   ]
  },
  {
   "cell_type": "markdown",
   "metadata": {},
   "source": [
    "## Dataset Preparation"
   ]
  },
  {
   "cell_type": "markdown",
   "metadata": {},
   "source": [
    "The *iris* dataset has been chosen for illustrating the use of the neural networks and deep learning via the listed packages. The dataset has been modified to accomodate binary class scheme- leaf or flower. These have been explicitly incorporated into the dataset."
   ]
  },
  {
   "cell_type": "markdown",
   "metadata": {},
   "source": [
    "Let's check out the dataset. "
   ]
  },
  {
   "cell_type": "code",
   "execution_count": 7,
   "metadata": {},
   "outputs": [
    {
     "name": "stdout",
     "output_type": "stream",
     "text": [
      "'data.frame':\t150 obs. of  5 variables:\n",
      " $ Sepal.Length: num  5.1 4.9 4.7 4.6 5 5.4 4.6 5 4.4 4.9 ...\n",
      " $ Sepal.Width : num  3.5 3 3.2 3.1 3.6 3.9 3.4 3.4 2.9 3.1 ...\n",
      " $ Petal.Length: num  1.4 1.4 1.3 1.5 1.4 1.7 1.4 1.5 1.4 1.5 ...\n",
      " $ Petal.Width : num  0.2 0.2 0.2 0.2 0.2 0.4 0.3 0.2 0.2 0.1 ...\n",
      " $ Species     : Factor w/ 3 levels \"setosa\",\"versicolor\",..: 1 1 1 1 1 1 1 1 1 1 ...\n",
      " int [1:150] 1 0 1 0 1 0 1 0 1 0 ...\n"
     ]
    }
   ],
   "source": [
    "## Let us consider our example dataset\n",
    "d <- iris\n",
    "str(d)\n",
    "\n",
    "## Introduce a novel class definition.\n",
    "## 0 signifies a leaf and 1, a flower.\n",
    "\n",
    "d$class <- as.integer(sample(c(0,1)))\n",
    "str(d$class)\n",
    "\n",
    "## Remove the original classification of the flower type.\n",
    "d <- d[,-5]"
   ]
  },
  {
   "cell_type": "code",
   "execution_count": 8,
   "metadata": {},
   "outputs": [
    {
     "name": "stdout",
     "output_type": "stream",
     "text": [
      "'data.frame':\t150 obs. of  5 variables:\n",
      " $ Sepal.Length: num  5.1 4.9 4.7 4.6 5 5.4 4.6 5 4.4 4.9 ...\n",
      " $ Sepal.Width : num  3.5 3 3.2 3.1 3.6 3.9 3.4 3.4 2.9 3.1 ...\n",
      " $ Petal.Length: num  1.4 1.4 1.3 1.5 1.4 1.7 1.4 1.5 1.4 1.5 ...\n",
      " $ Petal.Width : num  0.2 0.2 0.2 0.2 0.2 0.4 0.3 0.2 0.2 0.1 ...\n",
      " $ class       : int  1 0 1 0 1 0 1 0 1 0 ...\n"
     ]
    }
   ],
   "source": [
    "str(d)"
   ]
  },
  {
   "cell_type": "markdown",
   "metadata": {},
   "source": [
    "As we look now, the dataset looks in close viability for application to the deep learning module. The only caveat is that the neural networks warrant the data spread between 0 and 1, for mirroring results in probability terms. Also, if chosen the sigmoid activation function shall also restrict the output in the similar range."
   ]
  },
  {
   "cell_type": "markdown",
   "metadata": {},
   "source": [
    "So if it isn't already, some sort of normalization procedure can help do that. The preferred one is the min-max normalization."
   ]
  },
  {
   "cell_type": "code",
   "execution_count": 9,
   "metadata": {},
   "outputs": [],
   "source": [
    "# Min-Max normalization\n",
    "d$Sepal.Length <- (d$Sepal.Length-min(d$Sepal.Length, na.rm = T))/(max(d$Sepal.Length, na.rm = T)-min(d$Sepal.Length, na.rm = T))\n",
    "d$Sepal.Width <- (d$Sepal.Width-min(d$Sepal.Width, na.rm = T))/(max(d$Sepal.Width, na.rm = T)-min(d$Sepal.Width, na.rm = T))\n",
    "d$Petal.Length <- (d$Petal.Length-min(d$Petal.Length, na.rm = T))/(max(d$Petal.Length, na.rm = T)-min(d$Petal.Length, na.rm = T))\n",
    "d$Petal.Width <- (d$Petal.Width-min(d$Petal.Width, na.rm = T))/(max(d$Petal.Width, na.rm = T)-min(d$Petal.Width, na.rm = T))\n"
   ]
  },
  {
   "cell_type": "markdown",
   "metadata": {},
   "source": [
    "Let us now formalize the dataset and bifurcate it further into training and test cases."
   ]
  },
  {
   "cell_type": "code",
   "execution_count": 10,
   "metadata": {},
   "outputs": [],
   "source": [
    "# Let us shuffle the dataset for fair distribution of classes.\n",
    "d2 <- d[sample(nrow(d)),]\n",
    "\n",
    "# Data Partition\n",
    "set.seed(108)\n",
    "ind <- sample(2, nrow(d2), replace = TRUE, prob = c(0.7, 0.3))\n",
    "training <- d2[ind==1,]\n",
    "testing <- d2[ind==2,]"
   ]
  },
  {
   "cell_type": "markdown",
   "metadata": {},
   "source": [
    ">Excercise:  \n",
    "As noted, the data is partitioned in a proportion of 7:3. Try if a different proportion, eg. 8:2 makes any difference in the final result."
   ]
  },
  {
   "cell_type": "markdown",
   "metadata": {},
   "source": [
    "Let us now execute the models from different packages. "
   ]
  },
  {
   "cell_type": "markdown",
   "metadata": {},
   "source": [
    "## Executing 'neuralnet'"
   ]
  },
  {
   "cell_type": "code",
   "execution_count": 11,
   "metadata": {},
   "outputs": [],
   "source": [
    "# Neural Networks\n",
    "set.seed(007)\n",
    "nn <- neuralnet(class~Sepal.Length+Sepal.Width+Petal.Length+Petal.Width,\n",
    "               data = training,\n",
    "               hidden = 5,\n",
    "               err.fct = \"sse\",\n",
    "               act.fct = \"logistic\",\n",
    "               linear.output = FALSE)\n"
   ]
  },
  {
   "cell_type": "markdown",
   "metadata": {},
   "source": [
    "We can also plot the model to have a graphical visualization of the network."
   ]
  },
  {
   "cell_type": "code",
   "execution_count": 13,
   "metadata": {},
   "outputs": [],
   "source": [
    "plot(nn)"
   ]
  },
  {
   "cell_type": "markdown",
   "metadata": {},
   "source": [
    "<img src=\"./props/Nn_Example2.png\">"
   ]
  },
  {
   "cell_type": "markdown",
   "metadata": {},
   "source": [
    ">Excercise:  \n",
    "Check out the error and number of steps. Try if manipulating the number of hidden nodes/layers (as parameter to the neuralnet function) and error function, if given \"ce\" (class entropy) instead of \"sse\" (sum of square errors) makes any difference. These shall also have an impact on the overall accuracy of the model as we learn to calculate further."
   ]
  },
  {
   "cell_type": "code",
   "execution_count": 15,
   "metadata": {},
   "outputs": [
    {
     "data": {
      "text/html": [
       "<table>\n",
       "<caption>A matrix: 6 × 1 of type dbl</caption>\n",
       "<tbody>\n",
       "\t<tr><th scope=row>103</th><td>0.028754278</td></tr>\n",
       "\t<tr><th scope=row>15</th><td>0.999994466</td></tr>\n",
       "\t<tr><th scope=row>118</th><td>0.005112765</td></tr>\n",
       "\t<tr><th scope=row>136</th><td>0.003943153</td></tr>\n",
       "\t<tr><th scope=row>67</th><td>0.718266078</td></tr>\n",
       "\t<tr><th scope=row>22</th><td>0.042962243</td></tr>\n",
       "</tbody>\n",
       "</table>\n"
      ],
      "text/latex": [
       "A matrix: 6 × 1 of type dbl\n",
       "\\begin{tabular}{r|l}\n",
       "\t103 & 0.028754278\\\\\n",
       "\t15 & 0.999994466\\\\\n",
       "\t118 & 0.005112765\\\\\n",
       "\t136 & 0.003943153\\\\\n",
       "\t67 & 0.718266078\\\\\n",
       "\t22 & 0.042962243\\\\\n",
       "\\end{tabular}\n"
      ],
      "text/markdown": [
       "\n",
       "A matrix: 6 × 1 of type dbl\n",
       "\n",
       "| 103 | 0.028754278 |\n",
       "| 15 | 0.999994466 |\n",
       "| 118 | 0.005112765 |\n",
       "| 136 | 0.003943153 |\n",
       "| 67 | 0.718266078 |\n",
       "| 22 | 0.042962243 |\n",
       "\n"
      ],
      "text/plain": [
       "    [,1]       \n",
       "103 0.028754278\n",
       "15  0.999994466\n",
       "118 0.005112765\n",
       "136 0.003943153\n",
       "67  0.718266078\n",
       "22  0.042962243"
      ]
     },
     "metadata": {},
     "output_type": "display_data"
    },
    {
     "data": {
      "text/html": [
       "<table>\n",
       "<caption>A data.frame: 1 × 5</caption>\n",
       "<thead>\n",
       "\t<tr><th></th><th scope=col>Sepal.Length</th><th scope=col>Sepal.Width</th><th scope=col>Petal.Length</th><th scope=col>Petal.Width</th><th scope=col>class</th></tr>\n",
       "\t<tr><th></th><th scope=col>&lt;dbl&gt;</th><th scope=col>&lt;dbl&gt;</th><th scope=col>&lt;dbl&gt;</th><th scope=col>&lt;dbl&gt;</th><th scope=col>&lt;int&gt;</th></tr>\n",
       "</thead>\n",
       "<tbody>\n",
       "\t<tr><th scope=row>103</th><td>0.7777778</td><td>0.4166667</td><td>0.8305085</td><td>0.8333333</td><td>1</td></tr>\n",
       "</tbody>\n",
       "</table>\n"
      ],
      "text/latex": [
       "A data.frame: 1 × 5\n",
       "\\begin{tabular}{r|lllll}\n",
       "  & Sepal.Length & Sepal.Width & Petal.Length & Petal.Width & class\\\\\n",
       "  & <dbl> & <dbl> & <dbl> & <dbl> & <int>\\\\\n",
       "\\hline\n",
       "\t103 & 0.7777778 & 0.4166667 & 0.8305085 & 0.8333333 & 1\\\\\n",
       "\\end{tabular}\n"
      ],
      "text/markdown": [
       "\n",
       "A data.frame: 1 × 5\n",
       "\n",
       "| <!--/--> | Sepal.Length &lt;dbl&gt; | Sepal.Width &lt;dbl&gt; | Petal.Length &lt;dbl&gt; | Petal.Width &lt;dbl&gt; | class &lt;int&gt; |\n",
       "|---|---|---|---|---|---|\n",
       "| 103 | 0.7777778 | 0.4166667 | 0.8305085 | 0.8333333 | 1 |\n",
       "\n"
      ],
      "text/plain": [
       "    Sepal.Length Sepal.Width Petal.Length Petal.Width class\n",
       "103 0.7777778    0.4166667   0.8305085    0.8333333   1    "
      ]
     },
     "metadata": {},
     "output_type": "display_data"
    }
   ],
   "source": [
    "# Prediction\n",
    "output <- compute(nn, training[,-5])\n",
    "head(output$net.result)\n",
    "head(training[1,])"
   ]
  },
  {
   "cell_type": "markdown",
   "metadata": {},
   "source": [
    "Note, how the prediction is made. As reflected in the above graphic, we have a set of weights calculated by the model and some error terms (marked in blue). As an example, let us highlight the input and output to the node 5 (in order)."
   ]
  },
  {
   "cell_type": "code",
   "execution_count": 17,
   "metadata": {},
   "outputs": [
    {
     "name": "stdout",
     "output_type": "stream",
     "text": [
      "[1] -3.314614\n",
      "[1] 28.51176\n"
     ]
    }
   ],
   "source": [
    "in5 <- -0.27206 + (0.7777778*-6.9519)+(0.4166667*1.11426)+(0.8305085*1.25498)+(0.8333333*1.02952)\n",
    "print(in5)\n",
    "out5 <- (1/1+exp(-in5))\n",
    "print(out5)"
   ]
  },
  {
   "cell_type": "markdown",
   "metadata": {},
   "source": [
    "Similarly, calculations can be done for other nodes as well."
   ]
  },
  {
   "cell_type": "markdown",
   "metadata": {},
   "source": [
    "The next step is to ascertain the overall accuracy of the model in terms of misclassification error."
   ]
  },
  {
   "cell_type": "code",
   "execution_count": 24,
   "metadata": {},
   "outputs": [
    {
     "data": {
      "text/plain": [
       "     \n",
       "pred1  0  1\n",
       "    0 50 15\n",
       "    1  8 37"
      ]
     },
     "metadata": {},
     "output_type": "display_data"
    },
    {
     "name": "stdout",
     "output_type": "stream",
     "text": [
      "The misclassification error is 0.2090909"
     ]
    }
   ],
   "source": [
    "# Confusion Matrix & Misclassification Error - training data\n",
    "output <- compute(nn, training[,-5])\n",
    "p1 <- output$net.result\n",
    "pred1 <- ifelse(p1>0.5, 1, 0)\n",
    "tab1 <- table(pred1, training$class)\n",
    "tab1\n",
    "ac <- sum(diag(tab1))/sum(tab1) #accuracy#\n",
    "me <- 1 - ac\n",
    "cat(\"The misclassification error is\", me)"
   ]
  },
  {
   "cell_type": "markdown",
   "metadata": {},
   "source": [
    "We are calculating the misclassification error on training data. Intuitively, it should be low because that is the data out of which neural network model was built over. Nonetheless, it is about 21 percent which can still be improved upon. The table shows that 50 leaves and 37 flowers were classified correctly (the diagonal elements), and the off diagonal elements constitute the errors in classification. 15 leaves were classified as flowers and 8 flowers were classified as leaves."
   ]
  },
  {
   "cell_type": "markdown",
   "metadata": {},
   "source": [
    "Let's do the same for testing data."
   ]
  },
  {
   "cell_type": "code",
   "execution_count": 25,
   "metadata": {},
   "outputs": [
    {
     "data": {
      "text/plain": [
       "     \n",
       "pred2  0  1\n",
       "    0 13  7\n",
       "    1  4 16"
      ]
     },
     "metadata": {},
     "output_type": "display_data"
    },
    {
     "name": "stdout",
     "output_type": "stream",
     "text": [
      "The misclassification error is 0.275"
     ]
    }
   ],
   "source": [
    "# Confusion Matrix & Misclassification Error - testing data\n",
    "output <- compute(nn, testing[,-1])\n",
    "p2 <- output$net.result\n",
    "pred2 <- ifelse(p2>0.5, 1, 0)\n",
    "tab2 <- table(pred2, testing$class)\n",
    "tab2\n",
    "me <- 1-sum(diag(tab2))/sum(tab2)\n",
    "cat(\"The misclassification error is\", me)"
   ]
  },
  {
   "cell_type": "markdown",
   "metadata": {},
   "source": [
    "In order to induce flavor, let us try to fiddle with different parameters of the neuralnet function."
   ]
  },
  {
   "cell_type": "code",
   "execution_count": 26,
   "metadata": {},
   "outputs": [],
   "source": [
    "nn1 <- neuralnet(class~Sepal.Length+Sepal.Width+Petal.Length+Petal.Width,\n",
    "               data = training,\n",
    "               hidden = c(2,3),\n",
    "               err.fct = \"ce\",\n",
    "               act.fct = \"logistic\",\n",
    "               linear.output = FALSE)"
   ]
  },
  {
   "cell_type": "code",
   "execution_count": 29,
   "metadata": {},
   "outputs": [
    {
     "name": "stderr",
     "output_type": "stream",
     "text": [
      "hidden: 5    thresh: 0.01    rep: 1/7    steps:    1000\tmin thresh: 0.0519906174522736\n",
      "                                                   2000\tmin thresh: 0.0519906174522736\n",
      "                                                   3000\tmin thresh: 0.0519906174522736\n",
      "                                                   4000\tmin thresh: 0.0519906174522736\n",
      "                                                   5000\tmin thresh: 0.051115150665723\n",
      "                                                   6000\tmin thresh: 0.0456017612582289\n",
      "                                                   7000\tmin thresh: 0.0456017612582289\n",
      "                                                   8000\tmin thresh: 0.0447635156040881\n",
      "                                                   9000\tmin thresh: 0.0398234133238612\n",
      "                                                  10000\tmin thresh: 0.0377142156347589\n",
      "                                                  11000\tmin thresh: 0.0313578849431015\n",
      "                                                  12000\tmin thresh: 0.0271557563850097\n",
      "                                                  13000\tmin thresh: 0.0271557563850097\n",
      "                                                  14000\tmin thresh: 0.0244125006503018\n",
      "                                                  15000\tmin thresh: 0.0237449101399058\n",
      "                                                  16000\tmin thresh: 0.0232684958710971\n",
      "                                                  17000\tmin thresh: 0.0200279775651781\n",
      "                                                  18000\tmin thresh: 0.0188323775099392\n",
      "                                                  19000\tmin thresh: 0.0182299490467736\n",
      "                                                  20000\tmin thresh: 0.0175263259655549\n",
      "                                                  21000\tmin thresh: 0.0167659865037537\n",
      "                                                  22000\tmin thresh: 0.0158910134629018\n",
      "                                                  23000\tmin thresh: 0.0158910134629018\n",
      "                                                  24000\tmin thresh: 0.0149241999393772\n",
      "                                                  25000\tmin thresh: 0.0138492109884565\n",
      "                                                  26000\tmin thresh: 0.0133625535648264\n",
      "                                                  27000\tmin thresh: 0.0126192688699094\n",
      "                                                  28000\tmin thresh: 0.0126192688699094\n",
      "                                                  29000\tmin thresh: 0.0126192688699094\n",
      "                                                  30000\tmin thresh: 0.012445206809456\n",
      "                                                  31000\tmin thresh: 0.0109968060916492\n",
      "                                                  32000\tmin thresh: 0.0109968060916492\n",
      "                                                  33000\tmin thresh: 0.0106579489139316\n",
      "                                                  34000\tmin thresh: 0.0101944979150726\n",
      "                                                  35000\tmin thresh: 0.0101944979150726\n",
      "                                                  36000\tmin thresh: 0.0101053073469489\n",
      "                                                  36284\terror: 49.62294\ttime: 6.51 secs\n",
      "hidden: 5    thresh: 0.01    rep: 2/7    steps:    1000\tmin thresh: 0.116281087737112\n",
      "                                                   2000\tmin thresh: 0.0982949126817317\n",
      "                                                   3000\tmin thresh: 0.0752808799651785\n",
      "                                                   4000\tmin thresh: 0.0392416636707028\n",
      "                                                   5000\tmin thresh: 0.0365672343929706\n",
      "                                                   6000\tmin thresh: 0.0326765841955144\n",
      "                                                   7000\tmin thresh: 0.0294653392176043\n",
      "                                                   8000\tmin thresh: 0.0294653392176043\n",
      "                                                   9000\tmin thresh: 0.0294653392176043\n",
      "                                                  10000\tmin thresh: 0.0294653392176043\n",
      "                                                  11000\tmin thresh: 0.0294653392176043\n",
      "                                                  12000\tmin thresh: 0.0294653392176043\n",
      "                                                  13000\tmin thresh: 0.0294653392176043\n",
      "                                                  14000\tmin thresh: 0.0294653392176043\n",
      "                                                  15000\tmin thresh: 0.0294653392176043\n",
      "                                                  16000\tmin thresh: 0.0294653392176043\n",
      "                                                  17000\tmin thresh: 0.0294653392176043\n",
      "                                                  18000\tmin thresh: 0.0294653392176043\n",
      "                                                  19000\tmin thresh: 0.0294653392176043\n",
      "                                                  20000\tmin thresh: 0.0294653392176043\n",
      "                                                  21000\tmin thresh: 0.0294653392176043\n",
      "                                                  22000\tmin thresh: 0.0213101882750543\n",
      "                                                  23000\tmin thresh: 0.0191784665969117\n",
      "                                                  24000\tmin thresh: 0.0191784665969117\n",
      "                                                  25000\tmin thresh: 0.0191784665969117\n",
      "                                                  26000\tmin thresh: 0.0190629416425006\n",
      "                                                  27000\tmin thresh: 0.0179822799071598\n",
      "                                                  28000\tmin thresh: 0.0179822799071598\n",
      "                                                  29000\tmin thresh: 0.0166393910187707\n",
      "                                                  30000\tmin thresh: 0.0166393910187707\n",
      "                                                  31000\tmin thresh: 0.0166393910187707\n",
      "                                                  32000\tmin thresh: 0.0166393910187707\n",
      "                                                  33000\tmin thresh: 0.0165345740269883\n",
      "                                                  34000\tmin thresh: 0.0144296985424758\n",
      "                                                  35000\tmin thresh: 0.0144296985424758\n",
      "                                                  36000\tmin thresh: 0.0144296985424758\n",
      "                                                  37000\tmin thresh: 0.0144296985424758\n",
      "                                                  38000\tmin thresh: 0.0144296985424758\n",
      "                                                  39000\tmin thresh: 0.0144296985424758\n",
      "                                                  40000\tmin thresh: 0.0144296985424758\n",
      "                                                  41000\tmin thresh: 0.0144296985424758\n",
      "                                                  42000\tmin thresh: 0.0144296985424758\n",
      "                                                  43000\tmin thresh: 0.0144296985424758\n",
      "                                                  44000\tmin thresh: 0.0144296985424758\n",
      "                                                  45000\tmin thresh: 0.0119553916195566\n",
      "                                                  46000\tmin thresh: 0.0119553916195566\n",
      "                                                  47000\tmin thresh: 0.0119553916195566\n",
      "                                                  48000\tmin thresh: 0.0119553916195566\n",
      "                                                  49000\tmin thresh: 0.0119553916195566\n",
      "                                                  50000\tmin thresh: 0.0119553916195566\n",
      "                                                  51000\tmin thresh: 0.0119553916195566\n",
      "                                                  52000\tmin thresh: 0.0119553916195566\n",
      "                                                  53000\tmin thresh: 0.0119553916195566\n",
      "                                                  54000\tmin thresh: 0.0119553916195566\n",
      "                                                  55000\tmin thresh: 0.0119553916195566\n",
      "                                                  56000\tmin thresh: 0.0119553916195566\n",
      "                                                  57000\tmin thresh: 0.0119553916195566\n",
      "                                                  58000\tmin thresh: 0.0119553916195566\n",
      "                                                  59000\tmin thresh: 0.0119553916195566\n",
      "                                                  60000\tmin thresh: 0.0119553916195566\n",
      "                                                  61000\tmin thresh: 0.0119553916195566\n",
      "                                                  62000\tmin thresh: 0.0119553916195566\n",
      "                                                  63000\tmin thresh: 0.0119553916195566\n",
      "                                                  64000\tmin thresh: 0.0119553916195566\n",
      "                                                  65000\tmin thresh: 0.0119553916195566\n",
      "                                                  66000\tmin thresh: 0.0116850694985388\n",
      "                                                  67000\tmin thresh: 0.0116850694985388\n",
      "                                                  68000\tmin thresh: 0.0116850694985388\n",
      "                                                  69000\tmin thresh: 0.0116850694985388\n",
      "                                                  70000\tmin thresh: 0.0116850694985388\n",
      "                                                  71000\tmin thresh: 0.0116850694985388\n",
      "                                                  72000\tmin thresh: 0.0116850694985388\n",
      "                                                  73000\tmin thresh: 0.0116850694985388\n",
      "                                                  74000\tmin thresh: 0.0116850694985388\n",
      "                                                  75000\tmin thresh: 0.0116850694985388\n",
      "                                                  76000\tmin thresh: 0.0116850694985388\n",
      "                                                  77000\tmin thresh: 0.0116850694985388\n",
      "                                                  78000\tmin thresh: 0.0116850694985388\n",
      "                                                  79000\tmin thresh: 0.0116850694985388\n",
      "                                                  80000\tmin thresh: 0.0116850694985388\n",
      "                                                  81000\tmin thresh: 0.0116850694985388\n",
      "                                                  82000\tmin thresh: 0.0116850694985388\n",
      "                                                  83000\tmin thresh: 0.0116850694985388\n",
      "                                                  84000\tmin thresh: 0.0116850694985388\n",
      "                                                  85000\tmin thresh: 0.0116850694985388\n",
      "                                                  86000\tmin thresh: 0.0116850694985388\n",
      "                                                  87000\tmin thresh: 0.0116850694985388\n",
      "                                                  88000\tmin thresh: 0.0116850694985388\n",
      "                                                  89000\tmin thresh: 0.0116850694985388\n",
      "                                                  90000\tmin thresh: 0.0116850694985388\n",
      "                                                  91000\tmin thresh: 0.0116850694985388\n",
      "                                                  92000\tmin thresh: 0.0116850694985388\n",
      "                                                  93000\tmin thresh: 0.0116850694985388\n",
      "                                                  94000\tmin thresh: 0.0116850694985388\n",
      "                                                  95000\tmin thresh: 0.0116850694985388\n",
      "                                                  96000\tmin thresh: 0.0116850694985388\n",
      "                                                  97000\tmin thresh: 0.0116850694985388\n",
      "                                                  98000\tmin thresh: 0.0116850694985388\n",
      "                                                  99000\tmin thresh: 0.0116850694985388\n",
      "                                                stepmax\tmin thresh: 0.0116850694985388\n",
      "hidden: 5    thresh: 0.01    rep: 3/7    steps:    1000\tmin thresh: 0.0713448933482387\n",
      "                                                   2000\tmin thresh: 0.0713448933482387\n",
      "                                                   3000\tmin thresh: 0.0713448933482387\n",
      "                                                   4000\tmin thresh: 0.0713448933482387\n",
      "                                                   5000\tmin thresh: 0.0713448933482387\n",
      "                                                   6000\tmin thresh: 0.0713448933482387\n",
      "                                                   7000\tmin thresh: 0.0713448933482387\n",
      "                                                   8000\tmin thresh: 0.0713448933482387\n",
      "                                                   9000\tmin thresh: 0.0713448933482387\n",
      "                                                  10000\tmin thresh: 0.0713448933482387\n",
      "                                                  11000\tmin thresh: 0.0697927164833925\n",
      "                                                  12000\tmin thresh: 0.0667564072347996\n",
      "                                                  13000\tmin thresh: 0.0667564072347996\n",
      "                                                  14000\tmin thresh: 0.063766416692669\n",
      "                                                  15000\tmin thresh: 0.063766416692669\n",
      "                                                  16000\tmin thresh: 0.0630726616673428\n",
      "                                                  17000\tmin thresh: 0.0567184252666183\n",
      "                                                  18000\tmin thresh: 0.051310586360282\n",
      "                                                  19000\tmin thresh: 0.0493007419645808\n",
      "                                                  20000\tmin thresh: 0.045055341938268\n",
      "                                                  21000\tmin thresh: 0.0389928215076507\n",
      "                                                  22000\tmin thresh: 0.0381528957003731\n",
      "                                                  23000\tmin thresh: 0.0365347235634684\n",
      "                                                  24000\tmin thresh: 0.0358580039596638\n",
      "                                                  25000\tmin thresh: 0.0337159869461463\n",
      "                                                  26000\tmin thresh: 0.0337159869461463\n",
      "                                                  27000\tmin thresh: 0.0307745534761551\n",
      "                                                  28000\tmin thresh: 0.0294328188164573\n",
      "                                                  29000\tmin thresh: 0.0268254827886759\n",
      "                                                  30000\tmin thresh: 0.0237535537169371\n",
      "                                                  31000\tmin thresh: 0.0237535537169371\n",
      "                                                  32000\tmin thresh: 0.0237535537169371\n",
      "                                                  33000\tmin thresh: 0.0215143594499612\n",
      "                                                  34000\tmin thresh: 0.0197733286941365\n",
      "                                                  35000\tmin thresh: 0.0186948789631067\n",
      "                                                  36000\tmin thresh: 0.0184470367712853\n",
      "                                                  37000\tmin thresh: 0.0181795900369359\n",
      "                                                  38000\tmin thresh: 0.0174674235597939\n",
      "                                                  39000\tmin thresh: 0.0168111515310956\n",
      "                                                  40000\tmin thresh: 0.016048711327769\n",
      "                                                  41000\tmin thresh: 0.016048711327769\n",
      "                                                  42000\tmin thresh: 0.0155436751152837\n",
      "                                                  43000\tmin thresh: 0.0152348598989388\n",
      "                                                  44000\tmin thresh: 0.0147290121137698\n",
      "                                                  45000\tmin thresh: 0.014512074583023\n",
      "                                                  46000\tmin thresh: 0.0141319982919498\n",
      "                                                  47000\tmin thresh: 0.0136272337066433\n",
      "                                                  48000\tmin thresh: 0.0130926383280923\n",
      "                                                  49000\tmin thresh: 0.0125361088867243\n",
      "                                                  50000\tmin thresh: 0.0119398806273123\n",
      "                                                  51000\tmin thresh: 0.0119398806273123\n"
     ]
    },
    {
     "name": "stderr",
     "output_type": "stream",
     "text": [
      "                                                  52000\tmin thresh: 0.0109627688273539\n",
      "                                                  52907\terror: 51.03116\ttime: 7.33 secs\n",
      "hidden: 5    thresh: 0.01    rep: 4/7    steps:    1000\tmin thresh: 0.0524557983982725\n",
      "                                                   2000\tmin thresh: 0.0524557983982725\n",
      "                                                   3000\tmin thresh: 0.0524557983982725\n",
      "                                                   4000\tmin thresh: 0.0524557983982725\n",
      "                                                   5000\tmin thresh: 0.0524557983982725\n",
      "                                                   6000\tmin thresh: 0.0524557983982725\n",
      "                                                   7000\tmin thresh: 0.0524557983982725\n",
      "                                                   8000\tmin thresh: 0.0524557983982725\n",
      "                                                   9000\tmin thresh: 0.0517476537896523\n",
      "                                                  10000\tmin thresh: 0.0483856193244414\n",
      "                                                  11000\tmin thresh: 0.0462708118072229\n",
      "                                                  12000\tmin thresh: 0.0435146457327917\n",
      "                                                  13000\tmin thresh: 0.0375509804501469\n",
      "                                                  14000\tmin thresh: 0.0359886165530934\n",
      "                                                  15000\tmin thresh: 0.0359350044290238\n",
      "                                                  16000\tmin thresh: 0.0348547640077914\n",
      "                                                  17000\tmin thresh: 0.0312812021592841\n",
      "                                                  18000\tmin thresh: 0.0311666945529417\n",
      "                                                  19000\tmin thresh: 0.0296281434156263\n",
      "                                                  20000\tmin thresh: 0.0269489138134089\n",
      "                                                  21000\tmin thresh: 0.0269489138134089\n",
      "                                                  22000\tmin thresh: 0.0260602027701813\n",
      "                                                  23000\tmin thresh: 0.025500372600307\n",
      "                                                  24000\tmin thresh: 0.0221876058260077\n",
      "                                                  25000\tmin thresh: 0.0221876058260077\n",
      "                                                  26000\tmin thresh: 0.0213357427544717\n",
      "                                                  27000\tmin thresh: 0.0213357427544717\n",
      "                                                  28000\tmin thresh: 0.0204362429183718\n",
      "                                                  29000\tmin thresh: 0.0197464319374158\n",
      "                                                  30000\tmin thresh: 0.0192422092636382\n",
      "                                                  31000\tmin thresh: 0.018454737558888\n",
      "                                                  32000\tmin thresh: 0.0181713249948299\n",
      "                                                  33000\tmin thresh: 0.0181713249948299\n",
      "                                                  34000\tmin thresh: 0.01790197991993\n",
      "                                                  35000\tmin thresh: 0.0175079756450812\n",
      "                                                  36000\tmin thresh: 0.0166060936218731\n",
      "                                                  37000\tmin thresh: 0.0165606476837817\n",
      "                                                  38000\tmin thresh: 0.0159202411904486\n",
      "                                                  39000\tmin thresh: 0.0154607454342615\n",
      "                                                  40000\tmin thresh: 0.0154607454342615\n",
      "                                                  41000\tmin thresh: 0.0152774026256029\n",
      "                                                  42000\tmin thresh: 0.0146583194362686\n",
      "                                                  43000\tmin thresh: 0.0140091457137844\n",
      "                                                  44000\tmin thresh: 0.0138533078439603\n",
      "                                                  45000\tmin thresh: 0.013137316716357\n",
      "                                                  46000\tmin thresh: 0.013137316716357\n",
      "                                                  47000\tmin thresh: 0.0130468666327173\n",
      "                                                  48000\tmin thresh: 0.0130468666327173\n",
      "                                                  49000\tmin thresh: 0.0130468666327173\n",
      "                                                  50000\tmin thresh: 0.0122413244114863\n",
      "                                                  51000\tmin thresh: 0.0121423851502545\n",
      "                                                  52000\tmin thresh: 0.0117728735272748\n",
      "                                                  53000\tmin thresh: 0.0113230810135587\n",
      "                                                  54000\tmin thresh: 0.0112665811475899\n",
      "                                                  55000\tmin thresh: 0.0112665811475899\n",
      "                                                  56000\tmin thresh: 0.0112387262520374\n",
      "                                                  57000\tmin thresh: 0.0112387262520374\n",
      "                                                  58000\tmin thresh: 0.0105044720170364\n",
      "                                                  59000\tmin thresh: 0.0104298048030668\n",
      "                                                  60000\tmin thresh: 0.0104298048030668\n",
      "                                                  61000\tmin thresh: 0.0104136541645573\n",
      "                                                  62000\tmin thresh: 0.0104136541645573\n",
      "                                                  62800\terror: 47.02988\ttime: 8.05 secs\n",
      "hidden: 5    thresh: 0.01    rep: 5/7    steps:    1000\tmin thresh: 0.0716368673151323\n",
      "                                                   2000\tmin thresh: 0.0613529883462638\n",
      "                                                   3000\tmin thresh: 0.0373418818985906\n",
      "                                                   4000\tmin thresh: 0.032675832129598\n",
      "                                                   5000\tmin thresh: 0.0312934736168274\n",
      "                                                   6000\tmin thresh: 0.0298588014423781\n",
      "                                                   7000\tmin thresh: 0.0298588014423781\n",
      "                                                   8000\tmin thresh: 0.0298588014423781\n",
      "                                                   9000\tmin thresh: 0.0298588014423781\n",
      "                                                  10000\tmin thresh: 0.0298588014423781\n",
      "                                                  11000\tmin thresh: 0.0277302503815417\n",
      "                                                  12000\tmin thresh: 0.0238659510797586\n",
      "                                                  13000\tmin thresh: 0.0232643651197957\n",
      "                                                  14000\tmin thresh: 0.0217612514052727\n",
      "                                                  15000\tmin thresh: 0.0217612514052727\n",
      "                                                  16000\tmin thresh: 0.0213103905543882\n",
      "                                                  17000\tmin thresh: 0.0212524730863202\n",
      "                                                  18000\tmin thresh: 0.0205751865067613\n",
      "                                                  19000\tmin thresh: 0.0178209676751978\n",
      "                                                  20000\tmin thresh: 0.0178209676751978\n",
      "                                                  21000\tmin thresh: 0.0161495729664302\n",
      "                                                  22000\tmin thresh: 0.0161495729664302\n",
      "                                                  23000\tmin thresh: 0.0160650896750063\n",
      "                                                  24000\tmin thresh: 0.0154512112653789\n",
      "                                                  25000\tmin thresh: 0.0143374223867769\n",
      "                                                  26000\tmin thresh: 0.0134631416525578\n",
      "                                                  27000\tmin thresh: 0.0133107637910348\n",
      "                                                  28000\tmin thresh: 0.0133107637910348\n",
      "                                                  29000\tmin thresh: 0.0133107637910348\n",
      "                                                  30000\tmin thresh: 0.0133107637910348\n",
      "                                                  31000\tmin thresh: 0.0133107637910348\n",
      "                                                  32000\tmin thresh: 0.0133107637910348\n",
      "                                                  33000\tmin thresh: 0.0133107637910348\n",
      "                                                  34000\tmin thresh: 0.0133107637910348\n",
      "                                                  35000\tmin thresh: 0.0133107637910348\n",
      "                                                  36000\tmin thresh: 0.0130215129884952\n",
      "                                                  37000\tmin thresh: 0.012872261751519\n",
      "                                                  38000\tmin thresh: 0.012872261751519\n",
      "                                                  39000\tmin thresh: 0.0125441910937287\n",
      "                                                  40000\tmin thresh: 0.0118777037678437\n",
      "                                                  41000\tmin thresh: 0.0118777037678437\n",
      "                                                  42000\tmin thresh: 0.0108388551353684\n",
      "                                                  43000\tmin thresh: 0.0108388551353684\n",
      "                                                  44000\tmin thresh: 0.0108388551353684\n",
      "                                                  45000\tmin thresh: 0.0108388551353684\n",
      "                                                  46000\tmin thresh: 0.0108388551353684\n",
      "                                                  47000\tmin thresh: 0.0108388551353684\n",
      "                                                  48000\tmin thresh: 0.0108388551353684\n",
      "                                                  49000\tmin thresh: 0.0108388551353684\n",
      "                                                  50000\tmin thresh: 0.0108388551353684\n",
      "                                                  51000\tmin thresh: 0.0108388551353684\n",
      "                                                  52000\tmin thresh: 0.0108388551353684\n",
      "                                                  53000\tmin thresh: 0.0108388551353684\n",
      "                                                  54000\tmin thresh: 0.0108388551353684\n",
      "                                                  55000\tmin thresh: 0.0108388551353684\n",
      "                                                  56000\tmin thresh: 0.0108388551353684\n",
      "                                                  57000\tmin thresh: 0.0108388551353684\n",
      "                                                  58000\tmin thresh: 0.0108388551353684\n",
      "                                                  59000\tmin thresh: 0.0108388551353684\n",
      "                                                  60000\tmin thresh: 0.0107560280070318\n",
      "                                                  61000\tmin thresh: 0.0105715534980768\n",
      "                                                  62000\tmin thresh: 0.0105715534980768\n",
      "                                                  63000\tmin thresh: 0.0105715534980768\n",
      "                                                  64000\tmin thresh: 0.0105715534980768\n",
      "                                                  65000\tmin thresh: 0.0105715534980768\n",
      "                                                  66000\tmin thresh: 0.0105715534980768\n",
      "                                                  67000\tmin thresh: 0.0105715534980768\n",
      "                                                  67984\terror: 52.55402\ttime: 8.41 secs\n",
      "hidden: 5    thresh: 0.01    rep: 6/7    steps:    1000\tmin thresh: 0.117046654036782\n",
      "                                                   2000\tmin thresh: 0.100829923861155\n",
      "                                                   3000\tmin thresh: 0.061545560170457\n",
      "                                                   4000\tmin thresh: 0.0427782610875496\n",
      "                                                   5000\tmin thresh: 0.0355997850391833\n",
      "                                                   6000\tmin thresh: 0.0314752878048967\n",
      "                                                   7000\tmin thresh: 0.0262414833793669\n",
      "                                                   8000\tmin thresh: 0.0252300162062518\n",
      "                                                   9000\tmin thresh: 0.0243876044611527\n",
      "                                                  10000\tmin thresh: 0.021289422852752\n",
      "                                                  11000\tmin thresh: 0.0172708184602998\n",
      "                                                  12000\tmin thresh: 0.0164945812298374\n",
      "                                                  13000\tmin thresh: 0.016207723371556\n",
      "                                                  14000\tmin thresh: 0.0147311938059918\n",
      "                                                  15000\tmin thresh: 0.0130547301624599\n",
      "                                                  16000\tmin thresh: 0.0115900871800734\n",
      "                                                  17000\tmin thresh: 0.011332334828817\n",
      "                                                  18000\tmin thresh: 0.011332334828817\n",
      "                                                  19000\tmin thresh: 0.011332334828817\n",
      "                                                  20000\tmin thresh: 0.011332334828817\n",
      "                                                  21000\tmin thresh: 0.0105422634193755\n",
      "                                                  22000\tmin thresh: 0.0105422634193755\n",
      "                                                  23000\tmin thresh: 0.0102868588286191\n",
      "                                                  23107\terror: 53.67567\ttime: 5.23 secs\n",
      "hidden: 5    thresh: 0.01    rep: 7/7    steps:    1000\tmin thresh: 0.182680151962996\n",
      "                                                   2000\tmin thresh: 0.136391727860609\n",
      "                                                   3000\tmin thresh: 0.136391727860609\n",
      "                                                   4000\tmin thresh: 0.106895009112998\n",
      "                                                   5000\tmin thresh: 0.0878594769661222\n",
      "                                                   6000\tmin thresh: 0.0839678681131316\n",
      "                                                   7000\tmin thresh: 0.068485211785163\n",
      "                                                   8000\tmin thresh: 0.0652217282982395\n",
      "                                                   9000\tmin thresh: 0.0612996529051785\n",
      "                                                  10000\tmin thresh: 0.0611770240494439\n",
      "                                                  11000\tmin thresh: 0.0566711634551691\n",
      "                                                  12000\tmin thresh: 0.0566711634551691\n",
      "                                                  13000\tmin thresh: 0.0533044535197481\n",
      "                                                  14000\tmin thresh: 0.0524388937967969\n",
      "                                                  15000\tmin thresh: 0.0469416053859811\n",
      "                                                  16000\tmin thresh: 0.0440951496225755\n",
      "                                                  17000\tmin thresh: 0.0440951496225755\n",
      "                                                  18000\tmin thresh: 0.0411805783645129\n",
      "                                                  19000\tmin thresh: 0.0411805783645129\n",
      "                                                  20000\tmin thresh: 0.0411805783645129\n",
      "                                                  21000\tmin thresh: 0.0411805783645129\n",
      "                                                  22000\tmin thresh: 0.0411805783645129\n",
      "                                                  23000\tmin thresh: 0.039328644050415\n",
      "                                                  24000\tmin thresh: 0.0384612982562965\n",
      "                                                  25000\tmin thresh: 0.0384612982562965\n",
      "                                                  26000\tmin thresh: 0.0356727938713999\n",
      "                                                  27000\tmin thresh: 0.0356727938713999\n",
      "                                                  28000\tmin thresh: 0.0356727938713999\n",
      "                                                  29000\tmin thresh: 0.0356727938713999\n",
      "                                                  30000\tmin thresh: 0.0356727938713999\n",
      "                                                  31000\tmin thresh: 0.0356727938713999\n"
     ]
    },
    {
     "name": "stderr",
     "output_type": "stream",
     "text": [
      "                                                  32000\tmin thresh: 0.0356727938713999\n",
      "                                                  33000\tmin thresh: 0.0348401897304808\n",
      "                                                  34000\tmin thresh: 0.0324502458306364\n",
      "                                                  35000\tmin thresh: 0.0324502458306364\n",
      "                                                  36000\tmin thresh: 0.0324502458306364\n",
      "                                                  37000\tmin thresh: 0.0324502458306364\n",
      "                                                  38000\tmin thresh: 0.0324502458306364\n",
      "                                                  39000\tmin thresh: 0.0308007069332814\n",
      "                                                  40000\tmin thresh: 0.0308007069332814\n",
      "                                                  41000\tmin thresh: 0.0306065108900068\n",
      "                                                  42000\tmin thresh: 0.0306065108900068\n",
      "                                                  43000\tmin thresh: 0.0291321274661566\n",
      "                                                  44000\tmin thresh: 0.0284861877229887\n",
      "                                                  45000\tmin thresh: 0.0284861877229887\n",
      "                                                  46000\tmin thresh: 0.0277079096695182\n",
      "                                                  47000\tmin thresh: 0.0277079096695182\n",
      "                                                  48000\tmin thresh: 0.0277079096695182\n",
      "                                                  49000\tmin thresh: 0.0277079096695182\n",
      "                                                  50000\tmin thresh: 0.0258404884758958\n",
      "                                                  51000\tmin thresh: 0.0258404884758958\n",
      "                                                  52000\tmin thresh: 0.0247568619373297\n",
      "                                                  53000\tmin thresh: 0.0247568619373297\n",
      "                                                  54000\tmin thresh: 0.0247568619373297\n",
      "                                                  55000\tmin thresh: 0.0247568619373297\n",
      "                                                  56000\tmin thresh: 0.0247568619373297\n",
      "                                                  57000\tmin thresh: 0.0247568619373297\n",
      "                                                  58000\tmin thresh: 0.0235486987746698\n",
      "                                                  59000\tmin thresh: 0.0235486987746698\n",
      "                                                  60000\tmin thresh: 0.0235486987746698\n",
      "                                                  61000\tmin thresh: 0.0235486987746698\n",
      "                                                  62000\tmin thresh: 0.0235486987746698\n",
      "                                                  63000\tmin thresh: 0.022805794334109\n",
      "                                                  64000\tmin thresh: 0.022805794334109\n",
      "                                                  65000\tmin thresh: 0.022805794334109\n",
      "                                                  66000\tmin thresh: 0.0220712444047141\n",
      "                                                  67000\tmin thresh: 0.0218804472691634\n",
      "                                                  68000\tmin thresh: 0.0218804472691634\n",
      "                                                  69000\tmin thresh: 0.0218804472691634\n",
      "                                                  70000\tmin thresh: 0.0218804472691634\n",
      "                                                  71000\tmin thresh: 0.0218804472691634\n",
      "                                                  72000\tmin thresh: 0.0218804472691634\n",
      "                                                  73000\tmin thresh: 0.0194888545767671\n",
      "                                                  74000\tmin thresh: 0.0194888545767671\n",
      "                                                  75000\tmin thresh: 0.0194888545767671\n",
      "                                                  76000\tmin thresh: 0.0194888545767671\n",
      "                                                  77000\tmin thresh: 0.0194888545767671\n",
      "                                                  78000\tmin thresh: 0.0194888545767671\n",
      "                                                  79000\tmin thresh: 0.0194888545767671\n",
      "                                                  80000\tmin thresh: 0.0194888545767671\n",
      "                                                  81000\tmin thresh: 0.0194888545767671\n",
      "                                                  82000\tmin thresh: 0.0194888545767671\n",
      "                                                  83000\tmin thresh: 0.0193483960135131\n",
      "                                                  84000\tmin thresh: 0.0160800695286941\n",
      "                                                  85000\tmin thresh: 0.0160800695286941\n",
      "                                                  86000\tmin thresh: 0.0160800695286941\n",
      "                                                  87000\tmin thresh: 0.0160800695286941\n",
      "                                                  88000\tmin thresh: 0.0160800695286941\n",
      "                                                  89000\tmin thresh: 0.0160800695286941\n",
      "                                                  90000\tmin thresh: 0.0160800695286941\n",
      "                                                  91000\tmin thresh: 0.0160800695286941\n",
      "                                                  92000\tmin thresh: 0.0160800695286941\n",
      "                                                  93000\tmin thresh: 0.0160800695286941\n",
      "                                                  94000\tmin thresh: 0.0160800695286941\n",
      "                                                  95000\tmin thresh: 0.0160800695286941\n",
      "                                                  96000\tmin thresh: 0.0160800695286941\n",
      "                                                  97000\tmin thresh: 0.0160800695286941\n",
      "                                                  98000\tmin thresh: 0.0160800695286941\n",
      "                                                  99000\tmin thresh: 0.0160800695286941\n",
      "                                                stepmax\tmin thresh: 0.0160800695286941\n"
     ]
    },
    {
     "ename": "ERROR",
     "evalue": "Error in if (ncol.matrix < rep) {: argument is of length zero\n",
     "output_type": "error",
     "traceback": [
      "Error in if (ncol.matrix < rep) {: argument is of length zero\nTraceback:\n",
      "1. neuralnet(class ~ Sepal.Length + Sepal.Width + Petal.Length + \n .     Petal.Width, data = training, hidden = 5, err.fct = \"ce\", \n .     act.fct = \"logistic\", linear.output = FALSE, lifesign = \"full\", \n .     rep = 7)"
     ]
    }
   ],
   "source": [
    "nn2 <- neuralnet(class~Sepal.Length+Sepal.Width+Petal.Length+Petal.Width,\n",
    "               data = training,\n",
    "               hidden = 5,\n",
    "               err.fct = \"ce\",\n",
    "               act.fct = \"logistic\",\n",
    "               linear.output = FALSE,\n",
    "                lifesign='full',\n",
    "                rep=7)"
   ]
  },
  {
   "cell_type": "markdown",
   "metadata": {},
   "source": [
    "The **nn2** network model will undergo 5 repetitions and will dynamically output the execution time and error at each repetition. "
   ]
  },
  {
   "cell_type": "markdown",
   "metadata": {},
   "source": [
    "> Exercise:  \n",
    "Try with different values of 'rep'. Do all of the models converge?"
   ]
  },
  {
   "cell_type": "markdown",
   "metadata": {},
   "source": [
    "## Executing 'keras'"
   ]
  },
  {
   "cell_type": "code",
   "execution_count": 5,
   "metadata": {},
   "outputs": [
    {
     "name": "stdout",
     "output_type": "stream",
     "text": [
      "Creating virtualenv for TensorFlow at  ~/.virtualenvs/r-tensorflow \n",
      "Installing TensorFlow ...\n",
      "\n",
      "Installation complete.\n",
      "\n"
     ]
    }
   ],
   "source": [
    "## Loading package library.\n",
    "\n",
    "library(keras)\n",
    "install_keras()"
   ]
  },
  {
   "cell_type": "markdown",
   "metadata": {},
   "source": [
    "The data here gets a slightly different treatment as compared to the former package. Let us recall the structure of the data."
   ]
  },
  {
   "cell_type": "code",
   "execution_count": 6,
   "metadata": {},
   "outputs": [
    {
     "name": "stdout",
     "output_type": "stream",
     "text": [
      "'data.frame':\t150 obs. of  5 variables:\n",
      " $ Sepal.Length: num  5.1 4.9 4.7 4.6 5 5.4 4.6 5 4.4 4.9 ...\n",
      " $ Sepal.Width : num  3.5 3 3.2 3.1 3.6 3.9 3.4 3.4 2.9 3.1 ...\n",
      " $ Petal.Length: num  1.4 1.4 1.3 1.5 1.4 1.7 1.4 1.5 1.4 1.5 ...\n",
      " $ Petal.Width : num  0.2 0.2 0.2 0.2 0.2 0.4 0.3 0.2 0.2 0.1 ...\n",
      " $ Species     : num  0 1 2 0 1 2 0 1 2 0 ...\n"
     ]
    }
   ],
   "source": [
    "dt <- iris\n",
    "dt[,5] <- as.numeric(levels(factor(as.numeric(dt[,5]))))-1\n",
    "str(dt)"
   ]
  },
  {
   "cell_type": "code",
   "execution_count": 7,
   "metadata": {},
   "outputs": [],
   "source": [
    "## Data manipulation\n",
    "\n",
    "d3 <- as.matrix(dt)\n",
    "dimnames(d3) <- NULL"
   ]
  },
  {
   "cell_type": "code",
   "execution_count": 8,
   "metadata": {},
   "outputs": [
    {
     "name": "stdout",
     "output_type": "stream",
     "text": [
      " num [1:150, 1:5] 5.1 4.9 4.7 4.6 5 5.4 4.6 5 4.4 4.9 ...\n"
     ]
    }
   ],
   "source": [
    "str(d3)"
   ]
  },
  {
   "cell_type": "markdown",
   "metadata": {},
   "source": [
    "The data was converted to a matrix form and the column names were removed."
   ]
  },
  {
   "cell_type": "code",
   "execution_count": 9,
   "metadata": {},
   "outputs": [],
   "source": [
    "# Normalize, function is a part of keras package\n",
    "d3[,1:4] <- normalize(d3[,1:4]) # normalize the features #\n",
    "d3[,5] <- as.numeric(d3[,5]) # the class variable must be numeric, use of which will be known in a while #"
   ]
  },
  {
   "cell_type": "code",
   "execution_count": 10,
   "metadata": {},
   "outputs": [
    {
     "data": {
      "text/plain": [
       "       V1               V2               V3               V4         \n",
       " Min.   :0.6539   Min.   :0.2384   Min.   :0.1678   Min.   :0.01473  \n",
       " 1st Qu.:0.7153   1st Qu.:0.3267   1st Qu.:0.2509   1st Qu.:0.04873  \n",
       " Median :0.7549   Median :0.3544   Median :0.5364   Median :0.16415  \n",
       " Mean   :0.7514   Mean   :0.4052   Mean   :0.4548   Mean   :0.14107  \n",
       " 3rd Qu.:0.7869   3rd Qu.:0.5276   3rd Qu.:0.5800   3rd Qu.:0.19753  \n",
       " Max.   :0.8609   Max.   :0.6071   Max.   :0.6370   Max.   :0.28042  \n",
       "       V5   \n",
       " Min.   :0  \n",
       " 1st Qu.:0  \n",
       " Median :1  \n",
       " Mean   :1  \n",
       " 3rd Qu.:2  \n",
       " Max.   :2  "
      ]
     },
     "metadata": {},
     "output_type": "display_data"
    }
   ],
   "source": [
    "summary(d3)"
   ]
  },
  {
   "cell_type": "markdown",
   "metadata": {},
   "source": [
    "The dataset is well in the ambit of the range 0 and 1. Let us now move towards preparing the training and testing data."
   ]
  },
  {
   "cell_type": "code",
   "execution_count": 11,
   "metadata": {},
   "outputs": [],
   "source": [
    "# Data Partitioning\n",
    "\n",
    "set.seed(1234)\n",
    "ind <- sample(2, nrow(d3),replace=T, prob=c(0.7,0.3))\n",
    "training <- d3[ind==1,1:4]\n",
    "trainlabels <- d3[ind==1,5]\n",
    "testing <- d3[ind==2,1:4]\n",
    "testlabels <- d3[ind==2,5]"
   ]
  },
  {
   "cell_type": "code",
   "execution_count": 12,
   "metadata": {},
   "outputs": [
    {
     "name": "stdout",
     "output_type": "stream",
     "text": [
      "      [,1] [,2] [,3]\n",
      " [1,]    0    1    0\n",
      " [2,]    0    1    0\n",
      " [3,]    1    0    0\n",
      " [4,]    0    1    0\n",
      " [5,]    1    0    0\n",
      " [6,]    0    1    0\n",
      " [7,]    0    0    1\n",
      " [8,]    0    0    1\n",
      " [9,]    1    0    0\n",
      "[10,]    0    1    0\n",
      "[11,]    0    1    0\n",
      "[12,]    1    0    0\n",
      "[13,]    0    0    1\n",
      "[14,]    1    0    0\n",
      "[15,]    0    0    1\n",
      "[16,]    0    0    1\n",
      "[17,]    0    1    0\n",
      "[18,]    0    0    1\n",
      "[19,]    0    1    0\n",
      "[20,]    0    0    1\n",
      "[21,]    0    1    0\n",
      "[22,]    1    0    0\n",
      "[23,]    0    0    1\n",
      "[24,]    0    1    0\n",
      "[25,]    0    1    0\n",
      "[26,]    0    0    1\n",
      "[27,]    0    0    1\n",
      "[28,]    1    0    0\n",
      "[29,]    0    1    0\n",
      "[30,]    0    0    1\n",
      "[31,]    1    0    0\n",
      "[32,]    0    1    0\n",
      "[33,]    0    0    1\n",
      "[34,]    0    1    0\n",
      "[35,]    0    1    0\n",
      "[36,]    1    0    0\n",
      "[37,]    0    0    1\n",
      "[38,]    0    1    0\n"
     ]
    }
   ],
   "source": [
    "# One hot encoding\n",
    "traininglabels <- to_categorical(trainlabels)\n",
    "testinglabels <- to_categorical(testlabels)\n",
    "print(testinglabels)"
   ]
  },
  {
   "cell_type": "code",
   "execution_count": 13,
   "metadata": {},
   "outputs": [
    {
     "name": "stdout",
     "output_type": "stream",
     "text": [
      " [1] 1 1 0 1 0 1 2 2 0 1 1 0 2 0 2 2 1 2 1 2 1 0 2 1 1 2 2 0 1 2 0 1 2 1 1 0 2 1\n"
     ]
    }
   ],
   "source": [
    "print(testlabels)"
   ]
  },
  {
   "cell_type": "markdown",
   "metadata": {},
   "source": [
    "**One hot encoding** is a technique that transforms class labels into a proforma that the neural network shall output. The outputs from a neural network are always in terms of probabilities and the class with the highest probability is the effective output. Here we have two classes: leaf and flower that have been encoded as 0 and 1 respectively. From a binary standpoint, there could only be one class associated with each feature row, and so the other class shall be literally \"OFF\". So 0 is represented as [1,0] and 1 as [0,1], thereby meaning that when predicted class label is 0, it can't be 1 and vice versa."
   ]
  },
  {
   "cell_type": "code",
   "execution_count": 14,
   "metadata": {},
   "outputs": [
    {
     "name": "stdout",
     "output_type": "stream",
     "text": [
      "________________________________________________________________________________\n",
      "Layer (type)                        Output Shape                    Param #     \n",
      "================================================================================\n",
      "dense (Dense)                       (None, 8)                       40          \n",
      "________________________________________________________________________________\n",
      "dense_1 (Dense)                     (None, 3)                       27          \n",
      "================================================================================\n",
      "Total params: 67\n",
      "Trainable params: 67\n",
      "Non-trainable params: 0\n",
      "________________________________________________________________________________\n"
     ]
    }
   ],
   "source": [
    "# Create sequential model\n",
    "dlmodel <- keras_model_sequential()\n",
    "\n",
    "dlmodel %>% layer_dense(units=8,\n",
    "                     activation='relu',\n",
    "                     input_shape=4) %>% \n",
    "            layer_dense(units=3,\n",
    "                     activation='softmax')\n",
    "summary(dlmodel)"
   ]
  },
  {
   "cell_type": "markdown",
   "metadata": {},
   "source": [
    "In the above chunk of code, a sequential model type is defined. In lay terms, it means that the deep learning model will constitute of a linear array of layers. The redirectional operator (**%>%**) is deployed to channel output from one module to another. The number of input variables (features) is listed in the *input_shape* parameter, while the number of nodes in each layer is marked via *units* attribute. In addition, the activation function to be used in each node is defined via *activation* attribute. The activation function is layer specific, i.e. all nodes in a layer will use the same activation function.  \n",
    "The layer_dense() function is peculiar to each layer."
   ]
  },
  {
   "cell_type": "code",
   "execution_count": 15,
   "metadata": {},
   "outputs": [],
   "source": [
    "# Model compilation\n",
    "\n",
    "dlmodel %>% compile (loss='binary_crossentropy',\n",
    "                  optimizer='adam',\n",
    "                  metrics='accuracy')"
   ]
  },
  {
   "cell_type": "markdown",
   "metadata": {},
   "source": [
    "If the multiclass classification is sought, the *loss* attribute can take 'categorical_crossentropy' as input."
   ]
  },
  {
   "cell_type": "code",
   "execution_count": 2,
   "metadata": {},
   "outputs": [
    {
     "ename": "ERROR",
     "evalue": "Error in dlmodel %>% fit(training, traininglabels, epoch = 200, batch_size = 10, : could not find function \"%>%\"\n",
     "output_type": "error",
     "traceback": [
      "Error in dlmodel %>% fit(training, traininglabels, epoch = 200, batch_size = 10, : could not find function \"%>%\"\nTraceback:\n"
     ]
    }
   ],
   "source": [
    "# Fitting the model with training data\n",
    "\n",
    "dlmodelfit <- dlmodel %>% fit (training, \n",
    "                               traininglabels,\n",
    "                              epoch=200, # number of iterations #\n",
    "                              batch_size=10, # default=32 # \n",
    "                              validation_split=0.2) # 20% of the data #\n",
    "                               \n",
    "plot(dlmodelfit)"
   ]
  },
  {
   "cell_type": "markdown",
   "metadata": {},
   "source": [
    "There are good indications in the graphs above. The *loss* and *accuracy* of the model follow same trend in training data and validation data. This signifies that the model is **not overfitting** and is generalizing well for newer data too."
   ]
  },
  {
   "cell_type": "code",
   "execution_count": 17,
   "metadata": {},
   "outputs": [],
   "source": [
    "# Evaluating the model with test data\n",
    "\n",
    "dlmodeltest <- dlmodel %>% evaluate(testing,testinglabels) "
   ]
  },
  {
   "cell_type": "code",
   "execution_count": 3,
   "metadata": {},
   "outputs": [
    {
     "ename": "ERROR",
     "evalue": "Error in dlmodel %>% predict_proba(testing): could not find function \"%>%\"\n",
     "output_type": "error",
     "traceback": [
      "Error in dlmodel %>% predict_proba(testing): could not find function \"%>%\"\nTraceback:\n"
     ]
    }
   ],
   "source": [
    "# Prediction and Confusion Matrix from test data\n",
    "\n",
    "prob <- dlmodel %>% predict_proba (testing)\n",
    "pred <- dlmodel %>% predict_classes (Testing)\n",
    "table1 <- table(Predicted =pred, Actual= testinglabels)\n",
    "cbind(prob, pred, testinglabels)"
   ]
  },
  {
   "cell_type": "code",
   "execution_count": null,
   "metadata": {},
   "outputs": [],
   "source": [
    "# Fine tuning the model\n",
    "\n",
    "dlmodel\n",
    "table1"
   ]
  },
  {
   "cell_type": "markdown",
   "metadata": {},
   "source": [
    "> Excercise:  \n",
    "1. Change number of units in hidden layer from 8 to 50. Rerun the model; observe if there is any any improvement in accuracy.\n",
    "2. Add another hidden layer."
   ]
  },
  {
   "cell_type": "code",
   "execution_count": null,
   "metadata": {},
   "outputs": [],
   "source": []
  }
 ],
 "metadata": {
  "kernelspec": {
   "display_name": "R",
   "language": "R",
   "name": "ir"
  },
  "language_info": {
   "codemirror_mode": "r",
   "file_extension": ".r",
   "mimetype": "text/x-r-source",
   "name": "R",
   "pygments_lexer": "r",
   "version": "3.6.0"
  }
 },
 "nbformat": 4,
 "nbformat_minor": 2
}
