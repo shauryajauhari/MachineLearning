{
 "cells": [
  {
   "cell_type": "markdown",
   "metadata": {},
   "source": [
    "# Deep Learning "
   ]
  },
  {
   "cell_type": "markdown",
   "metadata": {},
   "source": [
    "## Background"
   ]
  },
  {
   "cell_type": "markdown",
   "metadata": {},
   "source": [
    "Machine learning has conquered our digital space in a much conceivable way. Aritifical Intelligence is the umbrella discipline that describes the varied notions of the systemic behavior akin to humans. Unlike the common held adage, **Deep Learning** isn't a part of Machine Learning per se, rather it has evolved to be an exclusive stream altogether.  \n",
    "If we recall from the previous session, we discussed the relevance of decision trees and random forests and how crucial former is to the latter. The diversity and aggregation of results in the random forests engender them the alacrity to handle multidimensional data. Although, neural nets do not foster the *same* relationship with deep learning, it is of the utmost importance to fathom the concept prior to proceeding to the holistic theme of deep learning. "
   ]
  },
  {
   "cell_type": "markdown",
   "metadata": {},
   "source": [
    "<img src=\"./props/AI_branches.jpg\">"
   ]
  },
  {
   "cell_type": "markdown",
   "metadata": {},
   "source": [
    "As mentioned above, deep learning is founded on **neural networks** that have, generally, outperformed other classification algorithms like Support Vector Machines (SVM), logistic regression, etc. *Neural Networks* are a specialized set of algorithms that work on assigning and moderating weights from the original data (input), across through the layers to the classification result (ouput).  "
   ]
  },
  {
   "cell_type": "markdown",
   "metadata": {},
   "source": [
    "<img src=\"./props/deep_learning_NN_better.jpg\">"
   ]
  },
  {
   "cell_type": "markdown",
   "metadata": {},
   "source": [
    "### Exercise\n",
    "\n",
    "> Loosely, Neural Networks is to Deep Learning as ________ is to Random Forests."
   ]
  },
  {
   "cell_type": "markdown",
   "metadata": {},
   "source": [
    "## Package Installation"
   ]
  },
  {
   "cell_type": "markdown",
   "metadata": {},
   "source": [
    "## keras"
   ]
  },
  {
   "cell_type": "markdown",
   "metadata": {},
   "source": [
    "#### Installation Errors"
   ]
  },
  {
   "cell_type": "markdown",
   "metadata": {},
   "source": [
    "There could be subjective instances of errors that a system would result, owing to some missing or conflicting dependencies. Few encountered are as under:"
   ]
  },
  {
   "cell_type": "markdown",
   "metadata": {},
   "source": [
    "<img src=\"./props/install_keras_error.jpg\">"
   ]
  },
  {
   "cell_type": "markdown",
   "metadata": {},
   "source": [
    "The TensorFlow is the Google's offering for machine learning and deep learning related tasks; *Anaconda* and *Python* libraries are major requisites for *TensorFlow* deployment in R. "
   ]
  },
  {
   "cell_type": "markdown",
   "metadata": {},
   "source": [
    "<img src=\"./props/install_keras_error1.jpg\">"
   ]
  },
  {
   "cell_type": "markdown",
   "metadata": {},
   "source": [
    "Often,\n",
    "- there is a missing declaration in the PATH variable, or \n",
    "- *Anaconda* and *Python* installations have suffered shadowing from the other. "
   ]
  },
  {
   "cell_type": "markdown",
   "metadata": {},
   "source": [
    "<img src=\"./props/install_keras_error2.jpg\">"
   ]
  },
  {
   "cell_type": "markdown",
   "metadata": {},
   "source": [
    "## neuralnet"
   ]
  },
  {
   "cell_type": "code",
   "execution_count": 1,
   "metadata": {},
   "outputs": [
    {
     "name": "stdout",
     "output_type": "stream",
     "text": [
      "\n",
      "The downloaded binary packages are in\n",
      "\t/var/folders/hm/c3_fjypn62v5xh5b5ygv267m0000gn/T//RtmpYn2Hhh/downloaded_packages\n"
     ]
    }
   ],
   "source": [
    "## Install the package and load the library\n",
    "\n",
    "install.packages(\"neuralnet\", \n",
    "                 repos = \"https://mirrors.tuna.tsinghua.edu.cn/CRAN/\",\n",
    "                 dependencies = TRUE)\n",
    "library(neuralnet)"
   ]
  },
  {
   "cell_type": "markdown",
   "metadata": {},
   "source": [
    "## Dataset Preparation"
   ]
  },
  {
   "cell_type": "markdown",
   "metadata": {},
   "source": [
    "The *iris* dataset has been chosen for illustrating the use of the neural networks and deep learning via the listed packages. The dataset has been modified to accomodate binary class scheme- leaf or flower. These have been explicitly incorporated into the dataset."
   ]
  },
  {
   "cell_type": "markdown",
   "metadata": {},
   "source": [
    "Let's check out the dataset. "
   ]
  },
  {
   "cell_type": "code",
   "execution_count": 2,
   "metadata": {},
   "outputs": [
    {
     "name": "stdout",
     "output_type": "stream",
     "text": [
      "'data.frame':\t150 obs. of  5 variables:\n",
      " $ Sepal.Length: num  5.1 4.9 4.7 4.6 5 5.4 4.6 5 4.4 4.9 ...\n",
      " $ Sepal.Width : num  3.5 3 3.2 3.1 3.6 3.9 3.4 3.4 2.9 3.1 ...\n",
      " $ Petal.Length: num  1.4 1.4 1.3 1.5 1.4 1.7 1.4 1.5 1.4 1.5 ...\n",
      " $ Petal.Width : num  0.2 0.2 0.2 0.2 0.2 0.4 0.3 0.2 0.2 0.1 ...\n",
      " $ Species     : Factor w/ 3 levels \"setosa\",\"versicolor\",..: 1 1 1 1 1 1 1 1 1 1 ...\n",
      " int [1:150] 1 0 1 0 1 0 1 0 1 0 ...\n"
     ]
    }
   ],
   "source": [
    "## Let us consider our example dataset\n",
    "d <- iris\n",
    "str(d)\n",
    "\n",
    "## Introduce a novel class definition.\n",
    "## 0 signifies a leaf and 1, a flower.\n",
    "\n",
    "d$class <- as.integer(sample(c(0,1)))\n",
    "str(d$class)\n",
    "\n",
    "## Remove the original classification of the flower type.\n",
    "d <- d[,-5]"
   ]
  },
  {
   "cell_type": "code",
   "execution_count": 3,
   "metadata": {},
   "outputs": [
    {
     "name": "stdout",
     "output_type": "stream",
     "text": [
      "'data.frame':\t150 obs. of  5 variables:\n",
      " $ Sepal.Length: num  5.1 4.9 4.7 4.6 5 5.4 4.6 5 4.4 4.9 ...\n",
      " $ Sepal.Width : num  3.5 3 3.2 3.1 3.6 3.9 3.4 3.4 2.9 3.1 ...\n",
      " $ Petal.Length: num  1.4 1.4 1.3 1.5 1.4 1.7 1.4 1.5 1.4 1.5 ...\n",
      " $ Petal.Width : num  0.2 0.2 0.2 0.2 0.2 0.4 0.3 0.2 0.2 0.1 ...\n",
      " $ class       : int  1 0 1 0 1 0 1 0 1 0 ...\n"
     ]
    }
   ],
   "source": [
    "str(d)"
   ]
  },
  {
   "cell_type": "markdown",
   "metadata": {},
   "source": [
    "As we look now, the dataset looks in close viability for application to the deep learning module. The only caveat is that the neural networks warrant the data spread between 0 and 1, for mirroring results in probability terms. Also, if chosen the sigmoid activation function shall also restrict the output in the similar range."
   ]
  },
  {
   "cell_type": "markdown",
   "metadata": {},
   "source": [
    "So if it isn't already, some sort of normalization procedure can help do that. The preferred one is the min-max normalization."
   ]
  },
  {
   "cell_type": "code",
   "execution_count": 4,
   "metadata": {},
   "outputs": [],
   "source": [
    "# Min-Max normalization\n",
    "d$Sepal.Length <- (d$Sepal.Length-min(d$Sepal.Length, na.rm = T))/(max(d$Sepal.Length, na.rm = T)-min(d$Sepal.Length, na.rm = T))\n",
    "d$Sepal.Width <- (d$Sepal.Width-min(d$Sepal.Width, na.rm = T))/(max(d$Sepal.Width, na.rm = T)-min(d$Sepal.Width, na.rm = T))\n",
    "d$Petal.Length <- (d$Petal.Length-min(d$Petal.Length, na.rm = T))/(max(d$Petal.Length, na.rm = T)-min(d$Petal.Length, na.rm = T))\n",
    "d$Petal.Width <- (d$Petal.Width-min(d$Petal.Width, na.rm = T))/(max(d$Petal.Width, na.rm = T)-min(d$Petal.Width, na.rm = T))\n"
   ]
  },
  {
   "cell_type": "markdown",
   "metadata": {},
   "source": [
    "Let us now formalize the dataset and bifurcate it further into training and test cases."
   ]
  },
  {
   "cell_type": "code",
   "execution_count": 5,
   "metadata": {},
   "outputs": [],
   "source": [
    "# Let us shuffle the dataset for fair distribution of classes.\n",
    "d2 <- d[sample(nrow(d)),]\n",
    "\n",
    "# Data Partition\n",
    "set.seed(108)\n",
    "ind <- sample(2, nrow(d2), replace = TRUE, prob = c(0.7, 0.3))\n",
    "training <- d2[ind==1,]\n",
    "testing <- d2[ind==2,]"
   ]
  },
  {
   "cell_type": "markdown",
   "metadata": {},
   "source": [
    ">Excercise:  \n",
    "As noted, the data is partitioned in a proportion of 7:3. Try if a different proportion, eg. 8:2 makes any difference in the final result."
   ]
  },
  {
   "cell_type": "markdown",
   "metadata": {},
   "source": [
    "Let us now execute the models from different packages. "
   ]
  },
  {
   "cell_type": "markdown",
   "metadata": {},
   "source": [
    "## Executing 'neuralnet'"
   ]
  },
  {
   "cell_type": "code",
   "execution_count": 6,
   "metadata": {},
   "outputs": [],
   "source": [
    "# Neural Networks\n",
    "set.seed(007)\n",
    "nn <- neuralnet(class~Sepal.Length+Sepal.Width+Petal.Length+Petal.Width,\n",
    "               data = training,\n",
    "               hidden = 5,\n",
    "               err.fct = \"sse\",\n",
    "               act.fct = \"logistic\",\n",
    "               linear.output = FALSE)\n"
   ]
  },
  {
   "cell_type": "markdown",
   "metadata": {},
   "source": [
    "We can also plot the model to have a graphical visualization of the network."
   ]
  },
  {
   "cell_type": "code",
   "execution_count": 7,
   "metadata": {},
   "outputs": [],
   "source": [
    "plot(nn)"
   ]
  },
  {
   "cell_type": "markdown",
   "metadata": {},
   "source": [
    "<img src=\"./props/Nn_Example3.png\">"
   ]
  },
  {
   "cell_type": "markdown",
   "metadata": {},
   "source": [
    ">Excercise:  \n",
    "Check out the error and number of steps. Try if manipulating the number of hidden nodes/layers (as parameter to the neuralnet function) and error function, if given \"ce\" (class entropy) instead of \"sse\" (sum of square errors) makes any difference. These shall also have an impact on the overall accuracy of the model as we learn to calculate further."
   ]
  },
  {
   "cell_type": "code",
   "execution_count": 8,
   "metadata": {},
   "outputs": [
    {
     "data": {
      "text/html": [
       "<table>\n",
       "<caption>A matrix: 6 × 1 of type dbl</caption>\n",
       "<tbody>\n",
       "\t<tr><th scope=row>9</th><td>0.9653261897</td></tr>\n",
       "\t<tr><th scope=row>19</th><td>0.8489930472</td></tr>\n",
       "\t<tr><th scope=row>22</th><td>0.0003922782</td></tr>\n",
       "\t<tr><th scope=row>40</th><td>0.7913369054</td></tr>\n",
       "\t<tr><th scope=row>29</th><td>0.7918033179</td></tr>\n",
       "\t<tr><th scope=row>109</th><td>0.5248108694</td></tr>\n",
       "</tbody>\n",
       "</table>\n"
      ],
      "text/latex": [
       "A matrix: 6 × 1 of type dbl\n",
       "\\begin{tabular}{r|l}\n",
       "\t9 & 0.9653261897\\\\\n",
       "\t19 & 0.8489930472\\\\\n",
       "\t22 & 0.0003922782\\\\\n",
       "\t40 & 0.7913369054\\\\\n",
       "\t29 & 0.7918033179\\\\\n",
       "\t109 & 0.5248108694\\\\\n",
       "\\end{tabular}\n"
      ],
      "text/markdown": [
       "\n",
       "A matrix: 6 × 1 of type dbl\n",
       "\n",
       "| 9 | 0.9653261897 |\n",
       "| 19 | 0.8489930472 |\n",
       "| 22 | 0.0003922782 |\n",
       "| 40 | 0.7913369054 |\n",
       "| 29 | 0.7918033179 |\n",
       "| 109 | 0.5248108694 |\n",
       "\n"
      ],
      "text/plain": [
       "    [,1]        \n",
       "9   0.9653261897\n",
       "19  0.8489930472\n",
       "22  0.0003922782\n",
       "40  0.7913369054\n",
       "29  0.7918033179\n",
       "109 0.5248108694"
      ]
     },
     "metadata": {},
     "output_type": "display_data"
    },
    {
     "data": {
      "text/html": [
       "<table>\n",
       "<caption>A data.frame: 1 × 5</caption>\n",
       "<thead>\n",
       "\t<tr><th></th><th scope=col>Sepal.Length</th><th scope=col>Sepal.Width</th><th scope=col>Petal.Length</th><th scope=col>Petal.Width</th><th scope=col>class</th></tr>\n",
       "\t<tr><th></th><th scope=col>&lt;dbl&gt;</th><th scope=col>&lt;dbl&gt;</th><th scope=col>&lt;dbl&gt;</th><th scope=col>&lt;dbl&gt;</th><th scope=col>&lt;int&gt;</th></tr>\n",
       "</thead>\n",
       "<tbody>\n",
       "\t<tr><th scope=row>9</th><td>0.02777778</td><td>0.375</td><td>0.06779661</td><td>0.04166667</td><td>1</td></tr>\n",
       "</tbody>\n",
       "</table>\n"
      ],
      "text/latex": [
       "A data.frame: 1 × 5\n",
       "\\begin{tabular}{r|lllll}\n",
       "  & Sepal.Length & Sepal.Width & Petal.Length & Petal.Width & class\\\\\n",
       "  & <dbl> & <dbl> & <dbl> & <dbl> & <int>\\\\\n",
       "\\hline\n",
       "\t9 & 0.02777778 & 0.375 & 0.06779661 & 0.04166667 & 1\\\\\n",
       "\\end{tabular}\n"
      ],
      "text/markdown": [
       "\n",
       "A data.frame: 1 × 5\n",
       "\n",
       "| <!--/--> | Sepal.Length &lt;dbl&gt; | Sepal.Width &lt;dbl&gt; | Petal.Length &lt;dbl&gt; | Petal.Width &lt;dbl&gt; | class &lt;int&gt; |\n",
       "|---|---|---|---|---|---|\n",
       "| 9 | 0.02777778 | 0.375 | 0.06779661 | 0.04166667 | 1 |\n",
       "\n"
      ],
      "text/plain": [
       "  Sepal.Length Sepal.Width Petal.Length Petal.Width class\n",
       "9 0.02777778   0.375       0.06779661   0.04166667  1    "
      ]
     },
     "metadata": {},
     "output_type": "display_data"
    }
   ],
   "source": [
    "# Prediction\n",
    "output <- compute(nn, training[,-5])\n",
    "head(output$net.result)\n",
    "head(training[1,])"
   ]
  },
  {
   "cell_type": "markdown",
   "metadata": {},
   "source": [
    "Note, how the prediction is made. As reflected in the above graphic, we have a set of weights calculated by the model and some error terms (marked in blue). As an example, let us highlight the input and output to the node 5 (in order)."
   ]
  },
  {
   "cell_type": "code",
   "execution_count": 9,
   "metadata": {},
   "outputs": [
    {
     "name": "stdout",
     "output_type": "stream",
     "text": [
      "[1] -3.314614\n",
      "[1] 28.51176\n"
     ]
    }
   ],
   "source": [
    "in5 <- -0.27206 + (0.7777778*-6.9519)+(0.4166667*1.11426)+(0.8305085*1.25498)+(0.8333333*1.02952)\n",
    "print(in5)\n",
    "out5 <- (1/1+exp(-in5))\n",
    "print(out5)"
   ]
  },
  {
   "cell_type": "markdown",
   "metadata": {},
   "source": [
    "Similarly, calculations can be done for other nodes as well."
   ]
  },
  {
   "cell_type": "markdown",
   "metadata": {},
   "source": [
    "The next step is to ascertain the overall accuracy of the model in terms of misclassification error."
   ]
  },
  {
   "cell_type": "code",
   "execution_count": 10,
   "metadata": {},
   "outputs": [
    {
     "data": {
      "text/plain": [
       "     \n",
       "pred1  0  1\n",
       "    0 30  5\n",
       "    1 27 48"
      ]
     },
     "metadata": {},
     "output_type": "display_data"
    },
    {
     "name": "stdout",
     "output_type": "stream",
     "text": [
      "The misclassification error is 0.2909091"
     ]
    }
   ],
   "source": [
    "# Confusion Matrix & Misclassification Error - training data\n",
    "output <- compute(nn, training[,-5])\n",
    "p1 <- output$net.result\n",
    "pred1 <- ifelse(p1>0.5, 1, 0)\n",
    "tab1 <- table(pred1, training$class)\n",
    "tab1\n",
    "ac <- sum(diag(tab1))/sum(tab1) #accuracy#\n",
    "me <- 1 - ac\n",
    "cat(\"The misclassification error is\", me)"
   ]
  },
  {
   "cell_type": "markdown",
   "metadata": {},
   "source": [
    "We are calculating the misclassification error on training data. Intuitively, it should be low because that is the data out of which neural network model was built over. Nonetheless, it is about 21 percent which can still be improved upon. The table shows that 50 leaves and 37 flowers were classified correctly (the diagonal elements), and the off diagonal elements constitute the errors in classification. 15 leaves were classified as flowers and 8 flowers were classified as leaves."
   ]
  },
  {
   "cell_type": "markdown",
   "metadata": {},
   "source": [
    "Let's do the same for testing data."
   ]
  },
  {
   "cell_type": "code",
   "execution_count": 11,
   "metadata": {},
   "outputs": [
    {
     "data": {
      "text/plain": [
       "     \n",
       "pred2  0  1\n",
       "    0 16  0\n",
       "    1  2 22"
      ]
     },
     "metadata": {},
     "output_type": "display_data"
    },
    {
     "name": "stdout",
     "output_type": "stream",
     "text": [
      "The misclassification error is 0.05"
     ]
    }
   ],
   "source": [
    "# Confusion Matrix & Misclassification Error - testing data\n",
    "output <- compute(nn, testing[,-1])\n",
    "p2 <- output$net.result\n",
    "pred2 <- ifelse(p2>0.5, 1, 0)\n",
    "tab2 <- table(pred2, testing$class)\n",
    "tab2\n",
    "me <- 1-sum(diag(tab2))/sum(tab2)\n",
    "cat(\"The misclassification error is\", me)"
   ]
  },
  {
   "cell_type": "markdown",
   "metadata": {},
   "source": [
    "In order to induce flavor, let us try to fiddle with different parameters of the neuralnet function."
   ]
  },
  {
   "cell_type": "code",
   "execution_count": 16,
   "metadata": {},
   "outputs": [],
   "source": [
    "nn1 <- neuralnet(class~Sepal.Length+Sepal.Width+Petal.Length+Petal.Width,\n",
    "               data = training,\n",
    "               hidden = c(2,1),\n",
    "               err.fct = \"ce\",\n",
    "               act.fct = \"logistic\",\n",
    "               linear.output = FALSE)"
   ]
  },
  {
   "cell_type": "code",
   "execution_count": 18,
   "metadata": {},
   "outputs": [
    {
     "name": "stderr",
     "output_type": "stream",
     "text": [
      "hidden: 3    thresh: 0.01    rep: 1/2    steps:    1000\tmin thresh: 0.0776907594699658\n",
      "                                                   2000\tmin thresh: 0.0776907594699658\n",
      "                                                   3000\tmin thresh: 0.0722098463596094\n",
      "                                                   4000\tmin thresh: 0.0630110670222569\n",
      "                                                   5000\tmin thresh: 0.0553932677179347\n",
      "                                                   6000\tmin thresh: 0.0473827843743758\n",
      "                                                   7000\tmin thresh: 0.0427612932198643\n",
      "                                                   8000\tmin thresh: 0.0376912573933772\n",
      "                                                   9000\tmin thresh: 0.0352211809912343\n",
      "                                                  10000\tmin thresh: 0.0332014196325776\n",
      "                                                  11000\tmin thresh: 0.0304571966639998\n",
      "                                                  12000\tmin thresh: 0.0289939214386111\n",
      "                                                  13000\tmin thresh: 0.0279880324826308\n",
      "                                                  14000\tmin thresh: 0.0264059335508791\n",
      "                                                  15000\tmin thresh: 0.0257245131160161\n",
      "                                                  16000\tmin thresh: 0.0237940376934194\n",
      "                                                  17000\tmin thresh: 0.0233609030883618\n",
      "                                                  18000\tmin thresh: 0.0219130535905405\n",
      "                                                  19000\tmin thresh: 0.0219130535905405\n",
      "                                                  20000\tmin thresh: 0.0213075360880822\n",
      "                                                  21000\tmin thresh: 0.020281158163258\n",
      "                                                  22000\tmin thresh: 0.0194957785366744\n",
      "                                                  23000\tmin thresh: 0.018992644278966\n",
      "                                                  24000\tmin thresh: 0.018992644278966\n",
      "                                                  25000\tmin thresh: 0.0186127002143841\n",
      "                                                  26000\tmin thresh: 0.0184231787893578\n",
      "                                                  27000\tmin thresh: 0.0179854512422866\n",
      "                                                  28000\tmin thresh: 0.0179367012298005\n",
      "                                                  29000\tmin thresh: 0.0179367012298005\n",
      "                                                  30000\tmin thresh: 0.0174955955616054\n",
      "                                                  31000\tmin thresh: 0.0173722178745104\n",
      "                                                  32000\tmin thresh: 0.016707553816094\n",
      "                                                  33000\tmin thresh: 0.016428404836786\n",
      "                                                  34000\tmin thresh: 0.016428404836786\n",
      "                                                  35000\tmin thresh: 0.016428404836786\n",
      "                                                  36000\tmin thresh: 0.0157039545108885\n",
      "                                                  37000\tmin thresh: 0.0157039545108885\n",
      "                                                  38000\tmin thresh: 0.0155647835714326\n",
      "                                                  39000\tmin thresh: 0.0155647835714326\n",
      "                                                  40000\tmin thresh: 0.0155647835714326\n",
      "                                                  41000\tmin thresh: 0.0151886428119956\n",
      "                                                  42000\tmin thresh: 0.0151886428119956\n",
      "                                                  43000\tmin thresh: 0.0151886428119956\n",
      "                                                  44000\tmin thresh: 0.0150826795426364\n",
      "                                                  45000\tmin thresh: 0.0150789864803048\n",
      "                                                  46000\tmin thresh: 0.0147516609131374\n",
      "                                                  47000\tmin thresh: 0.0147516609131374\n",
      "                                                  48000\tmin thresh: 0.0147051462601169\n",
      "                                                  49000\tmin thresh: 0.0144252058267124\n",
      "                                                  50000\tmin thresh: 0.0144252058267124\n",
      "                                                  51000\tmin thresh: 0.0142405705827849\n",
      "                                                  52000\tmin thresh: 0.0141671096241544\n",
      "                                                  53000\tmin thresh: 0.0141433379697334\n",
      "                                                  54000\tmin thresh: 0.0140280379420894\n",
      "                                                  55000\tmin thresh: 0.0140280379420894\n",
      "                                                  56000\tmin thresh: 0.013791228635934\n",
      "                                                  57000\tmin thresh: 0.013791228635934\n",
      "                                                  58000\tmin thresh: 0.0135869134637944\n",
      "                                                  59000\tmin thresh: 0.0135292935842435\n",
      "                                                  60000\tmin thresh: 0.0135292935842435\n",
      "                                                  61000\tmin thresh: 0.0135292935842435\n",
      "                                                  62000\tmin thresh: 0.0135292935842435\n",
      "                                                  63000\tmin thresh: 0.0133762538759415\n",
      "                                                  64000\tmin thresh: 0.0132902096089332\n",
      "                                                  65000\tmin thresh: 0.0132443267313507\n",
      "                                                  66000\tmin thresh: 0.0132443267313507\n",
      "                                                  67000\tmin thresh: 0.0131988156529396\n",
      "                                                  68000\tmin thresh: 0.012998321297404\n",
      "                                                  69000\tmin thresh: 0.012998321297404\n",
      "                                                  70000\tmin thresh: 0.0129308266204929\n",
      "                                                  71000\tmin thresh: 0.0129308266204929\n",
      "                                                  72000\tmin thresh: 0.0127899781471098\n",
      "                                                  73000\tmin thresh: 0.0124348585825687\n",
      "                                                  74000\tmin thresh: 0.0124348585825687\n",
      "                                                  75000\tmin thresh: 0.0124348585825687\n",
      "                                                  76000\tmin thresh: 0.0124348585825687\n",
      "                                                  77000\tmin thresh: 0.0124348585825687\n",
      "                                                  78000\tmin thresh: 0.0124348585825687\n",
      "                                                  79000\tmin thresh: 0.0124348585825687\n",
      "                                                  80000\tmin thresh: 0.0124348585825687\n",
      "                                                  81000\tmin thresh: 0.0124348585825687\n",
      "                                                  82000\tmin thresh: 0.0118907335219821\n",
      "                                                  83000\tmin thresh: 0.0118907335219821\n",
      "                                                  84000\tmin thresh: 0.0118907335219821\n",
      "                                                  85000\tmin thresh: 0.0116700133347358\n",
      "                                                  86000\tmin thresh: 0.0116700133347358\n",
      "                                                  87000\tmin thresh: 0.0114322493610013\n",
      "                                                  88000\tmin thresh: 0.0111922691449575\n",
      "                                                  89000\tmin thresh: 0.0111922691449575\n",
      "                                                  90000\tmin thresh: 0.0111033681140283\n",
      "                                                  91000\tmin thresh: 0.0107201794273479\n",
      "                                                  92000\tmin thresh: 0.0104862075317791\n",
      "                                                  93000\tmin thresh: 0.0102324395580868\n",
      "                                                  94000\tmin thresh: 0.0101514750951379\n",
      "                                                  94801\terror: 60.30325\ttime: 6.87 secs\n",
      "hidden: 3    thresh: 0.01    rep: 2/2    steps:    1000\tmin thresh: 0.0356537661122387\n",
      "                                                   2000\tmin thresh: 0.0356537661122387\n",
      "                                                   3000\tmin thresh: 0.0336975020722291\n",
      "                                                   4000\tmin thresh: 0.0262338137791524\n",
      "                                                   5000\tmin thresh: 0.0238731862642552\n",
      "                                                   6000\tmin thresh: 0.0204724790034221\n",
      "                                                   7000\tmin thresh: 0.0176032083453348\n",
      "                                                   8000\tmin thresh: 0.015792551556139\n",
      "                                                   9000\tmin thresh: 0.0132068258450666\n",
      "                                                  10000\tmin thresh: 0.012230370620362\n",
      "                                                  11000\tmin thresh: 0.0113335726493125\n",
      "                                                  12000\tmin thresh: 0.0106817714862594\n",
      "                                                  12321\terror: 64.83324\ttime: 0.88 secs\n"
     ]
    }
   ],
   "source": [
    "nn2 <- neuralnet(class~Sepal.Length+Sepal.Width+Petal.Length+Petal.Width,\n",
    "               data = training,\n",
    "               hidden = 3,\n",
    "               err.fct = \"ce\",\n",
    "               act.fct = \"logistic\",\n",
    "               linear.output = FALSE,\n",
    "                lifesign='full',\n",
    "                rep=2)"
   ]
  },
  {
   "cell_type": "markdown",
   "metadata": {},
   "source": [
    "The **nn2** network model will undergo 2 repetitions and will dynamically output the execution time and error at each repetition. "
   ]
  },
  {
   "cell_type": "markdown",
   "metadata": {},
   "source": [
    "> Exercise:  \n",
    "Try with different values of 'rep'. Do all of the models converge?"
   ]
  },
  {
   "cell_type": "markdown",
   "metadata": {},
   "source": [
    "## Executing 'keras'"
   ]
  },
  {
   "cell_type": "code",
   "execution_count": 19,
   "metadata": {},
   "outputs": [
    {
     "name": "stdout",
     "output_type": "stream",
     "text": [
      "Creating virtualenv for TensorFlow at  ~/.virtualenvs/r-tensorflow \n",
      "Installing TensorFlow ...\n",
      "\n",
      "Installation complete.\n",
      "\n"
     ]
    }
   ],
   "source": [
    "## Loading package library.\n",
    "\n",
    "library(keras)\n",
    "install_keras()"
   ]
  },
  {
   "cell_type": "markdown",
   "metadata": {},
   "source": [
    "The data here gets a slightly different treatment as compared to the former package. Let us recall the structure of the data."
   ]
  },
  {
   "cell_type": "code",
   "execution_count": 20,
   "metadata": {},
   "outputs": [
    {
     "name": "stdout",
     "output_type": "stream",
     "text": [
      "'data.frame':\t150 obs. of  5 variables:\n",
      " $ Sepal.Length: num  5.1 4.9 4.7 4.6 5 5.4 4.6 5 4.4 4.9 ...\n",
      " $ Sepal.Width : num  3.5 3 3.2 3.1 3.6 3.9 3.4 3.4 2.9 3.1 ...\n",
      " $ Petal.Length: num  1.4 1.4 1.3 1.5 1.4 1.7 1.4 1.5 1.4 1.5 ...\n",
      " $ Petal.Width : num  0.2 0.2 0.2 0.2 0.2 0.4 0.3 0.2 0.2 0.1 ...\n",
      " $ Species     : num  0 1 2 0 1 2 0 1 2 0 ...\n"
     ]
    }
   ],
   "source": [
    "dt <- iris\n",
    "dt[,5] <- as.numeric(levels(factor(as.numeric(dt[,5]))))-1\n",
    "str(dt)"
   ]
  },
  {
   "cell_type": "code",
   "execution_count": 21,
   "metadata": {},
   "outputs": [],
   "source": [
    "## Data manipulation\n",
    "\n",
    "d3 <- as.matrix(dt)\n",
    "dimnames(d3) <- NULL"
   ]
  },
  {
   "cell_type": "code",
   "execution_count": 22,
   "metadata": {},
   "outputs": [
    {
     "name": "stdout",
     "output_type": "stream",
     "text": [
      " num [1:150, 1:5] 5.1 4.9 4.7 4.6 5 5.4 4.6 5 4.4 4.9 ...\n"
     ]
    }
   ],
   "source": [
    "str(d3)"
   ]
  },
  {
   "cell_type": "markdown",
   "metadata": {},
   "source": [
    "The data was converted to a matrix form and the column names were removed."
   ]
  },
  {
   "cell_type": "code",
   "execution_count": 23,
   "metadata": {},
   "outputs": [],
   "source": [
    "# Normalize, function is a part of keras package\n",
    "d3[,1:4] <- normalize(d3[,1:4]) # normalize the features #\n",
    "d3[,5] <- as.numeric(d3[,5]) # the class variable must be numeric, use of which will be known in a while #"
   ]
  },
  {
   "cell_type": "code",
   "execution_count": 24,
   "metadata": {},
   "outputs": [
    {
     "data": {
      "text/plain": [
       "       V1               V2               V3               V4         \n",
       " Min.   :0.6539   Min.   :0.2384   Min.   :0.1678   Min.   :0.01473  \n",
       " 1st Qu.:0.7153   1st Qu.:0.3267   1st Qu.:0.2509   1st Qu.:0.04873  \n",
       " Median :0.7549   Median :0.3544   Median :0.5364   Median :0.16415  \n",
       " Mean   :0.7514   Mean   :0.4052   Mean   :0.4548   Mean   :0.14107  \n",
       " 3rd Qu.:0.7869   3rd Qu.:0.5276   3rd Qu.:0.5800   3rd Qu.:0.19753  \n",
       " Max.   :0.8609   Max.   :0.6071   Max.   :0.6370   Max.   :0.28042  \n",
       "       V5   \n",
       " Min.   :0  \n",
       " 1st Qu.:0  \n",
       " Median :1  \n",
       " Mean   :1  \n",
       " 3rd Qu.:2  \n",
       " Max.   :2  "
      ]
     },
     "metadata": {},
     "output_type": "display_data"
    }
   ],
   "source": [
    "summary(d3)"
   ]
  },
  {
   "cell_type": "markdown",
   "metadata": {},
   "source": [
    "The dataset is well in the ambit of the range 0 and 1. Let us now move towards preparing the training and testing data."
   ]
  },
  {
   "cell_type": "code",
   "execution_count": 50,
   "metadata": {},
   "outputs": [],
   "source": [
    "# Data Partitioning\n",
    "\n",
    "set.seed(1234)\n",
    "ind <- sample(2, nrow(d3),replace=T, prob=c(0.7,0.3))\n",
    "training <- d3[ind==1,1:4] %>% as.matrix()\n",
    "trainlabels <- d3[ind==1,5] %>% as.matrix()\n",
    "testing <- d3[ind==2,1:4] %>% as.matrix()\n",
    "testlabels <- d3[ind==2,5] %>% as.matrix()"
   ]
  },
  {
   "cell_type": "code",
   "execution_count": 51,
   "metadata": {},
   "outputs": [
    {
     "name": "stdout",
     "output_type": "stream",
     "text": [
      "      [,1] [,2] [,3]\n",
      " [1,]    0    1    0\n",
      " [2,]    0    1    0\n",
      " [3,]    1    0    0\n",
      " [4,]    0    1    0\n",
      " [5,]    1    0    0\n",
      " [6,]    0    1    0\n",
      " [7,]    0    0    1\n",
      " [8,]    0    0    1\n",
      " [9,]    1    0    0\n",
      "[10,]    0    1    0\n",
      "[11,]    0    1    0\n",
      "[12,]    1    0    0\n",
      "[13,]    0    0    1\n",
      "[14,]    1    0    0\n",
      "[15,]    0    0    1\n",
      "[16,]    0    0    1\n",
      "[17,]    0    1    0\n",
      "[18,]    0    0    1\n",
      "[19,]    0    1    0\n",
      "[20,]    0    0    1\n",
      "[21,]    0    1    0\n",
      "[22,]    1    0    0\n",
      "[23,]    0    0    1\n",
      "[24,]    0    1    0\n",
      "[25,]    0    1    0\n",
      "[26,]    0    0    1\n",
      "[27,]    0    0    1\n",
      "[28,]    1    0    0\n",
      "[29,]    0    1    0\n",
      "[30,]    0    0    1\n",
      "[31,]    1    0    0\n",
      "[32,]    0    1    0\n",
      "[33,]    0    0    1\n",
      "[34,]    0    1    0\n",
      "[35,]    0    1    0\n",
      "[36,]    1    0    0\n",
      "[37,]    0    0    1\n",
      "[38,]    0    1    0\n"
     ]
    }
   ],
   "source": [
    "# One hot encoding\n",
    "traininglabels <- to_categorical(trainlabels)\n",
    "testinglabels <- to_categorical(testlabels)\n",
    "print(testinglabels)"
   ]
  },
  {
   "cell_type": "code",
   "execution_count": 52,
   "metadata": {},
   "outputs": [
    {
     "name": "stdout",
     "output_type": "stream",
     "text": [
      "      [,1]\n",
      " [1,]    1\n",
      " [2,]    1\n",
      " [3,]    0\n",
      " [4,]    1\n",
      " [5,]    0\n",
      " [6,]    1\n",
      " [7,]    2\n",
      " [8,]    2\n",
      " [9,]    0\n",
      "[10,]    1\n",
      "[11,]    1\n",
      "[12,]    0\n",
      "[13,]    2\n",
      "[14,]    0\n",
      "[15,]    2\n",
      "[16,]    2\n",
      "[17,]    1\n",
      "[18,]    2\n",
      "[19,]    1\n",
      "[20,]    2\n",
      "[21,]    1\n",
      "[22,]    0\n",
      "[23,]    2\n",
      "[24,]    1\n",
      "[25,]    1\n",
      "[26,]    2\n",
      "[27,]    2\n",
      "[28,]    0\n",
      "[29,]    1\n",
      "[30,]    2\n",
      "[31,]    0\n",
      "[32,]    1\n",
      "[33,]    2\n",
      "[34,]    1\n",
      "[35,]    1\n",
      "[36,]    0\n",
      "[37,]    2\n",
      "[38,]    1\n"
     ]
    }
   ],
   "source": [
    "print(testlabels)"
   ]
  },
  {
   "cell_type": "markdown",
   "metadata": {},
   "source": [
    "**One hot encoding** is a technique that transforms class labels into a proforma that the neural network shall output. The outputs from a neural network are always in terms of probabilities and the class with the highest probability is the effective output. Here we have two classes: leaf and flower that have been encoded as 0 and 1 respectively. From a binary standpoint, there could only be one class associated with each feature row, and so the other class shall be literally \"OFF\". So 0 is represented as [1,0] and 1 as [0,1], thereby meaning that when predicted class label is 0, it can't be 1 and vice versa."
   ]
  },
  {
   "cell_type": "code",
   "execution_count": 53,
   "metadata": {},
   "outputs": [
    {
     "name": "stdout",
     "output_type": "stream",
     "text": [
      "________________________________________________________________________________\n",
      "Layer (type)                        Output Shape                    Param #     \n",
      "================================================================================\n",
      "dense_4 (Dense)                     (None, 8)                       40          \n",
      "________________________________________________________________________________\n",
      "dense_5 (Dense)                     (None, 3)                       27          \n",
      "================================================================================\n",
      "Total params: 67\n",
      "Trainable params: 67\n",
      "Non-trainable params: 0\n",
      "________________________________________________________________________________\n"
     ]
    }
   ],
   "source": [
    "# Create sequential model\n",
    "dlmodel <- keras_model_sequential()\n",
    "\n",
    "dlmodel %>% layer_dense(units=8,\n",
    "                     activation='relu',\n",
    "                     input_shape=4) %>% \n",
    "            layer_dense(units=3,\n",
    "                     activation='softmax')\n",
    "summary(dlmodel)"
   ]
  },
  {
   "cell_type": "markdown",
   "metadata": {},
   "source": [
    "In the above chunk of code, a sequential model type is defined. In lay terms, it means that the deep learning model will constitute of a linear array of layers. The redirectional operator (**%>%**) is deployed to channel output from one module to another. The number of input variables (features) is listed in the *input_shape* parameter, while the number of nodes in each layer is marked via *units* attribute. In addition, the activation function to be used in each node is defined via *activation* attribute. The activation function is layer specific, i.e. all nodes in a layer will use the same activation function.  \n",
    "The layer_dense() function is peculiar to each layer."
   ]
  },
  {
   "cell_type": "code",
   "execution_count": 54,
   "metadata": {},
   "outputs": [],
   "source": [
    "# Model compilation\n",
    "\n",
    "dlmodel %>% compile (loss='binary_crossentropy',\n",
    "                  optimizer='adam',\n",
    "                  metrics='accuracy')"
   ]
  },
  {
   "cell_type": "markdown",
   "metadata": {},
   "source": [
    "If the multiclass classification is sought, the *loss* attribute can take 'categorical_crossentropy' as input."
   ]
  },
  {
   "cell_type": "code",
   "execution_count": 55,
   "metadata": {},
   "outputs": [
    {
     "data": {
      "image/png": "[encoded data removed]",
      "text/plain": [
       "plot without title"
      ]
     },
     "metadata": {},
     "output_type": "display_data"
    }
   ],
   "source": [
    "# Fitting the model with training data\n",
    "\n",
    "dlmodeltrain <- dlmodel %>% fit (training, \n",
    "                               traininglabels,\n",
    "                              epoch=200, # number of iterations #\n",
    "                              batch_size=10, # default=32 # \n",
    "                              validation_split=0.2) # 20% of the data #\n",
    "                               \n",
    "plot(dlmodeltrain)"
   ]
  },
  {
   "cell_type": "markdown",
   "metadata": {},
   "source": [
    "There are good indications in the graphs above. The *loss* and *accuracy* of the model follow same trend in training data and validation data. This signifies that the model is **not overfitting** and is generalizing well for newer data too."
   ]
  },
  {
   "cell_type": "code",
   "execution_count": 56,
   "metadata": {},
   "outputs": [],
   "source": [
    "# Evaluating the model with test data\n",
    "\n",
    "dlmodeltest <- dlmodel %>% evaluate(testing,testinglabels) "
   ]
  },
  {
   "cell_type": "code",
   "execution_count": 1,
   "metadata": {},
   "outputs": [
    {
     "ename": "ERROR",
     "evalue": "Error in dlmodel %>% predict_proba(testing): could not find function \"%>%\"\n",
     "output_type": "error",
     "traceback": [
      "Error in dlmodel %>% predict_proba(testing): could not find function \"%>%\"\nTraceback:\n"
     ]
    }
   ],
   "source": [
    "# Prediction and Confusion Matrix from test data\n",
    "\n",
    "prob <- dlmodel %>% predict_proba (testing)\n",
    "pred <- dlmodel %>% predict_classes (testing) %>% as.matrix()\n",
    "table1 <- table(Predicted =pred, Actual= testlabels)\n",
    "cbind(prob, pred, testinglabels)"
   ]
  },
  {
   "cell_type": "code",
   "execution_count": 47,
   "metadata": {},
   "outputs": [
    {
     "data": {
      "text/plain": [
       "Model\n",
       "________________________________________________________________________________\n",
       "Layer (type)                        Output Shape                    Param #     \n",
       "================================================================================\n",
       "dense_2 (Dense)                     (None, 8)                       40          \n",
       "________________________________________________________________________________\n",
       "dense_3 (Dense)                     (None, 3)                       27          \n",
       "================================================================================\n",
       "Total params: 67\n",
       "Trainable params: 67\n",
       "Non-trainable params: 0\n",
       "________________________________________________________________________________\n",
       "\n"
      ]
     },
     "metadata": {},
     "output_type": "display_data"
    },
    {
     "data": {
      "text/plain": [
       "         Actual\n",
       "Predicted  0  1  2\n",
       "        0  9 16 13"
      ]
     },
     "metadata": {},
     "output_type": "display_data"
    }
   ],
   "source": [
    "# Fine tuning the model\n",
    "\n",
    "dlmodel\n",
    "table1"
   ]
  },
  {
   "cell_type": "markdown",
   "metadata": {},
   "source": [
    "> Excercise:  \n",
    "1. Change number of units in hidden layer from 8 to 50. Rerun the model; observe if there is any any improvement in accuracy.\n",
    "2. Add another hidden layer."
   ]
  }
 ],
 "metadata": {
  "kernelspec": {
   "display_name": "R",
   "language": "R",
   "name": "ir"
  }
 },
 "nbformat": 4,
 "nbformat_minor": 2
}
