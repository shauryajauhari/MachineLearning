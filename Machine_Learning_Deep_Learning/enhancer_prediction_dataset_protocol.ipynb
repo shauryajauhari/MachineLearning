{
 "cells": [
  {
   "cell_type": "markdown",
   "metadata": {},
   "source": [
    "## Tools Installation "
   ]
  },
  {
   "cell_type": "markdown",
   "metadata": {},
   "source": [
    "The following tools need to be installed before continuing with the protocol. Also ensure that their executables are defined in the PATH variable."
   ]
  },
  {
   "cell_type": "markdown",
   "metadata": {},
   "source": [
    "1. [bedtools](https://bedtools.readthedocs.io/en/latest/)\n",
    "2. [deepTools](https://deeptools.readthedocs.io/en/develop/)\n",
    "3. [samtools](http://samtools.sourceforge.net/)"
   ]
  },
  {
   "cell_type": "markdown",
   "metadata": {},
   "source": [
    "This protocol runs in R and the required packages are installed as per use; this has been clearly indicated in the workflow. "
   ]
  },
  {
   "cell_type": "markdown",
   "metadata": {},
   "source": [
    "## Dataset Preparation"
   ]
  },
  {
   "cell_type": "markdown",
   "metadata": {},
   "source": [
    "<p>The overall selection of data and the analysis protocol has been loosely borrowed from Kim et al. (2016). Typically for a machine learning problem, we shall have a dataset (consolidated, with class and variable/ feature definitions) and that'll be bifurcated (typically in 3:7 or 2:8 proportions) to be used as testing and training sets respectively. Contrarily, in this study both the categories have been sourced differently as you'll see.\n",
    "In this exercise, we shall have positive and negative training examples for the training dataset but only positive examples for the test dataset. And that is perfectively fine.</p>\n",
    "<p>The H1 cell line data for H3K27, H3K4me1, HeK4me2, and H3K4me3 have been sourced from the [ENCODE project](https://www.encodeproject.org/) featured by [Ren Lab](http://renlab.sdsc.edu/renlab_website/bing/). The version of the genome considered is **hg19**.</p>\n",
    "<p>The *bam* data is downloaded and needs to be converted to bed/bw files for further processing.</p>"
   ]
  },
  {
   "cell_type": "code",
   "execution_count": 10,
   "metadata": {},
   "outputs": [],
   "source": [
    "# The individual bam files are indexed.\n",
    "\n",
    "system(\"bash ./terminalScripts/samtoolsRun.sh /Users/soumyajauhari/Desktop/Machine_Learning/Machine_Learning_Deep_Learning/data/H1_Cell_Line/H3K27ac/ENCFF663SAM.bam \\\n",
    "/Users/soumyajauhari/Desktop/Machine_Learning/Machine_Learning_Deep_Learning/data/H1_Cell_Line/H3K4me1/ENCFF441KOL.bam \\\n",
    "/Users/soumyajauhari/Desktop/Machine_Learning/Machine_Learning_Deep_Learning/data/H1_Cell_Line/H3K4me2/ENCFF799BDH.bam \\\n",
    "/Users/soumyajauhari/Desktop/Machine_Learning/Machine_Learning_Deep_Learning/data/H1_Cell_Line/H3K4me3/ENCFF340UJK.bam\")"
   ]
  },
  {
   "cell_type": "markdown",
   "metadata": {},
   "source": [
    "After having the BAM files indexed, we proceed towards binning them into the desired intervals of 2Kb (since that is the aggregate size of the enhancers) ans for consistency the non-enhancer segaments shall be of the same size as well. We achieve this via **deeptools** suite, a function called [multiBAMSummary](https://deeptools.readthedocs.io/en/develop/content/tools/bamCoverage.html). "
   ]
  },
  {
   "cell_type": "code",
   "execution_count": 11,
   "metadata": {},
   "outputs": [],
   "source": [
    "## The bash script can be viewed at the terminal.\n",
    "\n",
    "system(\"bash ./terminalScripts/deepToolsmultiBAMSummaryFeatures.sh\")"
   ]
  },
  {
   "cell_type": "code",
   "execution_count": 20,
   "metadata": {},
   "outputs": [],
   "source": [
    "## Loading the output from multiBAMSummary into R.\n",
    "\n",
    "countMatrix <- read.table(\"readCountsFeatures.tab\", header = FALSE, sep=\"\\t\", quote=\"\")"
   ]
  },
  {
   "cell_type": "code",
   "execution_count": 21,
   "metadata": {},
   "outputs": [
    {
     "data": {
      "text/html": [
       "<table>\n",
       "<caption>A data.frame: 6 × 7</caption>\n",
       "<thead>\n",
       "\t<tr><th></th><th scope=col>chrom</th><th scope=col>start</th><th scope=col>end</th><th scope=col>H3K27ac</th><th scope=col>H3K4me1</th><th scope=col>H3K4me2</th><th scope=col>H3K4me3</th></tr>\n",
       "\t<tr><th></th><th scope=col>&lt;fct&gt;</th><th scope=col>&lt;int&gt;</th><th scope=col>&lt;int&gt;</th><th scope=col>&lt;dbl&gt;</th><th scope=col>&lt;dbl&gt;</th><th scope=col>&lt;dbl&gt;</th><th scope=col>&lt;dbl&gt;</th></tr>\n",
       "</thead>\n",
       "<tbody>\n",
       "\t<tr><th scope=row>1</th><td>chr1</td><td>    0</td><td> 2000</td><td>0</td><td>0</td><td>0</td><td>0</td></tr>\n",
       "\t<tr><th scope=row>2</th><td>chr1</td><td> 2000</td><td> 4000</td><td>0</td><td>0</td><td>0</td><td>0</td></tr>\n",
       "\t<tr><th scope=row>3</th><td>chr1</td><td> 4000</td><td> 6000</td><td>0</td><td>0</td><td>0</td><td>0</td></tr>\n",
       "\t<tr><th scope=row>4</th><td>chr1</td><td> 6000</td><td> 8000</td><td>0</td><td>0</td><td>0</td><td>0</td></tr>\n",
       "\t<tr><th scope=row>5</th><td>chr1</td><td> 8000</td><td>10000</td><td>0</td><td>1</td><td>0</td><td>0</td></tr>\n",
       "\t<tr><th scope=row>6</th><td>chr1</td><td>10000</td><td>12000</td><td>0</td><td>1</td><td>0</td><td>0</td></tr>\n",
       "</tbody>\n",
       "</table>\n"
      ],
      "text/latex": [
       "A data.frame: 6 × 7\n",
       "\\begin{tabular}{r|lllllll}\n",
       "  & chrom & start & end & H3K27ac & H3K4me1 & H3K4me2 & H3K4me3\\\\\n",
       "  & <fct> & <int> & <int> & <dbl> & <dbl> & <dbl> & <dbl>\\\\\n",
       "\\hline\n",
       "\t1 & chr1 &     0 &  2000 & 0 & 0 & 0 & 0\\\\\n",
       "\t2 & chr1 &  2000 &  4000 & 0 & 0 & 0 & 0\\\\\n",
       "\t3 & chr1 &  4000 &  6000 & 0 & 0 & 0 & 0\\\\\n",
       "\t4 & chr1 &  6000 &  8000 & 0 & 0 & 0 & 0\\\\\n",
       "\t5 & chr1 &  8000 & 10000 & 0 & 1 & 0 & 0\\\\\n",
       "\t6 & chr1 & 10000 & 12000 & 0 & 1 & 0 & 0\\\\\n",
       "\\end{tabular}\n"
      ],
      "text/markdown": [
       "\n",
       "A data.frame: 6 × 7\n",
       "\n",
       "| <!--/--> | chrom &lt;fct&gt; | start &lt;int&gt; | end &lt;int&gt; | H3K27ac &lt;dbl&gt; | H3K4me1 &lt;dbl&gt; | H3K4me2 &lt;dbl&gt; | H3K4me3 &lt;dbl&gt; |\n",
       "|---|---|---|---|---|---|---|---|\n",
       "| 1 | chr1 |     0 |  2000 | 0 | 0 | 0 | 0 |\n",
       "| 2 | chr1 |  2000 |  4000 | 0 | 0 | 0 | 0 |\n",
       "| 3 | chr1 |  4000 |  6000 | 0 | 0 | 0 | 0 |\n",
       "| 4 | chr1 |  6000 |  8000 | 0 | 0 | 0 | 0 |\n",
       "| 5 | chr1 |  8000 | 10000 | 0 | 1 | 0 | 0 |\n",
       "| 6 | chr1 | 10000 | 12000 | 0 | 1 | 0 | 0 |\n",
       "\n"
      ],
      "text/plain": [
       "  chrom start end   H3K27ac H3K4me1 H3K4me2 H3K4me3\n",
       "1 chr1      0  2000 0       0       0       0      \n",
       "2 chr1   2000  4000 0       0       0       0      \n",
       "3 chr1   4000  6000 0       0       0       0      \n",
       "4 chr1   6000  8000 0       0       0       0      \n",
       "5 chr1   8000 10000 0       1       0       0      \n",
       "6 chr1  10000 12000 0       1       0       0      "
      ]
     },
     "metadata": {},
     "output_type": "display_data"
    }
   ],
   "source": [
    "## Renaming columns of read counts on the order of execution\n",
    "\n",
    "colnames (countMatrix) <- c(\"chrom\", \"start\", \"end\", \"H3K27ac\",\"H3K4me1\", \"H3K4me2\", \"H3K4me3\")\n",
    "head(countMatrix)"
   ]
  },
  {
   "cell_type": "code",
   "execution_count": 22,
   "metadata": {},
   "outputs": [
    {
     "data": {
      "text/html": [
       "<table>\n",
       "<caption>A data.frame: 6 × 7</caption>\n",
       "<thead>\n",
       "\t<tr><th></th><th scope=col>chrom</th><th scope=col>start</th><th scope=col>end</th><th scope=col>H3K27ac</th><th scope=col>H3K4me1</th><th scope=col>H3K4me2</th><th scope=col>H3K4me3</th></tr>\n",
       "\t<tr><th></th><th scope=col>&lt;fct&gt;</th><th scope=col>&lt;dbl&gt;</th><th scope=col>&lt;int&gt;</th><th scope=col>&lt;dbl&gt;</th><th scope=col>&lt;dbl&gt;</th><th scope=col>&lt;dbl&gt;</th><th scope=col>&lt;dbl&gt;</th></tr>\n",
       "</thead>\n",
       "<tbody>\n",
       "\t<tr><th scope=row>1</th><td>chr1</td><td>    1</td><td> 2000</td><td>0</td><td>0</td><td>0</td><td>0</td></tr>\n",
       "\t<tr><th scope=row>2</th><td>chr1</td><td> 2001</td><td> 4000</td><td>0</td><td>0</td><td>0</td><td>0</td></tr>\n",
       "\t<tr><th scope=row>3</th><td>chr1</td><td> 4001</td><td> 6000</td><td>0</td><td>0</td><td>0</td><td>0</td></tr>\n",
       "\t<tr><th scope=row>4</th><td>chr1</td><td> 6001</td><td> 8000</td><td>0</td><td>0</td><td>0</td><td>0</td></tr>\n",
       "\t<tr><th scope=row>5</th><td>chr1</td><td> 8001</td><td>10000</td><td>0</td><td>1</td><td>0</td><td>0</td></tr>\n",
       "\t<tr><th scope=row>6</th><td>chr1</td><td>10001</td><td>12000</td><td>0</td><td>1</td><td>0</td><td>0</td></tr>\n",
       "</tbody>\n",
       "</table>\n"
      ],
      "text/latex": [
       "A data.frame: 6 × 7\n",
       "\\begin{tabular}{r|lllllll}\n",
       "  & chrom & start & end & H3K27ac & H3K4me1 & H3K4me2 & H3K4me3\\\\\n",
       "  & <fct> & <dbl> & <int> & <dbl> & <dbl> & <dbl> & <dbl>\\\\\n",
       "\\hline\n",
       "\t1 & chr1 &     1 &  2000 & 0 & 0 & 0 & 0\\\\\n",
       "\t2 & chr1 &  2001 &  4000 & 0 & 0 & 0 & 0\\\\\n",
       "\t3 & chr1 &  4001 &  6000 & 0 & 0 & 0 & 0\\\\\n",
       "\t4 & chr1 &  6001 &  8000 & 0 & 0 & 0 & 0\\\\\n",
       "\t5 & chr1 &  8001 & 10000 & 0 & 1 & 0 & 0\\\\\n",
       "\t6 & chr1 & 10001 & 12000 & 0 & 1 & 0 & 0\\\\\n",
       "\\end{tabular}\n"
      ],
      "text/markdown": [
       "\n",
       "A data.frame: 6 × 7\n",
       "\n",
       "| <!--/--> | chrom &lt;fct&gt; | start &lt;dbl&gt; | end &lt;int&gt; | H3K27ac &lt;dbl&gt; | H3K4me1 &lt;dbl&gt; | H3K4me2 &lt;dbl&gt; | H3K4me3 &lt;dbl&gt; |\n",
       "|---|---|---|---|---|---|---|---|\n",
       "| 1 | chr1 |     1 |  2000 | 0 | 0 | 0 | 0 |\n",
       "| 2 | chr1 |  2001 |  4000 | 0 | 0 | 0 | 0 |\n",
       "| 3 | chr1 |  4001 |  6000 | 0 | 0 | 0 | 0 |\n",
       "| 4 | chr1 |  6001 |  8000 | 0 | 0 | 0 | 0 |\n",
       "| 5 | chr1 |  8001 | 10000 | 0 | 1 | 0 | 0 |\n",
       "| 6 | chr1 | 10001 | 12000 | 0 | 1 | 0 | 0 |\n",
       "\n"
      ],
      "text/plain": [
       "  chrom start end   H3K27ac H3K4me1 H3K4me2 H3K4me3\n",
       "1 chr1      1  2000 0       0       0       0      \n",
       "2 chr1   2001  4000 0       0       0       0      \n",
       "3 chr1   4001  6000 0       0       0       0      \n",
       "4 chr1   6001  8000 0       0       0       0      \n",
       "5 chr1   8001 10000 0       1       0       0      \n",
       "6 chr1  10001 12000 0       1       0       0      "
      ]
     },
     "metadata": {},
     "output_type": "display_data"
    }
   ],
   "source": [
    "## To make it consistent with GREG and 1-based UCSC format.\n",
    "\n",
    "countMatrix$start <- countMatrix$start + 1 \n",
    "head(countMatrix)"
   ]
  },
  {
   "cell_type": "code",
   "execution_count": 23,
   "metadata": {},
   "outputs": [
    {
     "name": "stdout",
     "output_type": "stream",
     "text": [
      "The sum of raw counts for H3K4me1 reads is 8956558 \n",
      "The sum of raw counts for H3K4me2 reads is 11751166 \n",
      "The sum of raw counts for H3K4me3 reads is 12576587 \n",
      "The sum of raw counts for H3K27ac reads is 13818969"
     ]
    }
   ],
   "source": [
    "## The total number of reads for the corresponding epigenetic marks are worthy to note and reason the need for normalization.\n",
    "\n",
    "cat(\"The sum of raw counts for H3K4me1 reads is\", sum(countMatrix$H3K4me1),\"\\n\")\n",
    "cat(\"The sum of raw counts for H3K4me2 reads is\", sum(countMatrix$H3K4me2),\"\\n\")\n",
    "cat(\"The sum of raw counts for H3K4me3 reads is\", sum(countMatrix$H3K4me3),\"\\n\")\n",
    "cat(\"The sum of raw counts for H3K27ac reads is\", sum(countMatrix$H3K27ac))"
   ]
  },
  {
   "cell_type": "code",
   "execution_count": 24,
   "metadata": {},
   "outputs": [
    {
     "data": {
      "text/html": [
       "<table>\n",
       "<caption>A data.frame: 6 × 7</caption>\n",
       "<thead>\n",
       "\t<tr><th></th><th scope=col>chrom</th><th scope=col>start</th><th scope=col>end</th><th scope=col>H3K27ac</th><th scope=col>H3K4me1</th><th scope=col>H3K4me2</th><th scope=col>H3K4me3</th></tr>\n",
       "\t<tr><th></th><th scope=col>&lt;fct&gt;</th><th scope=col>&lt;dbl&gt;</th><th scope=col>&lt;int&gt;</th><th scope=col>&lt;dbl&gt;</th><th scope=col>&lt;dbl&gt;</th><th scope=col>&lt;dbl&gt;</th><th scope=col>&lt;dbl&gt;</th></tr>\n",
       "</thead>\n",
       "<tbody>\n",
       "\t<tr><th scope=row>1</th><td>chr1</td><td>    1</td><td> 2000</td><td>0</td><td>0.00000</td><td>0</td><td>0</td></tr>\n",
       "\t<tr><th scope=row>2</th><td>chr1</td><td> 2001</td><td> 4000</td><td>0</td><td>0.00000</td><td>0</td><td>0</td></tr>\n",
       "\t<tr><th scope=row>3</th><td>chr1</td><td> 4001</td><td> 6000</td><td>0</td><td>0.00000</td><td>0</td><td>0</td></tr>\n",
       "\t<tr><th scope=row>4</th><td>chr1</td><td> 6001</td><td> 8000</td><td>0</td><td>0.00000</td><td>0</td><td>0</td></tr>\n",
       "\t<tr><th scope=row>5</th><td>chr1</td><td> 8001</td><td>10000</td><td>0</td><td>0.11165</td><td>0</td><td>0</td></tr>\n",
       "\t<tr><th scope=row>6</th><td>chr1</td><td>10001</td><td>12000</td><td>0</td><td>0.11165</td><td>0</td><td>0</td></tr>\n",
       "</tbody>\n",
       "</table>\n"
      ],
      "text/latex": [
       "A data.frame: 6 × 7\n",
       "\\begin{tabular}{r|lllllll}\n",
       "  & chrom & start & end & H3K27ac & H3K4me1 & H3K4me2 & H3K4me3\\\\\n",
       "  & <fct> & <dbl> & <int> & <dbl> & <dbl> & <dbl> & <dbl>\\\\\n",
       "\\hline\n",
       "\t1 & chr1 &     1 &  2000 & 0 & 0.00000 & 0 & 0\\\\\n",
       "\t2 & chr1 &  2001 &  4000 & 0 & 0.00000 & 0 & 0\\\\\n",
       "\t3 & chr1 &  4001 &  6000 & 0 & 0.00000 & 0 & 0\\\\\n",
       "\t4 & chr1 &  6001 &  8000 & 0 & 0.00000 & 0 & 0\\\\\n",
       "\t5 & chr1 &  8001 & 10000 & 0 & 0.11165 & 0 & 0\\\\\n",
       "\t6 & chr1 & 10001 & 12000 & 0 & 0.11165 & 0 & 0\\\\\n",
       "\\end{tabular}\n"
      ],
      "text/markdown": [
       "\n",
       "A data.frame: 6 × 7\n",
       "\n",
       "| <!--/--> | chrom &lt;fct&gt; | start &lt;dbl&gt; | end &lt;int&gt; | H3K27ac &lt;dbl&gt; | H3K4me1 &lt;dbl&gt; | H3K4me2 &lt;dbl&gt; | H3K4me3 &lt;dbl&gt; |\n",
       "|---|---|---|---|---|---|---|---|\n",
       "| 1 | chr1 |     1 |  2000 | 0 | 0.00000 | 0 | 0 |\n",
       "| 2 | chr1 |  2001 |  4000 | 0 | 0.00000 | 0 | 0 |\n",
       "| 3 | chr1 |  4001 |  6000 | 0 | 0.00000 | 0 | 0 |\n",
       "| 4 | chr1 |  6001 |  8000 | 0 | 0.00000 | 0 | 0 |\n",
       "| 5 | chr1 |  8001 | 10000 | 0 | 0.11165 | 0 | 0 |\n",
       "| 6 | chr1 | 10001 | 12000 | 0 | 0.11165 | 0 | 0 |\n",
       "\n"
      ],
      "text/plain": [
       "  chrom start end   H3K27ac H3K4me1 H3K4me2 H3K4me3\n",
       "1 chr1      1  2000 0       0.00000 0       0      \n",
       "2 chr1   2001  4000 0       0.00000 0       0      \n",
       "3 chr1   4001  6000 0       0.00000 0       0      \n",
       "4 chr1   6001  8000 0       0.00000 0       0      \n",
       "5 chr1   8001 10000 0       0.11165 0       0      \n",
       "6 chr1  10001 12000 0       0.11165 0       0      "
      ]
     },
     "metadata": {},
     "output_type": "display_data"
    }
   ],
   "source": [
    "## We plan to normalize count data for BPM = Bins Per Million mapped reads, same as TPM in RNA-seq.\n",
    "## A simple function performs this task for us.\n",
    "\n",
    "source(\"./projectFunctions/bpmNormalize.R\")\n",
    "countMatrix$H3K4me1 <- bpmNormalize(countMatrix$H3K4me1)\n",
    "countMatrix$H3K4me2 <- bpmNormalize(countMatrix$H3K4me2)\n",
    "countMatrix$H3K4me3 <- bpmNormalize(countMatrix$H3K4me3)\n",
    "countMatrix$H3K27ac <- bpmNormalize(countMatrix$H3K27ac)\n",
    "\n",
    "## Let's check out the transformed matrix.\n",
    "head(countMatrix)"
   ]
  },
  {
   "cell_type": "code",
   "execution_count": 25,
   "metadata": {},
   "outputs": [
    {
     "name": "stdout",
     "output_type": "stream",
     "text": [
      "The sum of normalized counts for H3K4me1 reads is 1e+06 \n",
      "The sum of normalized counts for H3K4me2 reads is 1e+06 \n",
      "The sum of normalized counts for H3K4me3 reads is 1e+06 \n",
      "The sum of normalized counts for H3K27ac reads is 1e+06"
     ]
    }
   ],
   "source": [
    "## A great test for visualizing normalization is that all the columns shall now be proportionate.\n",
    "\n",
    "cat(\"The sum of normalized counts for H3K4me1 reads is\", sum(countMatrix$H3K4me1),\"\\n\")\n",
    "cat(\"The sum of normalized counts for H3K4me2 reads is\", sum(countMatrix$H3K4me2),\"\\n\")\n",
    "cat(\"The sum of normalized counts for H3K4me3 reads is\", sum(countMatrix$H3K4me3),\"\\n\")\n",
    "cat(\"The sum of normalized counts for H3K27ac reads is\", sum(countMatrix$H3K27ac))"
   ]
  },
  {
   "cell_type": "markdown",
   "metadata": {},
   "source": [
    "Cool. The above resultant normalized counts are the genome-wide coverages of the respective histone marks in the given cell (H1), for the fixed 2Kb regions."
   ]
  },
  {
   "cell_type": "markdown",
   "metadata": {},
   "source": [
    "<img src=\"./props/Data_Schema.jpg\">"
   ]
  },
  {
   "cell_type": "markdown",
   "metadata": {},
   "source": [
    "### Testing Data"
   ]
  },
  {
   "cell_type": "markdown",
   "metadata": {},
   "source": [
    "For testing purposes, we consider data only for enhancers. Even with this data alone, we shall be able to evaluate the model's veracity of predicting positive examples. "
   ]
  },
  {
   "cell_type": "markdown",
   "metadata": {},
   "source": [
    "The individual BPM levels of the histone marks are stacked together over the 2Kb intervals that represent the probable enhancers."
   ]
  },
  {
   "cell_type": "code",
   "execution_count": 26,
   "metadata": {},
   "outputs": [
    {
     "data": {
      "text/html": [
       "<table>\n",
       "<caption>A data.frame: 6 × 8</caption>\n",
       "<thead>\n",
       "\t<tr><th></th><th scope=col>chrom</th><th scope=col>start</th><th scope=col>end</th><th scope=col>H3K27ac</th><th scope=col>H3K4me1</th><th scope=col>H3K4me2</th><th scope=col>H3K4me3</th><th scope=col>Class</th></tr>\n",
       "\t<tr><th></th><th scope=col>&lt;fct&gt;</th><th scope=col>&lt;dbl&gt;</th><th scope=col>&lt;int&gt;</th><th scope=col>&lt;dbl&gt;</th><th scope=col>&lt;dbl&gt;</th><th scope=col>&lt;dbl&gt;</th><th scope=col>&lt;dbl&gt;</th><th scope=col>&lt;chr&gt;</th></tr>\n",
       "</thead>\n",
       "<tbody>\n",
       "\t<tr><th scope=row>1</th><td>chr1</td><td>    1</td><td> 2000</td><td>0</td><td>0.00000</td><td>0</td><td>0</td><td>enhancer</td></tr>\n",
       "\t<tr><th scope=row>2</th><td>chr1</td><td> 2001</td><td> 4000</td><td>0</td><td>0.00000</td><td>0</td><td>0</td><td>enhancer</td></tr>\n",
       "\t<tr><th scope=row>3</th><td>chr1</td><td> 4001</td><td> 6000</td><td>0</td><td>0.00000</td><td>0</td><td>0</td><td>enhancer</td></tr>\n",
       "\t<tr><th scope=row>4</th><td>chr1</td><td> 6001</td><td> 8000</td><td>0</td><td>0.00000</td><td>0</td><td>0</td><td>enhancer</td></tr>\n",
       "\t<tr><th scope=row>5</th><td>chr1</td><td> 8001</td><td>10000</td><td>0</td><td>0.11165</td><td>0</td><td>0</td><td>enhancer</td></tr>\n",
       "\t<tr><th scope=row>6</th><td>chr1</td><td>10001</td><td>12000</td><td>0</td><td>0.11165</td><td>0</td><td>0</td><td>enhancer</td></tr>\n",
       "</tbody>\n",
       "</table>\n"
      ],
      "text/latex": [
       "A data.frame: 6 × 8\n",
       "\\begin{tabular}{r|llllllll}\n",
       "  & chrom & start & end & H3K27ac & H3K4me1 & H3K4me2 & H3K4me3 & Class\\\\\n",
       "  & <fct> & <dbl> & <int> & <dbl> & <dbl> & <dbl> & <dbl> & <chr>\\\\\n",
       "\\hline\n",
       "\t1 & chr1 &     1 &  2000 & 0 & 0.00000 & 0 & 0 & enhancer\\\\\n",
       "\t2 & chr1 &  2001 &  4000 & 0 & 0.00000 & 0 & 0 & enhancer\\\\\n",
       "\t3 & chr1 &  4001 &  6000 & 0 & 0.00000 & 0 & 0 & enhancer\\\\\n",
       "\t4 & chr1 &  6001 &  8000 & 0 & 0.00000 & 0 & 0 & enhancer\\\\\n",
       "\t5 & chr1 &  8001 & 10000 & 0 & 0.11165 & 0 & 0 & enhancer\\\\\n",
       "\t6 & chr1 & 10001 & 12000 & 0 & 0.11165 & 0 & 0 & enhancer\\\\\n",
       "\\end{tabular}\n"
      ],
      "text/markdown": [
       "\n",
       "A data.frame: 6 × 8\n",
       "\n",
       "| <!--/--> | chrom &lt;fct&gt; | start &lt;dbl&gt; | end &lt;int&gt; | H3K27ac &lt;dbl&gt; | H3K4me1 &lt;dbl&gt; | H3K4me2 &lt;dbl&gt; | H3K4me3 &lt;dbl&gt; | Class &lt;chr&gt; |\n",
       "|---|---|---|---|---|---|---|---|---|\n",
       "| 1 | chr1 |     1 |  2000 | 0 | 0.00000 | 0 | 0 | enhancer |\n",
       "| 2 | chr1 |  2001 |  4000 | 0 | 0.00000 | 0 | 0 | enhancer |\n",
       "| 3 | chr1 |  4001 |  6000 | 0 | 0.00000 | 0 | 0 | enhancer |\n",
       "| 4 | chr1 |  6001 |  8000 | 0 | 0.00000 | 0 | 0 | enhancer |\n",
       "| 5 | chr1 |  8001 | 10000 | 0 | 0.11165 | 0 | 0 | enhancer |\n",
       "| 6 | chr1 | 10001 | 12000 | 0 | 0.11165 | 0 | 0 | enhancer |\n",
       "\n"
      ],
      "text/plain": [
       "  chrom start end   H3K27ac H3K4me1 H3K4me2 H3K4me3 Class   \n",
       "1 chr1      1  2000 0       0.00000 0       0       enhancer\n",
       "2 chr1   2001  4000 0       0.00000 0       0       enhancer\n",
       "3 chr1   4001  6000 0       0.00000 0       0       enhancer\n",
       "4 chr1   6001  8000 0       0.00000 0       0       enhancer\n",
       "5 chr1   8001 10000 0       0.11165 0       0       enhancer\n",
       "6 chr1  10001 12000 0       0.11165 0       0       enhancer"
      ]
     },
     "metadata": {},
     "output_type": "display_data"
    }
   ],
   "source": [
    "## Importing the coverage counts.\n",
    "\n",
    "countMatrix$Class <- \"enhancer\"\n",
    "head(countMatrix)\n",
    "\n",
    "\n",
    "## Identifying examples of standard chromosomes only and filtering the residuals.\n",
    "\n",
    "chromosomes <- c(\"chr1\",\"chr2\",\"chr3\",\"chr4\",\"chr5\",\"chr6\",\"chr7\",\"chr8\",\"chr9\",\"chr10\",\"chr11\",\"chr12\",\"chr13\",\"chr14\",\n",
    "                 \"chr15\", \"chr16\", \"chr17\", \"chr18\", \"chr19\", \"chr20\",\"chr21\", \"chr22\", \"chrX\", \"chrY\")\n",
    "countMatrix<- as.data.frame(countMatrix[countMatrix$chrom %in% chromosomes, ])"
   ]
  },
  {
   "cell_type": "markdown",
   "metadata": {},
   "source": [
    "As highlighted above, the counts are the BPM levels; *BPM = Bins Per Million mapped reads, same as TPM in RNA-seq*. BPM (per bin) = number of reads per bin / sum of all reads per bin (in millions)."
   ]
  },
  {
   "cell_type": "markdown",
   "metadata": {},
   "source": [
    "The deep learning model has two basic requisites with the input data.\n",
    "1. The data has to be *numeric* in type.\n",
    "2. It has to range from 0 to 1. So if it isn't already, some sort of normalization procedure can help do that. The preferred one is the min-max normalization.\n",
    "\n",
    "<p> We shall tranform the data while applying machine learning algorithms </p>"
   ]
  },
  {
   "cell_type": "markdown",
   "metadata": {},
   "source": [
    "### Positive Class"
   ]
  },
  {
   "cell_type": "markdown",
   "metadata": {},
   "source": [
    "Importing relevant data that has been preprocessed explicitly. This is for the positive class labels."
   ]
  },
  {
   "cell_type": "markdown",
   "metadata": {},
   "source": [
    "Since the positive class labels have to be featured around 2Kb intervals as well, we need to synchronise the data in accordance. The individual BAM files for the DHS and EP300 binding sites that comprehend enhancers are downloaded for the relevant cell type and sorted. The DNase-Seq data is from John Stamatoyannopoulos's laboratory at the University of Washington. "
   ]
  },
  {
   "cell_type": "code",
   "execution_count": null,
   "metadata": {},
   "outputs": [],
   "source": [
    "install.packages(\"curl\")\n",
    "library(curl)\n",
    "\n",
    "curl_download(\"https://www.encodeproject.org/files/ENCFF923SKV/@@download/ENCFF923SKV.bam\", \"ENCFF923SKV.bam\") # DNase-Seq data\n",
    "curl_download(\"https://www.encodeproject.org/files/ENCFF832OFG/@@download/ENCFF832OFG.bam\", \"ENCFF832OFG.bam\") # EP300"
   ]
  },
  {
   "cell_type": "markdown",
   "metadata": {},
   "source": [
    "Same as before, we shall index the BAM files and then proceed towards creating a matrix of read counts for this data."
   ]
  },
  {
   "cell_type": "code",
   "execution_count": 2,
   "metadata": {},
   "outputs": [],
   "source": [
    "system(\"bash ./terminalScripts/samtoolsRun.sh ENCFF923SKV.bam ENCFF832OFG.bam\")"
   ]
  },
  {
   "cell_type": "code",
   "execution_count": null,
   "metadata": {},
   "outputs": [],
   "source": [
    "system(\"bash ./terminalScripts/deepToolsmultiBAMSummary.sh *.bam\")"
   ]
  },
  {
   "cell_type": "markdown",
   "metadata": {},
   "source": [
    "Let us import the coverage matrix now."
   ]
  },
  {
   "cell_type": "code",
   "execution_count": 2,
   "metadata": {},
   "outputs": [],
   "source": [
    "## Loading the output from multiBAMSummary into R.\n",
    "\n",
    "countMatrixPositiveClass <- read.table(\"readCounts.tab\", header = FALSE, sep=\"\\t\", quote=\"\")"
   ]
  },
  {
   "cell_type": "code",
   "execution_count": 3,
   "metadata": {},
   "outputs": [
    {
     "data": {
      "text/html": [
       "<table>\n",
       "<caption>A data.frame: 6 × 5</caption>\n",
       "<thead>\n",
       "\t<tr><th></th><th scope=col>chrom</th><th scope=col>start</th><th scope=col>end</th><th scope=col>EP300</th><th scope=col>DHS</th></tr>\n",
       "\t<tr><th></th><th scope=col>&lt;fct&gt;</th><th scope=col>&lt;int&gt;</th><th scope=col>&lt;int&gt;</th><th scope=col>&lt;dbl&gt;</th><th scope=col>&lt;dbl&gt;</th></tr>\n",
       "</thead>\n",
       "<tbody>\n",
       "\t<tr><th scope=row>1</th><td>chr1</td><td>    0</td><td> 2000</td><td>0</td><td> 0</td></tr>\n",
       "\t<tr><th scope=row>2</th><td>chr1</td><td> 2000</td><td> 4000</td><td>0</td><td> 0</td></tr>\n",
       "\t<tr><th scope=row>3</th><td>chr1</td><td> 4000</td><td> 6000</td><td>0</td><td> 0</td></tr>\n",
       "\t<tr><th scope=row>4</th><td>chr1</td><td> 6000</td><td> 8000</td><td>0</td><td> 0</td></tr>\n",
       "\t<tr><th scope=row>5</th><td>chr1</td><td> 8000</td><td>10000</td><td>3</td><td> 0</td></tr>\n",
       "\t<tr><th scope=row>6</th><td>chr1</td><td>10000</td><td>12000</td><td>5</td><td>16</td></tr>\n",
       "</tbody>\n",
       "</table>\n"
      ],
      "text/latex": [
       "A data.frame: 6 × 5\n",
       "\\begin{tabular}{r|lllll}\n",
       "  & chrom & start & end & EP300 & DHS\\\\\n",
       "  & <fct> & <int> & <int> & <dbl> & <dbl>\\\\\n",
       "\\hline\n",
       "\t1 & chr1 &     0 &  2000 & 0 &  0\\\\\n",
       "\t2 & chr1 &  2000 &  4000 & 0 &  0\\\\\n",
       "\t3 & chr1 &  4000 &  6000 & 0 &  0\\\\\n",
       "\t4 & chr1 &  6000 &  8000 & 0 &  0\\\\\n",
       "\t5 & chr1 &  8000 & 10000 & 3 &  0\\\\\n",
       "\t6 & chr1 & 10000 & 12000 & 5 & 16\\\\\n",
       "\\end{tabular}\n"
      ],
      "text/markdown": [
       "\n",
       "A data.frame: 6 × 5\n",
       "\n",
       "| <!--/--> | chrom &lt;fct&gt; | start &lt;int&gt; | end &lt;int&gt; | EP300 &lt;dbl&gt; | DHS &lt;dbl&gt; |\n",
       "|---|---|---|---|---|---|\n",
       "| 1 | chr1 |     0 |  2000 | 0 |  0 |\n",
       "| 2 | chr1 |  2000 |  4000 | 0 |  0 |\n",
       "| 3 | chr1 |  4000 |  6000 | 0 |  0 |\n",
       "| 4 | chr1 |  6000 |  8000 | 0 |  0 |\n",
       "| 5 | chr1 |  8000 | 10000 | 3 |  0 |\n",
       "| 6 | chr1 | 10000 | 12000 | 5 | 16 |\n",
       "\n"
      ],
      "text/plain": [
       "  chrom start end   EP300 DHS\n",
       "1 chr1      0  2000 0      0 \n",
       "2 chr1   2000  4000 0      0 \n",
       "3 chr1   4000  6000 0      0 \n",
       "4 chr1   6000  8000 0      0 \n",
       "5 chr1   8000 10000 3      0 \n",
       "6 chr1  10000 12000 5     16 "
      ]
     },
     "metadata": {},
     "output_type": "display_data"
    }
   ],
   "source": [
    "## Renaming columns of read counts on the order of execution\n",
    "\n",
    "colnames (countMatrixPositiveClass) <- c(\"chrom\", \"start\", \"end\", \"EP300\", \"DHS\")\n",
    "head(countMatrixPositiveClass)"
   ]
  },
  {
   "cell_type": "code",
   "execution_count": 4,
   "metadata": {},
   "outputs": [
    {
     "data": {
      "text/html": [
       "<table>\n",
       "<caption>A data.frame: 6 × 5</caption>\n",
       "<thead>\n",
       "\t<tr><th></th><th scope=col>chrom</th><th scope=col>start</th><th scope=col>end</th><th scope=col>EP300</th><th scope=col>DHS</th></tr>\n",
       "\t<tr><th></th><th scope=col>&lt;fct&gt;</th><th scope=col>&lt;int&gt;</th><th scope=col>&lt;int&gt;</th><th scope=col>&lt;dbl&gt;</th><th scope=col>&lt;dbl&gt;</th></tr>\n",
       "</thead>\n",
       "<tbody>\n",
       "\t<tr><th scope=row>1</th><td>chr1</td><td>    0</td><td> 2000</td><td>0.0000000</td><td>0.000000</td></tr>\n",
       "\t<tr><th scope=row>2</th><td>chr1</td><td> 2000</td><td> 4000</td><td>0.0000000</td><td>0.000000</td></tr>\n",
       "\t<tr><th scope=row>3</th><td>chr1</td><td> 4000</td><td> 6000</td><td>0.0000000</td><td>0.000000</td></tr>\n",
       "\t<tr><th scope=row>4</th><td>chr1</td><td> 6000</td><td> 8000</td><td>0.0000000</td><td>0.000000</td></tr>\n",
       "\t<tr><th scope=row>5</th><td>chr1</td><td> 8000</td><td>10000</td><td>0.2151464</td><td>0.000000</td></tr>\n",
       "\t<tr><th scope=row>6</th><td>chr1</td><td>10000</td><td>12000</td><td>0.3585773</td><td>0.648919</td></tr>\n",
       "</tbody>\n",
       "</table>\n"
      ],
      "text/latex": [
       "A data.frame: 6 × 5\n",
       "\\begin{tabular}{r|lllll}\n",
       "  & chrom & start & end & EP300 & DHS\\\\\n",
       "  & <fct> & <int> & <int> & <dbl> & <dbl>\\\\\n",
       "\\hline\n",
       "\t1 & chr1 &     0 &  2000 & 0.0000000 & 0.000000\\\\\n",
       "\t2 & chr1 &  2000 &  4000 & 0.0000000 & 0.000000\\\\\n",
       "\t3 & chr1 &  4000 &  6000 & 0.0000000 & 0.000000\\\\\n",
       "\t4 & chr1 &  6000 &  8000 & 0.0000000 & 0.000000\\\\\n",
       "\t5 & chr1 &  8000 & 10000 & 0.2151464 & 0.000000\\\\\n",
       "\t6 & chr1 & 10000 & 12000 & 0.3585773 & 0.648919\\\\\n",
       "\\end{tabular}\n"
      ],
      "text/markdown": [
       "\n",
       "A data.frame: 6 × 5\n",
       "\n",
       "| <!--/--> | chrom &lt;fct&gt; | start &lt;int&gt; | end &lt;int&gt; | EP300 &lt;dbl&gt; | DHS &lt;dbl&gt; |\n",
       "|---|---|---|---|---|---|\n",
       "| 1 | chr1 |     0 |  2000 | 0.0000000 | 0.000000 |\n",
       "| 2 | chr1 |  2000 |  4000 | 0.0000000 | 0.000000 |\n",
       "| 3 | chr1 |  4000 |  6000 | 0.0000000 | 0.000000 |\n",
       "| 4 | chr1 |  6000 |  8000 | 0.0000000 | 0.000000 |\n",
       "| 5 | chr1 |  8000 | 10000 | 0.2151464 | 0.000000 |\n",
       "| 6 | chr1 | 10000 | 12000 | 0.3585773 | 0.648919 |\n",
       "\n"
      ],
      "text/plain": [
       "  chrom start end   EP300     DHS     \n",
       "1 chr1      0  2000 0.0000000 0.000000\n",
       "2 chr1   2000  4000 0.0000000 0.000000\n",
       "3 chr1   4000  6000 0.0000000 0.000000\n",
       "4 chr1   6000  8000 0.0000000 0.000000\n",
       "5 chr1   8000 10000 0.2151464 0.000000\n",
       "6 chr1  10000 12000 0.3585773 0.648919"
      ]
     },
     "metadata": {},
     "output_type": "display_data"
    }
   ],
   "source": [
    "## We plan to normalize count data for BPM = Bins Per Million mapped reads, same as TPM in RNA-seq.\n",
    "## A simple function performs this task for us.\n",
    "\n",
    "source(\"./projectFunctions/bpmNormalize.R\")\n",
    "countMatrixPositiveClass$EP300 <- bpmNormalize(countMatrixPositiveClass$EP300)\n",
    "countMatrixPositiveClass$DHS <- bpmNormalize(countMatrixPositiveClass$DHS)\n",
    "\n",
    "## Let's check out the transformed matrix.\n",
    "head(countMatrixPositiveClass)"
   ]
  },
  {
   "cell_type": "markdown",
   "metadata": {},
   "source": [
    "Just missed augmenting the \"start\" index by 1. We can do it now."
   ]
  },
  {
   "cell_type": "code",
   "execution_count": 5,
   "metadata": {},
   "outputs": [
    {
     "data": {
      "text/html": [
       "<table>\n",
       "<caption>A data.frame: 6 × 5</caption>\n",
       "<thead>\n",
       "\t<tr><th></th><th scope=col>chrom</th><th scope=col>start</th><th scope=col>end</th><th scope=col>EP300</th><th scope=col>DHS</th></tr>\n",
       "\t<tr><th></th><th scope=col>&lt;fct&gt;</th><th scope=col>&lt;dbl&gt;</th><th scope=col>&lt;int&gt;</th><th scope=col>&lt;dbl&gt;</th><th scope=col>&lt;dbl&gt;</th></tr>\n",
       "</thead>\n",
       "<tbody>\n",
       "\t<tr><th scope=row>1</th><td>chr1</td><td>    1</td><td> 2000</td><td>0.0000000</td><td>0.000000</td></tr>\n",
       "\t<tr><th scope=row>2</th><td>chr1</td><td> 2001</td><td> 4000</td><td>0.0000000</td><td>0.000000</td></tr>\n",
       "\t<tr><th scope=row>3</th><td>chr1</td><td> 4001</td><td> 6000</td><td>0.0000000</td><td>0.000000</td></tr>\n",
       "\t<tr><th scope=row>4</th><td>chr1</td><td> 6001</td><td> 8000</td><td>0.0000000</td><td>0.000000</td></tr>\n",
       "\t<tr><th scope=row>5</th><td>chr1</td><td> 8001</td><td>10000</td><td>0.2151464</td><td>0.000000</td></tr>\n",
       "\t<tr><th scope=row>6</th><td>chr1</td><td>10001</td><td>12000</td><td>0.3585773</td><td>0.648919</td></tr>\n",
       "</tbody>\n",
       "</table>\n"
      ],
      "text/latex": [
       "A data.frame: 6 × 5\n",
       "\\begin{tabular}{r|lllll}\n",
       "  & chrom & start & end & EP300 & DHS\\\\\n",
       "  & <fct> & <dbl> & <int> & <dbl> & <dbl>\\\\\n",
       "\\hline\n",
       "\t1 & chr1 &     1 &  2000 & 0.0000000 & 0.000000\\\\\n",
       "\t2 & chr1 &  2001 &  4000 & 0.0000000 & 0.000000\\\\\n",
       "\t3 & chr1 &  4001 &  6000 & 0.0000000 & 0.000000\\\\\n",
       "\t4 & chr1 &  6001 &  8000 & 0.0000000 & 0.000000\\\\\n",
       "\t5 & chr1 &  8001 & 10000 & 0.2151464 & 0.000000\\\\\n",
       "\t6 & chr1 & 10001 & 12000 & 0.3585773 & 0.648919\\\\\n",
       "\\end{tabular}\n"
      ],
      "text/markdown": [
       "\n",
       "A data.frame: 6 × 5\n",
       "\n",
       "| <!--/--> | chrom &lt;fct&gt; | start &lt;dbl&gt; | end &lt;int&gt; | EP300 &lt;dbl&gt; | DHS &lt;dbl&gt; |\n",
       "|---|---|---|---|---|---|\n",
       "| 1 | chr1 |     1 |  2000 | 0.0000000 | 0.000000 |\n",
       "| 2 | chr1 |  2001 |  4000 | 0.0000000 | 0.000000 |\n",
       "| 3 | chr1 |  4001 |  6000 | 0.0000000 | 0.000000 |\n",
       "| 4 | chr1 |  6001 |  8000 | 0.0000000 | 0.000000 |\n",
       "| 5 | chr1 |  8001 | 10000 | 0.2151464 | 0.000000 |\n",
       "| 6 | chr1 | 10001 | 12000 | 0.3585773 | 0.648919 |\n",
       "\n"
      ],
      "text/plain": [
       "  chrom start end   EP300     DHS     \n",
       "1 chr1      1  2000 0.0000000 0.000000\n",
       "2 chr1   2001  4000 0.0000000 0.000000\n",
       "3 chr1   4001  6000 0.0000000 0.000000\n",
       "4 chr1   6001  8000 0.0000000 0.000000\n",
       "5 chr1   8001 10000 0.2151464 0.000000\n",
       "6 chr1  10001 12000 0.3585773 0.648919"
      ]
     },
     "metadata": {},
     "output_type": "display_data"
    }
   ],
   "source": [
    "countMatrixPositiveClass$start <- countMatrixPositiveClass$start +1\n",
    "head(countMatrixPositiveClass)"
   ]
  },
  {
   "cell_type": "markdown",
   "metadata": {},
   "source": [
    "Now, to define enhancer regions we identify those entries in *countMatrixPositiveClass* that have valid coverges for both the marks, i.e. non-zero."
   ]
  },
  {
   "cell_type": "code",
   "execution_count": 8,
   "metadata": {},
   "outputs": [],
   "source": [
    "# countMatrixPositiveClass <- countMatrixPositiveClass[countMatrixPositiveClass$EP300 !=0 & countMatrixPositiveClass$DHS!=0, ]"
   ]
  },
  {
   "cell_type": "markdown",
   "metadata": {},
   "source": [
    "#### Transcription Start Sites  (TSS)"
   ]
  },
  {
   "cell_type": "markdown",
   "metadata": {},
   "source": [
    "According to Wikipedia, an enhancer is a short (50-1500 bp) region of the DNA that can be bound by proteins. They can be located quite far from the promoter sequences of the genes that house the TSS. The transcription start sites' indices (start and end positions) are 'constant' throughout the genome. The gene positioning is the same across, rather the discrepenacy in distinct cell types is with the set of genes that get regulated. One source of downloading the TSS data is 'Ensembl Biomart'. <br>\n",
    "> Step 1: Choose 'Human genes' under 'Dataset' tab on the left pane. <br> <br>\n",
    "> Step 2: Under 'Attributes', select <br>\n",
    "    (i) Chromosome/ scaffold name <br>\n",
    "    (ii) Transcript start (bp) <br>\n",
    "    (iii) Transcript end (bp) <br> <br>\n",
    "> Step 3: Click on 'Results' button and download appropriately. <br>  \n",
    "The other sources are refTSS and DBTSS databases. <br>"
   ]
  },
  {
   "cell_type": "code",
   "execution_count": null,
   "metadata": {},
   "outputs": [],
   "source": [
    "## Let's pull the TSS sites\n",
    "\n",
    "tss_sites <- read.table(\"./data/H1_Cell_Line/TSS_Indices_Human_Genome.txt\", sep = \"\\t\", header = TRUE)\n",
    "tss_sites$Chromosome.scaffold.name <- paste0(\"chr\", tss_sites$Chromosome.scaffold.name)\n",
    "tss_sites <- as.data.frame(tss_sites[tss_sites$Chromosome.scaffold.name  %in% chromosomes, ])\n",
    "tss_sites <- tss_sites[order(tss_sites$Chromosome.scaffold.name),]\n",
    "colnames(tss_sites) <- c(\"chrom\", \"start\", \"end\")\n",
    "write.table(tss_sites, \"tss.bed\", sep = \"\\t\", quote = FALSE, row.names = FALSE)\n",
    "\n",
    "## Also save the genomic regions in question(2K bins) as query regions.\n",
    "write.table(countMatrixPositiveClass[,1:3], \"bins2k.bed\", sep = \"\\t\", quote = FALSE, row.names = FALSE)\n",
    "\n",
    "## Apply coverageBed tool to find the TSS regions overlapping the query intervals.\n",
    "system(\"coverageBed -a bins2k.bed -b tss.bed > tss2k.bed\")"
   ]
  },
  {
   "cell_type": "code",
   "execution_count": 7,
   "metadata": {},
   "outputs": [
    {
     "data": {
      "text/html": [
       "<table>\n",
       "<caption>A data.frame: 6 × 4</caption>\n",
       "<thead>\n",
       "\t<tr><th></th><th scope=col>chrom</th><th scope=col>start</th><th scope=col>end</th><th scope=col>TSS</th></tr>\n",
       "\t<tr><th></th><th scope=col>&lt;fct&gt;</th><th scope=col>&lt;int&gt;</th><th scope=col>&lt;int&gt;</th><th scope=col>&lt;dbl&gt;</th></tr>\n",
       "</thead>\n",
       "<tbody>\n",
       "\t<tr><th scope=row>1</th><td>chr1</td><td>    1</td><td> 2000</td><td>0.0000000</td></tr>\n",
       "\t<tr><th scope=row>2</th><td>chr1</td><td> 2001</td><td> 4000</td><td>0.0000000</td></tr>\n",
       "\t<tr><th scope=row>3</th><td>chr1</td><td> 4001</td><td> 6000</td><td>0.0000000</td></tr>\n",
       "\t<tr><th scope=row>4</th><td>chr1</td><td> 6001</td><td> 8000</td><td>0.0000000</td></tr>\n",
       "\t<tr><th scope=row>5</th><td>chr1</td><td> 8001</td><td>10000</td><td>0.0000000</td></tr>\n",
       "\t<tr><th scope=row>6</th><td>chr1</td><td>10001</td><td>12000</td><td>0.2499863</td></tr>\n",
       "</tbody>\n",
       "</table>\n"
      ],
      "text/latex": [
       "A data.frame: 6 × 4\n",
       "\\begin{tabular}{r|llll}\n",
       "  & chrom & start & end & TSS\\\\\n",
       "  & <fct> & <int> & <int> & <dbl>\\\\\n",
       "\\hline\n",
       "\t1 & chr1 &     1 &  2000 & 0.0000000\\\\\n",
       "\t2 & chr1 &  2001 &  4000 & 0.0000000\\\\\n",
       "\t3 & chr1 &  4001 &  6000 & 0.0000000\\\\\n",
       "\t4 & chr1 &  6001 &  8000 & 0.0000000\\\\\n",
       "\t5 & chr1 &  8001 & 10000 & 0.0000000\\\\\n",
       "\t6 & chr1 & 10001 & 12000 & 0.2499863\\\\\n",
       "\\end{tabular}\n"
      ],
      "text/markdown": [
       "\n",
       "A data.frame: 6 × 4\n",
       "\n",
       "| <!--/--> | chrom &lt;fct&gt; | start &lt;int&gt; | end &lt;int&gt; | TSS &lt;dbl&gt; |\n",
       "|---|---|---|---|---|\n",
       "| 1 | chr1 |     1 |  2000 | 0.0000000 |\n",
       "| 2 | chr1 |  2001 |  4000 | 0.0000000 |\n",
       "| 3 | chr1 |  4001 |  6000 | 0.0000000 |\n",
       "| 4 | chr1 |  6001 |  8000 | 0.0000000 |\n",
       "| 5 | chr1 |  8001 | 10000 | 0.0000000 |\n",
       "| 6 | chr1 | 10001 | 12000 | 0.2499863 |\n",
       "\n"
      ],
      "text/plain": [
       "  chrom start end   TSS      \n",
       "1 chr1      1  2000 0.0000000\n",
       "2 chr1   2001  4000 0.0000000\n",
       "3 chr1   4001  6000 0.0000000\n",
       "4 chr1   6001  8000 0.0000000\n",
       "5 chr1   8001 10000 0.0000000\n",
       "6 chr1  10001 12000 0.2499863"
      ]
     },
     "metadata": {},
     "output_type": "display_data"
    }
   ],
   "source": [
    "## Reading the file and extracting overlap-only information.\n",
    "tss2k <- read.table(\"tss2k.bed\")\n",
    "tss2k <- tss2k[, 1:4]\n",
    "colnames(tss2k) <- c(\"chrom\", \"start\", \"end\", \"TSS\")\n",
    "source(\"./projectFunctions/bpmNormalize.R\")\n",
    "tss2k$TSS <- bpmNormalize(tss2k$TSS)\n",
    "head(tss2k)"
   ]
  },
  {
   "cell_type": "markdown",
   "metadata": {},
   "source": [
    "As illustrated above, the DHS sites represent the open chromatin regions that are susceptible to protein bindings. Concurrently, p300 is a protein complex that is ranked high as a biomarker for enhancer regions. The probability that an intersection of p300 binding sites and open chromatin regions envisage enhancers is expounded here such that an enhancer is defined as a bin with non- zero EP300 and DHS values and a zero TSS value."
   ]
  },
  {
   "cell_type": "code",
   "execution_count": 23,
   "metadata": {},
   "outputs": [
    {
     "data": {
      "text/html": [
       "<table>\n",
       "<caption>A data.frame: 6 × 6</caption>\n",
       "<thead>\n",
       "\t<tr><th></th><th scope=col>chrom</th><th scope=col>start</th><th scope=col>end</th><th scope=col>EP300</th><th scope=col>DHS</th><th scope=col>TSS</th></tr>\n",
       "\t<tr><th></th><th scope=col>&lt;fct&gt;</th><th scope=col>&lt;dbl&gt;</th><th scope=col>&lt;int&gt;</th><th scope=col>&lt;dbl&gt;</th><th scope=col>&lt;dbl&gt;</th><th scope=col>&lt;dbl&gt;</th></tr>\n",
       "</thead>\n",
       "<tbody>\n",
       "\t<tr><th scope=row>1</th><td>chr1</td><td>    1</td><td> 2000</td><td>0.0000000</td><td>0.000000</td><td>0.0000000</td></tr>\n",
       "\t<tr><th scope=row>2</th><td>chr1</td><td> 2001</td><td> 4000</td><td>0.0000000</td><td>0.000000</td><td>0.0000000</td></tr>\n",
       "\t<tr><th scope=row>3</th><td>chr1</td><td> 4001</td><td> 6000</td><td>0.0000000</td><td>0.000000</td><td>0.0000000</td></tr>\n",
       "\t<tr><th scope=row>4</th><td>chr1</td><td> 6001</td><td> 8000</td><td>0.0000000</td><td>0.000000</td><td>0.0000000</td></tr>\n",
       "\t<tr><th scope=row>5</th><td>chr1</td><td> 8001</td><td>10000</td><td>0.2151464</td><td>0.000000</td><td>0.0000000</td></tr>\n",
       "\t<tr><th scope=row>6</th><td>chr1</td><td>10001</td><td>12000</td><td>0.3585773</td><td>0.648919</td><td>0.2499863</td></tr>\n",
       "</tbody>\n",
       "</table>\n"
      ],
      "text/latex": [
       "A data.frame: 6 × 6\n",
       "\\begin{tabular}{r|llllll}\n",
       "  & chrom & start & end & EP300 & DHS & TSS\\\\\n",
       "  & <fct> & <dbl> & <int> & <dbl> & <dbl> & <dbl>\\\\\n",
       "\\hline\n",
       "\t1 & chr1 &     1 &  2000 & 0.0000000 & 0.000000 & 0.0000000\\\\\n",
       "\t2 & chr1 &  2001 &  4000 & 0.0000000 & 0.000000 & 0.0000000\\\\\n",
       "\t3 & chr1 &  4001 &  6000 & 0.0000000 & 0.000000 & 0.0000000\\\\\n",
       "\t4 & chr1 &  6001 &  8000 & 0.0000000 & 0.000000 & 0.0000000\\\\\n",
       "\t5 & chr1 &  8001 & 10000 & 0.2151464 & 0.000000 & 0.0000000\\\\\n",
       "\t6 & chr1 & 10001 & 12000 & 0.3585773 & 0.648919 & 0.2499863\\\\\n",
       "\\end{tabular}\n"
      ],
      "text/markdown": [
       "\n",
       "A data.frame: 6 × 6\n",
       "\n",
       "| <!--/--> | chrom &lt;fct&gt; | start &lt;dbl&gt; | end &lt;int&gt; | EP300 &lt;dbl&gt; | DHS &lt;dbl&gt; | TSS &lt;dbl&gt; |\n",
       "|---|---|---|---|---|---|---|\n",
       "| 1 | chr1 |     1 |  2000 | 0.0000000 | 0.000000 | 0.0000000 |\n",
       "| 2 | chr1 |  2001 |  4000 | 0.0000000 | 0.000000 | 0.0000000 |\n",
       "| 3 | chr1 |  4001 |  6000 | 0.0000000 | 0.000000 | 0.0000000 |\n",
       "| 4 | chr1 |  6001 |  8000 | 0.0000000 | 0.000000 | 0.0000000 |\n",
       "| 5 | chr1 |  8001 | 10000 | 0.2151464 | 0.000000 | 0.0000000 |\n",
       "| 6 | chr1 | 10001 | 12000 | 0.3585773 | 0.648919 | 0.2499863 |\n",
       "\n"
      ],
      "text/plain": [
       "  chrom start end   EP300     DHS      TSS      \n",
       "1 chr1      1  2000 0.0000000 0.000000 0.0000000\n",
       "2 chr1   2001  4000 0.0000000 0.000000 0.0000000\n",
       "3 chr1   4001  6000 0.0000000 0.000000 0.0000000\n",
       "4 chr1   6001  8000 0.0000000 0.000000 0.0000000\n",
       "5 chr1   8001 10000 0.2151464 0.000000 0.0000000\n",
       "6 chr1  10001 12000 0.3585773 0.648919 0.2499863"
      ]
     },
     "metadata": {},
     "output_type": "display_data"
    }
   ],
   "source": [
    "positiveClass <- cbind(countMatrixPositiveClass, tss2k$TSS)\n",
    "colnames(positiveClass)[6] <- \"TSS\"\n",
    "head(positiveClass)"
   ]
  },
  {
   "cell_type": "code",
   "execution_count": 57,
   "metadata": {},
   "outputs": [
    {
     "data": {
      "text/html": [
       "<table>\n",
       "<caption>A data.frame: 6 × 7</caption>\n",
       "<thead>\n",
       "\t<tr><th></th><th scope=col>chrom</th><th scope=col>start</th><th scope=col>end</th><th scope=col>EP300</th><th scope=col>DHS</th><th scope=col>TSS</th><th scope=col>Class</th></tr>\n",
       "\t<tr><th></th><th scope=col>&lt;fct&gt;</th><th scope=col>&lt;dbl&gt;</th><th scope=col>&lt;int&gt;</th><th scope=col>&lt;dbl&gt;</th><th scope=col>&lt;dbl&gt;</th><th scope=col>&lt;dbl&gt;</th><th scope=col>&lt;chr&gt;</th></tr>\n",
       "</thead>\n",
       "<tbody>\n",
       "\t<tr><th scope=row>1</th><td>chr1</td><td>    1</td><td> 2000</td><td>0.0000000</td><td>0.000000</td><td>0.0000000</td><td>NA</td></tr>\n",
       "\t<tr><th scope=row>2</th><td>chr1</td><td> 2001</td><td> 4000</td><td>0.0000000</td><td>0.000000</td><td>0.0000000</td><td>NA</td></tr>\n",
       "\t<tr><th scope=row>3</th><td>chr1</td><td> 4001</td><td> 6000</td><td>0.0000000</td><td>0.000000</td><td>0.0000000</td><td>NA</td></tr>\n",
       "\t<tr><th scope=row>4</th><td>chr1</td><td> 6001</td><td> 8000</td><td>0.0000000</td><td>0.000000</td><td>0.0000000</td><td>NA</td></tr>\n",
       "\t<tr><th scope=row>5</th><td>chr1</td><td> 8001</td><td>10000</td><td>0.2151464</td><td>0.000000</td><td>0.0000000</td><td>NA</td></tr>\n",
       "\t<tr><th scope=row>6</th><td>chr1</td><td>10001</td><td>12000</td><td>0.3585773</td><td>0.648919</td><td>0.2499863</td><td>NA</td></tr>\n",
       "</tbody>\n",
       "</table>\n"
      ],
      "text/latex": [
       "A data.frame: 6 × 7\n",
       "\\begin{tabular}{r|lllllll}\n",
       "  & chrom & start & end & EP300 & DHS & TSS & Class\\\\\n",
       "  & <fct> & <dbl> & <int> & <dbl> & <dbl> & <dbl> & <chr>\\\\\n",
       "\\hline\n",
       "\t1 & chr1 &     1 &  2000 & 0.0000000 & 0.000000 & 0.0000000 & NA\\\\\n",
       "\t2 & chr1 &  2001 &  4000 & 0.0000000 & 0.000000 & 0.0000000 & NA\\\\\n",
       "\t3 & chr1 &  4001 &  6000 & 0.0000000 & 0.000000 & 0.0000000 & NA\\\\\n",
       "\t4 & chr1 &  6001 &  8000 & 0.0000000 & 0.000000 & 0.0000000 & NA\\\\\n",
       "\t5 & chr1 &  8001 & 10000 & 0.2151464 & 0.000000 & 0.0000000 & NA\\\\\n",
       "\t6 & chr1 & 10001 & 12000 & 0.3585773 & 0.648919 & 0.2499863 & NA\\\\\n",
       "\\end{tabular}\n"
      ],
      "text/markdown": [
       "\n",
       "A data.frame: 6 × 7\n",
       "\n",
       "| <!--/--> | chrom &lt;fct&gt; | start &lt;dbl&gt; | end &lt;int&gt; | EP300 &lt;dbl&gt; | DHS &lt;dbl&gt; | TSS &lt;dbl&gt; | Class &lt;chr&gt; |\n",
       "|---|---|---|---|---|---|---|---|\n",
       "| 1 | chr1 |     1 |  2000 | 0.0000000 | 0.000000 | 0.0000000 | NA |\n",
       "| 2 | chr1 |  2001 |  4000 | 0.0000000 | 0.000000 | 0.0000000 | NA |\n",
       "| 3 | chr1 |  4001 |  6000 | 0.0000000 | 0.000000 | 0.0000000 | NA |\n",
       "| 4 | chr1 |  6001 |  8000 | 0.0000000 | 0.000000 | 0.0000000 | NA |\n",
       "| 5 | chr1 |  8001 | 10000 | 0.2151464 | 0.000000 | 0.0000000 | NA |\n",
       "| 6 | chr1 | 10001 | 12000 | 0.3585773 | 0.648919 | 0.2499863 | NA |\n",
       "\n"
      ],
      "text/plain": [
       "  chrom start end   EP300     DHS      TSS       Class\n",
       "1 chr1      1  2000 0.0000000 0.000000 0.0000000 NA   \n",
       "2 chr1   2001  4000 0.0000000 0.000000 0.0000000 NA   \n",
       "3 chr1   4001  6000 0.0000000 0.000000 0.0000000 NA   \n",
       "4 chr1   6001  8000 0.0000000 0.000000 0.0000000 NA   \n",
       "5 chr1   8001 10000 0.2151464 0.000000 0.0000000 NA   \n",
       "6 chr1  10001 12000 0.3585773 0.648919 0.2499863 NA   "
      ]
     },
     "metadata": {},
     "output_type": "display_data"
    }
   ],
   "source": [
    "## Add class to the data: \"Enhancer\"\n",
    "\n",
    "class <- ifelse(positiveClass$EP300 !=0 & positiveClass$DHS !=0 & positiveClass$TSS ==0, \"Enhancer\", NA)\n",
    "positiveClass$Class <- class\n",
    "head(positiveClass)"
   ]
  },
  {
   "cell_type": "code",
   "execution_count": 63,
   "metadata": {},
   "outputs": [
    {
     "data": {
      "text/plain": [
       "\n",
       "Enhancer \n",
       "  541201 "
      ]
     },
     "metadata": {},
     "output_type": "display_data"
    }
   ],
   "source": [
    "table(positiveClass$Class)"
   ]
  },
  {
   "cell_type": "markdown",
   "metadata": {},
   "source": [
    "Now, for the negative class labels, i.e. non-enhancers."
   ]
  },
  {
   "cell_type": "markdown",
   "metadata": {},
   "source": [
    "### Negative Class Labels"
   ]
  },
  {
   "cell_type": "markdown",
   "metadata": {},
   "source": [
    "As depicted in the previous graphic, for negative class, i.e. non-enhancers, we intend to build a compendium of an intersection of TSS and DHS, alongwith random tracks from the genome that are distal to p300 and TSS sites, serving as a background. "
   ]
  },
  {
   "cell_type": "code",
   "execution_count": 26,
   "metadata": {},
   "outputs": [
    {
     "data": {
      "text/html": [
       "<table>\n",
       "<caption>A data.frame: 6 × 5</caption>\n",
       "<thead>\n",
       "\t<tr><th></th><th scope=col>chrom</th><th scope=col>start</th><th scope=col>end</th><th scope=col>DHS</th><th scope=col>TSS</th></tr>\n",
       "\t<tr><th></th><th scope=col>&lt;fct&gt;</th><th scope=col>&lt;dbl&gt;</th><th scope=col>&lt;int&gt;</th><th scope=col>&lt;dbl&gt;</th><th scope=col>&lt;dbl&gt;</th></tr>\n",
       "</thead>\n",
       "<tbody>\n",
       "\t<tr><th scope=row>1</th><td>chr1</td><td>    1</td><td> 2000</td><td>0.000000</td><td>0.0000000</td></tr>\n",
       "\t<tr><th scope=row>2</th><td>chr1</td><td> 2001</td><td> 4000</td><td>0.000000</td><td>0.0000000</td></tr>\n",
       "\t<tr><th scope=row>3</th><td>chr1</td><td> 4001</td><td> 6000</td><td>0.000000</td><td>0.0000000</td></tr>\n",
       "\t<tr><th scope=row>4</th><td>chr1</td><td> 6001</td><td> 8000</td><td>0.000000</td><td>0.0000000</td></tr>\n",
       "\t<tr><th scope=row>5</th><td>chr1</td><td> 8001</td><td>10000</td><td>0.000000</td><td>0.0000000</td></tr>\n",
       "\t<tr><th scope=row>6</th><td>chr1</td><td>10001</td><td>12000</td><td>0.648919</td><td>0.2499863</td></tr>\n",
       "</tbody>\n",
       "</table>\n"
      ],
      "text/latex": [
       "A data.frame: 6 × 5\n",
       "\\begin{tabular}{r|lllll}\n",
       "  & chrom & start & end & DHS & TSS\\\\\n",
       "  & <fct> & <dbl> & <int> & <dbl> & <dbl>\\\\\n",
       "\\hline\n",
       "\t1 & chr1 &     1 &  2000 & 0.000000 & 0.0000000\\\\\n",
       "\t2 & chr1 &  2001 &  4000 & 0.000000 & 0.0000000\\\\\n",
       "\t3 & chr1 &  4001 &  6000 & 0.000000 & 0.0000000\\\\\n",
       "\t4 & chr1 &  6001 &  8000 & 0.000000 & 0.0000000\\\\\n",
       "\t5 & chr1 &  8001 & 10000 & 0.000000 & 0.0000000\\\\\n",
       "\t6 & chr1 & 10001 & 12000 & 0.648919 & 0.2499863\\\\\n",
       "\\end{tabular}\n"
      ],
      "text/markdown": [
       "\n",
       "A data.frame: 6 × 5\n",
       "\n",
       "| <!--/--> | chrom &lt;fct&gt; | start &lt;dbl&gt; | end &lt;int&gt; | DHS &lt;dbl&gt; | TSS &lt;dbl&gt; |\n",
       "|---|---|---|---|---|---|\n",
       "| 1 | chr1 |     1 |  2000 | 0.000000 | 0.0000000 |\n",
       "| 2 | chr1 |  2001 |  4000 | 0.000000 | 0.0000000 |\n",
       "| 3 | chr1 |  4001 |  6000 | 0.000000 | 0.0000000 |\n",
       "| 4 | chr1 |  6001 |  8000 | 0.000000 | 0.0000000 |\n",
       "| 5 | chr1 |  8001 | 10000 | 0.000000 | 0.0000000 |\n",
       "| 6 | chr1 | 10001 | 12000 | 0.648919 | 0.2499863 |\n",
       "\n"
      ],
      "text/plain": [
       "  chrom start end   DHS      TSS      \n",
       "1 chr1      1  2000 0.000000 0.0000000\n",
       "2 chr1   2001  4000 0.000000 0.0000000\n",
       "3 chr1   4001  6000 0.000000 0.0000000\n",
       "4 chr1   6001  8000 0.000000 0.0000000\n",
       "5 chr1   8001 10000 0.000000 0.0000000\n",
       "6 chr1  10001 12000 0.648919 0.2499863"
      ]
     },
     "metadata": {},
     "output_type": "display_data"
    }
   ],
   "source": [
    "## Let us create a new table for the representation of negative classes. We'll borrow the TSS and DHS coverages from\n",
    "## the 'positiveClass' dataframe.\n",
    "\n",
    "negativeClass <- positiveClass[,c(1:3,5:6)]\n",
    "colnames(negativeClass)[5] <- \"TSS\"\n",
    "head(negativeClass)"
   ]
  },
  {
   "cell_type": "code",
   "execution_count": 58,
   "metadata": {},
   "outputs": [
    {
     "data": {
      "text/html": [
       "<table>\n",
       "<caption>A data.frame: 6 × 6</caption>\n",
       "<thead>\n",
       "\t<tr><th></th><th scope=col>chrom</th><th scope=col>start</th><th scope=col>end</th><th scope=col>DHS</th><th scope=col>TSS</th><th scope=col>Class</th></tr>\n",
       "\t<tr><th></th><th scope=col>&lt;fct&gt;</th><th scope=col>&lt;dbl&gt;</th><th scope=col>&lt;int&gt;</th><th scope=col>&lt;dbl&gt;</th><th scope=col>&lt;dbl&gt;</th><th scope=col>&lt;chr&gt;</th></tr>\n",
       "</thead>\n",
       "<tbody>\n",
       "\t<tr><th scope=row>1</th><td>chr1</td><td>    1</td><td> 2000</td><td>0.000000</td><td>0.0000000</td><td>NA          </td></tr>\n",
       "\t<tr><th scope=row>2</th><td>chr1</td><td> 2001</td><td> 4000</td><td>0.000000</td><td>0.0000000</td><td>NA          </td></tr>\n",
       "\t<tr><th scope=row>3</th><td>chr1</td><td> 4001</td><td> 6000</td><td>0.000000</td><td>0.0000000</td><td>NA          </td></tr>\n",
       "\t<tr><th scope=row>4</th><td>chr1</td><td> 6001</td><td> 8000</td><td>0.000000</td><td>0.0000000</td><td>NA          </td></tr>\n",
       "\t<tr><th scope=row>5</th><td>chr1</td><td> 8001</td><td>10000</td><td>0.000000</td><td>0.0000000</td><td>NA          </td></tr>\n",
       "\t<tr><th scope=row>6</th><td>chr1</td><td>10001</td><td>12000</td><td>0.648919</td><td>0.2499863</td><td>Non-Enhancer</td></tr>\n",
       "</tbody>\n",
       "</table>\n"
      ],
      "text/latex": [
       "A data.frame: 6 × 6\n",
       "\\begin{tabular}{r|llllll}\n",
       "  & chrom & start & end & DHS & TSS & Class\\\\\n",
       "  & <fct> & <dbl> & <int> & <dbl> & <dbl> & <chr>\\\\\n",
       "\\hline\n",
       "\t1 & chr1 &     1 &  2000 & 0.000000 & 0.0000000 & NA          \\\\\n",
       "\t2 & chr1 &  2001 &  4000 & 0.000000 & 0.0000000 & NA          \\\\\n",
       "\t3 & chr1 &  4001 &  6000 & 0.000000 & 0.0000000 & NA          \\\\\n",
       "\t4 & chr1 &  6001 &  8000 & 0.000000 & 0.0000000 & NA          \\\\\n",
       "\t5 & chr1 &  8001 & 10000 & 0.000000 & 0.0000000 & NA          \\\\\n",
       "\t6 & chr1 & 10001 & 12000 & 0.648919 & 0.2499863 & Non-Enhancer\\\\\n",
       "\\end{tabular}\n"
      ],
      "text/markdown": [
       "\n",
       "A data.frame: 6 × 6\n",
       "\n",
       "| <!--/--> | chrom &lt;fct&gt; | start &lt;dbl&gt; | end &lt;int&gt; | DHS &lt;dbl&gt; | TSS &lt;dbl&gt; | Class &lt;chr&gt; |\n",
       "|---|---|---|---|---|---|---|\n",
       "| 1 | chr1 |     1 |  2000 | 0.000000 | 0.0000000 | NA           |\n",
       "| 2 | chr1 |  2001 |  4000 | 0.000000 | 0.0000000 | NA           |\n",
       "| 3 | chr1 |  4001 |  6000 | 0.000000 | 0.0000000 | NA           |\n",
       "| 4 | chr1 |  6001 |  8000 | 0.000000 | 0.0000000 | NA           |\n",
       "| 5 | chr1 |  8001 | 10000 | 0.000000 | 0.0000000 | NA           |\n",
       "| 6 | chr1 | 10001 | 12000 | 0.648919 | 0.2499863 | Non-Enhancer |\n",
       "\n"
      ],
      "text/plain": [
       "  chrom start end   DHS      TSS       Class       \n",
       "1 chr1      1  2000 0.000000 0.0000000 NA          \n",
       "2 chr1   2001  4000 0.000000 0.0000000 NA          \n",
       "3 chr1   4001  6000 0.000000 0.0000000 NA          \n",
       "4 chr1   6001  8000 0.000000 0.0000000 NA          \n",
       "5 chr1   8001 10000 0.000000 0.0000000 NA          \n",
       "6 chr1  10001 12000 0.648919 0.2499863 Non-Enhancer"
      ]
     },
     "metadata": {},
     "output_type": "display_data"
    }
   ],
   "source": [
    "class <- ifelse(negativeClass$TSS !=0 & negativeClass$DHS !=0, \"Non-Enhancer\", NA)\n",
    "negativeClass$Class <- class\n",
    "head(negativeClass)"
   ]
  },
  {
   "cell_type": "code",
   "execution_count": 64,
   "metadata": {},
   "outputs": [
    {
     "data": {
      "text/plain": [
       "\n",
       "Non-Enhancer \n",
       "      830529 "
      ]
     },
     "metadata": {},
     "output_type": "display_data"
    }
   ],
   "source": [
    "table(negativeClass$Class)"
   ]
  },
  {
   "cell_type": "markdown",
   "metadata": {},
   "source": [
    "Here, we intend to find the intersection of TSS with DHS sites. Mathematically, they are the bins with non-zero DHS and TSS values. We'll pull this later for adding class label.  "
   ]
  },
  {
   "cell_type": "markdown",
   "metadata": {},
   "source": [
    "#### Random Sites in the Human Genome"
   ]
  },
  {
   "cell_type": "markdown",
   "metadata": {},
   "source": [
    "These are supposed to be the sites that are distal to known EP300 and TSS regions. Again, that means the bins that have zero coverage corresponding to non-zero coverages of TSS and EP300."
   ]
  },
  {
   "cell_type": "code",
   "execution_count": 27,
   "metadata": {},
   "outputs": [
    {
     "data": {
      "text/html": [
       "<table>\n",
       "<caption>A data.frame: 6 × 5</caption>\n",
       "<thead>\n",
       "\t<tr><th></th><th scope=col>chrom</th><th scope=col>start</th><th scope=col>end</th><th scope=col>TSS</th><th scope=col>EP300</th></tr>\n",
       "\t<tr><th></th><th scope=col>&lt;fct&gt;</th><th scope=col>&lt;dbl&gt;</th><th scope=col>&lt;int&gt;</th><th scope=col>&lt;dbl&gt;</th><th scope=col>&lt;dbl&gt;</th></tr>\n",
       "</thead>\n",
       "<tbody>\n",
       "\t<tr><th scope=row>1</th><td>chr1</td><td>    1</td><td> 2000</td><td>0.0000000</td><td>0.0000000</td></tr>\n",
       "\t<tr><th scope=row>2</th><td>chr1</td><td> 2001</td><td> 4000</td><td>0.0000000</td><td>0.0000000</td></tr>\n",
       "\t<tr><th scope=row>3</th><td>chr1</td><td> 4001</td><td> 6000</td><td>0.0000000</td><td>0.0000000</td></tr>\n",
       "\t<tr><th scope=row>4</th><td>chr1</td><td> 6001</td><td> 8000</td><td>0.0000000</td><td>0.0000000</td></tr>\n",
       "\t<tr><th scope=row>5</th><td>chr1</td><td> 8001</td><td>10000</td><td>0.0000000</td><td>0.2151464</td></tr>\n",
       "\t<tr><th scope=row>6</th><td>chr1</td><td>10001</td><td>12000</td><td>0.2499863</td><td>0.3585773</td></tr>\n",
       "</tbody>\n",
       "</table>\n"
      ],
      "text/latex": [
       "A data.frame: 6 × 5\n",
       "\\begin{tabular}{r|lllll}\n",
       "  & chrom & start & end & TSS & EP300\\\\\n",
       "  & <fct> & <dbl> & <int> & <dbl> & <dbl>\\\\\n",
       "\\hline\n",
       "\t1 & chr1 &     1 &  2000 & 0.0000000 & 0.0000000\\\\\n",
       "\t2 & chr1 &  2001 &  4000 & 0.0000000 & 0.0000000\\\\\n",
       "\t3 & chr1 &  4001 &  6000 & 0.0000000 & 0.0000000\\\\\n",
       "\t4 & chr1 &  6001 &  8000 & 0.0000000 & 0.0000000\\\\\n",
       "\t5 & chr1 &  8001 & 10000 & 0.0000000 & 0.2151464\\\\\n",
       "\t6 & chr1 & 10001 & 12000 & 0.2499863 & 0.3585773\\\\\n",
       "\\end{tabular}\n"
      ],
      "text/markdown": [
       "\n",
       "A data.frame: 6 × 5\n",
       "\n",
       "| <!--/--> | chrom &lt;fct&gt; | start &lt;dbl&gt; | end &lt;int&gt; | TSS &lt;dbl&gt; | EP300 &lt;dbl&gt; |\n",
       "|---|---|---|---|---|---|\n",
       "| 1 | chr1 |     1 |  2000 | 0.0000000 | 0.0000000 |\n",
       "| 2 | chr1 |  2001 |  4000 | 0.0000000 | 0.0000000 |\n",
       "| 3 | chr1 |  4001 |  6000 | 0.0000000 | 0.0000000 |\n",
       "| 4 | chr1 |  6001 |  8000 | 0.0000000 | 0.0000000 |\n",
       "| 5 | chr1 |  8001 | 10000 | 0.0000000 | 0.2151464 |\n",
       "| 6 | chr1 | 10001 | 12000 | 0.2499863 | 0.3585773 |\n",
       "\n"
      ],
      "text/plain": [
       "  chrom start end   TSS       EP300    \n",
       "1 chr1      1  2000 0.0000000 0.0000000\n",
       "2 chr1   2001  4000 0.0000000 0.0000000\n",
       "3 chr1   4001  6000 0.0000000 0.0000000\n",
       "4 chr1   6001  8000 0.0000000 0.0000000\n",
       "5 chr1   8001 10000 0.0000000 0.2151464\n",
       "6 chr1  10001 12000 0.2499863 0.3585773"
      ]
     },
     "metadata": {},
     "output_type": "display_data"
    }
   ],
   "source": [
    "negativeClassRandom <- cbind(negativeClass[,c(1:3,5)],positiveClass[,4])\n",
    "colnames(negativeClassRandom)[4] <- \"TSS\"\n",
    "colnames(negativeClassRandom)[5] <- \"EP300\"\n",
    "head(negativeClassRandom)                                           "
   ]
  },
  {
   "cell_type": "markdown",
   "metadata": {},
   "source": [
    "For the random bins distal to TSS and EP300, we consider all bins in the 'negativeRandom' dataframe that have zero TSS and EP300 coverages."
   ]
  },
  {
   "cell_type": "code",
   "execution_count": 59,
   "metadata": {},
   "outputs": [
    {
     "data": {
      "text/html": [
       "<table>\n",
       "<caption>A data.frame: 6 × 6</caption>\n",
       "<thead>\n",
       "\t<tr><th></th><th scope=col>chrom</th><th scope=col>start</th><th scope=col>end</th><th scope=col>TSS</th><th scope=col>EP300</th><th scope=col>Class</th></tr>\n",
       "\t<tr><th></th><th scope=col>&lt;fct&gt;</th><th scope=col>&lt;dbl&gt;</th><th scope=col>&lt;int&gt;</th><th scope=col>&lt;dbl&gt;</th><th scope=col>&lt;dbl&gt;</th><th scope=col>&lt;chr&gt;</th></tr>\n",
       "</thead>\n",
       "<tbody>\n",
       "\t<tr><th scope=row>1</th><td>chr1</td><td>    1</td><td> 2000</td><td>0.0000000</td><td>0.0000000</td><td>Non-Enhancer</td></tr>\n",
       "\t<tr><th scope=row>2</th><td>chr1</td><td> 2001</td><td> 4000</td><td>0.0000000</td><td>0.0000000</td><td>Non-Enhancer</td></tr>\n",
       "\t<tr><th scope=row>3</th><td>chr1</td><td> 4001</td><td> 6000</td><td>0.0000000</td><td>0.0000000</td><td>Non-Enhancer</td></tr>\n",
       "\t<tr><th scope=row>4</th><td>chr1</td><td> 6001</td><td> 8000</td><td>0.0000000</td><td>0.0000000</td><td>Non-Enhancer</td></tr>\n",
       "\t<tr><th scope=row>5</th><td>chr1</td><td> 8001</td><td>10000</td><td>0.0000000</td><td>0.2151464</td><td>NA          </td></tr>\n",
       "\t<tr><th scope=row>6</th><td>chr1</td><td>10001</td><td>12000</td><td>0.2499863</td><td>0.3585773</td><td>NA          </td></tr>\n",
       "</tbody>\n",
       "</table>\n"
      ],
      "text/latex": [
       "A data.frame: 6 × 6\n",
       "\\begin{tabular}{r|llllll}\n",
       "  & chrom & start & end & TSS & EP300 & Class\\\\\n",
       "  & <fct> & <dbl> & <int> & <dbl> & <dbl> & <chr>\\\\\n",
       "\\hline\n",
       "\t1 & chr1 &     1 &  2000 & 0.0000000 & 0.0000000 & Non-Enhancer\\\\\n",
       "\t2 & chr1 &  2001 &  4000 & 0.0000000 & 0.0000000 & Non-Enhancer\\\\\n",
       "\t3 & chr1 &  4001 &  6000 & 0.0000000 & 0.0000000 & Non-Enhancer\\\\\n",
       "\t4 & chr1 &  6001 &  8000 & 0.0000000 & 0.0000000 & Non-Enhancer\\\\\n",
       "\t5 & chr1 &  8001 & 10000 & 0.0000000 & 0.2151464 & NA          \\\\\n",
       "\t6 & chr1 & 10001 & 12000 & 0.2499863 & 0.3585773 & NA          \\\\\n",
       "\\end{tabular}\n"
      ],
      "text/markdown": [
       "\n",
       "A data.frame: 6 × 6\n",
       "\n",
       "| <!--/--> | chrom &lt;fct&gt; | start &lt;dbl&gt; | end &lt;int&gt; | TSS &lt;dbl&gt; | EP300 &lt;dbl&gt; | Class &lt;chr&gt; |\n",
       "|---|---|---|---|---|---|---|\n",
       "| 1 | chr1 |     1 |  2000 | 0.0000000 | 0.0000000 | Non-Enhancer |\n",
       "| 2 | chr1 |  2001 |  4000 | 0.0000000 | 0.0000000 | Non-Enhancer |\n",
       "| 3 | chr1 |  4001 |  6000 | 0.0000000 | 0.0000000 | Non-Enhancer |\n",
       "| 4 | chr1 |  6001 |  8000 | 0.0000000 | 0.0000000 | Non-Enhancer |\n",
       "| 5 | chr1 |  8001 | 10000 | 0.0000000 | 0.2151464 | NA           |\n",
       "| 6 | chr1 | 10001 | 12000 | 0.2499863 | 0.3585773 | NA           |\n",
       "\n"
      ],
      "text/plain": [
       "  chrom start end   TSS       EP300     Class       \n",
       "1 chr1      1  2000 0.0000000 0.0000000 Non-Enhancer\n",
       "2 chr1   2001  4000 0.0000000 0.0000000 Non-Enhancer\n",
       "3 chr1   4001  6000 0.0000000 0.0000000 Non-Enhancer\n",
       "4 chr1   6001  8000 0.0000000 0.0000000 Non-Enhancer\n",
       "5 chr1   8001 10000 0.0000000 0.2151464 NA          \n",
       "6 chr1  10001 12000 0.2499863 0.3585773 NA          "
      ]
     },
     "metadata": {},
     "output_type": "display_data"
    }
   ],
   "source": [
    "class <- ifelse(negativeClassRandom$TSS ==0 & negativeClassRandom$EP300 ==0, \"Non-Enhancer\", NA)\n",
    "negativeClassRandom$Class <- class\n",
    "head(negativeClassRandom)"
   ]
  },
  {
   "cell_type": "code",
   "execution_count": 65,
   "metadata": {},
   "outputs": [
    {
     "data": {
      "text/plain": [
       "\n",
       "Non-Enhancer \n",
       "      139932 "
      ]
     },
     "metadata": {},
     "output_type": "display_data"
    }
   ],
   "source": [
    "table(negativeClassRandom$Class)"
   ]
  },
  {
   "cell_type": "markdown",
   "metadata": {},
   "source": [
    "Even theoretically, non-enhancers are more in number as compared to the enhancer sequences. That is reflected in these data as well."
   ]
  },
  {
   "cell_type": "markdown",
   "metadata": {},
   "source": [
    "Now to consolidate the negative class data, we have to : <br>\n",
    "> 1. Find the random sites that are distal to known p300 and TSS regions. <br>\n",
    "> 2. Find the intersection of TSS and DHS sites. <br>\n",
    "> 3. Finally, club both of these together to represent a comprehensive non-enhancer region space. <br>\n",
    "\n",
    "Further, we shall club the non-enhancer regions with the enhancer regions and shall have the required genome-wide distribution."
   ]
  },
  {
   "cell_type": "code",
   "execution_count": 66,
   "metadata": {},
   "outputs": [],
   "source": [
    "## We shall now be working with the \"trimmed\" versions of the datasets as the features have already been used to \n",
    "## identify class labels.\n",
    "\n",
    "positiveClassTrim <- positiveClass[, c(1:3,7)]\n",
    "negativeClassTrim <- negativeClass[, c(1:3,6)]\n",
    "negativeClassRandomTrim <- negativeClassRandom[, c(1:3,6)]"
   ]
  },
  {
   "cell_type": "markdown",
   "metadata": {},
   "source": [
    "Now, we merge the data together with valid class labels associated with each genomic region (bin)."
   ]
  },
  {
   "cell_type": "code",
   "execution_count": 68,
   "metadata": {},
   "outputs": [
    {
     "data": {
      "text/html": [
       "<table>\n",
       "<caption>A data.frame: 6 × 6</caption>\n",
       "<thead>\n",
       "\t<tr><th></th><th scope=col>chrom</th><th scope=col>start</th><th scope=col>end</th><th scope=col>NegativeClass</th><th scope=col>NegativeClassFromRandom</th><th scope=col>PositiveClass</th></tr>\n",
       "\t<tr><th></th><th scope=col>&lt;fct&gt;</th><th scope=col>&lt;dbl&gt;</th><th scope=col>&lt;int&gt;</th><th scope=col>&lt;chr&gt;</th><th scope=col>&lt;chr&gt;</th><th scope=col>&lt;chr&gt;</th></tr>\n",
       "</thead>\n",
       "<tbody>\n",
       "\t<tr><th scope=row>1</th><td>chr1</td><td>    1</td><td> 2000</td><td>NA          </td><td>Non-Enhancer</td><td>NA</td></tr>\n",
       "\t<tr><th scope=row>55616</th><td>chr1</td><td> 2001</td><td> 4000</td><td>NA          </td><td>Non-Enhancer</td><td>NA</td></tr>\n",
       "\t<tr><th scope=row>91302</th><td>chr1</td><td> 4001</td><td> 6000</td><td>NA          </td><td>Non-Enhancer</td><td>NA</td></tr>\n",
       "\t<tr><th scope=row>102413</th><td>chr1</td><td> 6001</td><td> 8000</td><td>NA          </td><td>Non-Enhancer</td><td>NA</td></tr>\n",
       "\t<tr><th scope=row>113524</th><td>chr1</td><td> 8001</td><td>10000</td><td>NA          </td><td>NA          </td><td>NA</td></tr>\n",
       "\t<tr><th scope=row>10</th><td>chr1</td><td>10001</td><td>12000</td><td>Non-Enhancer</td><td>NA          </td><td>NA</td></tr>\n",
       "</tbody>\n",
       "</table>\n"
      ],
      "text/latex": [
       "A data.frame: 6 × 6\n",
       "\\begin{tabular}{r|llllll}\n",
       "  & chrom & start & end & NegativeClass & NegativeClassFromRandom & PositiveClass\\\\\n",
       "  & <fct> & <dbl> & <int> & <chr> & <chr> & <chr>\\\\\n",
       "\\hline\n",
       "\t1 & chr1 &     1 &  2000 & NA           & Non-Enhancer & NA\\\\\n",
       "\t55616 & chr1 &  2001 &  4000 & NA           & Non-Enhancer & NA\\\\\n",
       "\t91302 & chr1 &  4001 &  6000 & NA           & Non-Enhancer & NA\\\\\n",
       "\t102413 & chr1 &  6001 &  8000 & NA           & Non-Enhancer & NA\\\\\n",
       "\t113524 & chr1 &  8001 & 10000 & NA           & NA           & NA\\\\\n",
       "\t10 & chr1 & 10001 & 12000 & Non-Enhancer & NA           & NA\\\\\n",
       "\\end{tabular}\n"
      ],
      "text/markdown": [
       "\n",
       "A data.frame: 6 × 6\n",
       "\n",
       "| <!--/--> | chrom &lt;fct&gt; | start &lt;dbl&gt; | end &lt;int&gt; | NegativeClass &lt;chr&gt; | NegativeClassFromRandom &lt;chr&gt; | PositiveClass &lt;chr&gt; |\n",
       "|---|---|---|---|---|---|---|\n",
       "| 1 | chr1 |     1 |  2000 | NA           | Non-Enhancer | NA |\n",
       "| 55616 | chr1 |  2001 |  4000 | NA           | Non-Enhancer | NA |\n",
       "| 91302 | chr1 |  4001 |  6000 | NA           | Non-Enhancer | NA |\n",
       "| 102413 | chr1 |  6001 |  8000 | NA           | Non-Enhancer | NA |\n",
       "| 113524 | chr1 |  8001 | 10000 | NA           | NA           | NA |\n",
       "| 10 | chr1 | 10001 | 12000 | Non-Enhancer | NA           | NA |\n",
       "\n"
      ],
      "text/plain": [
       "       chrom start end   NegativeClass NegativeClassFromRandom PositiveClass\n",
       "1      chr1      1  2000 NA            Non-Enhancer            NA           \n",
       "55616  chr1   2001  4000 NA            Non-Enhancer            NA           \n",
       "91302  chr1   4001  6000 NA            Non-Enhancer            NA           \n",
       "102413 chr1   6001  8000 NA            Non-Enhancer            NA           \n",
       "113524 chr1   8001 10000 NA            NA                      NA           \n",
       "10     chr1  10001 12000 Non-Enhancer  NA                      NA           "
      ]
     },
     "metadata": {},
     "output_type": "display_data"
    }
   ],
   "source": [
    "## merging \"non-enhancer\" labels together.\n",
    "negatives <- merge(negativeClassTrim, negativeClassRandomTrim, by = c(\"chrom\",\"start\", \"end\"))\n",
    "\n",
    "## merging \"non-enhancer\" and \"enhancer\" labels together.\n",
    "negativesPositives <- merge(negatives, positiveClassTrim, by = c(\"chrom\",\"start\", \"end\"))\n",
    "\n",
    "## sorting the data.\n",
    "negativesPositives <- negativesPositives[with(negativesPositives, order(chrom, start, end)), ]\n",
    "\n",
    "colnames(negativesPositives)[4:6] <- c(\"NegativeClass\", \"NegativeClassFromRandom\", \"PositiveClass\")\n",
    "head(negativesPositives)"
   ]
  },
  {
   "cell_type": "markdown",
   "metadata": {},
   "source": [
    "The dataset we finally implement for the machine learning model is the following."
   ]
  },
  {
   "cell_type": "markdown",
   "metadata": {},
   "source": [
    "## References"
   ]
  },
  {
   "cell_type": "markdown",
   "metadata": {},
   "source": [
    "> Kim, S. G., Harwani, M., Grama, A., & Chaterji, S. (2016). EP-DNN : A Deep Neural Network- Based Global Enhancer Prediction Algorithm. Nature Publishing Group, (November), 1–13. https://doi.org/10.1038/srep38433"
   ]
  }
 ],
 "metadata": {
  "kernelspec": {
   "display_name": "R",
   "language": "R",
   "name": "ir"
  },
  "language_info": {
   "codemirror_mode": "r",
   "file_extension": ".r",
   "mimetype": "text/x-r-source",
   "name": "R",
   "pygments_lexer": "r",
   "version": "3.3.3"
  }
 },
 "nbformat": 4,
 "nbformat_minor": 2
}
