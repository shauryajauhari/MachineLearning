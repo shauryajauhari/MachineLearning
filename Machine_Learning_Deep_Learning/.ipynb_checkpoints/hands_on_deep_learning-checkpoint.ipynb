{
 "cells": [
  {
   "cell_type": "markdown",
   "metadata": {},
   "source": [
    "# Deep Learning "
   ]
  },
  {
   "cell_type": "markdown",
   "metadata": {},
   "source": [
    "## Background"
   ]
  },
  {
   "cell_type": "markdown",
   "metadata": {},
   "source": [
    "Machine learning has conquered our digital space in a much conceivable way. Aritifical Intelligence is the umbrella discipline that describes the varied notions of the systemic behavior akin to humans. Unlike the common held adage, **Deep Learning** isn't a part of Machine Learning per se, rather it has evolved to be an exclusive stream altogether.  \n",
    "If we recall from the previous session, we discussed the relevance of decision trees and random forests and how crucial former is to the latter. The diversity and aggregation of results in the random forests engender them the alacrity to handle multidimensional data. Although, neural nets do not foster the *same* relationship with deep learning, it is of the utmost importance to fathom the concept prior to proceeding to the holistic theme of deep learning. "
   ]
  },
  {
   "cell_type": "markdown",
   "metadata": {},
   "source": [
    "<img src=\"./props/AI_branches.jpg\">"
   ]
  },
  {
   "cell_type": "markdown",
   "metadata": {},
   "source": [
    "As mentioned above, deep learning is founded on **neural networks** that have, generally, outperformed other classification algorithms like Support Vector Machines (SVM), logistic regression, etc. *Neural Networks* are a specialized set of algorithms that work on assigning and moderating weights from the original data (input), across through the layers to the classification result (ouput).  "
   ]
  },
  {
   "cell_type": "markdown",
   "metadata": {},
   "source": [
    "<img src=\"./props/deep_learning_NN_better.jpg\">"
   ]
  },
  {
   "cell_type": "markdown",
   "metadata": {},
   "source": [
    "### Exercise\n",
    "\n",
    "> Loosely, Neural Networks is to Deep Learning as ________ is to Random Forests."
   ]
  },
  {
   "cell_type": "markdown",
   "metadata": {},
   "source": [
    "## Package Installation"
   ]
  },
  {
   "cell_type": "markdown",
   "metadata": {},
   "source": [
    "## keras"
   ]
  },
  {
   "cell_type": "markdown",
   "metadata": {},
   "source": [
    "#### Installation Errors"
   ]
  },
  {
   "cell_type": "markdown",
   "metadata": {},
   "source": [
    "There could be subjective instances of errors that a system would result, owing to some missing or conflicting dependencies. Few encountered are as under:"
   ]
  },
  {
   "cell_type": "markdown",
   "metadata": {},
   "source": [
    "<img src=\"./props/install_keras_error.jpg\">"
   ]
  },
  {
   "cell_type": "markdown",
   "metadata": {},
   "source": [
    "The TensorFlow is the Google's offering for machine learning and deep learning related tasks; *Anaconda* and *Python* libraries are major requisites for *TensorFlow* deployment in R. "
   ]
  },
  {
   "cell_type": "markdown",
   "metadata": {},
   "source": [
    "<img src=\"./props/install_keras_error1.jpg\">"
   ]
  },
  {
   "cell_type": "markdown",
   "metadata": {},
   "source": [
    "Often,\n",
    "- there is a missing declaration in the PATH variable, or \n",
    "- *Anaconda* and *Python* installations have suffered shadowing from the other. "
   ]
  },
  {
   "cell_type": "markdown",
   "metadata": {},
   "source": [
    "<img src=\"./props/install_keras_error2.jpg\">"
   ]
  },
  {
   "cell_type": "markdown",
   "metadata": {},
   "source": [
    "## neuralnet"
   ]
  },
  {
   "cell_type": "code",
   "execution_count": 7,
   "metadata": {},
   "outputs": [
    {
     "name": "stdout",
     "output_type": "stream",
     "text": [
      "\n",
      "The downloaded binary packages are in\n",
      "\t/var/folders/hm/c3_fjypn62v5xh5b5ygv267m0000gn/T//RtmpX0SSt7/downloaded_packages\n"
     ]
    }
   ],
   "source": [
    "## Install the package and load the library\n",
    "\n",
    "install.packages(\"neuralnet\", \n",
    "                 repos = \"https://mirrors.tuna.tsinghua.edu.cn/CRAN/\",\n",
    "                 dependencies = TRUE)\n",
    "library(neuralnet)"
   ]
  },
  {
   "cell_type": "markdown",
   "metadata": {},
   "source": [
    "## Dataset Preparation"
   ]
  },
  {
   "cell_type": "markdown",
   "metadata": {},
   "source": [
    "The overall selection of data and the analysis protocol has been loosely borrowed from Kim et al. (2016). Typically for a machine learning problem, we shall have a dataset (consolidated, with class and variable/ feature definitions) and that'll be bifurcated (typically in 3:7 or 2:8 proportions) to be used as testing and training sets respectively. Contrarily, in this study both the categories have been sourced differently as you'll see.\n",
    "In this exercise, we shall have positive and negative training examples for the training dataset but only positive examples for the test dataset. And that is perfectively fine."
   ]
  },
  {
   "cell_type": "markdown",
   "metadata": {},
   "source": [
    "### Testing Data"
   ]
  },
  {
   "cell_type": "markdown",
   "metadata": {},
   "source": [
    "For testing data, we consider data only for enhancers. Even with this data, we shall be able to evaluate the model's veracity of predicting positive examples. "
   ]
  },
  {
   "cell_type": "markdown",
   "metadata": {},
   "source": [
    "As noted, the primary step is to source the BAM files, index them, and finally tranform into BEDGRAPH files. The column naming is done appropriately. "
   ]
  },
  {
   "cell_type": "code",
   "execution_count": 12,
   "metadata": {},
   "outputs": [],
   "source": [
    "h3k27ac <- read.csv(\"./data/H1_Cell_Line/H3K27ac/ENCFF663SAM.bw\", sep = '\\t', header = FALSE)\n",
    "colnames(h3k27ac) <- c(\"chrom\",\"start\",\"end\",\"peaks\")\n",
    "h3k4me1 <- read.csv(\"./data/H1_Cell_Line/H3K4me1/ENCFF441KOL.bw\", sep = '\\t', header = FALSE)\n",
    "colnames(h3k4me1) <- c(\"chrom\",\"start\",\"end\",\"peaks\")\n",
    "h3k4me2 <- read.csv(\"./data/H1_Cell_Line/H3K4me2/ENCFF799BDH.bw\", sep = '\\t', header = FALSE)\n",
    "colnames(h3k4me2) <- c(\"chrom\",\"start\",\"end\",\"peaks\")\n",
    "h3k4me3 <- read.csv(\"./data/H1_Cell_Line/H3K4me3/ENCFF340UJK.bw\", sep = '\\t', header = FALSE)\n",
    "colnames(h3k4me3) <- c(\"chrom\",\"start\",\"end\",\"peaks\")"
   ]
  },
  {
   "cell_type": "markdown",
   "metadata": {},
   "source": [
    "These files (with extension **.bw**) are eventually imported to the online Galaxy interface and executed for the *bedtools Merge* function. The four files showcasing various histone markers for enhancer data are merged together on the basis of overlapping intervals to get a matrix of peak counts that act as features to the 'enhancer' class. "
   ]
  },
  {
   "cell_type": "markdown",
   "metadata": {},
   "source": [
    "The resultant file is eventually imported back to R for further processing."
   ]
  },
  {
   "cell_type": "code",
   "execution_count": 1,
   "metadata": {},
   "outputs": [
    {
     "data": {
      "text/html": [
       "<table>\n",
       "<caption>A data.frame: 6 × 7</caption>\n",
       "<thead>\n",
       "\t<tr><th></th><th scope=col>chrom</th><th scope=col>start</th><th scope=col>end</th><th scope=col>peaks_h3k4me3</th><th scope=col>peaks_h3k4me2</th><th scope=col>peaks_h3k4me1</th><th scope=col>peaks_h3k27ac</th></tr>\n",
       "\t<tr><th></th><th scope=col>&lt;fct&gt;</th><th scope=col>&lt;fct&gt;</th><th scope=col>&lt;fct&gt;</th><th scope=col>&lt;fct&gt;</th><th scope=col>&lt;fct&gt;</th><th scope=col>&lt;fct&gt;</th><th scope=col>&lt;fct&gt;</th></tr>\n",
       "</thead>\n",
       "<tbody>\n",
       "\t<tr><th scope=row>2</th><td>chr1</td><td>0    </td><td>9900 </td><td>0</td><td>0      </td><td>0</td><td>0</td></tr>\n",
       "\t<tr><th scope=row>3</th><td>chr1</td><td>9900 </td><td>10100</td><td>0</td><td>1.13595</td><td>0</td><td>0</td></tr>\n",
       "\t<tr><th scope=row>4</th><td>chr1</td><td>10100</td><td>17400</td><td>0</td><td>0      </td><td>0</td><td>0</td></tr>\n",
       "\t<tr><th scope=row>5</th><td>chr1</td><td>17400</td><td>17600</td><td>0</td><td>1.13595</td><td>0</td><td>0</td></tr>\n",
       "\t<tr><th scope=row>6</th><td>chr1</td><td>17600</td><td>40600</td><td>0</td><td>0      </td><td>0</td><td>0</td></tr>\n",
       "\t<tr><th scope=row>7</th><td>chr1</td><td>40600</td><td>40700</td><td>0</td><td>1.13595</td><td>0</td><td>0</td></tr>\n",
       "</tbody>\n",
       "</table>\n"
      ],
      "text/latex": [
       "A data.frame: 6 × 7\n",
       "\\begin{tabular}{r|lllllll}\n",
       "  & chrom & start & end & peaks\\_h3k4me3 & peaks\\_h3k4me2 & peaks\\_h3k4me1 & peaks\\_h3k27ac\\\\\n",
       "  & <fct> & <fct> & <fct> & <fct> & <fct> & <fct> & <fct>\\\\\n",
       "\\hline\n",
       "\t2 & chr1 & 0     & 9900  & 0 & 0       & 0 & 0\\\\\n",
       "\t3 & chr1 & 9900  & 10100 & 0 & 1.13595 & 0 & 0\\\\\n",
       "\t4 & chr1 & 10100 & 17400 & 0 & 0       & 0 & 0\\\\\n",
       "\t5 & chr1 & 17400 & 17600 & 0 & 1.13595 & 0 & 0\\\\\n",
       "\t6 & chr1 & 17600 & 40600 & 0 & 0       & 0 & 0\\\\\n",
       "\t7 & chr1 & 40600 & 40700 & 0 & 1.13595 & 0 & 0\\\\\n",
       "\\end{tabular}\n"
      ],
      "text/markdown": [
       "\n",
       "A data.frame: 6 × 7\n",
       "\n",
       "| <!--/--> | chrom &lt;fct&gt; | start &lt;fct&gt; | end &lt;fct&gt; | peaks_h3k4me3 &lt;fct&gt; | peaks_h3k4me2 &lt;fct&gt; | peaks_h3k4me1 &lt;fct&gt; | peaks_h3k27ac &lt;fct&gt; |\n",
       "|---|---|---|---|---|---|---|---|\n",
       "| 2 | chr1 | 0     | 9900  | 0 | 0       | 0 | 0 |\n",
       "| 3 | chr1 | 9900  | 10100 | 0 | 1.13595 | 0 | 0 |\n",
       "| 4 | chr1 | 10100 | 17400 | 0 | 0       | 0 | 0 |\n",
       "| 5 | chr1 | 17400 | 17600 | 0 | 1.13595 | 0 | 0 |\n",
       "| 6 | chr1 | 17600 | 40600 | 0 | 0       | 0 | 0 |\n",
       "| 7 | chr1 | 40600 | 40700 | 0 | 1.13595 | 0 | 0 |\n",
       "\n"
      ],
      "text/plain": [
       "  chrom start end   peaks_h3k4me3 peaks_h3k4me2 peaks_h3k4me1 peaks_h3k27ac\n",
       "2 chr1  0     9900  0             0             0             0            \n",
       "3 chr1  9900  10100 0             1.13595       0             0            \n",
       "4 chr1  10100 17400 0             0             0             0            \n",
       "5 chr1  17400 17600 0             1.13595       0             0            \n",
       "6 chr1  17600 40600 0             0             0             0            \n",
       "7 chr1  40600 40700 0             1.13595       0             0            "
      ]
     },
     "metadata": {},
     "output_type": "display_data"
    },
    {
     "data": {
      "text/html": [
       "<table>\n",
       "<caption>A data.frame: 6 × 8</caption>\n",
       "<thead>\n",
       "\t<tr><th></th><th scope=col>chrom</th><th scope=col>start</th><th scope=col>end</th><th scope=col>peaks_h3k4me3</th><th scope=col>peaks_h3k4me2</th><th scope=col>peaks_h3k4me1</th><th scope=col>peaks_h3k27ac</th><th scope=col>class</th></tr>\n",
       "\t<tr><th></th><th scope=col>&lt;fct&gt;</th><th scope=col>&lt;fct&gt;</th><th scope=col>&lt;fct&gt;</th><th scope=col>&lt;fct&gt;</th><th scope=col>&lt;fct&gt;</th><th scope=col>&lt;fct&gt;</th><th scope=col>&lt;fct&gt;</th><th scope=col>&lt;chr&gt;</th></tr>\n",
       "</thead>\n",
       "<tbody>\n",
       "\t<tr><th scope=row>2</th><td>chr1</td><td>0    </td><td>9900 </td><td>0</td><td>0      </td><td>0</td><td>0</td><td>Enhancer    </td></tr>\n",
       "\t<tr><th scope=row>3</th><td>chr1</td><td>9900 </td><td>10100</td><td>0</td><td>1.13595</td><td>0</td><td>0</td><td>Non-Enhancer</td></tr>\n",
       "\t<tr><th scope=row>4</th><td>chr1</td><td>10100</td><td>17400</td><td>0</td><td>0      </td><td>0</td><td>0</td><td>Enhancer    </td></tr>\n",
       "\t<tr><th scope=row>5</th><td>chr1</td><td>17400</td><td>17600</td><td>0</td><td>1.13595</td><td>0</td><td>0</td><td>Non-Enhancer</td></tr>\n",
       "\t<tr><th scope=row>6</th><td>chr1</td><td>17600</td><td>40600</td><td>0</td><td>0      </td><td>0</td><td>0</td><td>Non-Enhancer</td></tr>\n",
       "\t<tr><th scope=row>7</th><td>chr1</td><td>40600</td><td>40700</td><td>0</td><td>1.13595</td><td>0</td><td>0</td><td>Non-Enhancer</td></tr>\n",
       "</tbody>\n",
       "</table>\n"
      ],
      "text/latex": [
       "A data.frame: 6 × 8\n",
       "\\begin{tabular}{r|llllllll}\n",
       "  & chrom & start & end & peaks\\_h3k4me3 & peaks\\_h3k4me2 & peaks\\_h3k4me1 & peaks\\_h3k27ac & class\\\\\n",
       "  & <fct> & <fct> & <fct> & <fct> & <fct> & <fct> & <fct> & <chr>\\\\\n",
       "\\hline\n",
       "\t2 & chr1 & 0     & 9900  & 0 & 0       & 0 & 0 & Enhancer    \\\\\n",
       "\t3 & chr1 & 9900  & 10100 & 0 & 1.13595 & 0 & 0 & Non-Enhancer\\\\\n",
       "\t4 & chr1 & 10100 & 17400 & 0 & 0       & 0 & 0 & Enhancer    \\\\\n",
       "\t5 & chr1 & 17400 & 17600 & 0 & 1.13595 & 0 & 0 & Non-Enhancer\\\\\n",
       "\t6 & chr1 & 17600 & 40600 & 0 & 0       & 0 & 0 & Non-Enhancer\\\\\n",
       "\t7 & chr1 & 40600 & 40700 & 0 & 1.13595 & 0 & 0 & Non-Enhancer\\\\\n",
       "\\end{tabular}\n"
      ],
      "text/markdown": [
       "\n",
       "A data.frame: 6 × 8\n",
       "\n",
       "| <!--/--> | chrom &lt;fct&gt; | start &lt;fct&gt; | end &lt;fct&gt; | peaks_h3k4me3 &lt;fct&gt; | peaks_h3k4me2 &lt;fct&gt; | peaks_h3k4me1 &lt;fct&gt; | peaks_h3k27ac &lt;fct&gt; | class &lt;chr&gt; |\n",
       "|---|---|---|---|---|---|---|---|---|\n",
       "| 2 | chr1 | 0     | 9900  | 0 | 0       | 0 | 0 | Enhancer     |\n",
       "| 3 | chr1 | 9900  | 10100 | 0 | 1.13595 | 0 | 0 | Non-Enhancer |\n",
       "| 4 | chr1 | 10100 | 17400 | 0 | 0       | 0 | 0 | Enhancer     |\n",
       "| 5 | chr1 | 17400 | 17600 | 0 | 1.13595 | 0 | 0 | Non-Enhancer |\n",
       "| 6 | chr1 | 17600 | 40600 | 0 | 0       | 0 | 0 | Non-Enhancer |\n",
       "| 7 | chr1 | 40600 | 40700 | 0 | 1.13595 | 0 | 0 | Non-Enhancer |\n",
       "\n"
      ],
      "text/plain": [
       "  chrom start end   peaks_h3k4me3 peaks_h3k4me2 peaks_h3k4me1 peaks_h3k27ac\n",
       "2 chr1  0     9900  0             0             0             0            \n",
       "3 chr1  9900  10100 0             1.13595       0             0            \n",
       "4 chr1  10100 17400 0             0             0             0            \n",
       "5 chr1  17400 17600 0             1.13595       0             0            \n",
       "6 chr1  17600 40600 0             0             0             0            \n",
       "7 chr1  40600 40700 0             1.13595       0             0            \n",
       "  class       \n",
       "2 Enhancer    \n",
       "3 Non-Enhancer\n",
       "4 Enhancer    \n",
       "5 Non-Enhancer\n",
       "6 Non-Enhancer\n",
       "7 Non-Enhancer"
      ]
     },
     "metadata": {},
     "output_type": "display_data"
    }
   ],
   "source": [
    "merged_bw <- read.csv(\"./data/H1_Cell_Line/bedtools_Merge.bw\", sep = '\\t', header = FALSE)\n",
    "merged_bw <- merged_bw[-1,]\n",
    "colnames(merged_bw) <- c(\"chrom\", \"start\", \"end\", \"peaks_h3k4me3\", \"peaks_h3k4me2\", \"peaks_h3k4me1\", \"peaks_h3k27ac\")\n",
    "head(merged_bw)\n",
    "\n",
    "## Assigning class labels\n",
    "labs <- c(\"Enhancer\",\"Non-Enhancer\")\n",
    "merged_bw$class <- sample(labs,nrow(merged_bw),replace = TRUE)\n",
    "head(merged_bw)\n",
    "\n",
    "## Identifying examples of standard chromosomes only and filtering the residuals.\n",
    "\n",
    "chromosomes <- c(\"chr1\",\"chr2\",\"chr3\",\"chr4\",\"chr5\",\"chr6\",\"chr7\",\"chr8\",\"chr9\",\"chr10\",\"chr11\",\"chr12\",\"chr13\",\"chr14\",\n",
    "                 \"chr15\", \"chr16\", \"chr17\", \"chr18\", \"chr19\", \"chr20\",\"chr21\", \"chr22\", \"chrX\", \"chrY\")\n",
    "merged_bw<- as.data.frame(merged_bw[merged_bw$chrom %in% chromosomes, ])\n",
    "\n",
    "\n",
    "## Deriving test data as input to the deep learning model.\n",
    "\n",
    "test <- merged_bw[,c(4:8)]\n"
   ]
  },
  {
   "cell_type": "markdown",
   "metadata": {},
   "source": [
    "Let's check out the dataset. "
   ]
  },
  {
   "cell_type": "code",
   "execution_count": 2,
   "metadata": {},
   "outputs": [
    {
     "data": {
      "text/html": [
       "<table>\n",
       "<caption>A data.frame: 6 × 5</caption>\n",
       "<thead>\n",
       "\t<tr><th></th><th scope=col>peaks_h3k4me3</th><th scope=col>peaks_h3k4me2</th><th scope=col>peaks_h3k4me1</th><th scope=col>peaks_h3k27ac</th><th scope=col>class</th></tr>\n",
       "\t<tr><th></th><th scope=col>&lt;fct&gt;</th><th scope=col>&lt;fct&gt;</th><th scope=col>&lt;fct&gt;</th><th scope=col>&lt;fct&gt;</th><th scope=col>&lt;chr&gt;</th></tr>\n",
       "</thead>\n",
       "<tbody>\n",
       "\t<tr><th scope=row>2</th><td>0</td><td>0      </td><td>0</td><td>0</td><td>Enhancer    </td></tr>\n",
       "\t<tr><th scope=row>3</th><td>0</td><td>1.13595</td><td>0</td><td>0</td><td>Non-Enhancer</td></tr>\n",
       "\t<tr><th scope=row>4</th><td>0</td><td>0      </td><td>0</td><td>0</td><td>Enhancer    </td></tr>\n",
       "\t<tr><th scope=row>5</th><td>0</td><td>1.13595</td><td>0</td><td>0</td><td>Non-Enhancer</td></tr>\n",
       "\t<tr><th scope=row>6</th><td>0</td><td>0      </td><td>0</td><td>0</td><td>Non-Enhancer</td></tr>\n",
       "\t<tr><th scope=row>7</th><td>0</td><td>1.13595</td><td>0</td><td>0</td><td>Non-Enhancer</td></tr>\n",
       "</tbody>\n",
       "</table>\n"
      ],
      "text/latex": [
       "A data.frame: 6 × 5\n",
       "\\begin{tabular}{r|lllll}\n",
       "  & peaks\\_h3k4me3 & peaks\\_h3k4me2 & peaks\\_h3k4me1 & peaks\\_h3k27ac & class\\\\\n",
       "  & <fct> & <fct> & <fct> & <fct> & <chr>\\\\\n",
       "\\hline\n",
       "\t2 & 0 & 0       & 0 & 0 & Enhancer    \\\\\n",
       "\t3 & 0 & 1.13595 & 0 & 0 & Non-Enhancer\\\\\n",
       "\t4 & 0 & 0       & 0 & 0 & Enhancer    \\\\\n",
       "\t5 & 0 & 1.13595 & 0 & 0 & Non-Enhancer\\\\\n",
       "\t6 & 0 & 0       & 0 & 0 & Non-Enhancer\\\\\n",
       "\t7 & 0 & 1.13595 & 0 & 0 & Non-Enhancer\\\\\n",
       "\\end{tabular}\n"
      ],
      "text/markdown": [
       "\n",
       "A data.frame: 6 × 5\n",
       "\n",
       "| <!--/--> | peaks_h3k4me3 &lt;fct&gt; | peaks_h3k4me2 &lt;fct&gt; | peaks_h3k4me1 &lt;fct&gt; | peaks_h3k27ac &lt;fct&gt; | class &lt;chr&gt; |\n",
       "|---|---|---|---|---|---|\n",
       "| 2 | 0 | 0       | 0 | 0 | Enhancer     |\n",
       "| 3 | 0 | 1.13595 | 0 | 0 | Non-Enhancer |\n",
       "| 4 | 0 | 0       | 0 | 0 | Enhancer     |\n",
       "| 5 | 0 | 1.13595 | 0 | 0 | Non-Enhancer |\n",
       "| 6 | 0 | 0       | 0 | 0 | Non-Enhancer |\n",
       "| 7 | 0 | 1.13595 | 0 | 0 | Non-Enhancer |\n",
       "\n"
      ],
      "text/plain": [
       "  peaks_h3k4me3 peaks_h3k4me2 peaks_h3k4me1 peaks_h3k27ac class       \n",
       "2 0             0             0             0             Enhancer    \n",
       "3 0             1.13595       0             0             Non-Enhancer\n",
       "4 0             0             0             0             Enhancer    \n",
       "5 0             1.13595       0             0             Non-Enhancer\n",
       "6 0             0             0             0             Non-Enhancer\n",
       "7 0             1.13595       0             0             Non-Enhancer"
      ]
     },
     "metadata": {},
     "output_type": "display_data"
    }
   ],
   "source": [
    "head(test)"
   ]
  },
  {
   "cell_type": "markdown",
   "metadata": {},
   "source": [
    "The deep learning model has two basic requisites with the input data.\n",
    "1. The data has to be *numeric* in type.\n",
    "2. It has to range from 0 to 1. So if it isn't already, some sort of normalization procedure can help do that. The preferred one is the min-max normalization."
   ]
  },
  {
   "cell_type": "code",
   "execution_count": 3,
   "metadata": {},
   "outputs": [
    {
     "name": "stderr",
     "output_type": "stream",
     "text": [
      "Warning message in eval(expr, envir, enclos):\n",
      "“NAs introduced by coercion”Warning message in eval(expr, envir, enclos):\n",
      "“NAs introduced by coercion”Warning message in eval(expr, envir, enclos):\n",
      "“NAs introduced by coercion”Warning message in eval(expr, envir, enclos):\n",
      "“NAs introduced by coercion”"
     ]
    }
   ],
   "source": [
    "# Transforming to numeric(double).\n",
    "\n",
    "test$peaks_h3k4me3 <- as.double(as.character(test$peaks_h3k4me3))\n",
    "test$peaks_h3k4me2 <- as.double(as.character(test$peaks_h3k4me2))\n",
    "test$peaks_h3k4me1 <- as.double(as.character(test$peaks_h3k4me1))\n",
    "test$peaks_h3k27ac <- as.double(as.character(test$peaks_h3k27ac))"
   ]
  },
  {
   "cell_type": "code",
   "execution_count": 4,
   "metadata": {},
   "outputs": [
    {
     "data": {
      "text/html": [
       "<table>\n",
       "<caption>A data.frame: 19002143 × 5</caption>\n",
       "<thead>\n",
       "\t<tr><th></th><th scope=col>peaks_h3k4me3</th><th scope=col>peaks_h3k4me2</th><th scope=col>peaks_h3k4me1</th><th scope=col>peaks_h3k27ac</th><th scope=col>class</th></tr>\n",
       "\t<tr><th></th><th scope=col>&lt;dbl&gt;</th><th scope=col>&lt;dbl&gt;</th><th scope=col>&lt;dbl&gt;</th><th scope=col>&lt;dbl&gt;</th><th scope=col>&lt;chr&gt;</th></tr>\n",
       "</thead>\n",
       "<tbody>\n",
       "\t<tr><th scope=row>2</th><td>0.000000</td><td>0.00000</td><td>0.000000</td><td>0.000000</td><td>Enhancer    </td></tr>\n",
       "\t<tr><th scope=row>3</th><td>0.000000</td><td>1.13595</td><td>0.000000</td><td>0.000000</td><td>Non-Enhancer</td></tr>\n",
       "\t<tr><th scope=row>4</th><td>0.000000</td><td>0.00000</td><td>0.000000</td><td>0.000000</td><td>Enhancer    </td></tr>\n",
       "\t<tr><th scope=row>5</th><td>0.000000</td><td>1.13595</td><td>0.000000</td><td>0.000000</td><td>Non-Enhancer</td></tr>\n",
       "\t<tr><th scope=row>6</th><td>0.000000</td><td>0.00000</td><td>0.000000</td><td>0.000000</td><td>Non-Enhancer</td></tr>\n",
       "\t<tr><th scope=row>7</th><td>0.000000</td><td>1.13595</td><td>0.000000</td><td>0.000000</td><td>Non-Enhancer</td></tr>\n",
       "\t<tr><th scope=row>8</th><td>0.000000</td><td>0.00000</td><td>0.000000</td><td>0.000000</td><td>Enhancer    </td></tr>\n",
       "\t<tr><th scope=row>9</th><td>0.000000</td><td>1.13595</td><td>0.000000</td><td>0.000000</td><td>Enhancer    </td></tr>\n",
       "\t<tr><th scope=row>10</th><td>0.000000</td><td>0.00000</td><td>0.000000</td><td>0.000000</td><td>Non-Enhancer</td></tr>\n",
       "\t<tr><th scope=row>11</th><td>0.000000</td><td>1.13595</td><td>0.000000</td><td>0.000000</td><td>Non-Enhancer</td></tr>\n",
       "\t<tr><th scope=row>12</th><td>0.000000</td><td>0.00000</td><td>0.000000</td><td>0.000000</td><td>Non-Enhancer</td></tr>\n",
       "\t<tr><th scope=row>13</th><td>0.000000</td><td>1.13595</td><td>0.865892</td><td>0.000000</td><td>Enhancer    </td></tr>\n",
       "\t<tr><th scope=row>14</th><td>0.000000</td><td>0.00000</td><td>0.000000</td><td>0.000000</td><td>Enhancer    </td></tr>\n",
       "\t<tr><th scope=row>15</th><td>0.000000</td><td>0.00000</td><td>0.000000</td><td>0.809057</td><td>Enhancer    </td></tr>\n",
       "\t<tr><th scope=row>16</th><td>0.000000</td><td>0.00000</td><td>0.000000</td><td>0.000000</td><td>Enhancer    </td></tr>\n",
       "\t<tr><th scope=row>17</th><td>0.000000</td><td>1.13595</td><td>1.731780</td><td>0.809057</td><td>Non-Enhancer</td></tr>\n",
       "\t<tr><th scope=row>18</th><td>0.000000</td><td>1.13595</td><td>0.865892</td><td>0.000000</td><td>Non-Enhancer</td></tr>\n",
       "\t<tr><th scope=row>19</th><td>0.000000</td><td>0.00000</td><td>0.000000</td><td>0.000000</td><td>Enhancer    </td></tr>\n",
       "\t<tr><th scope=row>20</th><td>0.000000</td><td>1.13595</td><td>0.000000</td><td>0.000000</td><td>Enhancer    </td></tr>\n",
       "\t<tr><th scope=row>21</th><td>0.000000</td><td>0.00000</td><td>0.000000</td><td>0.000000</td><td>Non-Enhancer</td></tr>\n",
       "\t<tr><th scope=row>22</th><td>0.734144</td><td>0.00000</td><td>0.000000</td><td>0.000000</td><td>Enhancer    </td></tr>\n",
       "\t<tr><th scope=row>23</th><td>0.000000</td><td>0.00000</td><td>0.000000</td><td>0.000000</td><td>Non-Enhancer</td></tr>\n",
       "\t<tr><th scope=row>24</th><td>0.000000</td><td>1.13595</td><td>0.000000</td><td>0.000000</td><td>Enhancer    </td></tr>\n",
       "\t<tr><th scope=row>25</th><td>0.000000</td><td>0.00000</td><td>0.000000</td><td>0.000000</td><td>Non-Enhancer</td></tr>\n",
       "\t<tr><th scope=row>26</th><td>0.000000</td><td>0.00000</td><td>0.000000</td><td>0.809057</td><td>Non-Enhancer</td></tr>\n",
       "\t<tr><th scope=row>27</th><td>0.000000</td><td>0.00000</td><td>0.000000</td><td>0.000000</td><td>Enhancer    </td></tr>\n",
       "\t<tr><th scope=row>28</th><td>0.000000</td><td>1.13595</td><td>0.000000</td><td>0.000000</td><td>Non-Enhancer</td></tr>\n",
       "\t<tr><th scope=row>29</th><td>0.000000</td><td>0.00000</td><td>0.000000</td><td>0.000000</td><td>Enhancer    </td></tr>\n",
       "\t<tr><th scope=row>30</th><td>0.000000</td><td>0.00000</td><td>0.000000</td><td>0.809057</td><td>Non-Enhancer</td></tr>\n",
       "\t<tr><th scope=row>31</th><td>0.000000</td><td>0.00000</td><td>0.000000</td><td>0.000000</td><td>Enhancer    </td></tr>\n",
       "\t<tr><th scope=row>⋮</th><td>⋮</td><td>⋮</td><td>⋮</td><td>⋮</td><td>⋮</td></tr>\n",
       "\t<tr><th scope=row>19002130</th><td>2.202430</td><td>0.00000</td><td>0.000000</td><td>0.000000</td><td>Enhancer    </td></tr>\n",
       "\t<tr><th scope=row>19002131</th><td>0.000000</td><td>0.00000</td><td>0.000000</td><td>0.000000</td><td>Enhancer    </td></tr>\n",
       "\t<tr><th scope=row>19002132</th><td>0.000000</td><td>1.13595</td><td>0.000000</td><td>0.000000</td><td>Enhancer    </td></tr>\n",
       "\t<tr><th scope=row>19002133</th><td>0.000000</td><td>0.00000</td><td>0.000000</td><td>0.000000</td><td>Non-Enhancer</td></tr>\n",
       "\t<tr><th scope=row>19002134</th><td>0.000000</td><td>0.00000</td><td>0.000000</td><td>0.809057</td><td>Non-Enhancer</td></tr>\n",
       "\t<tr><th scope=row>19002135</th><td>1.468290</td><td>0.00000</td><td>0.000000</td><td>2.427170</td><td>Non-Enhancer</td></tr>\n",
       "\t<tr><th scope=row>19002136</th><td>1.468290</td><td>0.00000</td><td>0.000000</td><td>0.000000</td><td>Non-Enhancer</td></tr>\n",
       "\t<tr><th scope=row>19002137</th><td>0.000000</td><td>0.00000</td><td>0.000000</td><td>0.000000</td><td>Non-Enhancer</td></tr>\n",
       "\t<tr><th scope=row>19002138</th><td>1.468290</td><td>0.00000</td><td>0.865892</td><td>0.000000</td><td>Non-Enhancer</td></tr>\n",
       "\t<tr><th scope=row>19002139</th><td>0.000000</td><td>0.00000</td><td>0.000000</td><td>0.000000</td><td>Enhancer    </td></tr>\n",
       "\t<tr><th scope=row>19002140</th><td>0.734144</td><td>0.00000</td><td>0.865892</td><td>0.000000</td><td>Enhancer    </td></tr>\n",
       "\t<tr><th scope=row>19002141</th><td>0.734144</td><td>0.00000</td><td>0.000000</td><td>0.000000</td><td>Non-Enhancer</td></tr>\n",
       "\t<tr><th scope=row>19002142</th><td>0.000000</td><td>0.00000</td><td>0.000000</td><td>0.000000</td><td>Non-Enhancer</td></tr>\n",
       "\t<tr><th scope=row>19002143</th><td>0.734144</td><td>0.00000</td><td>0.865892</td><td>0.000000</td><td>Non-Enhancer</td></tr>\n",
       "\t<tr><th scope=row>19002144</th><td>0.000000</td><td>0.00000</td><td>0.000000</td><td>0.000000</td><td>Enhancer    </td></tr>\n",
       "\t<tr><th scope=row>19002145</th><td>0.734144</td><td>0.00000</td><td>0.000000</td><td>0.000000</td><td>Enhancer    </td></tr>\n",
       "\t<tr><th scope=row>19002146</th><td>0.000000</td><td>0.00000</td><td>0.000000</td><td>0.000000</td><td>Enhancer    </td></tr>\n",
       "\t<tr><th scope=row>19002147</th><td>0.000000</td><td>0.00000</td><td>0.865892</td><td>0.809057</td><td>Non-Enhancer</td></tr>\n",
       "\t<tr><th scope=row>19002148</th><td>0.000000</td><td>0.00000</td><td>0.865892</td><td>0.000000</td><td>Enhancer    </td></tr>\n",
       "\t<tr><th scope=row>19002149</th><td>0.000000</td><td>0.00000</td><td>0.000000</td><td>0.000000</td><td>Enhancer    </td></tr>\n",
       "\t<tr><th scope=row>19002150</th><td>0.000000</td><td>1.13595</td><td>0.000000</td><td>0.000000</td><td>Enhancer    </td></tr>\n",
       "\t<tr><th scope=row>19002151</th><td>0.000000</td><td>0.00000</td><td>0.000000</td><td>0.000000</td><td>Non-Enhancer</td></tr>\n",
       "\t<tr><th scope=row>19002152</th><td>0.734144</td><td>0.00000</td><td>0.000000</td><td>0.000000</td><td>Enhancer    </td></tr>\n",
       "\t<tr><th scope=row>19002153</th><td>0.000000</td><td>0.00000</td><td>0.000000</td><td>0.000000</td><td>Enhancer    </td></tr>\n",
       "\t<tr><th scope=row>19002154</th><td>0.000000</td><td>1.13595</td><td>0.000000</td><td>0.000000</td><td>Non-Enhancer</td></tr>\n",
       "\t<tr><th scope=row>19002155</th><td>0.000000</td><td>0.00000</td><td>0.000000</td><td>0.000000</td><td>Enhancer    </td></tr>\n",
       "\t<tr><th scope=row>19002156</th><td>0.000000</td><td>0.00000</td><td>0.000000</td><td>0.809057</td><td>Non-Enhancer</td></tr>\n",
       "\t<tr><th scope=row>19002157</th><td>0.000000</td><td>0.00000</td><td>0.000000</td><td>0.000000</td><td>Enhancer    </td></tr>\n",
       "\t<tr><th scope=row>19002158</th><td>0.000000</td><td>0.00000</td><td>0.000000</td><td>0.809057</td><td>Enhancer    </td></tr>\n",
       "\t<tr><th scope=row>19002159</th><td>0.000000</td><td>0.00000</td><td>0.000000</td><td>0.000000</td><td>Non-Enhancer</td></tr>\n",
       "</tbody>\n",
       "</table>\n"
      ],
      "text/latex": [
       "A data.frame: 19002143 × 5\n",
       "\\begin{tabular}{r|lllll}\n",
       "  & peaks\\_h3k4me3 & peaks\\_h3k4me2 & peaks\\_h3k4me1 & peaks\\_h3k27ac & class\\\\\n",
       "  & <dbl> & <dbl> & <dbl> & <dbl> & <chr>\\\\\n",
       "\\hline\n",
       "\t2 & 0.000000 & 0.00000 & 0.000000 & 0.000000 & Enhancer    \\\\\n",
       "\t3 & 0.000000 & 1.13595 & 0.000000 & 0.000000 & Non-Enhancer\\\\\n",
       "\t4 & 0.000000 & 0.00000 & 0.000000 & 0.000000 & Enhancer    \\\\\n",
       "\t5 & 0.000000 & 1.13595 & 0.000000 & 0.000000 & Non-Enhancer\\\\\n",
       "\t6 & 0.000000 & 0.00000 & 0.000000 & 0.000000 & Non-Enhancer\\\\\n",
       "\t7 & 0.000000 & 1.13595 & 0.000000 & 0.000000 & Non-Enhancer\\\\\n",
       "\t8 & 0.000000 & 0.00000 & 0.000000 & 0.000000 & Enhancer    \\\\\n",
       "\t9 & 0.000000 & 1.13595 & 0.000000 & 0.000000 & Enhancer    \\\\\n",
       "\t10 & 0.000000 & 0.00000 & 0.000000 & 0.000000 & Non-Enhancer\\\\\n",
       "\t11 & 0.000000 & 1.13595 & 0.000000 & 0.000000 & Non-Enhancer\\\\\n",
       "\t12 & 0.000000 & 0.00000 & 0.000000 & 0.000000 & Non-Enhancer\\\\\n",
       "\t13 & 0.000000 & 1.13595 & 0.865892 & 0.000000 & Enhancer    \\\\\n",
       "\t14 & 0.000000 & 0.00000 & 0.000000 & 0.000000 & Enhancer    \\\\\n",
       "\t15 & 0.000000 & 0.00000 & 0.000000 & 0.809057 & Enhancer    \\\\\n",
       "\t16 & 0.000000 & 0.00000 & 0.000000 & 0.000000 & Enhancer    \\\\\n",
       "\t17 & 0.000000 & 1.13595 & 1.731780 & 0.809057 & Non-Enhancer\\\\\n",
       "\t18 & 0.000000 & 1.13595 & 0.865892 & 0.000000 & Non-Enhancer\\\\\n",
       "\t19 & 0.000000 & 0.00000 & 0.000000 & 0.000000 & Enhancer    \\\\\n",
       "\t20 & 0.000000 & 1.13595 & 0.000000 & 0.000000 & Enhancer    \\\\\n",
       "\t21 & 0.000000 & 0.00000 & 0.000000 & 0.000000 & Non-Enhancer\\\\\n",
       "\t22 & 0.734144 & 0.00000 & 0.000000 & 0.000000 & Enhancer    \\\\\n",
       "\t23 & 0.000000 & 0.00000 & 0.000000 & 0.000000 & Non-Enhancer\\\\\n",
       "\t24 & 0.000000 & 1.13595 & 0.000000 & 0.000000 & Enhancer    \\\\\n",
       "\t25 & 0.000000 & 0.00000 & 0.000000 & 0.000000 & Non-Enhancer\\\\\n",
       "\t26 & 0.000000 & 0.00000 & 0.000000 & 0.809057 & Non-Enhancer\\\\\n",
       "\t27 & 0.000000 & 0.00000 & 0.000000 & 0.000000 & Enhancer    \\\\\n",
       "\t28 & 0.000000 & 1.13595 & 0.000000 & 0.000000 & Non-Enhancer\\\\\n",
       "\t29 & 0.000000 & 0.00000 & 0.000000 & 0.000000 & Enhancer    \\\\\n",
       "\t30 & 0.000000 & 0.00000 & 0.000000 & 0.809057 & Non-Enhancer\\\\\n",
       "\t31 & 0.000000 & 0.00000 & 0.000000 & 0.000000 & Enhancer    \\\\\n",
       "\t⋮ & ⋮ & ⋮ & ⋮ & ⋮ & ⋮\\\\\n",
       "\t19002130 & 2.202430 & 0.00000 & 0.000000 & 0.000000 & Enhancer    \\\\\n",
       "\t19002131 & 0.000000 & 0.00000 & 0.000000 & 0.000000 & Enhancer    \\\\\n",
       "\t19002132 & 0.000000 & 1.13595 & 0.000000 & 0.000000 & Enhancer    \\\\\n",
       "\t19002133 & 0.000000 & 0.00000 & 0.000000 & 0.000000 & Non-Enhancer\\\\\n",
       "\t19002134 & 0.000000 & 0.00000 & 0.000000 & 0.809057 & Non-Enhancer\\\\\n",
       "\t19002135 & 1.468290 & 0.00000 & 0.000000 & 2.427170 & Non-Enhancer\\\\\n",
       "\t19002136 & 1.468290 & 0.00000 & 0.000000 & 0.000000 & Non-Enhancer\\\\\n",
       "\t19002137 & 0.000000 & 0.00000 & 0.000000 & 0.000000 & Non-Enhancer\\\\\n",
       "\t19002138 & 1.468290 & 0.00000 & 0.865892 & 0.000000 & Non-Enhancer\\\\\n",
       "\t19002139 & 0.000000 & 0.00000 & 0.000000 & 0.000000 & Enhancer    \\\\\n",
       "\t19002140 & 0.734144 & 0.00000 & 0.865892 & 0.000000 & Enhancer    \\\\\n",
       "\t19002141 & 0.734144 & 0.00000 & 0.000000 & 0.000000 & Non-Enhancer\\\\\n",
       "\t19002142 & 0.000000 & 0.00000 & 0.000000 & 0.000000 & Non-Enhancer\\\\\n",
       "\t19002143 & 0.734144 & 0.00000 & 0.865892 & 0.000000 & Non-Enhancer\\\\\n",
       "\t19002144 & 0.000000 & 0.00000 & 0.000000 & 0.000000 & Enhancer    \\\\\n",
       "\t19002145 & 0.734144 & 0.00000 & 0.000000 & 0.000000 & Enhancer    \\\\\n",
       "\t19002146 & 0.000000 & 0.00000 & 0.000000 & 0.000000 & Enhancer    \\\\\n",
       "\t19002147 & 0.000000 & 0.00000 & 0.865892 & 0.809057 & Non-Enhancer\\\\\n",
       "\t19002148 & 0.000000 & 0.00000 & 0.865892 & 0.000000 & Enhancer    \\\\\n",
       "\t19002149 & 0.000000 & 0.00000 & 0.000000 & 0.000000 & Enhancer    \\\\\n",
       "\t19002150 & 0.000000 & 1.13595 & 0.000000 & 0.000000 & Enhancer    \\\\\n",
       "\t19002151 & 0.000000 & 0.00000 & 0.000000 & 0.000000 & Non-Enhancer\\\\\n",
       "\t19002152 & 0.734144 & 0.00000 & 0.000000 & 0.000000 & Enhancer    \\\\\n",
       "\t19002153 & 0.000000 & 0.00000 & 0.000000 & 0.000000 & Enhancer    \\\\\n",
       "\t19002154 & 0.000000 & 1.13595 & 0.000000 & 0.000000 & Non-Enhancer\\\\\n",
       "\t19002155 & 0.000000 & 0.00000 & 0.000000 & 0.000000 & Enhancer    \\\\\n",
       "\t19002156 & 0.000000 & 0.00000 & 0.000000 & 0.809057 & Non-Enhancer\\\\\n",
       "\t19002157 & 0.000000 & 0.00000 & 0.000000 & 0.000000 & Enhancer    \\\\\n",
       "\t19002158 & 0.000000 & 0.00000 & 0.000000 & 0.809057 & Enhancer    \\\\\n",
       "\t19002159 & 0.000000 & 0.00000 & 0.000000 & 0.000000 & Non-Enhancer\\\\\n",
       "\\end{tabular}\n"
      ],
      "text/markdown": [
       "\n",
       "A data.frame: 19002143 × 5\n",
       "\n",
       "| <!--/--> | peaks_h3k4me3 &lt;dbl&gt; | peaks_h3k4me2 &lt;dbl&gt; | peaks_h3k4me1 &lt;dbl&gt; | peaks_h3k27ac &lt;dbl&gt; | class &lt;chr&gt; |\n",
       "|---|---|---|---|---|---|\n",
       "| 2 | 0.000000 | 0.00000 | 0.000000 | 0.000000 | Enhancer     |\n",
       "| 3 | 0.000000 | 1.13595 | 0.000000 | 0.000000 | Non-Enhancer |\n",
       "| 4 | 0.000000 | 0.00000 | 0.000000 | 0.000000 | Enhancer     |\n",
       "| 5 | 0.000000 | 1.13595 | 0.000000 | 0.000000 | Non-Enhancer |\n",
       "| 6 | 0.000000 | 0.00000 | 0.000000 | 0.000000 | Non-Enhancer |\n",
       "| 7 | 0.000000 | 1.13595 | 0.000000 | 0.000000 | Non-Enhancer |\n",
       "| 8 | 0.000000 | 0.00000 | 0.000000 | 0.000000 | Enhancer     |\n",
       "| 9 | 0.000000 | 1.13595 | 0.000000 | 0.000000 | Enhancer     |\n",
       "| 10 | 0.000000 | 0.00000 | 0.000000 | 0.000000 | Non-Enhancer |\n",
       "| 11 | 0.000000 | 1.13595 | 0.000000 | 0.000000 | Non-Enhancer |\n",
       "| 12 | 0.000000 | 0.00000 | 0.000000 | 0.000000 | Non-Enhancer |\n",
       "| 13 | 0.000000 | 1.13595 | 0.865892 | 0.000000 | Enhancer     |\n",
       "| 14 | 0.000000 | 0.00000 | 0.000000 | 0.000000 | Enhancer     |\n",
       "| 15 | 0.000000 | 0.00000 | 0.000000 | 0.809057 | Enhancer     |\n",
       "| 16 | 0.000000 | 0.00000 | 0.000000 | 0.000000 | Enhancer     |\n",
       "| 17 | 0.000000 | 1.13595 | 1.731780 | 0.809057 | Non-Enhancer |\n",
       "| 18 | 0.000000 | 1.13595 | 0.865892 | 0.000000 | Non-Enhancer |\n",
       "| 19 | 0.000000 | 0.00000 | 0.000000 | 0.000000 | Enhancer     |\n",
       "| 20 | 0.000000 | 1.13595 | 0.000000 | 0.000000 | Enhancer     |\n",
       "| 21 | 0.000000 | 0.00000 | 0.000000 | 0.000000 | Non-Enhancer |\n",
       "| 22 | 0.734144 | 0.00000 | 0.000000 | 0.000000 | Enhancer     |\n",
       "| 23 | 0.000000 | 0.00000 | 0.000000 | 0.000000 | Non-Enhancer |\n",
       "| 24 | 0.000000 | 1.13595 | 0.000000 | 0.000000 | Enhancer     |\n",
       "| 25 | 0.000000 | 0.00000 | 0.000000 | 0.000000 | Non-Enhancer |\n",
       "| 26 | 0.000000 | 0.00000 | 0.000000 | 0.809057 | Non-Enhancer |\n",
       "| 27 | 0.000000 | 0.00000 | 0.000000 | 0.000000 | Enhancer     |\n",
       "| 28 | 0.000000 | 1.13595 | 0.000000 | 0.000000 | Non-Enhancer |\n",
       "| 29 | 0.000000 | 0.00000 | 0.000000 | 0.000000 | Enhancer     |\n",
       "| 30 | 0.000000 | 0.00000 | 0.000000 | 0.809057 | Non-Enhancer |\n",
       "| 31 | 0.000000 | 0.00000 | 0.000000 | 0.000000 | Enhancer     |\n",
       "| ⋮ | ⋮ | ⋮ | ⋮ | ⋮ | ⋮ |\n",
       "| 19002130 | 2.202430 | 0.00000 | 0.000000 | 0.000000 | Enhancer     |\n",
       "| 19002131 | 0.000000 | 0.00000 | 0.000000 | 0.000000 | Enhancer     |\n",
       "| 19002132 | 0.000000 | 1.13595 | 0.000000 | 0.000000 | Enhancer     |\n",
       "| 19002133 | 0.000000 | 0.00000 | 0.000000 | 0.000000 | Non-Enhancer |\n",
       "| 19002134 | 0.000000 | 0.00000 | 0.000000 | 0.809057 | Non-Enhancer |\n",
       "| 19002135 | 1.468290 | 0.00000 | 0.000000 | 2.427170 | Non-Enhancer |\n",
       "| 19002136 | 1.468290 | 0.00000 | 0.000000 | 0.000000 | Non-Enhancer |\n",
       "| 19002137 | 0.000000 | 0.00000 | 0.000000 | 0.000000 | Non-Enhancer |\n",
       "| 19002138 | 1.468290 | 0.00000 | 0.865892 | 0.000000 | Non-Enhancer |\n",
       "| 19002139 | 0.000000 | 0.00000 | 0.000000 | 0.000000 | Enhancer     |\n",
       "| 19002140 | 0.734144 | 0.00000 | 0.865892 | 0.000000 | Enhancer     |\n",
       "| 19002141 | 0.734144 | 0.00000 | 0.000000 | 0.000000 | Non-Enhancer |\n",
       "| 19002142 | 0.000000 | 0.00000 | 0.000000 | 0.000000 | Non-Enhancer |\n",
       "| 19002143 | 0.734144 | 0.00000 | 0.865892 | 0.000000 | Non-Enhancer |\n",
       "| 19002144 | 0.000000 | 0.00000 | 0.000000 | 0.000000 | Enhancer     |\n",
       "| 19002145 | 0.734144 | 0.00000 | 0.000000 | 0.000000 | Enhancer     |\n",
       "| 19002146 | 0.000000 | 0.00000 | 0.000000 | 0.000000 | Enhancer     |\n",
       "| 19002147 | 0.000000 | 0.00000 | 0.865892 | 0.809057 | Non-Enhancer |\n",
       "| 19002148 | 0.000000 | 0.00000 | 0.865892 | 0.000000 | Enhancer     |\n",
       "| 19002149 | 0.000000 | 0.00000 | 0.000000 | 0.000000 | Enhancer     |\n",
       "| 19002150 | 0.000000 | 1.13595 | 0.000000 | 0.000000 | Enhancer     |\n",
       "| 19002151 | 0.000000 | 0.00000 | 0.000000 | 0.000000 | Non-Enhancer |\n",
       "| 19002152 | 0.734144 | 0.00000 | 0.000000 | 0.000000 | Enhancer     |\n",
       "| 19002153 | 0.000000 | 0.00000 | 0.000000 | 0.000000 | Enhancer     |\n",
       "| 19002154 | 0.000000 | 1.13595 | 0.000000 | 0.000000 | Non-Enhancer |\n",
       "| 19002155 | 0.000000 | 0.00000 | 0.000000 | 0.000000 | Enhancer     |\n",
       "| 19002156 | 0.000000 | 0.00000 | 0.000000 | 0.809057 | Non-Enhancer |\n",
       "| 19002157 | 0.000000 | 0.00000 | 0.000000 | 0.000000 | Enhancer     |\n",
       "| 19002158 | 0.000000 | 0.00000 | 0.000000 | 0.809057 | Enhancer     |\n",
       "| 19002159 | 0.000000 | 0.00000 | 0.000000 | 0.000000 | Non-Enhancer |\n",
       "\n"
      ],
      "text/plain": [
       "         peaks_h3k4me3 peaks_h3k4me2 peaks_h3k4me1 peaks_h3k27ac class       \n",
       "2        0.000000      0.00000       0.000000      0.000000      Enhancer    \n",
       "3        0.000000      1.13595       0.000000      0.000000      Non-Enhancer\n",
       "4        0.000000      0.00000       0.000000      0.000000      Enhancer    \n",
       "5        0.000000      1.13595       0.000000      0.000000      Non-Enhancer\n",
       "6        0.000000      0.00000       0.000000      0.000000      Non-Enhancer\n",
       "7        0.000000      1.13595       0.000000      0.000000      Non-Enhancer\n",
       "8        0.000000      0.00000       0.000000      0.000000      Enhancer    \n",
       "9        0.000000      1.13595       0.000000      0.000000      Enhancer    \n",
       "10       0.000000      0.00000       0.000000      0.000000      Non-Enhancer\n",
       "11       0.000000      1.13595       0.000000      0.000000      Non-Enhancer\n",
       "12       0.000000      0.00000       0.000000      0.000000      Non-Enhancer\n",
       "13       0.000000      1.13595       0.865892      0.000000      Enhancer    \n",
       "14       0.000000      0.00000       0.000000      0.000000      Enhancer    \n",
       "15       0.000000      0.00000       0.000000      0.809057      Enhancer    \n",
       "16       0.000000      0.00000       0.000000      0.000000      Enhancer    \n",
       "17       0.000000      1.13595       1.731780      0.809057      Non-Enhancer\n",
       "18       0.000000      1.13595       0.865892      0.000000      Non-Enhancer\n",
       "19       0.000000      0.00000       0.000000      0.000000      Enhancer    \n",
       "20       0.000000      1.13595       0.000000      0.000000      Enhancer    \n",
       "21       0.000000      0.00000       0.000000      0.000000      Non-Enhancer\n",
       "22       0.734144      0.00000       0.000000      0.000000      Enhancer    \n",
       "23       0.000000      0.00000       0.000000      0.000000      Non-Enhancer\n",
       "24       0.000000      1.13595       0.000000      0.000000      Enhancer    \n",
       "25       0.000000      0.00000       0.000000      0.000000      Non-Enhancer\n",
       "26       0.000000      0.00000       0.000000      0.809057      Non-Enhancer\n",
       "27       0.000000      0.00000       0.000000      0.000000      Enhancer    \n",
       "28       0.000000      1.13595       0.000000      0.000000      Non-Enhancer\n",
       "29       0.000000      0.00000       0.000000      0.000000      Enhancer    \n",
       "30       0.000000      0.00000       0.000000      0.809057      Non-Enhancer\n",
       "31       0.000000      0.00000       0.000000      0.000000      Enhancer    \n",
       "⋮        ⋮             ⋮             ⋮             ⋮             ⋮           \n",
       "19002130 2.202430      0.00000       0.000000      0.000000      Enhancer    \n",
       "19002131 0.000000      0.00000       0.000000      0.000000      Enhancer    \n",
       "19002132 0.000000      1.13595       0.000000      0.000000      Enhancer    \n",
       "19002133 0.000000      0.00000       0.000000      0.000000      Non-Enhancer\n",
       "19002134 0.000000      0.00000       0.000000      0.809057      Non-Enhancer\n",
       "19002135 1.468290      0.00000       0.000000      2.427170      Non-Enhancer\n",
       "19002136 1.468290      0.00000       0.000000      0.000000      Non-Enhancer\n",
       "19002137 0.000000      0.00000       0.000000      0.000000      Non-Enhancer\n",
       "19002138 1.468290      0.00000       0.865892      0.000000      Non-Enhancer\n",
       "19002139 0.000000      0.00000       0.000000      0.000000      Enhancer    \n",
       "19002140 0.734144      0.00000       0.865892      0.000000      Enhancer    \n",
       "19002141 0.734144      0.00000       0.000000      0.000000      Non-Enhancer\n",
       "19002142 0.000000      0.00000       0.000000      0.000000      Non-Enhancer\n",
       "19002143 0.734144      0.00000       0.865892      0.000000      Non-Enhancer\n",
       "19002144 0.000000      0.00000       0.000000      0.000000      Enhancer    \n",
       "19002145 0.734144      0.00000       0.000000      0.000000      Enhancer    \n",
       "19002146 0.000000      0.00000       0.000000      0.000000      Enhancer    \n",
       "19002147 0.000000      0.00000       0.865892      0.809057      Non-Enhancer\n",
       "19002148 0.000000      0.00000       0.865892      0.000000      Enhancer    \n",
       "19002149 0.000000      0.00000       0.000000      0.000000      Enhancer    \n",
       "19002150 0.000000      1.13595       0.000000      0.000000      Enhancer    \n",
       "19002151 0.000000      0.00000       0.000000      0.000000      Non-Enhancer\n",
       "19002152 0.734144      0.00000       0.000000      0.000000      Enhancer    \n",
       "19002153 0.000000      0.00000       0.000000      0.000000      Enhancer    \n",
       "19002154 0.000000      1.13595       0.000000      0.000000      Non-Enhancer\n",
       "19002155 0.000000      0.00000       0.000000      0.000000      Enhancer    \n",
       "19002156 0.000000      0.00000       0.000000      0.809057      Non-Enhancer\n",
       "19002157 0.000000      0.00000       0.000000      0.000000      Enhancer    \n",
       "19002158 0.000000      0.00000       0.000000      0.809057      Enhancer    \n",
       "19002159 0.000000      0.00000       0.000000      0.000000      Non-Enhancer"
      ]
     },
     "metadata": {},
     "output_type": "display_data"
    }
   ],
   "source": [
    "## For fair results, let's make sure that no \"NA\" values exist.\n",
    "na.omit(test)\n",
    "\n",
    "## Min-Max normalization\n",
    "\n",
    "test$peaks_h3k4me3 <- (test$peaks_h3k4me3-min(test$peaks_h3k4me3, na.rm = T))/(max(test$peaks_h3k4me3, na.rm = T)-min(test$peaks_h3k4me3, na.rm = T))\n",
    "test$peaks_h3k4me2 <- (test$peaks_h3k4me2-min(test$peaks_h3k4me2, na.rm = T))/(max(test$peaks_h3k4me2, na.rm = T)-min(test$peaks_h3k4me2, na.rm = T))\n",
    "test$peaks_h3k4me1 <- (test$peaks_h3k4me1-min(test$peaks_h3k4me1, na.rm = T))/(max(test$peaks_h3k4me1, na.rm = T)-min(test$peaks_h3k4me1, na.rm = T))\n",
    "test$peaks_h3k27ac <- (test$peaks_h3k27ac-min(test$peaks_h3k27ac, na.rm = T))/(max(test$peaks_h3k27ac, na.rm = T)-min(test$peaks_h3k27ac, na.rm = T))\n"
   ]
  },
  {
   "cell_type": "markdown",
   "metadata": {},
   "source": [
    "Now, let's check the data again."
   ]
  },
  {
   "cell_type": "code",
   "execution_count": 5,
   "metadata": {},
   "outputs": [
    {
     "data": {
      "text/html": [
       "<table>\n",
       "<caption>A data.frame: 6 × 5</caption>\n",
       "<thead>\n",
       "\t<tr><th></th><th scope=col>peaks_h3k4me3</th><th scope=col>peaks_h3k4me2</th><th scope=col>peaks_h3k4me1</th><th scope=col>peaks_h3k27ac</th><th scope=col>class</th></tr>\n",
       "\t<tr><th></th><th scope=col>&lt;dbl&gt;</th><th scope=col>&lt;dbl&gt;</th><th scope=col>&lt;dbl&gt;</th><th scope=col>&lt;dbl&gt;</th><th scope=col>&lt;chr&gt;</th></tr>\n",
       "</thead>\n",
       "<tbody>\n",
       "\t<tr><th scope=row>2</th><td>0</td><td>0.000000000</td><td>0</td><td>0</td><td>Enhancer    </td></tr>\n",
       "\t<tr><th scope=row>3</th><td>0</td><td>0.008620703</td><td>0</td><td>0</td><td>Non-Enhancer</td></tr>\n",
       "\t<tr><th scope=row>4</th><td>0</td><td>0.000000000</td><td>0</td><td>0</td><td>Enhancer    </td></tr>\n",
       "\t<tr><th scope=row>5</th><td>0</td><td>0.008620703</td><td>0</td><td>0</td><td>Non-Enhancer</td></tr>\n",
       "\t<tr><th scope=row>6</th><td>0</td><td>0.000000000</td><td>0</td><td>0</td><td>Non-Enhancer</td></tr>\n",
       "\t<tr><th scope=row>7</th><td>0</td><td>0.008620703</td><td>0</td><td>0</td><td>Non-Enhancer</td></tr>\n",
       "</tbody>\n",
       "</table>\n"
      ],
      "text/latex": [
       "A data.frame: 6 × 5\n",
       "\\begin{tabular}{r|lllll}\n",
       "  & peaks\\_h3k4me3 & peaks\\_h3k4me2 & peaks\\_h3k4me1 & peaks\\_h3k27ac & class\\\\\n",
       "  & <dbl> & <dbl> & <dbl> & <dbl> & <chr>\\\\\n",
       "\\hline\n",
       "\t2 & 0 & 0.000000000 & 0 & 0 & Enhancer    \\\\\n",
       "\t3 & 0 & 0.008620703 & 0 & 0 & Non-Enhancer\\\\\n",
       "\t4 & 0 & 0.000000000 & 0 & 0 & Enhancer    \\\\\n",
       "\t5 & 0 & 0.008620703 & 0 & 0 & Non-Enhancer\\\\\n",
       "\t6 & 0 & 0.000000000 & 0 & 0 & Non-Enhancer\\\\\n",
       "\t7 & 0 & 0.008620703 & 0 & 0 & Non-Enhancer\\\\\n",
       "\\end{tabular}\n"
      ],
      "text/markdown": [
       "\n",
       "A data.frame: 6 × 5\n",
       "\n",
       "| <!--/--> | peaks_h3k4me3 &lt;dbl&gt; | peaks_h3k4me2 &lt;dbl&gt; | peaks_h3k4me1 &lt;dbl&gt; | peaks_h3k27ac &lt;dbl&gt; | class &lt;chr&gt; |\n",
       "|---|---|---|---|---|---|\n",
       "| 2 | 0 | 0.000000000 | 0 | 0 | Enhancer     |\n",
       "| 3 | 0 | 0.008620703 | 0 | 0 | Non-Enhancer |\n",
       "| 4 | 0 | 0.000000000 | 0 | 0 | Enhancer     |\n",
       "| 5 | 0 | 0.008620703 | 0 | 0 | Non-Enhancer |\n",
       "| 6 | 0 | 0.000000000 | 0 | 0 | Non-Enhancer |\n",
       "| 7 | 0 | 0.008620703 | 0 | 0 | Non-Enhancer |\n",
       "\n"
      ],
      "text/plain": [
       "  peaks_h3k4me3 peaks_h3k4me2 peaks_h3k4me1 peaks_h3k27ac class       \n",
       "2 0             0.000000000   0             0             Enhancer    \n",
       "3 0             0.008620703   0             0             Non-Enhancer\n",
       "4 0             0.000000000   0             0             Enhancer    \n",
       "5 0             0.008620703   0             0             Non-Enhancer\n",
       "6 0             0.000000000   0             0             Non-Enhancer\n",
       "7 0             0.008620703   0             0             Non-Enhancer"
      ]
     },
     "metadata": {},
     "output_type": "display_data"
    }
   ],
   "source": [
    "head(test)"
   ]
  },
  {
   "cell_type": "markdown",
   "metadata": {},
   "source": [
    "#### Transcription Start Sites  (TSS)"
   ]
  },
  {
   "cell_type": "markdown",
   "metadata": {},
   "source": [
    "According to Wikipedia, an enhancer is a short (50-1500 bp) region of the DNA that can be bound by proteins. They can be located quite far from the promoter sequences of the genes that house the TSS. The transcription start sites' indices (start and end positions) are 'constant' throughout the genome. The gene positioning is the same across, rather the discrepenacy in distinct cell types is with the set of genes that get regulated. One source of downloading the TSS data is 'Ensembl Biomart'.\n",
    "> Step 1: Choose 'Human genes' under 'Dataset' tab on the left pane.\n",
    "> Step 2: Under 'Attributes', select\n",
    "    (i) Chromosome/ scaffold name\n",
    "    (ii) Transcript start (bp)\n",
    "    (iii) Transcript end (bp)\n",
    "> Step 3: Click on 'Results' button and download appropriately.  \n",
    "The other sources are refTSS and DBTSS databases. "
   ]
  },
  {
   "cell_type": "code",
   "execution_count": 8,
   "metadata": {},
   "outputs": [
    {
     "ename": "ERROR",
     "evalue": "Error: the error derivative contains a NA; varify that the derivative function does not divide by 0 (e.g. cross entropy)\n",
     "output_type": "error",
     "traceback": [
      "Error: the error derivative contains a NA; varify that the derivative function does not divide by 0 (e.g. cross entropy)\nTraceback:\n",
      "1. neuralnet(class ~ peaks_h3k4me3 + peaks_h3k4me2 + peaks_h3k4me1 + \n .     peaks_h3k27ac, data = training, hidden = 5, err.fct = \"ce\", \n .     act.fct = \"logistic\", linear.output = FALSE)",
      "2. lapply(1:rep, function(i) {\n .     if (lifesign != \"none\") {\n .         lifesign <- display(hidden, threshold, rep, i, lifesign)\n .     }\n .     calculate.neuralnet(learningrate.limit = learningrate.limit, \n .         learningrate.factor = learningrate.factor, covariate = covariate, \n .         response = response, data = data, model.list = model.list, \n .         threshold = threshold, lifesign.step = lifesign.step, \n .         stepmax = stepmax, hidden = hidden, lifesign = lifesign, \n .         startweights = startweights, algorithm = algorithm, err.fct = err.fct, \n .         err.deriv.fct = err.deriv.fct, act.fct = act.fct, act.deriv.fct = act.deriv.fct, \n .         rep = i, linear.output = linear.output, exclude = exclude, \n .         constant.weights = constant.weights, likelihood = likelihood, \n .         learningrate.bp = learningrate)\n . })",
      "3. FUN(X[[i]], ...)",
      "4. calculate.neuralnet(learningrate.limit = learningrate.limit, \n .     learningrate.factor = learningrate.factor, covariate = covariate, \n .     response = response, data = data, model.list = model.list, \n .     threshold = threshold, lifesign.step = lifesign.step, stepmax = stepmax, \n .     hidden = hidden, lifesign = lifesign, startweights = startweights, \n .     algorithm = algorithm, err.fct = err.fct, err.deriv.fct = err.deriv.fct, \n .     act.fct = act.fct, act.deriv.fct = act.deriv.fct, rep = i, \n .     linear.output = linear.output, exclude = exclude, constant.weights = constant.weights, \n .     likelihood = likelihood, learningrate.bp = learningrate)",
      "5. rprop(weights = weights, threshold = threshold, response = response, \n .     covariate = covariate, learningrate.limit = learningrate.limit, \n .     learningrate.factor = learningrate.factor, stepmax = stepmax, \n .     lifesign = lifesign, lifesign.step = lifesign.step, act.fct = act.fct, \n .     act.deriv.fct = act.deriv.fct, err.fct = err.fct, err.deriv.fct = err.deriv.fct, \n .     algorithm = algorithm, linear.output = linear.output, exclude = exclude, \n .     learningrate.bp = learningrate.bp)",
      "6. calculate.gradients(weights = weights, length.weights = length.weights, \n .     neurons = result$neurons, neuron.deriv = result$neuron.deriv, \n .     err.deriv = err.deriv, exclude = exclude, linear.output = linear.output)",
      "7. stop(\"the error derivative contains a NA; varify that the derivative function does not divide by 0 (e.g. cross entropy)\", \n .     call. = FALSE)"
     ]
    }
   ],
   "source": [
    "# Data Partition\n",
    "set.seed(108)\n",
    "ind <- sample(2, nrow(test), replace = TRUE, prob = c(0.7, 0.3))\n",
    "training <- test[ind==1,]\n",
    "testing <- test[ind==2,]\n",
    "\n",
    "# Neural Networks\n",
    "set.seed(007)\n",
    "nn <- neuralnet(class~peaks_h3k4me3+peaks_h3k4me2+peaks_h3k4me1+peaks_h3k27ac,\n",
    "               data = training,\n",
    "               hidden = 5,\n",
    "               err.fct = \"sse\",\n",
    "               act.fct = \"logistic\",\n",
    "               linear.output = FALSE)\n",
    "plot(nn)"
   ]
  },
  {
   "cell_type": "markdown",
   "metadata": {},
   "source": [
    "## References"
   ]
  },
  {
   "cell_type": "markdown",
   "metadata": {},
   "source": [
    "> Kim, S. G., Harwani, M., Grama, A., & Chaterji, S. (2016). EP-DNN : A Deep Neural Network- Based Global Enhancer Prediction Algorithm. Nature Publishing Group, (November), 1–13. https://doi.org/10.1038/srep38433"
   ]
  }
 ],
 "metadata": {
  "kernelspec": {
   "display_name": "R",
   "language": "R",
   "name": "ir"
  },
  "language_info": {
   "codemirror_mode": "r",
   "file_extension": ".r",
   "mimetype": "text/x-r-source",
   "name": "R",
   "pygments_lexer": "r",
   "version": "3.6.0"
  }
 },
 "nbformat": 4,
 "nbformat_minor": 2
}
