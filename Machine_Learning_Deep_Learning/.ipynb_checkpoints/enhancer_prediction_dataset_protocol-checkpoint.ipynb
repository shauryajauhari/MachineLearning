{
 "cells": [
  {
   "cell_type": "markdown",
   "metadata": {},
   "source": [
    "## Dataset Preparation"
   ]
  },
  {
   "cell_type": "markdown",
   "metadata": {},
   "source": [
    "The overall selection of data and the analysis protocol has been loosely borrowed from Kim et al. (2016). Typically for a machine learning problem, we shall have a dataset (consolidated, with class and variable/ feature definitions) and that'll be bifurcated (typically in 3:7 or 2:8 proportions) to be used as testing and training sets respectively. Contrarily, in this study both the categories have been sourced differently as you'll see.\n",
    "In this exercise, we shall have positive and negative training examples for the training dataset but only positive examples for the test dataset. And that is perfectively fine."
   ]
  },
  {
   "cell_type": "markdown",
   "metadata": {},
   "source": [
    "<img src=\"./props/Data_Schema.jpg\">"
   ]
  },
  {
   "cell_type": "markdown",
   "metadata": {},
   "source": [
    "### Testing Data"
   ]
  },
  {
   "cell_type": "markdown",
   "metadata": {},
   "source": [
    "For testing data, we consider data only for enhancers. Even with this data, we shall be able to evaluate the model's veracity of predicting positive examples. "
   ]
  },
  {
   "cell_type": "markdown",
   "metadata": {},
   "source": [
    "As noted, the primary step is to source the BAM files, index them, and finally tranform into BEDGRAPH files. The column naming is done appropriately. "
   ]
  },
  {
   "cell_type": "code",
   "execution_count": 2,
   "metadata": {},
   "outputs": [],
   "source": [
    "h3k27ac <- read.csv(\"./data/H1_Cell_Line/H3K27ac/ENCFF663SAM.bw\", sep = '\\t', header = FALSE)\n",
    "colnames(h3k27ac) <- c(\"chrom\",\"start\",\"end\",\"peaks\")\n",
    "h3k4me3 <- read.csv(\"./data/H1_Cell_Line/H3K4me3/ENCFF340UJK.bw\", sep = '\\t', header = FALSE)\n",
    "colnames(h3k4me3) <- c(\"chrom\",\"start\",\"end\",\"peaks\")\n",
    "h3k4me2 <- read.csv(\"./data/H1_Cell_Line/H3K4me2/ENCFF799BDH.bw\", sep = '\\t', header = FALSE)\n",
    "colnames(h3k4me2) <- c(\"chrom\",\"start\",\"end\",\"peaks\")\n",
    "h3k4me1 <- read.csv(\"./data/H1_Cell_Line/H3K4me1/ENCFF441KOL.bw\", sep = '\\t', header = FALSE)\n",
    "colnames(h3k4me1) <- c(\"chrom\",\"start\",\"end\",\"peaks\")"
   ]
  },
  {
   "cell_type": "markdown",
   "metadata": {},
   "source": [
    "These files (with extension **.bw**) are eventually imported to the online Galaxy interface and executed for the *bedtools Merge* function. The four files showcasing various histone markers for enhancer data are merged together on the basis of overlapping intervals to get a matrix of peak counts that act as features to the 'enhancer' class. "
   ]
  },
  {
   "cell_type": "markdown",
   "metadata": {},
   "source": [
    "The resultant file is eventually imported back to R for further processing."
   ]
  },
  {
   "cell_type": "code",
   "execution_count": 2,
   "metadata": {},
   "outputs": [
    {
     "data": {
      "text/html": [
       "<table>\n",
       "<caption>A data.frame: 6 × 7</caption>\n",
       "<thead>\n",
       "\t<tr><th scope=col>chrom</th><th scope=col>start</th><th scope=col>end</th><th scope=col>peaks_h3k27ac</th><th scope=col>peaks_h3k4me3</th><th scope=col>peaks_h3k4me2</th><th scope=col>peaks_h3k4me1</th></tr>\n",
       "\t<tr><th scope=col>&lt;fct&gt;</th><th scope=col>&lt;int&gt;</th><th scope=col>&lt;int&gt;</th><th scope=col>&lt;dbl&gt;</th><th scope=col>&lt;dbl&gt;</th><th scope=col>&lt;dbl&gt;</th><th scope=col>&lt;dbl&gt;</th></tr>\n",
       "</thead>\n",
       "<tbody>\n",
       "\t<tr><td>chr1</td><td>    0</td><td> 8000</td><td>0.0000000</td><td>0</td><td>0</td><td>0</td></tr>\n",
       "\t<tr><td>chr1</td><td> 8000</td><td>12000</td><td>0.0567974</td><td>0</td><td>0</td><td>0</td></tr>\n",
       "\t<tr><td>chr1</td><td>12000</td><td>16000</td><td>0.0000000</td><td>0</td><td>0</td><td>0</td></tr>\n",
       "\t<tr><td>chr1</td><td>16000</td><td>18000</td><td>0.0567974</td><td>0</td><td>0</td><td>0</td></tr>\n",
       "\t<tr><td>chr1</td><td>18000</td><td>40000</td><td>0.0000000</td><td>0</td><td>0</td><td>0</td></tr>\n",
       "\t<tr><td>chr1</td><td>40000</td><td>42000</td><td>0.0567974</td><td>0</td><td>0</td><td>0</td></tr>\n",
       "</tbody>\n",
       "</table>\n"
      ],
      "text/latex": [
       "A data.frame: 6 × 7\n",
       "\\begin{tabular}{r|lllllll}\n",
       " chrom & start & end & peaks\\_h3k27ac & peaks\\_h3k4me3 & peaks\\_h3k4me2 & peaks\\_h3k4me1\\\\\n",
       " <fct> & <int> & <int> & <dbl> & <dbl> & <dbl> & <dbl>\\\\\n",
       "\\hline\n",
       "\t chr1 &     0 &  8000 & 0.0000000 & 0 & 0 & 0\\\\\n",
       "\t chr1 &  8000 & 12000 & 0.0567974 & 0 & 0 & 0\\\\\n",
       "\t chr1 & 12000 & 16000 & 0.0000000 & 0 & 0 & 0\\\\\n",
       "\t chr1 & 16000 & 18000 & 0.0567974 & 0 & 0 & 0\\\\\n",
       "\t chr1 & 18000 & 40000 & 0.0000000 & 0 & 0 & 0\\\\\n",
       "\t chr1 & 40000 & 42000 & 0.0567974 & 0 & 0 & 0\\\\\n",
       "\\end{tabular}\n"
      ],
      "text/markdown": [
       "\n",
       "A data.frame: 6 × 7\n",
       "\n",
       "| chrom &lt;fct&gt; | start &lt;int&gt; | end &lt;int&gt; | peaks_h3k27ac &lt;dbl&gt; | peaks_h3k4me3 &lt;dbl&gt; | peaks_h3k4me2 &lt;dbl&gt; | peaks_h3k4me1 &lt;dbl&gt; |\n",
       "|---|---|---|---|---|---|---|\n",
       "| chr1 |     0 |  8000 | 0.0000000 | 0 | 0 | 0 |\n",
       "| chr1 |  8000 | 12000 | 0.0567974 | 0 | 0 | 0 |\n",
       "| chr1 | 12000 | 16000 | 0.0000000 | 0 | 0 | 0 |\n",
       "| chr1 | 16000 | 18000 | 0.0567974 | 0 | 0 | 0 |\n",
       "| chr1 | 18000 | 40000 | 0.0000000 | 0 | 0 | 0 |\n",
       "| chr1 | 40000 | 42000 | 0.0567974 | 0 | 0 | 0 |\n",
       "\n"
      ],
      "text/plain": [
       "  chrom start end   peaks_h3k27ac peaks_h3k4me3 peaks_h3k4me2 peaks_h3k4me1\n",
       "1 chr1      0  8000 0.0000000     0             0             0            \n",
       "2 chr1   8000 12000 0.0567974     0             0             0            \n",
       "3 chr1  12000 16000 0.0000000     0             0             0            \n",
       "4 chr1  16000 18000 0.0567974     0             0             0            \n",
       "5 chr1  18000 40000 0.0000000     0             0             0            \n",
       "6 chr1  40000 42000 0.0567974     0             0             0            "
      ]
     },
     "metadata": {},
     "output_type": "display_data"
    },
    {
     "data": {
      "text/html": [
       "<table>\n",
       "<caption>A data.frame: 6 × 8</caption>\n",
       "<thead>\n",
       "\t<tr><th scope=col>chrom</th><th scope=col>start</th><th scope=col>end</th><th scope=col>peaks_h3k27ac</th><th scope=col>peaks_h3k4me3</th><th scope=col>peaks_h3k4me2</th><th scope=col>peaks_h3k4me1</th><th scope=col>class</th></tr>\n",
       "\t<tr><th scope=col>&lt;fct&gt;</th><th scope=col>&lt;int&gt;</th><th scope=col>&lt;int&gt;</th><th scope=col>&lt;dbl&gt;</th><th scope=col>&lt;dbl&gt;</th><th scope=col>&lt;dbl&gt;</th><th scope=col>&lt;dbl&gt;</th><th scope=col>&lt;chr&gt;</th></tr>\n",
       "</thead>\n",
       "<tbody>\n",
       "\t<tr><td>chr1</td><td>    0</td><td> 8000</td><td>0.0000000</td><td>0</td><td>0</td><td>0</td><td>enhancer</td></tr>\n",
       "\t<tr><td>chr1</td><td> 8000</td><td>12000</td><td>0.0567974</td><td>0</td><td>0</td><td>0</td><td>enhancer</td></tr>\n",
       "\t<tr><td>chr1</td><td>12000</td><td>16000</td><td>0.0000000</td><td>0</td><td>0</td><td>0</td><td>enhancer</td></tr>\n",
       "\t<tr><td>chr1</td><td>16000</td><td>18000</td><td>0.0567974</td><td>0</td><td>0</td><td>0</td><td>enhancer</td></tr>\n",
       "\t<tr><td>chr1</td><td>18000</td><td>40000</td><td>0.0000000</td><td>0</td><td>0</td><td>0</td><td>enhancer</td></tr>\n",
       "\t<tr><td>chr1</td><td>40000</td><td>42000</td><td>0.0567974</td><td>0</td><td>0</td><td>0</td><td>enhancer</td></tr>\n",
       "</tbody>\n",
       "</table>\n"
      ],
      "text/latex": [
       "A data.frame: 6 × 8\n",
       "\\begin{tabular}{r|llllllll}\n",
       " chrom & start & end & peaks\\_h3k27ac & peaks\\_h3k4me3 & peaks\\_h3k4me2 & peaks\\_h3k4me1 & class\\\\\n",
       " <fct> & <int> & <int> & <dbl> & <dbl> & <dbl> & <dbl> & <chr>\\\\\n",
       "\\hline\n",
       "\t chr1 &     0 &  8000 & 0.0000000 & 0 & 0 & 0 & enhancer\\\\\n",
       "\t chr1 &  8000 & 12000 & 0.0567974 & 0 & 0 & 0 & enhancer\\\\\n",
       "\t chr1 & 12000 & 16000 & 0.0000000 & 0 & 0 & 0 & enhancer\\\\\n",
       "\t chr1 & 16000 & 18000 & 0.0567974 & 0 & 0 & 0 & enhancer\\\\\n",
       "\t chr1 & 18000 & 40000 & 0.0000000 & 0 & 0 & 0 & enhancer\\\\\n",
       "\t chr1 & 40000 & 42000 & 0.0567974 & 0 & 0 & 0 & enhancer\\\\\n",
       "\\end{tabular}\n"
      ],
      "text/markdown": [
       "\n",
       "A data.frame: 6 × 8\n",
       "\n",
       "| chrom &lt;fct&gt; | start &lt;int&gt; | end &lt;int&gt; | peaks_h3k27ac &lt;dbl&gt; | peaks_h3k4me3 &lt;dbl&gt; | peaks_h3k4me2 &lt;dbl&gt; | peaks_h3k4me1 &lt;dbl&gt; | class &lt;chr&gt; |\n",
       "|---|---|---|---|---|---|---|---|\n",
       "| chr1 |     0 |  8000 | 0.0000000 | 0 | 0 | 0 | enhancer |\n",
       "| chr1 |  8000 | 12000 | 0.0567974 | 0 | 0 | 0 | enhancer |\n",
       "| chr1 | 12000 | 16000 | 0.0000000 | 0 | 0 | 0 | enhancer |\n",
       "| chr1 | 16000 | 18000 | 0.0567974 | 0 | 0 | 0 | enhancer |\n",
       "| chr1 | 18000 | 40000 | 0.0000000 | 0 | 0 | 0 | enhancer |\n",
       "| chr1 | 40000 | 42000 | 0.0567974 | 0 | 0 | 0 | enhancer |\n",
       "\n"
      ],
      "text/plain": [
       "  chrom start end   peaks_h3k27ac peaks_h3k4me3 peaks_h3k4me2 peaks_h3k4me1\n",
       "1 chr1      0  8000 0.0000000     0             0             0            \n",
       "2 chr1   8000 12000 0.0567974     0             0             0            \n",
       "3 chr1  12000 16000 0.0000000     0             0             0            \n",
       "4 chr1  16000 18000 0.0567974     0             0             0            \n",
       "5 chr1  18000 40000 0.0000000     0             0             0            \n",
       "6 chr1  40000 42000 0.0567974     0             0             0            \n",
       "  class   \n",
       "1 enhancer\n",
       "2 enhancer\n",
       "3 enhancer\n",
       "4 enhancer\n",
       "5 enhancer\n",
       "6 enhancer"
      ]
     },
     "metadata": {},
     "output_type": "display_data"
    }
   ],
   "source": [
    "## Importing the merged BEDGRAPH/BW file\n",
    "\n",
    "merged_bw <- read.csv(\"./data/H1_Cell_Line/bedtools_Merge_2000.bedgraph\", sep = '\\t', header = FALSE)\n",
    "colnames(merged_bw) <- c(\"chrom\", \"start\", \"end\", \"peaks_h3k27ac\", \"peaks_h3k4me3\", \"peaks_h3k4me2\", \"peaks_h3k4me1\")\n",
    "head(merged_bw)\n",
    "merged_bw$class <- \"enhancer\"\n",
    "head(merged_bw)\n",
    "\n",
    "\n",
    "## Identifying examples of standard chromosomes only and filtering the residuals.\n",
    "\n",
    "chromosomes <- c(\"chr1\",\"chr2\",\"chr3\",\"chr4\",\"chr5\",\"chr6\",\"chr7\",\"chr8\",\"chr9\",\"chr10\",\"chr11\",\"chr12\",\"chr13\",\"chr14\",\n",
    "                 \"chr15\", \"chr16\", \"chr17\", \"chr18\", \"chr19\", \"chr20\",\"chr21\", \"chr22\", \"chrX\", \"chrY\")\n",
    "merged_bw<- as.data.frame(merged_bw[merged_bw$chrom %in% chromosomes, ])"
   ]
  },
  {
   "cell_type": "markdown",
   "metadata": {},
   "source": [
    "Since we are soleley concerned with the score values, we shall hack off the information on intervals and chromosome names. The resultant dataset shall have class labels (enhancers) and scores spanning from columns 4 to 8."
   ]
  },
  {
   "cell_type": "code",
   "execution_count": 4,
   "metadata": {},
   "outputs": [],
   "source": [
    "## Deriving test data as input to the deep learning model.\n",
    "\n",
    "test <- merged_bw[,c(4:8)]"
   ]
  },
  {
   "cell_type": "markdown",
   "metadata": {},
   "source": [
    "Let's check out the dataset. "
   ]
  },
  {
   "cell_type": "code",
   "execution_count": 5,
   "metadata": {},
   "outputs": [
    {
     "data": {
      "text/html": [
       "<table>\n",
       "<caption>A data.frame: 6 × 5</caption>\n",
       "<thead>\n",
       "\t<tr><th scope=col>peaks_h3k27ac</th><th scope=col>peaks_h3k4me3</th><th scope=col>peaks_h3k4me2</th><th scope=col>peaks_h3k4me1</th><th scope=col>class</th></tr>\n",
       "\t<tr><th scope=col>&lt;dbl&gt;</th><th scope=col>&lt;dbl&gt;</th><th scope=col>&lt;dbl&gt;</th><th scope=col>&lt;dbl&gt;</th><th scope=col>&lt;chr&gt;</th></tr>\n",
       "</thead>\n",
       "<tbody>\n",
       "\t<tr><td>0.0000000</td><td>0</td><td>0</td><td>0</td><td>enhancer</td></tr>\n",
       "\t<tr><td>0.0567974</td><td>0</td><td>0</td><td>0</td><td>enhancer</td></tr>\n",
       "\t<tr><td>0.0000000</td><td>0</td><td>0</td><td>0</td><td>enhancer</td></tr>\n",
       "\t<tr><td>0.0567974</td><td>0</td><td>0</td><td>0</td><td>enhancer</td></tr>\n",
       "\t<tr><td>0.0000000</td><td>0</td><td>0</td><td>0</td><td>enhancer</td></tr>\n",
       "\t<tr><td>0.0567974</td><td>0</td><td>0</td><td>0</td><td>enhancer</td></tr>\n",
       "</tbody>\n",
       "</table>\n"
      ],
      "text/latex": [
       "A data.frame: 6 × 5\n",
       "\\begin{tabular}{r|lllll}\n",
       " peaks\\_h3k27ac & peaks\\_h3k4me3 & peaks\\_h3k4me2 & peaks\\_h3k4me1 & class\\\\\n",
       " <dbl> & <dbl> & <dbl> & <dbl> & <chr>\\\\\n",
       "\\hline\n",
       "\t 0.0000000 & 0 & 0 & 0 & enhancer\\\\\n",
       "\t 0.0567974 & 0 & 0 & 0 & enhancer\\\\\n",
       "\t 0.0000000 & 0 & 0 & 0 & enhancer\\\\\n",
       "\t 0.0567974 & 0 & 0 & 0 & enhancer\\\\\n",
       "\t 0.0000000 & 0 & 0 & 0 & enhancer\\\\\n",
       "\t 0.0567974 & 0 & 0 & 0 & enhancer\\\\\n",
       "\\end{tabular}\n"
      ],
      "text/markdown": [
       "\n",
       "A data.frame: 6 × 5\n",
       "\n",
       "| peaks_h3k27ac &lt;dbl&gt; | peaks_h3k4me3 &lt;dbl&gt; | peaks_h3k4me2 &lt;dbl&gt; | peaks_h3k4me1 &lt;dbl&gt; | class &lt;chr&gt; |\n",
       "|---|---|---|---|---|\n",
       "| 0.0000000 | 0 | 0 | 0 | enhancer |\n",
       "| 0.0567974 | 0 | 0 | 0 | enhancer |\n",
       "| 0.0000000 | 0 | 0 | 0 | enhancer |\n",
       "| 0.0567974 | 0 | 0 | 0 | enhancer |\n",
       "| 0.0000000 | 0 | 0 | 0 | enhancer |\n",
       "| 0.0567974 | 0 | 0 | 0 | enhancer |\n",
       "\n"
      ],
      "text/plain": [
       "  peaks_h3k27ac peaks_h3k4me3 peaks_h3k4me2 peaks_h3k4me1 class   \n",
       "1 0.0000000     0             0             0             enhancer\n",
       "2 0.0567974     0             0             0             enhancer\n",
       "3 0.0000000     0             0             0             enhancer\n",
       "4 0.0567974     0             0             0             enhancer\n",
       "5 0.0000000     0             0             0             enhancer\n",
       "6 0.0567974     0             0             0             enhancer"
      ]
     },
     "metadata": {},
     "output_type": "display_data"
    }
   ],
   "source": [
    "head(test)"
   ]
  },
  {
   "cell_type": "markdown",
   "metadata": {},
   "source": [
    "The deep learning model has two basic requisites with the input data.\n",
    "1. The data has to be *numeric* in type.\n",
    "2. It has to range from 0 to 1. So if it isn't already, some sort of normalization procedure can help do that. The preferred one is the min-max normalization."
   ]
  },
  {
   "cell_type": "code",
   "execution_count": 6,
   "metadata": {},
   "outputs": [],
   "source": [
    "# Transforming to numeric(double).\n",
    "\n",
    "test$peaks_h3k27ac <- as.double(as.character(test$peaks_h3k27ac))\n",
    "test$peaks_h3k4me3 <- as.double(as.character(test$peaks_h3k4me3))\n",
    "test$peaks_h3k4me2 <- as.double(as.character(test$peaks_h3k4me2))\n",
    "test$peaks_h3k4me1 <- as.double(as.character(test$peaks_h3k4me1))\n"
   ]
  },
  {
   "cell_type": "code",
   "execution_count": 7,
   "metadata": {},
   "outputs": [
    {
     "data": {
      "text/html": [
       "<table>\n",
       "<caption>A data.frame: 1400659 × 5</caption>\n",
       "<thead>\n",
       "\t<tr><th scope=col>peaks_h3k27ac</th><th scope=col>peaks_h3k4me3</th><th scope=col>peaks_h3k4me2</th><th scope=col>peaks_h3k4me1</th><th scope=col>class</th></tr>\n",
       "\t<tr><th scope=col>&lt;dbl&gt;</th><th scope=col>&lt;dbl&gt;</th><th scope=col>&lt;dbl&gt;</th><th scope=col>&lt;dbl&gt;</th><th scope=col>&lt;chr&gt;</th></tr>\n",
       "</thead>\n",
       "<tbody>\n",
       "\t<tr><td>0.0000000</td><td>0.0000000</td><td>0.0000000</td><td>0.0000000</td><td>enhancer</td></tr>\n",
       "\t<tr><td>0.0567974</td><td>0.0000000</td><td>0.0000000</td><td>0.0000000</td><td>enhancer</td></tr>\n",
       "\t<tr><td>0.0000000</td><td>0.0000000</td><td>0.0000000</td><td>0.0000000</td><td>enhancer</td></tr>\n",
       "\t<tr><td>0.0567974</td><td>0.0000000</td><td>0.0000000</td><td>0.0000000</td><td>enhancer</td></tr>\n",
       "\t<tr><td>0.0000000</td><td>0.0000000</td><td>0.0000000</td><td>0.0000000</td><td>enhancer</td></tr>\n",
       "\t<tr><td>0.0567974</td><td>0.0000000</td><td>0.0000000</td><td>0.0000000</td><td>enhancer</td></tr>\n",
       "\t<tr><td>0.0000000</td><td>0.0000000</td><td>0.0000000</td><td>0.0000000</td><td>enhancer</td></tr>\n",
       "\t<tr><td>0.0567974</td><td>0.0000000</td><td>0.0000000</td><td>0.0000000</td><td>enhancer</td></tr>\n",
       "\t<tr><td>0.0000000</td><td>0.0000000</td><td>0.0000000</td><td>0.0000000</td><td>enhancer</td></tr>\n",
       "\t<tr><td>0.0567974</td><td>0.0432946</td><td>0.0000000</td><td>0.0000000</td><td>enhancer</td></tr>\n",
       "\t<tr><td>0.0000000</td><td>0.0000000</td><td>0.0000000</td><td>0.0000000</td><td>enhancer</td></tr>\n",
       "\t<tr><td>0.0000000</td><td>0.0000000</td><td>0.0404528</td><td>0.0000000</td><td>enhancer</td></tr>\n",
       "\t<tr><td>0.0000000</td><td>0.0000000</td><td>0.0000000</td><td>0.0000000</td><td>enhancer</td></tr>\n",
       "\t<tr><td>0.0567974</td><td>0.0865892</td><td>0.0404528</td><td>0.0000000</td><td>enhancer</td></tr>\n",
       "\t<tr><td>0.0000000</td><td>0.0000000</td><td>0.0000000</td><td>0.0000000</td><td>enhancer</td></tr>\n",
       "\t<tr><td>0.0567974</td><td>0.0000000</td><td>0.0000000</td><td>0.0000000</td><td>enhancer</td></tr>\n",
       "\t<tr><td>0.0000000</td><td>0.0000000</td><td>0.0000000</td><td>0.0000000</td><td>enhancer</td></tr>\n",
       "\t<tr><td>0.0567974</td><td>0.0000000</td><td>0.0000000</td><td>0.0367072</td><td>enhancer</td></tr>\n",
       "\t<tr><td>0.0000000</td><td>0.0000000</td><td>0.0000000</td><td>0.0000000</td><td>enhancer</td></tr>\n",
       "\t<tr><td>0.0000000</td><td>0.0000000</td><td>0.0404528</td><td>0.0000000</td><td>enhancer</td></tr>\n",
       "\t<tr><td>0.0000000</td><td>0.0000000</td><td>0.0000000</td><td>0.0000000</td><td>enhancer</td></tr>\n",
       "\t<tr><td>0.0567974</td><td>0.0000000</td><td>0.0000000</td><td>0.0000000</td><td>enhancer</td></tr>\n",
       "\t<tr><td>0.0000000</td><td>0.0000000</td><td>0.0000000</td><td>0.0000000</td><td>enhancer</td></tr>\n",
       "\t<tr><td>0.0000000</td><td>0.0000000</td><td>0.0404528</td><td>0.0000000</td><td>enhancer</td></tr>\n",
       "\t<tr><td>0.0000000</td><td>0.0000000</td><td>0.0000000</td><td>0.0000000</td><td>enhancer</td></tr>\n",
       "\t<tr><td>0.0000000</td><td>0.0432946</td><td>0.0000000</td><td>0.0000000</td><td>enhancer</td></tr>\n",
       "\t<tr><td>0.0000000</td><td>0.0000000</td><td>0.0000000</td><td>0.0000000</td><td>enhancer</td></tr>\n",
       "\t<tr><td>0.1135950</td><td>0.3463570</td><td>0.2022640</td><td>0.0000000</td><td>enhancer</td></tr>\n",
       "\t<tr><td>0.1135950</td><td>1.0390700</td><td>5.0161500</td><td>0.6974370</td><td>enhancer</td></tr>\n",
       "\t<tr><td>0.2271900</td><td>0.3030620</td><td>0.1213590</td><td>0.0000000</td><td>enhancer</td></tr>\n",
       "\t<tr><td>⋮</td><td>⋮</td><td>⋮</td><td>⋮</td><td>⋮</td></tr>\n",
       "\t<tr><td>0.1703920</td><td>0.2164730</td><td>0.2427170</td><td>0.2936580</td><td>enhancer</td></tr>\n",
       "\t<tr><td>0.0567974</td><td>0.6061240</td><td>0.3640760</td><td>0.4404860</td><td>enhancer</td></tr>\n",
       "\t<tr><td>0.1703920</td><td>0.5628300</td><td>0.5663400</td><td>0.1835360</td><td>enhancer</td></tr>\n",
       "\t<tr><td>0.1135950</td><td>0.8225970</td><td>0.4045280</td><td>0.5873150</td><td>enhancer</td></tr>\n",
       "\t<tr><td>0.1135950</td><td>0.4762410</td><td>0.2427170</td><td>0.6240220</td><td>enhancer</td></tr>\n",
       "\t<tr><td>0.0567974</td><td>0.1731780</td><td>0.1213590</td><td>0.2936580</td><td>enhancer</td></tr>\n",
       "\t<tr><td>0.0000000</td><td>0.2597680</td><td>0.1213590</td><td>0.2936580</td><td>enhancer</td></tr>\n",
       "\t<tr><td>0.0000000</td><td>0.0432946</td><td>0.2022640</td><td>0.2202430</td><td>enhancer</td></tr>\n",
       "\t<tr><td>0.0000000</td><td>0.0432946</td><td>0.1213590</td><td>0.1468290</td><td>enhancer</td></tr>\n",
       "\t<tr><td>0.0000000</td><td>0.0865892</td><td>0.0000000</td><td>0.2202430</td><td>enhancer</td></tr>\n",
       "\t<tr><td>0.0000000</td><td>0.0865892</td><td>0.0404528</td><td>0.4404860</td><td>enhancer</td></tr>\n",
       "\t<tr><td>0.0567974</td><td>0.1298840</td><td>0.1618110</td><td>0.2569500</td><td>enhancer</td></tr>\n",
       "\t<tr><td>0.0000000</td><td>0.0000000</td><td>0.0000000</td><td>0.0000000</td><td>enhancer</td></tr>\n",
       "\t<tr><td>0.0567974</td><td>0.0865892</td><td>0.0809057</td><td>0.0734144</td><td>enhancer</td></tr>\n",
       "\t<tr><td>0.1135950</td><td>0.0865892</td><td>0.0809057</td><td>0.0000000</td><td>enhancer</td></tr>\n",
       "\t<tr><td>0.0567974</td><td>0.0432946</td><td>0.0000000</td><td>0.0734144</td><td>enhancer</td></tr>\n",
       "\t<tr><td>0.0567974</td><td>0.1298840</td><td>0.0000000</td><td>0.0000000</td><td>enhancer</td></tr>\n",
       "\t<tr><td>0.0000000</td><td>0.0000000</td><td>0.0404528</td><td>0.0734144</td><td>enhancer</td></tr>\n",
       "\t<tr><td>0.0000000</td><td>0.0000000</td><td>0.0000000</td><td>0.0000000</td><td>enhancer</td></tr>\n",
       "\t<tr><td>0.0000000</td><td>0.0432946</td><td>0.0404528</td><td>0.1468290</td><td>enhancer</td></tr>\n",
       "\t<tr><td>0.0567974</td><td>0.0000000</td><td>0.0000000</td><td>0.0000000</td><td>enhancer</td></tr>\n",
       "\t<tr><td>0.0000000</td><td>0.0432946</td><td>0.1213590</td><td>0.2202430</td><td>enhancer</td></tr>\n",
       "\t<tr><td>0.0000000</td><td>0.0865892</td><td>0.0000000</td><td>0.0734144</td><td>enhancer</td></tr>\n",
       "\t<tr><td>0.0000000</td><td>0.0000000</td><td>0.0000000</td><td>0.0367072</td><td>enhancer</td></tr>\n",
       "\t<tr><td>0.0000000</td><td>0.0432946</td><td>0.0404528</td><td>0.0000000</td><td>enhancer</td></tr>\n",
       "\t<tr><td>0.0567974</td><td>0.0000000</td><td>0.0000000</td><td>0.0367072</td><td>enhancer</td></tr>\n",
       "\t<tr><td>0.0567974</td><td>0.0000000</td><td>0.0404528</td><td>0.0000000</td><td>enhancer</td></tr>\n",
       "\t<tr><td>0.0000000</td><td>0.0000000</td><td>0.0000000</td><td>0.0000000</td><td>enhancer</td></tr>\n",
       "\t<tr><td>0.0000000</td><td>0.0000000</td><td>0.0404528</td><td>0.0000000</td><td>enhancer</td></tr>\n",
       "\t<tr><td>0.0000000</td><td>0.0000000</td><td>0.0000000</td><td>0.0000000</td><td>enhancer</td></tr>\n",
       "</tbody>\n",
       "</table>\n"
      ],
      "text/latex": [
       "A data.frame: 1400659 × 5\n",
       "\\begin{tabular}{r|lllll}\n",
       " peaks\\_h3k27ac & peaks\\_h3k4me3 & peaks\\_h3k4me2 & peaks\\_h3k4me1 & class\\\\\n",
       " <dbl> & <dbl> & <dbl> & <dbl> & <chr>\\\\\n",
       "\\hline\n",
       "\t 0.0000000 & 0.0000000 & 0.0000000 & 0.0000000 & enhancer\\\\\n",
       "\t 0.0567974 & 0.0000000 & 0.0000000 & 0.0000000 & enhancer\\\\\n",
       "\t 0.0000000 & 0.0000000 & 0.0000000 & 0.0000000 & enhancer\\\\\n",
       "\t 0.0567974 & 0.0000000 & 0.0000000 & 0.0000000 & enhancer\\\\\n",
       "\t 0.0000000 & 0.0000000 & 0.0000000 & 0.0000000 & enhancer\\\\\n",
       "\t 0.0567974 & 0.0000000 & 0.0000000 & 0.0000000 & enhancer\\\\\n",
       "\t 0.0000000 & 0.0000000 & 0.0000000 & 0.0000000 & enhancer\\\\\n",
       "\t 0.0567974 & 0.0000000 & 0.0000000 & 0.0000000 & enhancer\\\\\n",
       "\t 0.0000000 & 0.0000000 & 0.0000000 & 0.0000000 & enhancer\\\\\n",
       "\t 0.0567974 & 0.0432946 & 0.0000000 & 0.0000000 & enhancer\\\\\n",
       "\t 0.0000000 & 0.0000000 & 0.0000000 & 0.0000000 & enhancer\\\\\n",
       "\t 0.0000000 & 0.0000000 & 0.0404528 & 0.0000000 & enhancer\\\\\n",
       "\t 0.0000000 & 0.0000000 & 0.0000000 & 0.0000000 & enhancer\\\\\n",
       "\t 0.0567974 & 0.0865892 & 0.0404528 & 0.0000000 & enhancer\\\\\n",
       "\t 0.0000000 & 0.0000000 & 0.0000000 & 0.0000000 & enhancer\\\\\n",
       "\t 0.0567974 & 0.0000000 & 0.0000000 & 0.0000000 & enhancer\\\\\n",
       "\t 0.0000000 & 0.0000000 & 0.0000000 & 0.0000000 & enhancer\\\\\n",
       "\t 0.0567974 & 0.0000000 & 0.0000000 & 0.0367072 & enhancer\\\\\n",
       "\t 0.0000000 & 0.0000000 & 0.0000000 & 0.0000000 & enhancer\\\\\n",
       "\t 0.0000000 & 0.0000000 & 0.0404528 & 0.0000000 & enhancer\\\\\n",
       "\t 0.0000000 & 0.0000000 & 0.0000000 & 0.0000000 & enhancer\\\\\n",
       "\t 0.0567974 & 0.0000000 & 0.0000000 & 0.0000000 & enhancer\\\\\n",
       "\t 0.0000000 & 0.0000000 & 0.0000000 & 0.0000000 & enhancer\\\\\n",
       "\t 0.0000000 & 0.0000000 & 0.0404528 & 0.0000000 & enhancer\\\\\n",
       "\t 0.0000000 & 0.0000000 & 0.0000000 & 0.0000000 & enhancer\\\\\n",
       "\t 0.0000000 & 0.0432946 & 0.0000000 & 0.0000000 & enhancer\\\\\n",
       "\t 0.0000000 & 0.0000000 & 0.0000000 & 0.0000000 & enhancer\\\\\n",
       "\t 0.1135950 & 0.3463570 & 0.2022640 & 0.0000000 & enhancer\\\\\n",
       "\t 0.1135950 & 1.0390700 & 5.0161500 & 0.6974370 & enhancer\\\\\n",
       "\t 0.2271900 & 0.3030620 & 0.1213590 & 0.0000000 & enhancer\\\\\n",
       "\t ⋮ & ⋮ & ⋮ & ⋮ & ⋮\\\\\n",
       "\t 0.1703920 & 0.2164730 & 0.2427170 & 0.2936580 & enhancer\\\\\n",
       "\t 0.0567974 & 0.6061240 & 0.3640760 & 0.4404860 & enhancer\\\\\n",
       "\t 0.1703920 & 0.5628300 & 0.5663400 & 0.1835360 & enhancer\\\\\n",
       "\t 0.1135950 & 0.8225970 & 0.4045280 & 0.5873150 & enhancer\\\\\n",
       "\t 0.1135950 & 0.4762410 & 0.2427170 & 0.6240220 & enhancer\\\\\n",
       "\t 0.0567974 & 0.1731780 & 0.1213590 & 0.2936580 & enhancer\\\\\n",
       "\t 0.0000000 & 0.2597680 & 0.1213590 & 0.2936580 & enhancer\\\\\n",
       "\t 0.0000000 & 0.0432946 & 0.2022640 & 0.2202430 & enhancer\\\\\n",
       "\t 0.0000000 & 0.0432946 & 0.1213590 & 0.1468290 & enhancer\\\\\n",
       "\t 0.0000000 & 0.0865892 & 0.0000000 & 0.2202430 & enhancer\\\\\n",
       "\t 0.0000000 & 0.0865892 & 0.0404528 & 0.4404860 & enhancer\\\\\n",
       "\t 0.0567974 & 0.1298840 & 0.1618110 & 0.2569500 & enhancer\\\\\n",
       "\t 0.0000000 & 0.0000000 & 0.0000000 & 0.0000000 & enhancer\\\\\n",
       "\t 0.0567974 & 0.0865892 & 0.0809057 & 0.0734144 & enhancer\\\\\n",
       "\t 0.1135950 & 0.0865892 & 0.0809057 & 0.0000000 & enhancer\\\\\n",
       "\t 0.0567974 & 0.0432946 & 0.0000000 & 0.0734144 & enhancer\\\\\n",
       "\t 0.0567974 & 0.1298840 & 0.0000000 & 0.0000000 & enhancer\\\\\n",
       "\t 0.0000000 & 0.0000000 & 0.0404528 & 0.0734144 & enhancer\\\\\n",
       "\t 0.0000000 & 0.0000000 & 0.0000000 & 0.0000000 & enhancer\\\\\n",
       "\t 0.0000000 & 0.0432946 & 0.0404528 & 0.1468290 & enhancer\\\\\n",
       "\t 0.0567974 & 0.0000000 & 0.0000000 & 0.0000000 & enhancer\\\\\n",
       "\t 0.0000000 & 0.0432946 & 0.1213590 & 0.2202430 & enhancer\\\\\n",
       "\t 0.0000000 & 0.0865892 & 0.0000000 & 0.0734144 & enhancer\\\\\n",
       "\t 0.0000000 & 0.0000000 & 0.0000000 & 0.0367072 & enhancer\\\\\n",
       "\t 0.0000000 & 0.0432946 & 0.0404528 & 0.0000000 & enhancer\\\\\n",
       "\t 0.0567974 & 0.0000000 & 0.0000000 & 0.0367072 & enhancer\\\\\n",
       "\t 0.0567974 & 0.0000000 & 0.0404528 & 0.0000000 & enhancer\\\\\n",
       "\t 0.0000000 & 0.0000000 & 0.0000000 & 0.0000000 & enhancer\\\\\n",
       "\t 0.0000000 & 0.0000000 & 0.0404528 & 0.0000000 & enhancer\\\\\n",
       "\t 0.0000000 & 0.0000000 & 0.0000000 & 0.0000000 & enhancer\\\\\n",
       "\\end{tabular}\n"
      ],
      "text/markdown": [
       "\n",
       "A data.frame: 1400659 × 5\n",
       "\n",
       "| peaks_h3k27ac &lt;dbl&gt; | peaks_h3k4me3 &lt;dbl&gt; | peaks_h3k4me2 &lt;dbl&gt; | peaks_h3k4me1 &lt;dbl&gt; | class &lt;chr&gt; |\n",
       "|---|---|---|---|---|\n",
       "| 0.0000000 | 0.0000000 | 0.0000000 | 0.0000000 | enhancer |\n",
       "| 0.0567974 | 0.0000000 | 0.0000000 | 0.0000000 | enhancer |\n",
       "| 0.0000000 | 0.0000000 | 0.0000000 | 0.0000000 | enhancer |\n",
       "| 0.0567974 | 0.0000000 | 0.0000000 | 0.0000000 | enhancer |\n",
       "| 0.0000000 | 0.0000000 | 0.0000000 | 0.0000000 | enhancer |\n",
       "| 0.0567974 | 0.0000000 | 0.0000000 | 0.0000000 | enhancer |\n",
       "| 0.0000000 | 0.0000000 | 0.0000000 | 0.0000000 | enhancer |\n",
       "| 0.0567974 | 0.0000000 | 0.0000000 | 0.0000000 | enhancer |\n",
       "| 0.0000000 | 0.0000000 | 0.0000000 | 0.0000000 | enhancer |\n",
       "| 0.0567974 | 0.0432946 | 0.0000000 | 0.0000000 | enhancer |\n",
       "| 0.0000000 | 0.0000000 | 0.0000000 | 0.0000000 | enhancer |\n",
       "| 0.0000000 | 0.0000000 | 0.0404528 | 0.0000000 | enhancer |\n",
       "| 0.0000000 | 0.0000000 | 0.0000000 | 0.0000000 | enhancer |\n",
       "| 0.0567974 | 0.0865892 | 0.0404528 | 0.0000000 | enhancer |\n",
       "| 0.0000000 | 0.0000000 | 0.0000000 | 0.0000000 | enhancer |\n",
       "| 0.0567974 | 0.0000000 | 0.0000000 | 0.0000000 | enhancer |\n",
       "| 0.0000000 | 0.0000000 | 0.0000000 | 0.0000000 | enhancer |\n",
       "| 0.0567974 | 0.0000000 | 0.0000000 | 0.0367072 | enhancer |\n",
       "| 0.0000000 | 0.0000000 | 0.0000000 | 0.0000000 | enhancer |\n",
       "| 0.0000000 | 0.0000000 | 0.0404528 | 0.0000000 | enhancer |\n",
       "| 0.0000000 | 0.0000000 | 0.0000000 | 0.0000000 | enhancer |\n",
       "| 0.0567974 | 0.0000000 | 0.0000000 | 0.0000000 | enhancer |\n",
       "| 0.0000000 | 0.0000000 | 0.0000000 | 0.0000000 | enhancer |\n",
       "| 0.0000000 | 0.0000000 | 0.0404528 | 0.0000000 | enhancer |\n",
       "| 0.0000000 | 0.0000000 | 0.0000000 | 0.0000000 | enhancer |\n",
       "| 0.0000000 | 0.0432946 | 0.0000000 | 0.0000000 | enhancer |\n",
       "| 0.0000000 | 0.0000000 | 0.0000000 | 0.0000000 | enhancer |\n",
       "| 0.1135950 | 0.3463570 | 0.2022640 | 0.0000000 | enhancer |\n",
       "| 0.1135950 | 1.0390700 | 5.0161500 | 0.6974370 | enhancer |\n",
       "| 0.2271900 | 0.3030620 | 0.1213590 | 0.0000000 | enhancer |\n",
       "| ⋮ | ⋮ | ⋮ | ⋮ | ⋮ |\n",
       "| 0.1703920 | 0.2164730 | 0.2427170 | 0.2936580 | enhancer |\n",
       "| 0.0567974 | 0.6061240 | 0.3640760 | 0.4404860 | enhancer |\n",
       "| 0.1703920 | 0.5628300 | 0.5663400 | 0.1835360 | enhancer |\n",
       "| 0.1135950 | 0.8225970 | 0.4045280 | 0.5873150 | enhancer |\n",
       "| 0.1135950 | 0.4762410 | 0.2427170 | 0.6240220 | enhancer |\n",
       "| 0.0567974 | 0.1731780 | 0.1213590 | 0.2936580 | enhancer |\n",
       "| 0.0000000 | 0.2597680 | 0.1213590 | 0.2936580 | enhancer |\n",
       "| 0.0000000 | 0.0432946 | 0.2022640 | 0.2202430 | enhancer |\n",
       "| 0.0000000 | 0.0432946 | 0.1213590 | 0.1468290 | enhancer |\n",
       "| 0.0000000 | 0.0865892 | 0.0000000 | 0.2202430 | enhancer |\n",
       "| 0.0000000 | 0.0865892 | 0.0404528 | 0.4404860 | enhancer |\n",
       "| 0.0567974 | 0.1298840 | 0.1618110 | 0.2569500 | enhancer |\n",
       "| 0.0000000 | 0.0000000 | 0.0000000 | 0.0000000 | enhancer |\n",
       "| 0.0567974 | 0.0865892 | 0.0809057 | 0.0734144 | enhancer |\n",
       "| 0.1135950 | 0.0865892 | 0.0809057 | 0.0000000 | enhancer |\n",
       "| 0.0567974 | 0.0432946 | 0.0000000 | 0.0734144 | enhancer |\n",
       "| 0.0567974 | 0.1298840 | 0.0000000 | 0.0000000 | enhancer |\n",
       "| 0.0000000 | 0.0000000 | 0.0404528 | 0.0734144 | enhancer |\n",
       "| 0.0000000 | 0.0000000 | 0.0000000 | 0.0000000 | enhancer |\n",
       "| 0.0000000 | 0.0432946 | 0.0404528 | 0.1468290 | enhancer |\n",
       "| 0.0567974 | 0.0000000 | 0.0000000 | 0.0000000 | enhancer |\n",
       "| 0.0000000 | 0.0432946 | 0.1213590 | 0.2202430 | enhancer |\n",
       "| 0.0000000 | 0.0865892 | 0.0000000 | 0.0734144 | enhancer |\n",
       "| 0.0000000 | 0.0000000 | 0.0000000 | 0.0367072 | enhancer |\n",
       "| 0.0000000 | 0.0432946 | 0.0404528 | 0.0000000 | enhancer |\n",
       "| 0.0567974 | 0.0000000 | 0.0000000 | 0.0367072 | enhancer |\n",
       "| 0.0567974 | 0.0000000 | 0.0404528 | 0.0000000 | enhancer |\n",
       "| 0.0000000 | 0.0000000 | 0.0000000 | 0.0000000 | enhancer |\n",
       "| 0.0000000 | 0.0000000 | 0.0404528 | 0.0000000 | enhancer |\n",
       "| 0.0000000 | 0.0000000 | 0.0000000 | 0.0000000 | enhancer |\n",
       "\n"
      ],
      "text/plain": [
       "        peaks_h3k27ac peaks_h3k4me3 peaks_h3k4me2 peaks_h3k4me1 class   \n",
       "1       0.0000000     0.0000000     0.0000000     0.0000000     enhancer\n",
       "2       0.0567974     0.0000000     0.0000000     0.0000000     enhancer\n",
       "3       0.0000000     0.0000000     0.0000000     0.0000000     enhancer\n",
       "4       0.0567974     0.0000000     0.0000000     0.0000000     enhancer\n",
       "5       0.0000000     0.0000000     0.0000000     0.0000000     enhancer\n",
       "6       0.0567974     0.0000000     0.0000000     0.0000000     enhancer\n",
       "7       0.0000000     0.0000000     0.0000000     0.0000000     enhancer\n",
       "8       0.0567974     0.0000000     0.0000000     0.0000000     enhancer\n",
       "9       0.0000000     0.0000000     0.0000000     0.0000000     enhancer\n",
       "10      0.0567974     0.0432946     0.0000000     0.0000000     enhancer\n",
       "11      0.0000000     0.0000000     0.0000000     0.0000000     enhancer\n",
       "12      0.0000000     0.0000000     0.0404528     0.0000000     enhancer\n",
       "13      0.0000000     0.0000000     0.0000000     0.0000000     enhancer\n",
       "14      0.0567974     0.0865892     0.0404528     0.0000000     enhancer\n",
       "15      0.0000000     0.0000000     0.0000000     0.0000000     enhancer\n",
       "16      0.0567974     0.0000000     0.0000000     0.0000000     enhancer\n",
       "17      0.0000000     0.0000000     0.0000000     0.0000000     enhancer\n",
       "18      0.0567974     0.0000000     0.0000000     0.0367072     enhancer\n",
       "19      0.0000000     0.0000000     0.0000000     0.0000000     enhancer\n",
       "20      0.0000000     0.0000000     0.0404528     0.0000000     enhancer\n",
       "21      0.0000000     0.0000000     0.0000000     0.0000000     enhancer\n",
       "22      0.0567974     0.0000000     0.0000000     0.0000000     enhancer\n",
       "23      0.0000000     0.0000000     0.0000000     0.0000000     enhancer\n",
       "24      0.0000000     0.0000000     0.0404528     0.0000000     enhancer\n",
       "25      0.0000000     0.0000000     0.0000000     0.0000000     enhancer\n",
       "26      0.0000000     0.0432946     0.0000000     0.0000000     enhancer\n",
       "27      0.0000000     0.0000000     0.0000000     0.0000000     enhancer\n",
       "28      0.1135950     0.3463570     0.2022640     0.0000000     enhancer\n",
       "29      0.1135950     1.0390700     5.0161500     0.6974370     enhancer\n",
       "30      0.2271900     0.3030620     0.1213590     0.0000000     enhancer\n",
       "⋮       ⋮             ⋮             ⋮             ⋮             ⋮       \n",
       "1400630 0.1703920     0.2164730     0.2427170     0.2936580     enhancer\n",
       "1400631 0.0567974     0.6061240     0.3640760     0.4404860     enhancer\n",
       "1400632 0.1703920     0.5628300     0.5663400     0.1835360     enhancer\n",
       "1400633 0.1135950     0.8225970     0.4045280     0.5873150     enhancer\n",
       "1400634 0.1135950     0.4762410     0.2427170     0.6240220     enhancer\n",
       "1400635 0.0567974     0.1731780     0.1213590     0.2936580     enhancer\n",
       "1400636 0.0000000     0.2597680     0.1213590     0.2936580     enhancer\n",
       "1400637 0.0000000     0.0432946     0.2022640     0.2202430     enhancer\n",
       "1400638 0.0000000     0.0432946     0.1213590     0.1468290     enhancer\n",
       "1400639 0.0000000     0.0865892     0.0000000     0.2202430     enhancer\n",
       "1400640 0.0000000     0.0865892     0.0404528     0.4404860     enhancer\n",
       "1400641 0.0567974     0.1298840     0.1618110     0.2569500     enhancer\n",
       "1400642 0.0000000     0.0000000     0.0000000     0.0000000     enhancer\n",
       "1400643 0.0567974     0.0865892     0.0809057     0.0734144     enhancer\n",
       "1400644 0.1135950     0.0865892     0.0809057     0.0000000     enhancer\n",
       "1400645 0.0567974     0.0432946     0.0000000     0.0734144     enhancer\n",
       "1400646 0.0567974     0.1298840     0.0000000     0.0000000     enhancer\n",
       "1400647 0.0000000     0.0000000     0.0404528     0.0734144     enhancer\n",
       "1400648 0.0000000     0.0000000     0.0000000     0.0000000     enhancer\n",
       "1400649 0.0000000     0.0432946     0.0404528     0.1468290     enhancer\n",
       "1400650 0.0567974     0.0000000     0.0000000     0.0000000     enhancer\n",
       "1400651 0.0000000     0.0432946     0.1213590     0.2202430     enhancer\n",
       "1400652 0.0000000     0.0865892     0.0000000     0.0734144     enhancer\n",
       "1400653 0.0000000     0.0000000     0.0000000     0.0367072     enhancer\n",
       "1400654 0.0000000     0.0432946     0.0404528     0.0000000     enhancer\n",
       "1400655 0.0567974     0.0000000     0.0000000     0.0367072     enhancer\n",
       "1400656 0.0567974     0.0000000     0.0404528     0.0000000     enhancer\n",
       "1400657 0.0000000     0.0000000     0.0000000     0.0000000     enhancer\n",
       "1400658 0.0000000     0.0000000     0.0404528     0.0000000     enhancer\n",
       "1400659 0.0000000     0.0000000     0.0000000     0.0000000     enhancer"
      ]
     },
     "metadata": {},
     "output_type": "display_data"
    }
   ],
   "source": [
    "## For fair results, let's make sure that no \"NA\" values exist.\n",
    "na.omit(test)\n",
    "\n",
    "## Min-Max normalization\n",
    "test$peaks_h3k27ac <- (test$peaks_h3k27ac-min(test$peaks_h3k27ac, na.rm = T))/(max(test$peaks_h3k27ac, na.rm = T)-min(test$peaks_h3k27ac, na.rm = T))\n",
    "test$peaks_h3k4me3 <- (test$peaks_h3k4me3-min(test$peaks_h3k4me3, na.rm = T))/(max(test$peaks_h3k4me3, na.rm = T)-min(test$peaks_h3k4me3, na.rm = T))\n",
    "test$peaks_h3k4me2 <- (test$peaks_h3k4me2-min(test$peaks_h3k4me2, na.rm = T))/(max(test$peaks_h3k4me2, na.rm = T)-min(test$peaks_h3k4me2, na.rm = T))\n",
    "test$peaks_h3k4me1 <- (test$peaks_h3k4me1-min(test$peaks_h3k4me1, na.rm = T))/(max(test$peaks_h3k4me1, na.rm = T)-min(test$peaks_h3k4me1, na.rm = T))\n"
   ]
  },
  {
   "cell_type": "markdown",
   "metadata": {},
   "source": [
    "Importing relevant data that has been preprocessed explicitly. This is for the positive class labels."
   ]
  },
  {
   "cell_type": "markdown",
   "metadata": {},
   "source": [
    "BED files for p300 and DHS are (in that order): <br>\n",
    ">1. pruned for standard chromosome entries <br>\n",
    ">2. sorted <br>\n",
    ">3. individually, bedtools \"merged\" for overlapping intervals <br>\n",
    ">4. finally, the intersecting records are noted with the following expression, <br>\n",
    "> $ intersectBed -a h1_p300_merged.bed -b h1_dhs_merged.bed > h1_p300_dhs_intersect.bed "
   ]
  },
  {
   "cell_type": "code",
   "execution_count": 7,
   "metadata": {},
   "outputs": [],
   "source": [
    "## Importing relevant data ##\n",
    "## Positive Class Labels ##\n",
    "\n",
    "dhs <- read.csv(\"./data/H1_Cell_Line/GSM878621_H1_DNase_sorted.bed\", sep = '\\t', header = FALSE)\n",
    "p300 <- read.csv(\"./data/H1_Cell_Line/GSM831036_H1_P300_sorted.bed\", sep = '\\t', header = FALSE)\n",
    "\n",
    "## We see that the chromosome names in p300 data are just numbers. Let's add \"chr\" in the beginning for consistency. \n",
    "p300$V1 <- paste0(\"chr\",p300$V1)\n",
    "\n",
    "## Selecting useful columns: chrom, start, end.\n",
    "p300 <- p300[,c(1,2,3)]\n",
    "dhs <- dhs[,c(1,2,3)]\n",
    "\n",
    "## Sifting standard chromosomes.\n",
    "colnames(dhs) <- c(\"chrom\",\"start\",\"end\")\n",
    "colnames(p300) <- c(\"chrom\",\"start\",\"end\")\n",
    "\n",
    "## Valid chromosomes.\n",
    "dhs <- as.data.frame(dhs[dhs$chrom %in% chromosomes, ])\n",
    "p300 <- as.data.frame(p300[p300$chrom %in% chromosomes, ])\n",
    "\n",
    "## Saving files\n",
    "\n",
    "write.table(p300,\"./data/H1_Cell_Line/h1_p300.bed\", sep=\"\\t\", row.names=FALSE, quote = FALSE)\n",
    "write.table(dhs,\"./data/H1_Cell_Line/h1_dhs.bed\", sep=\"\\t\", row.names=FALSE, quote = FALSE)\n",
    "\n",
    "## Add class to the data: \"enhancer\"\n",
    "\n",
    "h1_p300_dhs_intersect <- read.table(\"./data/H1_Cell_Line/h1_p300_dhs_intersect.bed\", sep = \"\\t\")\n",
    "h1_p300_dhs_intersect$V4 <- \"Enhancer\"\n",
    "write.table(h1_p300_dhs_intersect,\"./data/H1_Cell_Line/h1_p300_dhs_intersect_class.bed\",sep=\"\\t\",row.names=FALSE, quote = FALSE)\n"
   ]
  },
  {
   "cell_type": "markdown",
   "metadata": {},
   "source": [
    "Now, for the negative class labels, i.e. non-enhancers."
   ]
  },
  {
   "cell_type": "markdown",
   "metadata": {},
   "source": [
    "#### Transcription Start Sites  (TSS)"
   ]
  },
  {
   "cell_type": "markdown",
   "metadata": {},
   "source": [
    "According to Wikipedia, an enhancer is a short (50-1500 bp) region of the DNA that can be bound by proteins. They can be located quite far from the promoter sequences of the genes that house the TSS. The transcription start sites' indices (start and end positions) are 'constant' throughout the genome. The gene positioning is the same across, rather the discrepenacy in distinct cell types is with the set of genes that get regulated. One source of downloading the TSS data is 'Ensembl Biomart'. <br>\n",
    "> Step 1: Choose 'Human genes' under 'Dataset' tab on the left pane. <br> <br>\n",
    "> Step 2: Under 'Attributes', select <br>\n",
    "    (i) Chromosome/ scaffold name <br>\n",
    "    (ii) Transcript start (bp) <br>\n",
    "    (iii) Transcript end (bp) <br> <br>\n",
    "> Step 3: Click on 'Results' button and download appropriately. <br>  \n",
    "The other sources are refTSS and DBTSS databases. <br>"
   ]
  },
  {
   "cell_type": "code",
   "execution_count": 13,
   "metadata": {},
   "outputs": [],
   "source": [
    "## Negative Class Labels ##\n",
    "# TSS sites #\n",
    "\n",
    "tss_sites <- read.table(\"./data/H1_Cell_Line/TSS_Indices_Human_Genome.txt\", sep = \"\\t\", header = TRUE)\n",
    "tss_sites$Chromosome.scaffold.name <- paste0(\"chr\", tss_sites$Chromosome.scaffold.name)\n",
    "tss_sites <- as.data.frame(tss_sites[tss_sites$Chromosome.scaffold.name  %in% chromosomes, ])\n",
    "tss_sites <- tss_sites[order(tss_sites$Chromosome.scaffold.name),]\n",
    "\n",
    "## Export TSS sites to create an overlap with DHS sites\n",
    "\n",
    "write.table(tss_sites,\"./data/H1_Cell_Line/tss_sites.bed\", sep=\"\\t\", row.names=FALSE, quote = FALSE)"
   ]
  },
  {
   "cell_type": "markdown",
   "metadata": {},
   "source": [
    "#### Random Sites in the Human Genome"
   ]
  },
  {
   "cell_type": "code",
   "execution_count": 9,
   "metadata": {},
   "outputs": [],
   "source": [
    "## Sourcing chromosomal lengths in the human genome for generating random tracks\n",
    "\n",
    "hg19_chrom_sizes <- read.table(url(\"https://genome.ucsc.edu/goldenPath/help/hg19.chrom.sizes\"), sep = \"\\t\", \n",
    "                               header = FALSE, col.names = c(\"chrom\", \"size\"))\n",
    "hg19_chrom_sizes <- as.data.frame(hg19_chrom_sizes[hg19_chrom_sizes$chrom %in% chromosomes, ])\n",
    "\n",
    "## Saving file for generating random tracks via 'bedtools random' function ##\n",
    "write.table(hg19_chrom_sizes,\"./data/H1_Cell_Line/hg19.genome\", sep=\"\\t\", row.names=FALSE, quote = FALSE)"
   ]
  },
  {
   "cell_type": "markdown",
   "metadata": {},
   "source": [
    "The option -l allows user to specifiy the interval size of the tracks that are to be randomly generated from the genome file. However this is optional, but in our case we have to stay in sync with the interval profiles tha twe selected for combining the score matrix for histine marks. <br>\n",
    "> $ bedtools random -l 2000 -g hg19.genome > hg19_random_tracks.bed"
   ]
  },
  {
   "cell_type": "code",
   "execution_count": 5,
   "metadata": {},
   "outputs": [],
   "source": [
    "## Recalling\n",
    "\n",
    "hg19_random_tracks <- read.table(\"./data/H1_Cell_Line/hg19_random_tracks.bed\", sep = \"\\t\", header = FALSE)\n",
    "hg19_random_tracks <- hg19_random_tracks[,c(1,2,3)]\n",
    "\n",
    "# ordering on the basis of chromosome name and start indices.\n",
    "hg19_random_tracks_ordered <- hg19_random_tracks[order(hg19_random_tracks[,1],hg19_random_tracks[,2]),]\n",
    "\n",
    "write.table(hg19_random_tracks_ordered,\"./data/H1_Cell_Line/hg19_random_tracks_sorted_required.bed\", sep=\"\\t\", \n",
    "            row.names=FALSE, quote = FALSE)"
   ]
  },
  {
   "cell_type": "markdown",
   "metadata": {},
   "source": [
    "> $ mergeBed -i hg_random_tracks_sorted_required.bed > hg_random_tracks_sorted_required_merged.bed"
   ]
  },
  {
   "cell_type": "markdown",
   "metadata": {},
   "source": [
    "> $ awk '{if (NR!=1) {print}}' hg_random_tracks_sorted_required_merged.bed > hg_random_tracks_sorted_required_merged_header_removed.bed"
   ]
  },
  {
   "cell_type": "code",
   "execution_count": 4,
   "metadata": {},
   "outputs": [],
   "source": [
    "## Choosing random sites distal to TSS\n",
    "\n",
    "## The strategy is to combine random tracks distal to the TSS or p300 binding sites. Now, let us create a \n",
    "## combination of TSS and p300 binding sites and then subtract the random sites from these, thus giving us\n",
    "## the residuals.\n",
    "\n",
    "tss_final <- read.table(\"./data/H1_Cell_Line/tss_sites_header_removed.bed\", sep = \"\\t\", header = FALSE)\n",
    "p300_final <- read.table(\"./data/H1_Cell_Line/h1_p300_merged.bed\", sep = \"\\t\", header = FALSE)\n",
    "\n",
    "## Combine the intervals and not 'merge' them\n",
    "tss_and_p300 <- rbind(tss_final,p300_final)\n",
    "\n",
    "## sort on the basis of chromosome names.\n",
    "tss_and_p300 <- tss_or_p300[order(tss_or_p300[,1]),]\n",
    "\n",
    "## Output file.\n",
    "write.table(tss_and_p300,\"./data/H1_Cell_Line/tss_and_p300.bed\", sep=\"\\t\", row.names=FALSE, quote = FALSE)"
   ]
  },
  {
   "cell_type": "markdown",
   "metadata": {},
   "source": [
    "Again as before, we remove the header and and sort the file \"tss_and_p300.bed\". The resulting file is named \"tss_and_p300_header_removed_sorted.bed\". <br> Additionally, the resultant file after intersecting the TSS and DHS sites from H1 cell line is \"tss_h1_dhs_intersect_sorted_merged.bed\". <br>\n",
    "**The filenames are so chosen to reflect the order and type of manipulations that have been applied.**"
   ]
  },
  {
   "cell_type": "markdown",
   "metadata": {},
   "source": [
    "Now to consolidate the negative class data, we have to : <br>\n",
    "> 1. Find the random sites that are distal to known p300 and TSS regions. <br>\n",
    "> 2. Find the intersection of TSS and DHS sites. <br>\n",
    "> 3. Finally, club both of these together to represent a comprehensive non-enhancer region space."
   ]
  },
  {
   "cell_type": "markdown",
   "metadata": {},
   "source": [
    "All the regions in the random sites of the human genome but not coinciding with the p300 and tss sites. <br>\n",
    "> $ intersectBed -v -a hg19_random_tracks_sorted_required_header_removed.bed -b tss_and_p300_header_removed_sorted.bed > true_random_to_p300_and_TSS.bed"
   ]
  },
  {
   "cell_type": "markdown",
   "metadata": {},
   "source": [
    "> $ cat true_random_to_p300_and_TSS.bed tss_h1_dhs_intersect_sorted_merged.bed > negative_class.bed"
   ]
  },
  {
   "cell_type": "code",
   "execution_count": 20,
   "metadata": {},
   "outputs": [],
   "source": [
    "## Import resultant files from intersection.\n",
    "negative_class <- read.table(\"./data/H1_Cell_Line/negative_class.bed\", sep = \"\\t\", header = FALSE)\n",
    "negative_class$V4 <- \"Non-Enhancer\"\n",
    "write.table(negative_class,\"./data/H1_Cell_Line/negative_class.bed\", sep=\"\\t\", row.names=FALSE, quote = FALSE)\n",
    "\n",
    "positive_class <- read.table(\"./data/H1_Cell_Line/h1_p300_dhs_intersect_class_header_removed.bed\", sep = \"\\t\", \n",
    "                             header = FALSE)"
   ]
  },
  {
   "cell_type": "code",
   "execution_count": 22,
   "metadata": {},
   "outputs": [
    {
     "data": {
      "text/html": [
       "<table>\n",
       "<caption>A data.frame: 6 × 4</caption>\n",
       "<thead>\n",
       "\t<tr><th scope=col>V1</th><th scope=col>V2</th><th scope=col>V3</th><th scope=col>V4</th></tr>\n",
       "\t<tr><th scope=col>&lt;fct&gt;</th><th scope=col>&lt;int&gt;</th><th scope=col>&lt;int&gt;</th><th scope=col>&lt;fct&gt;</th></tr>\n",
       "</thead>\n",
       "<tbody>\n",
       "\t<tr><td>chr1</td><td>10101</td><td>10140</td><td>enhancer</td></tr>\n",
       "\t<tr><td>chr1</td><td>10148</td><td>10209</td><td>enhancer</td></tr>\n",
       "\t<tr><td>chr1</td><td>10235</td><td>10290</td><td>enhancer</td></tr>\n",
       "\t<tr><td>chr1</td><td>10444</td><td>10580</td><td>enhancer</td></tr>\n",
       "\t<tr><td>chr1</td><td>11362</td><td>11397</td><td>enhancer</td></tr>\n",
       "\t<tr><td>chr1</td><td>12302</td><td>12333</td><td>enhancer</td></tr>\n",
       "</tbody>\n",
       "</table>\n"
      ],
      "text/latex": [
       "A data.frame: 6 × 4\n",
       "\\begin{tabular}{r|llll}\n",
       " V1 & V2 & V3 & V4\\\\\n",
       " <fct> & <int> & <int> & <fct>\\\\\n",
       "\\hline\n",
       "\t chr1 & 10101 & 10140 & enhancer\\\\\n",
       "\t chr1 & 10148 & 10209 & enhancer\\\\\n",
       "\t chr1 & 10235 & 10290 & enhancer\\\\\n",
       "\t chr1 & 10444 & 10580 & enhancer\\\\\n",
       "\t chr1 & 11362 & 11397 & enhancer\\\\\n",
       "\t chr1 & 12302 & 12333 & enhancer\\\\\n",
       "\\end{tabular}\n"
      ],
      "text/markdown": [
       "\n",
       "A data.frame: 6 × 4\n",
       "\n",
       "| V1 &lt;fct&gt; | V2 &lt;int&gt; | V3 &lt;int&gt; | V4 &lt;fct&gt; |\n",
       "|---|---|---|---|\n",
       "| chr1 | 10101 | 10140 | enhancer |\n",
       "| chr1 | 10148 | 10209 | enhancer |\n",
       "| chr1 | 10235 | 10290 | enhancer |\n",
       "| chr1 | 10444 | 10580 | enhancer |\n",
       "| chr1 | 11362 | 11397 | enhancer |\n",
       "| chr1 | 12302 | 12333 | enhancer |\n",
       "\n"
      ],
      "text/plain": [
       "  V1   V2    V3    V4      \n",
       "1 chr1 10101 10140 enhancer\n",
       "2 chr1 10148 10209 enhancer\n",
       "3 chr1 10235 10290 enhancer\n",
       "4 chr1 10444 10580 enhancer\n",
       "5 chr1 11362 11397 enhancer\n",
       "6 chr1 12302 12333 enhancer"
      ]
     },
     "metadata": {},
     "output_type": "display_data"
    }
   ],
   "source": [
    "## Merging Data on the basis of overlapping intervals\n",
    "\n",
    "## Positive class data (labels)\n",
    "head(positive_class)"
   ]
  },
  {
   "cell_type": "code",
   "execution_count": 23,
   "metadata": {},
   "outputs": [
    {
     "data": {
      "text/html": [
       "<table>\n",
       "<caption>A data.frame: 6 × 4</caption>\n",
       "<thead>\n",
       "\t<tr><th scope=col>V1</th><th scope=col>V2</th><th scope=col>V3</th><th scope=col>V4</th></tr>\n",
       "\t<tr><th scope=col>&lt;fct&gt;</th><th scope=col>&lt;int&gt;</th><th scope=col>&lt;int&gt;</th><th scope=col>&lt;chr&gt;</th></tr>\n",
       "</thead>\n",
       "<tbody>\n",
       "\t<tr><td>chr1</td><td>  847</td><td>  947</td><td>Non-Enhancer</td></tr>\n",
       "\t<tr><td>chr1</td><td> 8952</td><td> 9052</td><td>Non-Enhancer</td></tr>\n",
       "\t<tr><td>chr1</td><td>39831</td><td>39931</td><td>Non-Enhancer</td></tr>\n",
       "\t<tr><td>chr1</td><td>40608</td><td>40708</td><td>Non-Enhancer</td></tr>\n",
       "\t<tr><td>chr1</td><td>43842</td><td>43942</td><td>Non-Enhancer</td></tr>\n",
       "\t<tr><td>chr1</td><td>47908</td><td>48008</td><td>Non-Enhancer</td></tr>\n",
       "</tbody>\n",
       "</table>\n"
      ],
      "text/latex": [
       "A data.frame: 6 × 4\n",
       "\\begin{tabular}{r|llll}\n",
       " V1 & V2 & V3 & V4\\\\\n",
       " <fct> & <int> & <int> & <chr>\\\\\n",
       "\\hline\n",
       "\t chr1 &   847 &   947 & Non-Enhancer\\\\\n",
       "\t chr1 &  8952 &  9052 & Non-Enhancer\\\\\n",
       "\t chr1 & 39831 & 39931 & Non-Enhancer\\\\\n",
       "\t chr1 & 40608 & 40708 & Non-Enhancer\\\\\n",
       "\t chr1 & 43842 & 43942 & Non-Enhancer\\\\\n",
       "\t chr1 & 47908 & 48008 & Non-Enhancer\\\\\n",
       "\\end{tabular}\n"
      ],
      "text/markdown": [
       "\n",
       "A data.frame: 6 × 4\n",
       "\n",
       "| V1 &lt;fct&gt; | V2 &lt;int&gt; | V3 &lt;int&gt; | V4 &lt;chr&gt; |\n",
       "|---|---|---|---|\n",
       "| chr1 |   847 |   947 | Non-Enhancer |\n",
       "| chr1 |  8952 |  9052 | Non-Enhancer |\n",
       "| chr1 | 39831 | 39931 | Non-Enhancer |\n",
       "| chr1 | 40608 | 40708 | Non-Enhancer |\n",
       "| chr1 | 43842 | 43942 | Non-Enhancer |\n",
       "| chr1 | 47908 | 48008 | Non-Enhancer |\n",
       "\n"
      ],
      "text/plain": [
       "  V1   V2    V3    V4          \n",
       "1 chr1   847   947 Non-Enhancer\n",
       "2 chr1  8952  9052 Non-Enhancer\n",
       "3 chr1 39831 39931 Non-Enhancer\n",
       "4 chr1 40608 40708 Non-Enhancer\n",
       "5 chr1 43842 43942 Non-Enhancer\n",
       "6 chr1 47908 48008 Non-Enhancer"
      ]
     },
     "metadata": {},
     "output_type": "display_data"
    }
   ],
   "source": [
    "## Negative class (Labels)\n",
    "head(negative_class)\n"
   ]
  },
  {
   "cell_type": "code",
   "execution_count": 24,
   "metadata": {},
   "outputs": [],
   "source": [
    "## Score Matrix (Input data)\n",
    "input_score_data <- read.table(\"./data/H1_Cell_Line/bedtools_Merge_2000.bedgraph\", sep = \"\\t\", header = FALSE)\n",
    "input_score_data<- as.data.frame(input_score_data[input_score_data$V1 %in% chromosomes, ])\n",
    "\n",
    "\n",
    "## Converting data to GRanges objects\n",
    "library(GenomicRanges)\n",
    "positive_class_labels <- GRanges(seqnames = positive_class$V1, ranges = IRanges(start = positive_class$V2, \n",
    "                                                                       end = positive_class$V3))\n",
    "mcols(positive_class_labels) <- DataFrame(class= \"Enhancer\")\n",
    "\n",
    "\n",
    "negative_class_labels <- GRanges(seqnames = negative_class$V1, ranges = IRanges(start = negative_class$V2, \n",
    "                                                                       end = negative_class$V3))\n",
    "mcols(negative_class_labels) <- DataFrame(class= \"Non-Enhancer\")\n",
    "\n",
    "\n",
    "input_score <- GRanges(seqnames = input_score_data$V1, ranges = IRanges(start = input_score_data$V2,\n",
    "                                                                        end = input_score_data$V3))\n",
    "mcols(input_score) <- DataFrame(peaks_h3k27ac = input_score_data$V4, peaks_h3k4me3 = input_score_data$V5,\n",
    "                                peaks_h3k4me2 = input_score_data$V6, peaks_h3k4me1 = input_score_data$V7)\n",
    "\n",
    "## Performing merge to figure out the score and class matrix.\n",
    "\n",
    "intermatrix1 <- merge(as.data.frame(positive_class_labels), as.data.frame(negative_class_labels), \n",
    "                      all= TRUE) ## positive and negative classes ##\n",
    "intermatrix2 <- merge(as.data.frame(intermatrix1), as.data.frame(input_score), \n",
    "                      all= TRUE) ## scores and classes ##"
   ]
  },
  {
   "cell_type": "code",
   "execution_count": 25,
   "metadata": {},
   "outputs": [
    {
     "name": "stdout",
     "output_type": "stream",
     "text": [
      "'data.frame':\t17327990 obs. of  10 variables:\n",
      " $ seqnames     : Factor w/ 146 levels \"chr1\",\"chr10\",..: 1 1 1 1 1 1 1 1 1 1 ...\n",
      " $ start        : int  0 847 8000 8952 10101 10148 10235 10444 11362 12000 ...\n",
      " $ end          : int  8000 947 12000 9052 10140 10209 10290 10580 11397 16000 ...\n",
      " $ width        : int  8001 101 4001 101 40 62 56 137 36 4001 ...\n",
      " $ strand       : Factor w/ 3 levels \"+\",\"-\",\"*\": 3 3 3 3 3 3 3 3 3 3 ...\n",
      " $ class        : chr  NA \"Non-Enhancer\" NA \"Non-Enhancer\" ...\n",
      " $ peaks_h3k27ac: num  0 NA 0.0568 NA NA ...\n",
      " $ peaks_h3k4me3: num  0 NA 0 NA NA NA NA NA NA 0 ...\n",
      " $ peaks_h3k4me2: num  0 NA 0 NA NA NA NA NA NA 0 ...\n",
      " $ peaks_h3k4me1: num  0 NA 0 NA NA NA NA NA NA 0 ...\n"
     ]
    }
   ],
   "source": [
    "str(intermatrix2)\n",
    "\n",
    "## Let's make a duplicate copy of the final results dataframe for further processing. \n",
    "## We must preserve a copy for backup.\n",
    "final_data <- intermatrix2\n",
    "\n",
    "## Replacing NAs with 0s(zeros) in the peaks' columns. Since the score data is not available, \n",
    "## imputing empty cells with zero entries engenders mathematical convenience.\n",
    "\n",
    "final_data$peaks_h3k27ac[is.na(final_data$peaks_h3k27ac)] <- 0\n",
    "final_data$peaks_h3k4me3[is.na(final_data$peaks_h3k4me3)] <- 0\n",
    "final_data$peaks_h3k4me2[is.na(final_data$peaks_h3k4me2)] <- 0\n",
    "final_data$peaks_h3k4me1[is.na(final_data$peaks_h3k4me1)] <- 0\n",
    "\n",
    "## Sorting on the basis of first two columns, viz. seqnames, start.\n",
    "final_data <- final_data[order(final_data$seqnames, final_data$start),]\n"
   ]
  },
  {
   "cell_type": "markdown",
   "metadata": {},
   "source": [
    "The dataset we finally implement for the machine learning model is the following."
   ]
  },
  {
   "cell_type": "code",
   "execution_count": 26,
   "metadata": {},
   "outputs": [
    {
     "data": {
      "text/html": [
       "<table>\n",
       "<caption>A data.frame: 6 × 10</caption>\n",
       "<thead>\n",
       "\t<tr><th scope=col>seqnames</th><th scope=col>start</th><th scope=col>end</th><th scope=col>width</th><th scope=col>strand</th><th scope=col>class</th><th scope=col>peaks_h3k27ac</th><th scope=col>peaks_h3k4me3</th><th scope=col>peaks_h3k4me2</th><th scope=col>peaks_h3k4me1</th></tr>\n",
       "\t<tr><th scope=col>&lt;fct&gt;</th><th scope=col>&lt;int&gt;</th><th scope=col>&lt;int&gt;</th><th scope=col>&lt;int&gt;</th><th scope=col>&lt;fct&gt;</th><th scope=col>&lt;chr&gt;</th><th scope=col>&lt;dbl&gt;</th><th scope=col>&lt;dbl&gt;</th><th scope=col>&lt;dbl&gt;</th><th scope=col>&lt;dbl&gt;</th></tr>\n",
       "</thead>\n",
       "<tbody>\n",
       "\t<tr><td>chr1</td><td>    0</td><td> 8000</td><td>8001</td><td>*</td><td>NA          </td><td>0.0000000</td><td>0</td><td>0</td><td>0</td></tr>\n",
       "\t<tr><td>chr1</td><td>  847</td><td>  947</td><td> 101</td><td>*</td><td>Non-Enhancer</td><td>0.0000000</td><td>0</td><td>0</td><td>0</td></tr>\n",
       "\t<tr><td>chr1</td><td> 8000</td><td>12000</td><td>4001</td><td>*</td><td>NA          </td><td>0.0567974</td><td>0</td><td>0</td><td>0</td></tr>\n",
       "\t<tr><td>chr1</td><td> 8952</td><td> 9052</td><td> 101</td><td>*</td><td>Non-Enhancer</td><td>0.0000000</td><td>0</td><td>0</td><td>0</td></tr>\n",
       "\t<tr><td>chr1</td><td>10101</td><td>10140</td><td>  40</td><td>*</td><td>Enhancer    </td><td>0.0000000</td><td>0</td><td>0</td><td>0</td></tr>\n",
       "\t<tr><td>chr1</td><td>10148</td><td>10209</td><td>  62</td><td>*</td><td>Enhancer    </td><td>0.0000000</td><td>0</td><td>0</td><td>0</td></tr>\n",
       "</tbody>\n",
       "</table>\n"
      ],
      "text/latex": [
       "A data.frame: 6 × 10\n",
       "\\begin{tabular}{r|llllllllll}\n",
       " seqnames & start & end & width & strand & class & peaks\\_h3k27ac & peaks\\_h3k4me3 & peaks\\_h3k4me2 & peaks\\_h3k4me1\\\\\n",
       " <fct> & <int> & <int> & <int> & <fct> & <chr> & <dbl> & <dbl> & <dbl> & <dbl>\\\\\n",
       "\\hline\n",
       "\t chr1 &     0 &  8000 & 8001 & * & NA           & 0.0000000 & 0 & 0 & 0\\\\\n",
       "\t chr1 &   847 &   947 &  101 & * & Non-Enhancer & 0.0000000 & 0 & 0 & 0\\\\\n",
       "\t chr1 &  8000 & 12000 & 4001 & * & NA           & 0.0567974 & 0 & 0 & 0\\\\\n",
       "\t chr1 &  8952 &  9052 &  101 & * & Non-Enhancer & 0.0000000 & 0 & 0 & 0\\\\\n",
       "\t chr1 & 10101 & 10140 &   40 & * & Enhancer     & 0.0000000 & 0 & 0 & 0\\\\\n",
       "\t chr1 & 10148 & 10209 &   62 & * & Enhancer     & 0.0000000 & 0 & 0 & 0\\\\\n",
       "\\end{tabular}\n"
      ],
      "text/markdown": [
       "\n",
       "A data.frame: 6 × 10\n",
       "\n",
       "| seqnames &lt;fct&gt; | start &lt;int&gt; | end &lt;int&gt; | width &lt;int&gt; | strand &lt;fct&gt; | class &lt;chr&gt; | peaks_h3k27ac &lt;dbl&gt; | peaks_h3k4me3 &lt;dbl&gt; | peaks_h3k4me2 &lt;dbl&gt; | peaks_h3k4me1 &lt;dbl&gt; |\n",
       "|---|---|---|---|---|---|---|---|---|---|\n",
       "| chr1 |     0 |  8000 | 8001 | * | NA           | 0.0000000 | 0 | 0 | 0 |\n",
       "| chr1 |   847 |   947 |  101 | * | Non-Enhancer | 0.0000000 | 0 | 0 | 0 |\n",
       "| chr1 |  8000 | 12000 | 4001 | * | NA           | 0.0567974 | 0 | 0 | 0 |\n",
       "| chr1 |  8952 |  9052 |  101 | * | Non-Enhancer | 0.0000000 | 0 | 0 | 0 |\n",
       "| chr1 | 10101 | 10140 |   40 | * | Enhancer     | 0.0000000 | 0 | 0 | 0 |\n",
       "| chr1 | 10148 | 10209 |   62 | * | Enhancer     | 0.0000000 | 0 | 0 | 0 |\n",
       "\n"
      ],
      "text/plain": [
       "  seqnames start end   width strand class        peaks_h3k27ac peaks_h3k4me3\n",
       "1 chr1         0  8000 8001  *      NA           0.0000000     0            \n",
       "2 chr1       847   947  101  *      Non-Enhancer 0.0000000     0            \n",
       "3 chr1      8000 12000 4001  *      NA           0.0567974     0            \n",
       "4 chr1      8952  9052  101  *      Non-Enhancer 0.0000000     0            \n",
       "5 chr1     10101 10140   40  *      Enhancer     0.0000000     0            \n",
       "6 chr1     10148 10209   62  *      Enhancer     0.0000000     0            \n",
       "  peaks_h3k4me2 peaks_h3k4me1\n",
       "1 0             0            \n",
       "2 0             0            \n",
       "3 0             0            \n",
       "4 0             0            \n",
       "5 0             0            \n",
       "6 0             0            "
      ]
     },
     "metadata": {},
     "output_type": "display_data"
    }
   ],
   "source": [
    "head(final_data)"
   ]
  },
  {
   "cell_type": "code",
   "execution_count": 27,
   "metadata": {},
   "outputs": [
    {
     "name": "stdout",
     "output_type": "stream",
     "text": [
      "'data.frame':\t17327990 obs. of  10 variables:\n",
      " $ seqnames     : Factor w/ 146 levels \"chr1\",\"chr10\",..: 1 1 1 1 1 1 1 1 1 1 ...\n",
      " $ start        : int  0 847 8000 8952 10101 10148 10235 10444 11362 12000 ...\n",
      " $ end          : int  8000 947 12000 9052 10140 10209 10290 10580 11397 16000 ...\n",
      " $ width        : int  8001 101 4001 101 40 62 56 137 36 4001 ...\n",
      " $ strand       : Factor w/ 3 levels \"+\",\"-\",\"*\": 3 3 3 3 3 3 3 3 3 3 ...\n",
      " $ class        : chr  NA \"Non-Enhancer\" NA \"Non-Enhancer\" ...\n",
      " $ peaks_h3k27ac: num  0 0 0.0568 0 0 ...\n",
      " $ peaks_h3k4me3: num  0 0 0 0 0 0 0 0 0 0 ...\n",
      " $ peaks_h3k4me2: num  0 0 0 0 0 0 0 0 0 0 ...\n",
      " $ peaks_h3k4me1: num  0 0 0 0 0 0 0 0 0 0 ...\n"
     ]
    }
   ],
   "source": [
    "str(final_data)"
   ]
  },
  {
   "cell_type": "markdown",
   "metadata": {},
   "source": [
    "Let us write this data to the disk for use with other applications too."
   ]
  },
  {
   "cell_type": "code",
   "execution_count": 28,
   "metadata": {},
   "outputs": [
    {
     "data": {
      "text/plain": [
       "\n",
       "    Enhancer Non-Enhancer \n",
       "     6504779      9422552 "
      ]
     },
     "metadata": {},
     "output_type": "display_data"
    }
   ],
   "source": [
    "table(final_data$class)"
   ]
  },
  {
   "cell_type": "code",
   "execution_count": 29,
   "metadata": {},
   "outputs": [],
   "source": [
    "saveRDS(final_data,\"./data/ep_data.rds\")"
   ]
  },
  {
   "cell_type": "markdown",
   "metadata": {},
   "source": [
    "## References"
   ]
  },
  {
   "cell_type": "markdown",
   "metadata": {},
   "source": [
    "> Kim, S. G., Harwani, M., Grama, A., & Chaterji, S. (2016). EP-DNN : A Deep Neural Network- Based Global Enhancer Prediction Algorithm. Nature Publishing Group, (November), 1–13. https://doi.org/10.1038/srep38433"
   ]
  }
 ],
 "metadata": {
  "kernelspec": {
   "display_name": "R",
   "language": "R",
   "name": "ir"
  },
  "language_info": {
   "codemirror_mode": "r",
   "file_extension": ".r",
   "mimetype": "text/x-r-source",
   "name": "R",
   "pygments_lexer": "r",
   "version": "3.6.0"
  }
 },
 "nbformat": 4,
 "nbformat_minor": 2
}
