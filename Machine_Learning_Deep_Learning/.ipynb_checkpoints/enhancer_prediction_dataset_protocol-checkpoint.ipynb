{
 "cells": [
  {
   "cell_type": "markdown",
   "metadata": {},
   "source": [
    "## Dataset Preparation"
   ]
  },
  {
   "cell_type": "markdown",
   "metadata": {},
   "source": [
    "<p>The overall selection of data and the analysis protocol has been loosely borrowed from Kim et al. (2016). Typically for a machine learning problem, we shall have a dataset (consolidated, with class and variable/ feature definitions) and that'll be bifurcated (typically in 3:7 or 2:8 proportions) to be used as testing and training sets respectively. Contrarily, in this study both the categories have been sourced differently as you'll see.\n",
    "In this exercise, we shall have positive and negative training examples for the training dataset but only positive examples for the test dataset. And that is perfectively fine.</p>\n",
    "<p>The H1 cell line data for H3K27, H3K4me1, HeK4me2, and H3K4me3 have been sourced from the [ENCODE project](https://www.encodeproject.org/) featured by [Ren Lab](http://renlab.sdsc.edu/renlab_website/bing/). The version of the genome considered is **GrCh38**.</p>\n",
    "<p>The *bam* data is downloaded and needs to be converted to bed/bw files for further processing. For the same, we employ the bedtools Merge function. The four files showcasing various histone markers for enhancer data are merged together on the basis of overlapping intervals to get a matrix of peak counts that act as features to the 'enhancer' class.</p>"
   ]
  },
  {
   "cell_type": "code",
   "execution_count": null,
   "metadata": {},
   "outputs": [],
   "source": [
    "# The individual bam files are indexed.\n",
    "\n",
    "system(\"samtools index -b ./H1_GrCh38/H3K27ac/ENCFF663SAM.bam\")\n",
    "system(\"samtools index -b ./H1_GrCh38/H3K4me1/ENCFF441KOL.bam\")\n",
    "system(\"samtools index -b ./H1_GrCh38/H3K4me2/ENCFF799BDH.bam\")\n",
    "system(\"samtools index -b ./H1_GrCh38/H3K4me3/ENCFF340UJK.bam\")"
   ]
  },
  {
   "cell_type": "markdown",
   "metadata": {},
   "source": [
    "After having the BAM files indexed, we proceed towards binning them into the desired intervals of 2000bp (since that is the aggregate size of the enhancers) ans for consistency the non-enhancer segaments shall be of the same size as well. We achieve this via **deeptools** suite, a function called [bamCoverage](https://deeptools.readthedocs.io/en/develop/content/tools/bamCoverage.html). "
   ]
  },
  {
   "cell_type": "code",
   "execution_count": null,
   "metadata": {},
   "outputs": [],
   "source": [
    "system(\"bamCoverage --bam ENCFF663SAM.bam -o ENCFF663SAM2000_30.bw --binSize 2000 --normalizeUsing RPKM --effectiveGenomeSize 2913022398 --outFileFormat bedgraph --maxFragmentLength 30\")\n",
    "system(\"bamCoverage --bam ENCFF441KOL.bam -o ENCFF441KOL2000_36.bw --binSize 2000 --normalizeUsing RPKM --effectiveGenomeSize 2913022398 --outFileFormat bedgraph --maxFragmentLength 36\")\n",
    "system(\"bamCoverage --bam ENCFF799BDH.bam -o ENCFF799BDH2000_36.bw --binSize 2000 --normalizeUsing RPKM --effectiveGenomeSize 2913022398 --outFileFormat bedgraph --maxFragmentLength 36\")\n",
    "system(\"bamCoverage --bam ENCFF340UJK.bam -o ENCFF340UJK2000_36.bw --binSize 2000 --normalizeUsing RPKM --effectiveGenomeSize 2913022398 --outFileFormat bedgraph --maxFragmentLength 36\")"
   ]
  },
  {
   "cell_type": "markdown",
   "metadata": {},
   "source": [
    "The above resultant files are the genome-wide coverages of the respective histone marks in the given cell (H1)."
   ]
  },
  {
   "cell_type": "markdown",
   "metadata": {},
   "source": [
    "<img src=\"./props/Data_Schema.jpg\">"
   ]
  },
  {
   "cell_type": "markdown",
   "metadata": {},
   "source": [
    "### Testing Data"
   ]
  },
  {
   "cell_type": "markdown",
   "metadata": {},
   "source": [
    "For testing data, we consider data only for enhancers. Even with this data, we shall be able to evaluate the model's veracity of predicting positive examples. "
   ]
  },
  {
   "cell_type": "markdown",
   "metadata": {},
   "source": [
    "As noted, the primary step is to source the BAM files, index them, and finally tranform into BEDGRAPH files. The column naming is done appropriately. "
   ]
  },
  {
   "cell_type": "code",
   "execution_count": 2,
   "metadata": {},
   "outputs": [],
   "source": [
    "h3k27ac <- read.csv(\"./data/H1_Cell_Line/H3K27ac/ENCFF663SAM2000_30.bw\", sep = '\\t', header = FALSE)\n",
    "colnames(h3k27ac) <- c(\"chrom\",\"start\",\"end\",\"reads\")   \n",
    "h3k4me3 <- read.csv(\"./data/H1_Cell_Line/H3K4me3/ENCFF340UJK2000_36.bw\", sep = '\\t', header = FALSE)\n",
    "colnames(h3k4me3) <- c(\"chrom\",\"start\",\"end\",\"reads\")\n",
    "h3k4me2 <- read.csv(\"./data/H1_Cell_Line/H3K4me2/ENCFF799BDH2000_36.bw\", sep = '\\t', header = FALSE)\n",
    "colnames(h3k4me2) <- c(\"chrom\",\"start\",\"end\",\"reads\")\n",
    "h3k4me1 <- read.csv(\"./data/H1_Cell_Line/H3K4me1/ENCFF441KOL2000_36.bw\", sep = '\\t', header = FALSE)\n",
    "colnames(h3k4me1) <- c(\"chrom\",\"start\",\"end\",\"reads\")"
   ]
  },
  {
   "cell_type": "markdown",
   "metadata": {},
   "source": [
    "These files (with extension **.bw**) are eventually imported to the online Galaxy interface and executed for the *bedtools Merge* function. The four files showcasing various histone markers for enhancer data are merged together on the basis of overlapping intervals to get a matrix of coverage reads that act as features to the 'enhancer' class. "
   ]
  },
  {
   "cell_type": "code",
   "execution_count": 8,
   "metadata": {},
   "outputs": [],
   "source": [
    "bedtools_unionbedg_all.bw <- system (\"bedtools unionbedg -i ./data/H1_Cell_Line/H3K27ac/ENCFF663SAM2000_30.bw ./data/H1_Cell_Line/H3K4me3/ENCFF340UJK2000_36.bw ./data/H1_Cell_Line/H3K4me2/ENCFF799BDH2000_36.bw ./data/H1_Cell_Line/H3K4me1/ENCFF441KOL2000_36.bw -header -names H3K27ac H3K4me3 H3K4me2 H3K4me1\")"
   ]
  },
  {
   "cell_type": "code",
   "execution_count": 17,
   "metadata": {},
   "outputs": [
    {
     "data": {
      "text/html": [
       "<table>\n",
       "<caption>A data.frame: 6 × 7</caption>\n",
       "<thead>\n",
       "\t<tr><th scope=col>chrom</th><th scope=col>start</th><th scope=col>end</th><th scope=col>H3K27ac</th><th scope=col>H3K4me3</th><th scope=col>H3K4me2</th><th scope=col>H3K4me1</th></tr>\n",
       "\t<tr><th scope=col>&lt;fct&gt;</th><th scope=col>&lt;int&gt;</th><th scope=col>&lt;int&gt;</th><th scope=col>&lt;dbl&gt;</th><th scope=col>&lt;dbl&gt;</th><th scope=col>&lt;dbl&gt;</th><th scope=col>&lt;dbl&gt;</th></tr>\n",
       "</thead>\n",
       "<tbody>\n",
       "\t<tr><td>chr1</td><td>    0</td><td> 8000</td><td>0</td><td>0</td><td>0</td><td>0.0000000</td></tr>\n",
       "\t<tr><td>chr1</td><td> 8000</td><td>12000</td><td>0</td><td>0</td><td>0</td><td>0.0568576</td></tr>\n",
       "\t<tr><td>chr1</td><td>12000</td><td>16000</td><td>0</td><td>0</td><td>0</td><td>0.0000000</td></tr>\n",
       "\t<tr><td>chr1</td><td>16000</td><td>18000</td><td>0</td><td>0</td><td>0</td><td>0.0568576</td></tr>\n",
       "\t<tr><td>chr1</td><td>18000</td><td>40000</td><td>0</td><td>0</td><td>0</td><td>0.0000000</td></tr>\n",
       "\t<tr><td>chr1</td><td>40000</td><td>42000</td><td>0</td><td>0</td><td>0</td><td>0.0568576</td></tr>\n",
       "</tbody>\n",
       "</table>\n"
      ],
      "text/latex": [
       "A data.frame: 6 × 7\n",
       "\\begin{tabular}{r|lllllll}\n",
       " chrom & start & end & H3K27ac & H3K4me3 & H3K4me2 & H3K4me1\\\\\n",
       " <fct> & <int> & <int> & <dbl> & <dbl> & <dbl> & <dbl>\\\\\n",
       "\\hline\n",
       "\t chr1 &     0 &  8000 & 0 & 0 & 0 & 0.0000000\\\\\n",
       "\t chr1 &  8000 & 12000 & 0 & 0 & 0 & 0.0568576\\\\\n",
       "\t chr1 & 12000 & 16000 & 0 & 0 & 0 & 0.0000000\\\\\n",
       "\t chr1 & 16000 & 18000 & 0 & 0 & 0 & 0.0568576\\\\\n",
       "\t chr1 & 18000 & 40000 & 0 & 0 & 0 & 0.0000000\\\\\n",
       "\t chr1 & 40000 & 42000 & 0 & 0 & 0 & 0.0568576\\\\\n",
       "\\end{tabular}\n"
      ],
      "text/markdown": [
       "\n",
       "A data.frame: 6 × 7\n",
       "\n",
       "| chrom &lt;fct&gt; | start &lt;int&gt; | end &lt;int&gt; | H3K27ac &lt;dbl&gt; | H3K4me3 &lt;dbl&gt; | H3K4me2 &lt;dbl&gt; | H3K4me1 &lt;dbl&gt; |\n",
       "|---|---|---|---|---|---|---|\n",
       "| chr1 |     0 |  8000 | 0 | 0 | 0 | 0.0000000 |\n",
       "| chr1 |  8000 | 12000 | 0 | 0 | 0 | 0.0568576 |\n",
       "| chr1 | 12000 | 16000 | 0 | 0 | 0 | 0.0000000 |\n",
       "| chr1 | 16000 | 18000 | 0 | 0 | 0 | 0.0568576 |\n",
       "| chr1 | 18000 | 40000 | 0 | 0 | 0 | 0.0000000 |\n",
       "| chr1 | 40000 | 42000 | 0 | 0 | 0 | 0.0568576 |\n",
       "\n"
      ],
      "text/plain": [
       "  chrom start end   H3K27ac H3K4me3 H3K4me2 H3K4me1  \n",
       "1 chr1      0  8000 0       0       0       0.0000000\n",
       "2 chr1   8000 12000 0       0       0       0.0568576\n",
       "3 chr1  12000 16000 0       0       0       0.0000000\n",
       "4 chr1  16000 18000 0       0       0       0.0568576\n",
       "5 chr1  18000 40000 0       0       0       0.0000000\n",
       "6 chr1  40000 42000 0       0       0       0.0568576"
      ]
     },
     "metadata": {},
     "output_type": "display_data"
    },
    {
     "data": {
      "text/html": [
       "<table>\n",
       "<caption>A data.frame: 6 × 8</caption>\n",
       "<thead>\n",
       "\t<tr><th scope=col>chrom</th><th scope=col>start</th><th scope=col>end</th><th scope=col>H3K27ac</th><th scope=col>H3K4me3</th><th scope=col>H3K4me2</th><th scope=col>H3K4me1</th><th scope=col>Class</th></tr>\n",
       "\t<tr><th scope=col>&lt;fct&gt;</th><th scope=col>&lt;int&gt;</th><th scope=col>&lt;int&gt;</th><th scope=col>&lt;dbl&gt;</th><th scope=col>&lt;dbl&gt;</th><th scope=col>&lt;dbl&gt;</th><th scope=col>&lt;dbl&gt;</th><th scope=col>&lt;chr&gt;</th></tr>\n",
       "</thead>\n",
       "<tbody>\n",
       "\t<tr><td>chr1</td><td>    0</td><td> 8000</td><td>0</td><td>0</td><td>0</td><td>0.0000000</td><td>enhancer</td></tr>\n",
       "\t<tr><td>chr1</td><td> 8000</td><td>12000</td><td>0</td><td>0</td><td>0</td><td>0.0568576</td><td>enhancer</td></tr>\n",
       "\t<tr><td>chr1</td><td>12000</td><td>16000</td><td>0</td><td>0</td><td>0</td><td>0.0000000</td><td>enhancer</td></tr>\n",
       "\t<tr><td>chr1</td><td>16000</td><td>18000</td><td>0</td><td>0</td><td>0</td><td>0.0568576</td><td>enhancer</td></tr>\n",
       "\t<tr><td>chr1</td><td>18000</td><td>40000</td><td>0</td><td>0</td><td>0</td><td>0.0000000</td><td>enhancer</td></tr>\n",
       "\t<tr><td>chr1</td><td>40000</td><td>42000</td><td>0</td><td>0</td><td>0</td><td>0.0568576</td><td>enhancer</td></tr>\n",
       "</tbody>\n",
       "</table>\n"
      ],
      "text/latex": [
       "A data.frame: 6 × 8\n",
       "\\begin{tabular}{r|llllllll}\n",
       " chrom & start & end & H3K27ac & H3K4me3 & H3K4me2 & H3K4me1 & Class\\\\\n",
       " <fct> & <int> & <int> & <dbl> & <dbl> & <dbl> & <dbl> & <chr>\\\\\n",
       "\\hline\n",
       "\t chr1 &     0 &  8000 & 0 & 0 & 0 & 0.0000000 & enhancer\\\\\n",
       "\t chr1 &  8000 & 12000 & 0 & 0 & 0 & 0.0568576 & enhancer\\\\\n",
       "\t chr1 & 12000 & 16000 & 0 & 0 & 0 & 0.0000000 & enhancer\\\\\n",
       "\t chr1 & 16000 & 18000 & 0 & 0 & 0 & 0.0568576 & enhancer\\\\\n",
       "\t chr1 & 18000 & 40000 & 0 & 0 & 0 & 0.0000000 & enhancer\\\\\n",
       "\t chr1 & 40000 & 42000 & 0 & 0 & 0 & 0.0568576 & enhancer\\\\\n",
       "\\end{tabular}\n"
      ],
      "text/markdown": [
       "\n",
       "A data.frame: 6 × 8\n",
       "\n",
       "| chrom &lt;fct&gt; | start &lt;int&gt; | end &lt;int&gt; | H3K27ac &lt;dbl&gt; | H3K4me3 &lt;dbl&gt; | H3K4me2 &lt;dbl&gt; | H3K4me1 &lt;dbl&gt; | Class &lt;chr&gt; |\n",
       "|---|---|---|---|---|---|---|---|\n",
       "| chr1 |     0 |  8000 | 0 | 0 | 0 | 0.0000000 | enhancer |\n",
       "| chr1 |  8000 | 12000 | 0 | 0 | 0 | 0.0568576 | enhancer |\n",
       "| chr1 | 12000 | 16000 | 0 | 0 | 0 | 0.0000000 | enhancer |\n",
       "| chr1 | 16000 | 18000 | 0 | 0 | 0 | 0.0568576 | enhancer |\n",
       "| chr1 | 18000 | 40000 | 0 | 0 | 0 | 0.0000000 | enhancer |\n",
       "| chr1 | 40000 | 42000 | 0 | 0 | 0 | 0.0568576 | enhancer |\n",
       "\n"
      ],
      "text/plain": [
       "  chrom start end   H3K27ac H3K4me3 H3K4me2 H3K4me1   Class   \n",
       "1 chr1      0  8000 0       0       0       0.0000000 enhancer\n",
       "2 chr1   8000 12000 0       0       0       0.0568576 enhancer\n",
       "3 chr1  12000 16000 0       0       0       0.0000000 enhancer\n",
       "4 chr1  16000 18000 0       0       0       0.0568576 enhancer\n",
       "5 chr1  18000 40000 0       0       0       0.0000000 enhancer\n",
       "6 chr1  40000 42000 0       0       0       0.0568576 enhancer"
      ]
     },
     "metadata": {},
     "output_type": "display_data"
    }
   ],
   "source": [
    "## Importing the merged BEDGRAPH/BW file\n",
    "\n",
    "merged_bw <- read.csv(\"bedtools_unionbedg_all.bw\", sep = '\\t', header = TRUE)\n",
    "head(merged_bw)\n",
    "merged_bw$Class <- \"enhancer\"\n",
    "head(merged_bw)\n",
    "\n",
    "\n",
    "## Identifying examples of standard chromosomes only and filtering the residuals.\n",
    "\n",
    "chromosomes <- c(\"chr1\",\"chr2\",\"chr3\",\"chr4\",\"chr5\",\"chr6\",\"chr7\",\"chr8\",\"chr9\",\"chr10\",\"chr11\",\"chr12\",\"chr13\",\"chr14\",\n",
    "                 \"chr15\", \"chr16\", \"chr17\", \"chr18\", \"chr19\", \"chr20\",\"chr21\", \"chr22\", \"chrX\", \"chrY\")\n",
    "merged_bw<- as.data.frame(merged_bw[merged_bw$chrom %in% chromosomes, ])"
   ]
  },
  {
   "cell_type": "markdown",
   "metadata": {},
   "source": [
    "Since we are soleley concerned with the score values, we shall hack off the information on intervals and chromosome names. The resultant dataset shall have class labels (enhancers) and coverage scores spanning from columns 4 to 8."
   ]
  },
  {
   "cell_type": "code",
   "execution_count": 18,
   "metadata": {},
   "outputs": [],
   "source": [
    "## Deriving test data as input to the deep learning model.\n",
    "\n",
    "test <- merged_bw[,c(4:8)]"
   ]
  },
  {
   "cell_type": "markdown",
   "metadata": {},
   "source": [
    "Let's check out the dataset. "
   ]
  },
  {
   "cell_type": "code",
   "execution_count": 19,
   "metadata": {},
   "outputs": [
    {
     "data": {
      "text/html": [
       "<table>\n",
       "<caption>A data.frame: 6 × 5</caption>\n",
       "<thead>\n",
       "\t<tr><th scope=col>H3K27ac</th><th scope=col>H3K4me3</th><th scope=col>H3K4me2</th><th scope=col>H3K4me1</th><th scope=col>Class</th></tr>\n",
       "\t<tr><th scope=col>&lt;dbl&gt;</th><th scope=col>&lt;dbl&gt;</th><th scope=col>&lt;dbl&gt;</th><th scope=col>&lt;dbl&gt;</th><th scope=col>&lt;chr&gt;</th></tr>\n",
       "</thead>\n",
       "<tbody>\n",
       "\t<tr><td>0</td><td>0</td><td>0</td><td>0.0000000</td><td>enhancer</td></tr>\n",
       "\t<tr><td>0</td><td>0</td><td>0</td><td>0.0568576</td><td>enhancer</td></tr>\n",
       "\t<tr><td>0</td><td>0</td><td>0</td><td>0.0000000</td><td>enhancer</td></tr>\n",
       "\t<tr><td>0</td><td>0</td><td>0</td><td>0.0568576</td><td>enhancer</td></tr>\n",
       "\t<tr><td>0</td><td>0</td><td>0</td><td>0.0000000</td><td>enhancer</td></tr>\n",
       "\t<tr><td>0</td><td>0</td><td>0</td><td>0.0568576</td><td>enhancer</td></tr>\n",
       "</tbody>\n",
       "</table>\n"
      ],
      "text/latex": [
       "A data.frame: 6 × 5\n",
       "\\begin{tabular}{r|lllll}\n",
       " H3K27ac & H3K4me3 & H3K4me2 & H3K4me1 & Class\\\\\n",
       " <dbl> & <dbl> & <dbl> & <dbl> & <chr>\\\\\n",
       "\\hline\n",
       "\t 0 & 0 & 0 & 0.0000000 & enhancer\\\\\n",
       "\t 0 & 0 & 0 & 0.0568576 & enhancer\\\\\n",
       "\t 0 & 0 & 0 & 0.0000000 & enhancer\\\\\n",
       "\t 0 & 0 & 0 & 0.0568576 & enhancer\\\\\n",
       "\t 0 & 0 & 0 & 0.0000000 & enhancer\\\\\n",
       "\t 0 & 0 & 0 & 0.0568576 & enhancer\\\\\n",
       "\\end{tabular}\n"
      ],
      "text/markdown": [
       "\n",
       "A data.frame: 6 × 5\n",
       "\n",
       "| H3K27ac &lt;dbl&gt; | H3K4me3 &lt;dbl&gt; | H3K4me2 &lt;dbl&gt; | H3K4me1 &lt;dbl&gt; | Class &lt;chr&gt; |\n",
       "|---|---|---|---|---|\n",
       "| 0 | 0 | 0 | 0.0000000 | enhancer |\n",
       "| 0 | 0 | 0 | 0.0568576 | enhancer |\n",
       "| 0 | 0 | 0 | 0.0000000 | enhancer |\n",
       "| 0 | 0 | 0 | 0.0568576 | enhancer |\n",
       "| 0 | 0 | 0 | 0.0000000 | enhancer |\n",
       "| 0 | 0 | 0 | 0.0568576 | enhancer |\n",
       "\n"
      ],
      "text/plain": [
       "  H3K27ac H3K4me3 H3K4me2 H3K4me1   Class   \n",
       "1 0       0       0       0.0000000 enhancer\n",
       "2 0       0       0       0.0568576 enhancer\n",
       "3 0       0       0       0.0000000 enhancer\n",
       "4 0       0       0       0.0568576 enhancer\n",
       "5 0       0       0       0.0000000 enhancer\n",
       "6 0       0       0       0.0568576 enhancer"
      ]
     },
     "metadata": {},
     "output_type": "display_data"
    }
   ],
   "source": [
    "head(test)"
   ]
  },
  {
   "cell_type": "markdown",
   "metadata": {},
   "source": [
    "The deep learning model has two basic requisites with the input data.\n",
    "1. The data has to be *numeric* in type.\n",
    "2. It has to range from 0 to 1. So if it isn't already, some sort of normalization procedure can help do that. The preferred one is the min-max normalization."
   ]
  },
  {
   "cell_type": "code",
   "execution_count": 21,
   "metadata": {},
   "outputs": [],
   "source": [
    "# We have already scanned the dataset for existence of NA values and there exist none. \n",
    "\n",
    "## Min-Max normalization\n",
    "test$H3K27ac <- (test$H3K27ac-min(test$H3K27ac, na.rm = T))/(max(test$H3K27ac, na.rm = T)-min(test$H3K27ac, na.rm = T))\n",
    "test$H3K4me3 <- (test$H3K4me3-min(test$H3K4me3, na.rm = T))/(max(test$H3K4me3, na.rm = T)-min(test$H3K4me3, na.rm = T))\n",
    "test$H3K4me2 <- (test$H3K4me2-min(test$H3K4me2, na.rm = T))/(max(test$H3K4me2, na.rm = T)-min(test$H3K4me2, na.rm = T))\n",
    "test$H3K4me1 <- (test$H3K4me1-min(test$H3K4me1, na.rm = T))/(max(test$H3K4me1, na.rm = T)-min(test$H3K4me1, na.rm = T))\n"
   ]
  },
  {
   "cell_type": "code",
   "execution_count": 22,
   "metadata": {},
   "outputs": [
    {
     "data": {
      "text/html": [
       "<table>\n",
       "<caption>A data.frame: 6 × 5</caption>\n",
       "<thead>\n",
       "\t<tr><th scope=col>H3K27ac</th><th scope=col>H3K4me3</th><th scope=col>H3K4me2</th><th scope=col>H3K4me1</th><th scope=col>Class</th></tr>\n",
       "\t<tr><th scope=col>&lt;dbl&gt;</th><th scope=col>&lt;dbl&gt;</th><th scope=col>&lt;dbl&gt;</th><th scope=col>&lt;dbl&gt;</th><th scope=col>&lt;chr&gt;</th></tr>\n",
       "</thead>\n",
       "<tbody>\n",
       "\t<tr><td>0</td><td>0</td><td>0</td><td>0.000000000</td><td>enhancer</td></tr>\n",
       "\t<tr><td>0</td><td>0</td><td>0</td><td>0.003164557</td><td>enhancer</td></tr>\n",
       "\t<tr><td>0</td><td>0</td><td>0</td><td>0.000000000</td><td>enhancer</td></tr>\n",
       "\t<tr><td>0</td><td>0</td><td>0</td><td>0.003164557</td><td>enhancer</td></tr>\n",
       "\t<tr><td>0</td><td>0</td><td>0</td><td>0.000000000</td><td>enhancer</td></tr>\n",
       "\t<tr><td>0</td><td>0</td><td>0</td><td>0.003164557</td><td>enhancer</td></tr>\n",
       "</tbody>\n",
       "</table>\n"
      ],
      "text/latex": [
       "A data.frame: 6 × 5\n",
       "\\begin{tabular}{r|lllll}\n",
       " H3K27ac & H3K4me3 & H3K4me2 & H3K4me1 & Class\\\\\n",
       " <dbl> & <dbl> & <dbl> & <dbl> & <chr>\\\\\n",
       "\\hline\n",
       "\t 0 & 0 & 0 & 0.000000000 & enhancer\\\\\n",
       "\t 0 & 0 & 0 & 0.003164557 & enhancer\\\\\n",
       "\t 0 & 0 & 0 & 0.000000000 & enhancer\\\\\n",
       "\t 0 & 0 & 0 & 0.003164557 & enhancer\\\\\n",
       "\t 0 & 0 & 0 & 0.000000000 & enhancer\\\\\n",
       "\t 0 & 0 & 0 & 0.003164557 & enhancer\\\\\n",
       "\\end{tabular}\n"
      ],
      "text/markdown": [
       "\n",
       "A data.frame: 6 × 5\n",
       "\n",
       "| H3K27ac &lt;dbl&gt; | H3K4me3 &lt;dbl&gt; | H3K4me2 &lt;dbl&gt; | H3K4me1 &lt;dbl&gt; | Class &lt;chr&gt; |\n",
       "|---|---|---|---|---|\n",
       "| 0 | 0 | 0 | 0.000000000 | enhancer |\n",
       "| 0 | 0 | 0 | 0.003164557 | enhancer |\n",
       "| 0 | 0 | 0 | 0.000000000 | enhancer |\n",
       "| 0 | 0 | 0 | 0.003164557 | enhancer |\n",
       "| 0 | 0 | 0 | 0.000000000 | enhancer |\n",
       "| 0 | 0 | 0 | 0.003164557 | enhancer |\n",
       "\n"
      ],
      "text/plain": [
       "  H3K27ac H3K4me3 H3K4me2 H3K4me1     Class   \n",
       "1 0       0       0       0.000000000 enhancer\n",
       "2 0       0       0       0.003164557 enhancer\n",
       "3 0       0       0       0.000000000 enhancer\n",
       "4 0       0       0       0.003164557 enhancer\n",
       "5 0       0       0       0.000000000 enhancer\n",
       "6 0       0       0       0.003164557 enhancer"
      ]
     },
     "metadata": {},
     "output_type": "display_data"
    }
   ],
   "source": [
    "head(test)"
   ]
  },
  {
   "cell_type": "markdown",
   "metadata": {},
   "source": [
    "### Positive Class"
   ]
  },
  {
   "cell_type": "markdown",
   "metadata": {},
   "source": [
    "Importing relevant data that has been preprocessed explicitly. This is for the positive class labels."
   ]
  },
  {
   "cell_type": "markdown",
   "metadata": {},
   "source": [
    "BED files for p300 and DHS are (in that order): <br>\n",
    ">1. pruned for standard chromosome entries <br>\n",
    ">2. sorted <br>\n",
    ">3. individually, bedtools \"merged\" for overlapping intervals <br>"
   ]
  },
  {
   "cell_type": "code",
   "execution_count": 23,
   "metadata": {},
   "outputs": [],
   "source": [
    "## Importing relevant data ##\n",
    "## Positive Class Labels ##\n",
    "\n",
    "dhs <- read.csv(\"./data/H1_Cell_Line/GSM878621_H1_DNase_sorted.bed\", sep = '\\t', header = FALSE)\n",
    "p300 <- read.csv(\"./data/H1_Cell_Line/GSM831036_H1_P300_sorted.bed\", sep = '\\t', header = FALSE)\n",
    "\n",
    "## We see that the chromosome names in p300 data are just numbers. Let's add \"chr\" in the beginning for consistency. \n",
    "p300$V1 <- paste0(\"chr\",p300$V1)\n",
    "\n",
    "## Selecting useful columns: chrom, start, end.\n",
    "p300 <- p300[,c(1,2,3)]\n",
    "dhs <- dhs[,c(1,2,3)]\n",
    "\n",
    "## Sifting standard chromosomes.\n",
    "colnames(dhs) <- c(\"chrom\",\"start\",\"end\")\n",
    "colnames(p300) <- c(\"chrom\",\"start\",\"end\")\n",
    "\n",
    "## Valid chromosomes.\n",
    "dhs <- as.data.frame(dhs[dhs$chrom %in% chromosomes, ])\n",
    "p300 <- as.data.frame(p300[p300$chrom %in% chromosomes, ])\n",
    "\n",
    "## Saving files\n",
    "\n",
    "write.table(p300,\"./data/H1_Cell_Line/h1_p300.bed\", sep=\"\\t\", row.names=FALSE, quote = FALSE)\n",
    "write.table(dhs,\"./data/H1_Cell_Line/h1_dhs.bed\", sep=\"\\t\", row.names=FALSE, quote = FALSE)\n",
    "\n",
    "\n",
    "## Saving as a final intersection of p300 and DHS sites\n",
    "system(\"intersectBed -a h1_p300_merged.bed -b h1_dhs_merged.bed > h1_p300_dhs_intersect.bed\")\n",
    "\n",
    "\n",
    "## Add class to the data: \"enhancer\"\n",
    "\n",
    "h1_p300_dhs_intersect <- read.table(\"./data/H1_Cell_Line/h1_p300_dhs_intersect.bed\", \n",
    "                                    sep = \"\\t\")\n",
    "h1_p300_dhs_intersect$V4 <- \"Enhancer\"\n",
    "write.table(h1_p300_dhs_intersect,\n",
    "            \"./data/H1_Cell_Line/h1_p300_dhs_intersect_class.bed\", \n",
    "            sep=\"\\t\",\n",
    "            row.names=FALSE, \n",
    "            quote = FALSE)\n"
   ]
  },
  {
   "cell_type": "markdown",
   "metadata": {},
   "source": [
    "Now, for the negative class labels, i.e. non-enhancers."
   ]
  },
  {
   "cell_type": "markdown",
   "metadata": {},
   "source": [
    "#### Transcription Start Sites  (TSS)"
   ]
  },
  {
   "cell_type": "markdown",
   "metadata": {},
   "source": [
    "According to Wikipedia, an enhancer is a short (50-1500 bp) region of the DNA that can be bound by proteins. They can be located quite far from the promoter sequences of the genes that house the TSS. The transcription start sites' indices (start and end positions) are 'constant' throughout the genome. The gene positioning is the same across, rather the discrepenacy in distinct cell types is with the set of genes that get regulated. One source of downloading the TSS data is 'Ensembl Biomart'. <br>\n",
    "> Step 1: Choose 'Human genes' under 'Dataset' tab on the left pane. <br> <br>\n",
    "> Step 2: Under 'Attributes', select <br>\n",
    "    (i) Chromosome/ scaffold name <br>\n",
    "    (ii) Transcript start (bp) <br>\n",
    "    (iii) Transcript end (bp) <br> <br>\n",
    "> Step 3: Click on 'Results' button and download appropriately. <br>  \n",
    "The other sources are refTSS and DBTSS databases. <br>"
   ]
  },
  {
   "cell_type": "markdown",
   "metadata": {},
   "source": [
    "### Negative Class Labels"
   ]
  },
  {
   "cell_type": "code",
   "execution_count": 13,
   "metadata": {},
   "outputs": [],
   "source": [
    "# TSS sites\n",
    "\n",
    "tss_sites <- read.table(\"./data/H1_Cell_Line/TSS_Indices_Human_Genome.txt\", sep = \"\\t\", header = TRUE)\n",
    "tss_sites$Chromosome.scaffold.name <- paste0(\"chr\", tss_sites$Chromosome.scaffold.name)\n",
    "tss_sites <- as.data.frame(tss_sites[tss_sites$Chromosome.scaffold.name  %in% chromosomes, ])\n",
    "tss_sites <- tss_sites[order(tss_sites$Chromosome.scaffold.name),]\n",
    "\n",
    "## Export TSS sites to create an overlap with DHS sites\n",
    "\n",
    "write.table(tss_sites,\"./data/H1_Cell_Line/tss_sites.bed\", sep=\"\\t\", row.names=FALSE, quote = FALSE)"
   ]
  },
  {
   "cell_type": "markdown",
   "metadata": {},
   "source": [
    "#### Random Sites in the Human Genome"
   ]
  },
  {
   "cell_type": "code",
   "execution_count": 9,
   "metadata": {},
   "outputs": [],
   "source": [
    "## Sourcing chromosomal lengths in the human genome for generating random tracks\n",
    "\n",
    "hg19_chrom_sizes <- read.table(url(\"https://genome.ucsc.edu/goldenPath/help/hg19.chrom.sizes\"), sep = \"\\t\", \n",
    "                               header = FALSE, col.names = c(\"chrom\", \"size\"))\n",
    "hg19_chrom_sizes <- as.data.frame(hg19_chrom_sizes[hg19_chrom_sizes$chrom %in% chromosomes, ])\n",
    "\n",
    "## Saving file for generating random tracks via 'bedtools random' function ##\n",
    "write.table(hg19_chrom_sizes,\"./data/H1_Cell_Line/hg19.genome\", sep=\"\\t\", row.names=FALSE, quote = FALSE)"
   ]
  },
  {
   "cell_type": "markdown",
   "metadata": {},
   "source": [
    "The option -l allows user to specifiy the interval size of the tracks that are to be randomly generated from the genome file. However this is optional, but in our case we have to stay in sync with the interval profiles tha twe selected for combining the score matrix for histone marks. <br>"
   ]
  },
  {
   "cell_type": "code",
   "execution_count": null,
   "metadata": {},
   "outputs": [],
   "source": [
    "system(\"bedtools random -l 2000 -g hg19.genome > hg19_random_tracks.bed\")"
   ]
  },
  {
   "cell_type": "code",
   "execution_count": 5,
   "metadata": {},
   "outputs": [],
   "source": [
    "## Recalling\n",
    "\n",
    "hg19_random_tracks <- read.table(\"./data/H1_Cell_Line/hg19_random_tracks.bed\", sep = \"\\t\", header = FALSE)\n",
    "hg19_random_tracks <- hg19_random_tracks[,c(1,2,3)]\n",
    "\n",
    "# ordering on the basis of chromosome name and start indices.\n",
    "hg19_random_tracks_ordered <- hg19_random_tracks[order(hg19_random_tracks[,1],hg19_random_tracks[,2]),]\n",
    "\n",
    "write.table(hg19_random_tracks_ordered,\"./data/H1_Cell_Line/hg19_random_tracks_sorted_required.bed\", sep=\"\\t\", \n",
    "            row.names=FALSE, quote = FALSE)"
   ]
  },
  {
   "cell_type": "code",
   "execution_count": null,
   "metadata": {},
   "outputs": [],
   "source": [
    "system(\"mergeBed -i hg_random_tracks_sorted_required.bed > hg_random_tracks_sorted_required_merged.bed\")"
   ]
  },
  {
   "cell_type": "code",
   "execution_count": null,
   "metadata": {},
   "outputs": [],
   "source": [
    "system(\"awk '{if (NR!=1) {print}}' hg_random_tracks_sorted_required_merged.bed > hg_random_tracks_sorted_required_merged_header_removed.bed\")"
   ]
  },
  {
   "cell_type": "code",
   "execution_count": 4,
   "metadata": {},
   "outputs": [],
   "source": [
    "## Choosing random sites distal to TSS\n",
    "\n",
    "## The strategy is to combine random tracks distal to the TSS or p300 binding sites. Now, let us create a \n",
    "## combination of TSS and p300 binding sites and then subtract the random sites from these, thus giving us\n",
    "## the residuals.\n",
    "\n",
    "tss_final <- read.table(\"./data/H1_Cell_Line/tss_sites_header_removed.bed\", sep = \"\\t\", header = FALSE)\n",
    "p300_final <- read.table(\"./data/H1_Cell_Line/h1_p300_merged.bed\", sep = \"\\t\", header = FALSE)\n",
    "\n",
    "## Combine the intervals and not 'merge' them\n",
    "tss_and_p300 <- rbind(tss_final,p300_final)\n",
    "\n",
    "## sort on the basis of chromosome names.\n",
    "tss_and_p300 <- tss_or_p300[order(tss_or_p300[,1]),]\n",
    "\n",
    "## Output file.\n",
    "write.table(tss_and_p300,\"./data/H1_Cell_Line/tss_and_p300.bed\", sep=\"\\t\", row.names=FALSE, quote = FALSE)"
   ]
  },
  {
   "cell_type": "markdown",
   "metadata": {},
   "source": [
    "Again as before, we remove the header and and sort the file \"tss_and_p300.bed\". The resulting file is named \"tss_and_p300_header_removed_sorted.bed\". <br> Additionally, the resultant file after intersecting the TSS and DHS sites from H1 cell line is \"tss_h1_dhs_intersect_sorted_merged.bed\". <br>\n",
    "**The filenames are so chosen to reflect the order and type of manipulations that have been applied.**"
   ]
  },
  {
   "cell_type": "markdown",
   "metadata": {},
   "source": [
    "Now to consolidate the negative class data, we have to : <br>\n",
    "> 1. Find the random sites that are distal to known p300 and TSS regions. <br>\n",
    "> 2. Find the intersection of TSS and DHS sites. <br>\n",
    "> 3. Finally, club both of these together to represent a comprehensive non-enhancer region space."
   ]
  },
  {
   "cell_type": "code",
   "execution_count": null,
   "metadata": {},
   "outputs": [],
   "source": [
    "## All the regions in the random sites of the human genome but not coinciding with the p300 and tss sites.\n",
    "system(\"intersectBed -v -a hg19_random_tracks_sorted_required_header_removed.bed -b tss_and_p300_header_removed_sorted.bed > true_random_to_p300_and_TSS.bed\")"
   ]
  },
  {
   "cell_type": "code",
   "execution_count": null,
   "metadata": {},
   "outputs": [],
   "source": [
    "system(\"cat true_random_to_p300_and_TSS.bed tss_h1_dhs_intersect_sorted_merged.bed > negative_class.bed\")"
   ]
  },
  {
   "cell_type": "code",
   "execution_count": 20,
   "metadata": {},
   "outputs": [],
   "source": [
    "## Import resultant files from intersection.\n",
    "negative_class <- read.table(\"./data/H1_Cell_Line/negative_class.bed\", sep = \"\\t\", header = FALSE)\n",
    "negative_class$V4 <- \"Non-Enhancer\"\n",
    "write.table(negative_class,\"./data/H1_Cell_Line/negative_class.bed\", sep=\"\\t\", row.names=FALSE, quote = FALSE)\n",
    "\n",
    "positive_class <- read.table(\"./data/H1_Cell_Line/h1_p300_dhs_intersect_class_header_removed.bed\", sep = \"\\t\", \n",
    "                             header = FALSE)"
   ]
  },
  {
   "cell_type": "code",
   "execution_count": 22,
   "metadata": {},
   "outputs": [
    {
     "data": {
      "text/html": [
       "<table>\n",
       "<caption>A data.frame: 6 × 4</caption>\n",
       "<thead>\n",
       "\t<tr><th scope=col>V1</th><th scope=col>V2</th><th scope=col>V3</th><th scope=col>V4</th></tr>\n",
       "\t<tr><th scope=col>&lt;fct&gt;</th><th scope=col>&lt;int&gt;</th><th scope=col>&lt;int&gt;</th><th scope=col>&lt;fct&gt;</th></tr>\n",
       "</thead>\n",
       "<tbody>\n",
       "\t<tr><td>chr1</td><td>10101</td><td>10140</td><td>enhancer</td></tr>\n",
       "\t<tr><td>chr1</td><td>10148</td><td>10209</td><td>enhancer</td></tr>\n",
       "\t<tr><td>chr1</td><td>10235</td><td>10290</td><td>enhancer</td></tr>\n",
       "\t<tr><td>chr1</td><td>10444</td><td>10580</td><td>enhancer</td></tr>\n",
       "\t<tr><td>chr1</td><td>11362</td><td>11397</td><td>enhancer</td></tr>\n",
       "\t<tr><td>chr1</td><td>12302</td><td>12333</td><td>enhancer</td></tr>\n",
       "</tbody>\n",
       "</table>\n"
      ],
      "text/latex": [
       "A data.frame: 6 × 4\n",
       "\\begin{tabular}{r|llll}\n",
       " V1 & V2 & V3 & V4\\\\\n",
       " <fct> & <int> & <int> & <fct>\\\\\n",
       "\\hline\n",
       "\t chr1 & 10101 & 10140 & enhancer\\\\\n",
       "\t chr1 & 10148 & 10209 & enhancer\\\\\n",
       "\t chr1 & 10235 & 10290 & enhancer\\\\\n",
       "\t chr1 & 10444 & 10580 & enhancer\\\\\n",
       "\t chr1 & 11362 & 11397 & enhancer\\\\\n",
       "\t chr1 & 12302 & 12333 & enhancer\\\\\n",
       "\\end{tabular}\n"
      ],
      "text/markdown": [
       "\n",
       "A data.frame: 6 × 4\n",
       "\n",
       "| V1 &lt;fct&gt; | V2 &lt;int&gt; | V3 &lt;int&gt; | V4 &lt;fct&gt; |\n",
       "|---|---|---|---|\n",
       "| chr1 | 10101 | 10140 | enhancer |\n",
       "| chr1 | 10148 | 10209 | enhancer |\n",
       "| chr1 | 10235 | 10290 | enhancer |\n",
       "| chr1 | 10444 | 10580 | enhancer |\n",
       "| chr1 | 11362 | 11397 | enhancer |\n",
       "| chr1 | 12302 | 12333 | enhancer |\n",
       "\n"
      ],
      "text/plain": [
       "  V1   V2    V3    V4      \n",
       "1 chr1 10101 10140 enhancer\n",
       "2 chr1 10148 10209 enhancer\n",
       "3 chr1 10235 10290 enhancer\n",
       "4 chr1 10444 10580 enhancer\n",
       "5 chr1 11362 11397 enhancer\n",
       "6 chr1 12302 12333 enhancer"
      ]
     },
     "metadata": {},
     "output_type": "display_data"
    }
   ],
   "source": [
    "## Merging Data on the basis of overlapping intervals\n",
    "\n",
    "## Positive class data (labels)\n",
    "head(positive_class)"
   ]
  },
  {
   "cell_type": "code",
   "execution_count": 23,
   "metadata": {},
   "outputs": [
    {
     "data": {
      "text/html": [
       "<table>\n",
       "<caption>A data.frame: 6 × 4</caption>\n",
       "<thead>\n",
       "\t<tr><th scope=col>V1</th><th scope=col>V2</th><th scope=col>V3</th><th scope=col>V4</th></tr>\n",
       "\t<tr><th scope=col>&lt;fct&gt;</th><th scope=col>&lt;int&gt;</th><th scope=col>&lt;int&gt;</th><th scope=col>&lt;chr&gt;</th></tr>\n",
       "</thead>\n",
       "<tbody>\n",
       "\t<tr><td>chr1</td><td>  847</td><td>  947</td><td>Non-Enhancer</td></tr>\n",
       "\t<tr><td>chr1</td><td> 8952</td><td> 9052</td><td>Non-Enhancer</td></tr>\n",
       "\t<tr><td>chr1</td><td>39831</td><td>39931</td><td>Non-Enhancer</td></tr>\n",
       "\t<tr><td>chr1</td><td>40608</td><td>40708</td><td>Non-Enhancer</td></tr>\n",
       "\t<tr><td>chr1</td><td>43842</td><td>43942</td><td>Non-Enhancer</td></tr>\n",
       "\t<tr><td>chr1</td><td>47908</td><td>48008</td><td>Non-Enhancer</td></tr>\n",
       "</tbody>\n",
       "</table>\n"
      ],
      "text/latex": [
       "A data.frame: 6 × 4\n",
       "\\begin{tabular}{r|llll}\n",
       " V1 & V2 & V3 & V4\\\\\n",
       " <fct> & <int> & <int> & <chr>\\\\\n",
       "\\hline\n",
       "\t chr1 &   847 &   947 & Non-Enhancer\\\\\n",
       "\t chr1 &  8952 &  9052 & Non-Enhancer\\\\\n",
       "\t chr1 & 39831 & 39931 & Non-Enhancer\\\\\n",
       "\t chr1 & 40608 & 40708 & Non-Enhancer\\\\\n",
       "\t chr1 & 43842 & 43942 & Non-Enhancer\\\\\n",
       "\t chr1 & 47908 & 48008 & Non-Enhancer\\\\\n",
       "\\end{tabular}\n"
      ],
      "text/markdown": [
       "\n",
       "A data.frame: 6 × 4\n",
       "\n",
       "| V1 &lt;fct&gt; | V2 &lt;int&gt; | V3 &lt;int&gt; | V4 &lt;chr&gt; |\n",
       "|---|---|---|---|\n",
       "| chr1 |   847 |   947 | Non-Enhancer |\n",
       "| chr1 |  8952 |  9052 | Non-Enhancer |\n",
       "| chr1 | 39831 | 39931 | Non-Enhancer |\n",
       "| chr1 | 40608 | 40708 | Non-Enhancer |\n",
       "| chr1 | 43842 | 43942 | Non-Enhancer |\n",
       "| chr1 | 47908 | 48008 | Non-Enhancer |\n",
       "\n"
      ],
      "text/plain": [
       "  V1   V2    V3    V4          \n",
       "1 chr1   847   947 Non-Enhancer\n",
       "2 chr1  8952  9052 Non-Enhancer\n",
       "3 chr1 39831 39931 Non-Enhancer\n",
       "4 chr1 40608 40708 Non-Enhancer\n",
       "5 chr1 43842 43942 Non-Enhancer\n",
       "6 chr1 47908 48008 Non-Enhancer"
      ]
     },
     "metadata": {},
     "output_type": "display_data"
    }
   ],
   "source": [
    "## Negative class (Labels)\n",
    "head(negative_class)\n"
   ]
  },
  {
   "cell_type": "code",
   "execution_count": 1,
   "metadata": {},
   "outputs": [
    {
     "name": "stderr",
     "output_type": "stream",
     "text": [
      "Loading required package: stats4\n",
      "Loading required package: BiocGenerics\n",
      "Loading required package: parallel\n",
      "\n",
      "Attaching package: ‘BiocGenerics’\n",
      "\n",
      "The following objects are masked from ‘package:parallel’:\n",
      "\n",
      "    clusterApply, clusterApplyLB, clusterCall, clusterEvalQ,\n",
      "    clusterExport, clusterMap, parApply, parCapply, parLapply,\n",
      "    parLapplyLB, parRapply, parSapply, parSapplyLB\n",
      "\n",
      "The following objects are masked from ‘package:stats’:\n",
      "\n",
      "    IQR, mad, sd, var, xtabs\n",
      "\n",
      "The following objects are masked from ‘package:base’:\n",
      "\n",
      "    Filter, Find, Map, Position, Reduce, anyDuplicated, append,\n",
      "    as.data.frame, basename, cbind, colnames, dirname, do.call,\n",
      "    duplicated, eval, evalq, get, grep, grepl, intersect, is.unsorted,\n",
      "    lapply, mapply, match, mget, order, paste, pmax, pmax.int, pmin,\n",
      "    pmin.int, rank, rbind, rownames, sapply, setdiff, sort, table,\n",
      "    tapply, union, unique, unsplit, which, which.max, which.min\n",
      "\n",
      "Loading required package: S4Vectors\n",
      "\n",
      "Attaching package: ‘S4Vectors’\n",
      "\n",
      "The following object is masked from ‘package:base’:\n",
      "\n",
      "    expand.grid\n",
      "\n",
      "Loading required package: IRanges\n",
      "Warning message:\n",
      "“package ‘IRanges’ was built under R version 3.6.1”Loading required package: GenomeInfoDb\n"
     ]
    }
   ],
   "source": [
    "## Score Matrix (Input data)\n",
    "input_score_data <- merged_bw\n",
    "\n",
    "## Converting data to GRanges objects\n",
    "library(GenomicRanges)\n",
    "positive_class_labels <- GRanges(seqnames = positive_class$V1, ranges = IRanges(start = positive_class$V2, \n",
    "                                                                       end = positive_class$V3))\n",
    "mcols(positive_class_labels) <- DataFrame(class= \"Enhancer\")\n",
    "\n",
    "\n",
    "negative_class_labels <- GRanges(seqnames = negative_class$V1, ranges = IRanges(start = negative_class$V2, \n",
    "                                                                       end = negative_class$V3))\n",
    "mcols(negative_class_labels) <- DataFrame(class= \"Non-Enhancer\")\n",
    "\n",
    "\n",
    "input_score <- GRanges(seqnames = input_score_data$chrom, ranges = IRanges(start = input_score_data$start,\n",
    "                                                                        end = input_score_data$end))\n",
    "mcols(input_score) <- DataFrame(H3K27ac = input_score_data$H3K27ac, H3K4me3 = input_score_data$H3K4me3,\n",
    "                                H3K4me2 = input_score_data$H3K4me2, H3K4me1 = input_score_data$H3K4me1)\n",
    "\n",
    "## Performing merge to figure out the score and class matrix.\n",
    "\n",
    "intermatrix <- merge(as.data.frame(positive_class_labels), as.data.frame(negative_class_labels), \n",
    "                      all= TRUE) ## positive and negative classes ##"
   ]
  },
  {
   "cell_type": "markdown",
   "metadata": {},
   "source": [
    "**Exporting 'intermatrix' and 'input_score' as bed files to merge.**\n",
    "\n",
    "> write.table(intermatrix, \"./data/class_labels.bed\", sep ='\\t', quote = FALSE, row.names = FALSE) <br>\n",
    "> write.table(input_score, \"./data/score.bed\", sep ='\\t', quote = FALSE, row.names = FALSE) <br>"
   ]
  },
  {
   "cell_type": "markdown",
   "metadata": {},
   "source": [
    "The files are treated for header removal and then merged together with the **intersectBed** tool."
   ]
  },
  {
   "cell_type": "markdown",
   "metadata": {},
   "source": [
    "> awk '{if (NR!=1) {print}}' score.bed > score_header_removed.bed <br>\n",
    "> awk '{if (NR!=1) {print}}' class_labels.bed > class_labels_header_removed.bed <br>\n",
    "\n",
    "\n",
    "> bedtools intersect -wa -wb -a score_header_removed.bed -b class_labels_header_removed.bed > score_labels.bed <br>"
   ]
  },
  {
   "cell_type": "markdown",
   "metadata": {},
   "source": [
    "The dataset we finally implement for the machine learning model is the following."
   ]
  },
  {
   "cell_type": "code",
   "execution_count": 2,
   "metadata": {},
   "outputs": [],
   "source": [
    "## Importing the merged file\n",
    "\n",
    "score_labels <- read.table(\"./data/score_labels.bed\", sep = \"\\t\", header = FALSE, stringsAsFactors=FALSE)"
   ]
  },
  {
   "cell_type": "code",
   "execution_count": 3,
   "metadata": {},
   "outputs": [
    {
     "name": "stdout",
     "output_type": "stream",
     "text": [
      "'data.frame':\t19834154 obs. of  15 variables:\n",
      " $ V1 : chr  \"chr1\" \"chr1\" \"chr1\" \"chr1\" ...\n",
      " $ V2 : int  0 0 10100 10100 10100 10100 10100 10100 10100 10100 ...\n",
      " $ V3 : int  9900 9900 17400 17400 17400 17400 17400 17400 17400 17400 ...\n",
      " $ V4 : int  9901 9901 7301 7301 7301 7301 7301 7301 7301 7301 ...\n",
      " $ V5 : chr  \"*\" \"*\" \"*\" \"*\" ...\n",
      " $ V6 : chr  \"0\" \"0\" \"0\" \"0\" ...\n",
      " $ V7 : chr  \"0\" \"0\" \"0\" \"0\" ...\n",
      " $ V8 : chr  \"0\" \"0\" \"0\" \"0\" ...\n",
      " $ V9 : chr  \"0\" \"0\" \"0\" \"0\" ...\n",
      " $ V10: chr  \"chr1\" \"chr1\" \"chr1\" \"chr1\" ...\n",
      " $ V11: int  847 8952 10101 10148 10235 10444 11362 12302 12302 14931 ...\n",
      " $ V12: int  947 9052 10140 10209 10290 10580 11397 12333 12337 14956 ...\n",
      " $ V13: int  101 101 40 62 56 137 36 32 36 26 ...\n",
      " $ V14: chr  \"*\" \"*\" \"*\" \"*\" ...\n",
      " $ V15: chr  \"Non-Enhancer\" \"Non-Enhancer\" \"Enhancer\" \"Enhancer\" ...\n"
     ]
    }
   ],
   "source": [
    "str(score_labels)"
   ]
  },
  {
   "cell_type": "markdown",
   "metadata": {},
   "source": [
    "We notice that our effective data is \"sparse\", i.e. there are less non-zero entries and a larger protion of the data is occupied by zeroes. A good strategy for optimization in terms of memory and also data processing is the usage of **sparse matrix** feature available from Matrix library. "
   ]
  },
  {
   "cell_type": "markdown",
   "metadata": {},
   "source": [
    "Let us first isolate the actual input data from the entire dataframe and convert it into matrix format. "
   ]
  },
  {
   "cell_type": "code",
   "execution_count": 1,
   "metadata": {},
   "outputs": [
    {
     "name": "stderr",
     "output_type": "stream",
     "text": [
      "Warning message in eval(expr, envir, enclos):\n",
      "“NAs introduced by coercion”Warning message in eval(expr, envir, enclos):\n",
      "“NAs introduced by coercion”Warning message in eval(expr, envir, enclos):\n",
      "“NAs introduced by coercion”Warning message in eval(expr, envir, enclos):\n",
      "“NAs introduced by coercion”"
     ]
    }
   ],
   "source": [
    "## Picking relevant columns\n",
    "final_data <- score_labels[,c(6:9,15)]\n",
    "colnames(final_data)=c(\"peaks_h3k27ac\",\"peaks_h3k4me3\",\"peaks_h3k4me2\",\"peaks_h3k4me1\",\"class\")\n",
    "\n",
    "## The matrix is a sparse matrix, having many non-zero entries. Let us convert it into a sparse matrix object.\n",
    "library(Matrix)\n",
    "final_sparse_data <- final_data\n",
    "final_sparse_data$class <- as.numeric(as.factor(final_sparse_data$class))-1\n",
    "final_sparse_data$peaks_h3k27ac <- as.numeric(final_sparse_data$peaks_h3k27ac)\n",
    "final_sparse_data$peaks_h3k4me3 <- as.numeric(final_sparse_data$peaks_h3k4me3)\n",
    "final_sparse_data$peaks_h3k4me2 <- as.numeric(final_sparse_data$peaks_h3k4me2)\n",
    "final_sparse_data$peaks_h3k4me1 <- as.numeric(final_sparse_data$peaks_h3k4me1)\n",
    "\n",
    "final_sparse_data <- final_sparse_data[complete.cases(final_sparse_data), ]\n",
    "\n",
    "## Converting data frame to matrix and then to sparse matrix.\n",
    "final_sparse_data_matrix <- data.matrix(final_sparse_data)\n",
    "final_sparse_data_matrix <- Matrix(final_sparse_data_matrix, sparse=TRUE)"
   ]
  },
  {
   "cell_type": "markdown",
   "metadata": {},
   "source": [
    "We observe that all zero entries have been supressed with a dot(.) symbol. Let us write this data to the disk for use with other applications too."
   ]
  },
  {
   "cell_type": "code",
   "execution_count": 2,
   "metadata": {},
   "outputs": [
    {
     "data": {
      "text/html": [
       "<table>\n",
       "<caption>A data.frame: 6 × 5</caption>\n",
       "<thead>\n",
       "\t<tr><th scope=col>peaks_h3k27ac</th><th scope=col>peaks_h3k4me3</th><th scope=col>peaks_h3k4me2</th><th scope=col>peaks_h3k4me1</th><th scope=col>class</th></tr>\n",
       "\t<tr><th scope=col>&lt;dbl&gt;</th><th scope=col>&lt;dbl&gt;</th><th scope=col>&lt;dbl&gt;</th><th scope=col>&lt;dbl&gt;</th><th scope=col>&lt;dbl&gt;</th></tr>\n",
       "</thead>\n",
       "<tbody>\n",
       "\t<tr><td>0</td><td>0</td><td>0</td><td>0</td><td>1</td></tr>\n",
       "\t<tr><td>0</td><td>0</td><td>0</td><td>0</td><td>1</td></tr>\n",
       "\t<tr><td>0</td><td>0</td><td>0</td><td>0</td><td>0</td></tr>\n",
       "\t<tr><td>0</td><td>0</td><td>0</td><td>0</td><td>0</td></tr>\n",
       "\t<tr><td>0</td><td>0</td><td>0</td><td>0</td><td>0</td></tr>\n",
       "\t<tr><td>0</td><td>0</td><td>0</td><td>0</td><td>0</td></tr>\n",
       "</tbody>\n",
       "</table>\n"
      ],
      "text/latex": [
       "A data.frame: 6 × 5\n",
       "\\begin{tabular}{r|lllll}\n",
       " peaks\\_h3k27ac & peaks\\_h3k4me3 & peaks\\_h3k4me2 & peaks\\_h3k4me1 & class\\\\\n",
       " <dbl> & <dbl> & <dbl> & <dbl> & <dbl>\\\\\n",
       "\\hline\n",
       "\t 0 & 0 & 0 & 0 & 1\\\\\n",
       "\t 0 & 0 & 0 & 0 & 1\\\\\n",
       "\t 0 & 0 & 0 & 0 & 0\\\\\n",
       "\t 0 & 0 & 0 & 0 & 0\\\\\n",
       "\t 0 & 0 & 0 & 0 & 0\\\\\n",
       "\t 0 & 0 & 0 & 0 & 0\\\\\n",
       "\\end{tabular}\n"
      ],
      "text/markdown": [
       "\n",
       "A data.frame: 6 × 5\n",
       "\n",
       "| peaks_h3k27ac &lt;dbl&gt; | peaks_h3k4me3 &lt;dbl&gt; | peaks_h3k4me2 &lt;dbl&gt; | peaks_h3k4me1 &lt;dbl&gt; | class &lt;dbl&gt; |\n",
       "|---|---|---|---|---|\n",
       "| 0 | 0 | 0 | 0 | 1 |\n",
       "| 0 | 0 | 0 | 0 | 1 |\n",
       "| 0 | 0 | 0 | 0 | 0 |\n",
       "| 0 | 0 | 0 | 0 | 0 |\n",
       "| 0 | 0 | 0 | 0 | 0 |\n",
       "| 0 | 0 | 0 | 0 | 0 |\n",
       "\n"
      ],
      "text/plain": [
       "  peaks_h3k27ac peaks_h3k4me3 peaks_h3k4me2 peaks_h3k4me1 class\n",
       "1 0             0             0             0             1    \n",
       "2 0             0             0             0             1    \n",
       "3 0             0             0             0             0    \n",
       "4 0             0             0             0             0    \n",
       "5 0             0             0             0             0    \n",
       "6 0             0             0             0             0    "
      ]
     },
     "metadata": {},
     "output_type": "display_data"
    },
    {
     "name": "stdout",
     "output_type": "stream",
     "text": [
      "830.4 Mb\n"
     ]
    }
   ],
   "source": [
    "head(final_sparse_data)\n",
    "print(object.size(final_sparse_data),units=\"auto\")"
   ]
  },
  {
   "cell_type": "markdown",
   "metadata": {},
   "source": [
    "We see that the resultant data matrix is substantially low in size, yet upholding the integrity of th original data."
   ]
  },
  {
   "cell_type": "code",
   "execution_count": 29,
   "metadata": {},
   "outputs": [],
   "source": [
    "saveRDS(final_sparse_data,\"./data/ep_data.rds\")"
   ]
  },
  {
   "cell_type": "markdown",
   "metadata": {},
   "source": [
    "## References"
   ]
  },
  {
   "cell_type": "markdown",
   "metadata": {},
   "source": [
    "> Kim, S. G., Harwani, M., Grama, A., & Chaterji, S. (2016). EP-DNN : A Deep Neural Network- Based Global Enhancer Prediction Algorithm. Nature Publishing Group, (November), 1–13. https://doi.org/10.1038/srep38433"
   ]
  }
 ],
 "metadata": {
  "kernelspec": {
   "display_name": "R",
   "language": "R",
   "name": "ir"
  },
  "language_info": {
   "codemirror_mode": "r",
   "file_extension": ".r",
   "mimetype": "text/x-r-source",
   "name": "R",
   "pygments_lexer": "r",
   "version": "3.6.0"
  }
 },
 "nbformat": 4,
 "nbformat_minor": 2
}
