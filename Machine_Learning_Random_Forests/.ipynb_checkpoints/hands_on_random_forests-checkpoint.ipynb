{
 "cells": [
  {
   "cell_type": "markdown",
   "metadata": {},
   "source": [
    "# Decision Trees and Random Forests"
   ]
  },
  {
   "cell_type": "markdown",
   "metadata": {},
   "source": [
    "Shaurya Jauhari (Email: shauryajauhari@gzhmu.edu.cn)"
   ]
  },
  {
   "cell_type": "markdown",
   "metadata": {},
   "source": [
    "Welcome to the second workshop in the series of **Machine Learning Fundamentals**. In this session, we shall explore the theory of **Decision Trees** and scale it to the broader concept of **Random Forests**. Decision trees epitomize the divide and conquer strategy to accomplish classification tasks (although they could also be implemented for regression chores as well)(Quinlan 1986, Rokach 2005). From the previous session on **Logistic Regression**, you may recall that if the response variable is catergorical in nature (factors in R), we aim classification, or else, if the response variable is continuous, it denotes regression. Classification and regression methodologies are both categorized under supervised machine learning. The theme of machine learning was realized in 1950s and since then, coupled with the data deluge and upheaval in computational prowess, has exhibited stronghold in data analysis domain (See figure below)."
   ]
  },
  {
   "cell_type": "markdown",
   "metadata": {},
   "source": [
    "![Machine Learning Genesis](./ML_Genesis.png)"
   ]
  },
  {
   "cell_type": "markdown",
   "metadata": {},
   "source": [
    "In order to appreciate the concept of random forests, it is incumbent to learn about decision trees. A decision tree is the unit of random forest. "
   ]
  },
  {
   "cell_type": "markdown",
   "metadata": {},
   "source": [
    "There is also an added understanding about dimensionality reduction in decision trees (and random forests as well). If you may recall the same concept in logistic regression, the idea was to penalize \"non-performing\" features by reducing their coefficients close to(alpha=0:Ridge) or equal to zero(alpha=1:Lasso).(P.S. There is also a provision for replicating the objective of train-test data partitioning, i.e. cross-validation). In decision trees, entropy and information gain parameters are calculated to ascertain the best attribute to split/ partition the tree. It is crucial to engender the tree a definitive structure, else the curse of biasness in decision trees for continuous and nominal data comes to play.   "
   ]
  },
  {
   "cell_type": "markdown",
   "metadata": {},
   "source": [
    "Random forests enlighten on the dogma of democracy, i.e. *majority wins*. Decision Trees are rudimentary classification algorithms that, at a low-level, are synonymous to *if-then* conditional statements in programming languages. They follow the strategy of iterative recursion, and intuitively the leaf nodes hold the final verdict. The highest aggregate from all leaf nodes (terminals) is graded as the output of that decision tree.  \n",
    "\n",
    "In this module, we shall delve into creation of basic decision trees to have an understanding of it. For the purpose, we shall load the package **party** and make use of the function **ctree()** to calculate and analyze decision trees. Furthermore, we shall require the packages **rpart**, **party**, **randomForest** as well. Let's load them up."
   ]
  },
  {
   "cell_type": "markdown",
   "metadata": {},
   "source": [
    "## Package Installation and Loading"
   ]
  },
  {
   "cell_type": "code",
   "execution_count": 1,
   "metadata": {},
   "outputs": [
    {
     "name": "stdout",
     "output_type": "stream",
     "text": [
      "\n",
      "The downloaded binary packages are in\n",
      "\t/var/folders/hm/c3_fjypn62v5xh5b5ygv267m0000gn/T//RtmpTrphVb/downloaded_packages\n"
     ]
    },
    {
     "name": "stderr",
     "output_type": "stream",
     "text": [
      "Loading required package: grid\n",
      "Loading required package: mvtnorm\n",
      "Loading required package: modeltools\n",
      "Loading required package: stats4\n",
      "Loading required package: strucchange\n",
      "Loading required package: zoo\n",
      "\n",
      "Attaching package: ‘zoo’\n",
      "\n",
      "The following objects are masked from ‘package:base’:\n",
      "\n",
      "    as.Date, as.Date.numeric\n",
      "\n",
      "Loading required package: sandwich\n"
     ]
    }
   ],
   "source": [
    "install.packages(\"party\", dependencies = TRUE, repos = \"https://mirrors.tuna.tsinghua.edu.cn/CRAN/\")\n",
    "install.packages(\"rpart\", dependencies = TRUE, repos = \"https://mirrors.tuna.tsinghua.edu.cn/CRAN/\")\n",
    "install.packages(\"randomForest\", dependencies = TRUE, repos = \"https://mirrors.tuna.tsinghua.edu.cn/CRAN/\")\n",
    "library(party)\n",
    "library(rpart)\n",
    "library(randomForest)"
   ]
  },
  {
   "cell_type": "markdown",
   "metadata": {},
   "source": []
  },
  {
   "cell_type": "markdown",
   "metadata": {},
   "source": [
    "Let us now, pick up a dataset. The dataset pertains to the soft computation of the **enhancer prediction** module in bioinformatics. We certainly take into cognizance the biological implications about enhancer regions (See figure below).   \n",
    "Certain known classes of proteins/ cis-regulatory elements called Transcription Factors (TFs) and Transcription Co-Activators (TCoAs) are programmed to bind to regions in the genome called *Enhancers*, that remotely orchestrate the phenomena of gene regulation. They are at a distal location to the *Promoters*, regions associated with genes and respective Transcription Start Sites (TSS). On stimulus from TFs, the enhancer and promoter sequences reciprocate and actuate the transcription machinery."
   ]
  },
  {
   "cell_type": "markdown",
   "metadata": {},
   "source": [
    "![Enhancer Prediction Basis](./WorkFlow_Illustration.jpg)"
   ]
  },
  {
   "cell_type": "markdown",
   "metadata": {},
   "source": [
    "## Dataset handling"
   ]
  },
  {
   "cell_type": "markdown",
   "metadata": {},
   "source": [
    "For use in this session, we have chosen a compound dataset from the studies as follows; for **non-enhancer** data, we referenced \"Chromatin accessibility assay of IMR90 Cell Line; DS11759\", sample dataset deposited to GEO labeled GSM468792. (P.S. Although these are not, but if a  dataset is originally available as a WIG file, firstly, it is converted to BED and is then subsequently cleaned for  use(See Notes: 3).\n",
    "To add to the positive class data, we consider regions that are **enhancers**. Under this category, we include regions from ChIP-Seq study from GSM929090, available as BED file. These are p300 binding sites from the IMR90 cell lines. Also, in interest of this exercise, we shall consider equal proportions of enhancer and nonenhancer regions; although, enhancer sites are lower in number in comparison to the promoter sites (Rajagopal 2013)."
   ]
  },
  {
   "cell_type": "markdown",
   "metadata": {},
   "source": [
    "![Dataset Profile](./Dataset_Profile.jpg)"
   ]
  },
  {
   "cell_type": "code",
   "execution_count": 4,
   "metadata": {},
   "outputs": [],
   "source": [
    "mydata_enhancers <- read.csv(\"./GSM929090.bed\", sep = '\\t', header = FALSE)\n",
    "mydata_nonenhancers <- read.csv(\"./GSM468792.bed\", sep = '\\t', header = FALSE)"
   ]
  },
  {
   "cell_type": "markdown",
   "metadata": {},
   "source": [
    "We choose to incorporate only those peaks with occurence of 1 and above. Additionally, a column for \"Class\" has been added that uniformly holds the value \"Enhancer\" as all the peaks correspond to p300 bindings in the genome. Finally, we have also pruned the dataset for columns on peak ids and frequencies as they are beyond the scope of our analysis."
   ]
  },
  {
   "cell_type": "code",
   "execution_count": 5,
   "metadata": {},
   "outputs": [],
   "source": [
    "mydata_enhancers <- mydata_enhancers[,c(1,2,3)]\n",
    "mydata_enhancers$Class <- \"Enhancer\"\n",
    "colnames(mydata_enhancers) <- c(\"Chrom\", \"Start\", \"End\", \"Class\")"
   ]
  },
  {
   "cell_type": "code",
   "execution_count": 6,
   "metadata": {},
   "outputs": [],
   "source": [
    "set.seed(007)\n",
    "nonenhancer_indexes <- sample(1:nrow(mydata_nonenhancers),nrow(mydata_enhancers)) \n",
    "mydata_nonenhancers <- mydata_nonenhancers[nonenhancer_indexes,]"
   ]
  },
  {
   "cell_type": "markdown",
   "metadata": {},
   "source": [
    "Again for the nonenhancer data, we shall be following the same protocol."
   ]
  },
  {
   "cell_type": "code",
   "execution_count": 7,
   "metadata": {},
   "outputs": [],
   "source": [
    "mydata_nonenhancers <- mydata_nonenhancers[,c(1,2,3)]\n",
    "mydata_nonenhancers$Class <- \"Non-Enhancer\"\n",
    "colnames(mydata_nonenhancers) <- c(\"Chrom\", \"Start\", \"End\", \"Class\")"
   ]
  },
  {
   "cell_type": "markdown",
   "metadata": {},
   "source": [
    "We have hit a roadbloack here! In order to execute for decision trees, given the dataset, we shall always have a node\n",
    "that is having two attributes minimum. Since fields \"Chrom\", \"Start\", and \"End\" are intimately related, we will need \n",
    "\"Chrom\" as default attribute, alongwith \"Start\" or \"End\" or both. There are two ways to solve this problem. First is \n",
    "to have a tree with two attributes at each node. Second way could help by, (i) having the file in sorted order by \n",
    "chromosome names, (ii) and then setting up a new column indicating cumulative \"Start\" and \"End\" extremities. "
   ]
  },
  {
   "cell_type": "markdown",
   "metadata": {},
   "source": [
    "Let us try the second way out.\n",
    "It is better to confirm if we have the data in sorted order by chromosomes."
   ]
  },
  {
   "cell_type": "code",
   "execution_count": 8,
   "metadata": {},
   "outputs": [],
   "source": [
    "mydata_enhancers_sorted_chrom_names <- mydata_enhancers[with(mydata_enhancers, order(Chrom, Start)), ]\n",
    "mydata_nonenhancers_sorted_chrom_names <- mydata_nonenhancers[with(mydata_nonenhancers, order(Chrom, Start)), ]"
   ]
  },
  {
   "cell_type": "markdown",
   "metadata": {},
   "source": [
    "Cool! Eventually, we converge these dataframes into one and *voila* you have a base version of the dataset to work upon. Let's say we name it *my_consolidated_dataset*. "
   ]
  },
  {
   "cell_type": "code",
   "execution_count": 12,
   "metadata": {},
   "outputs": [],
   "source": [
    "my_consolidated_dataset <- rbind(mydata_enhancers_sorted_chrom_names, mydata_nonenhancers_sorted_chrom_names)\n",
    "my_consolidated_dataset <- my_consolidated_dataset[with(my_consolidated_dataset, order(Chrom, Start)), ]"
   ]
  },
  {
   "cell_type": "markdown",
   "metadata": {},
   "source": [
    "In addition we're also not willing to process random chromosomal entries that might've crept in."
   ]
  },
  {
   "cell_type": "code",
   "execution_count": 14,
   "metadata": {},
   "outputs": [
    {
     "data": {
      "text/html": [
       "<table>\n",
       "<caption>A data.frame: 105476 × 4</caption>\n",
       "<thead>\n",
       "\t<tr><th></th><th scope=col>Chrom</th><th scope=col>Start</th><th scope=col>End</th><th scope=col>Class</th></tr>\n",
       "\t<tr><th></th><th scope=col>&lt;fct&gt;</th><th scope=col>&lt;int&gt;</th><th scope=col>&lt;int&gt;</th><th scope=col>&lt;chr&gt;</th></tr>\n",
       "</thead>\n",
       "<tbody>\n",
       "\t<tr><th scope=row>1</th><td>chr1</td><td> 10153</td><td> 10350</td><td>Non-Enhancer</td></tr>\n",
       "\t<tr><th scope=row>149</th><td>chr1</td><td> 14800</td><td> 14900</td><td>Enhancer    </td></tr>\n",
       "\t<tr><th scope=row>508</th><td>chr1</td><td> 50700</td><td> 50800</td><td>Enhancer    </td></tr>\n",
       "\t<tr><th scope=row>577</th><td>chr1</td><td> 57600</td><td> 57700</td><td>Enhancer    </td></tr>\n",
       "\t<tr><th scope=row>638</th><td>chr1</td><td> 63700</td><td> 63800</td><td>Enhancer    </td></tr>\n",
       "\t<tr><th scope=row>827</th><td>chr1</td><td> 82600</td><td> 82700</td><td>Enhancer    </td></tr>\n",
       "\t<tr><th scope=row>1018</th><td>chr1</td><td>101700</td><td>101800</td><td>Enhancer    </td></tr>\n",
       "\t<tr><th scope=row>1234</th><td>chr1</td><td>123300</td><td>123400</td><td>Enhancer    </td></tr>\n",
       "\t<tr><th scope=row>2</th><td>chr1</td><td>180794</td><td>180924</td><td>Non-Enhancer</td></tr>\n",
       "\t<tr><th scope=row>3</th><td>chr1</td><td>181401</td><td>181567</td><td>Non-Enhancer</td></tr>\n",
       "\t<tr><th scope=row>2539</th><td>chr1</td><td>253800</td><td>253900</td><td>Enhancer    </td></tr>\n",
       "\t<tr><th scope=row>2625</th><td>chr1</td><td>262400</td><td>262500</td><td>Enhancer    </td></tr>\n",
       "\t<tr><th scope=row>4</th><td>chr1</td><td>267971</td><td>268080</td><td>Non-Enhancer</td></tr>\n",
       "\t<tr><th scope=row>3747</th><td>chr1</td><td>374600</td><td>374700</td><td>Enhancer    </td></tr>\n",
       "\t<tr><th scope=row>3932</th><td>chr1</td><td>393100</td><td>393200</td><td>Enhancer    </td></tr>\n",
       "\t<tr><th scope=row>5692</th><td>chr1</td><td>569100</td><td>569200</td><td>Enhancer    </td></tr>\n",
       "\t<tr><th scope=row>5915</th><td>chr1</td><td>591400</td><td>591500</td><td>Enhancer    </td></tr>\n",
       "\t<tr><th scope=row>5</th><td>chr1</td><td>629853</td><td>630033</td><td>Non-Enhancer</td></tr>\n",
       "\t<tr><th scope=row>6</th><td>chr1</td><td>631302</td><td>631610</td><td>Non-Enhancer</td></tr>\n",
       "\t<tr><th scope=row>7</th><td>chr1</td><td>633940</td><td>634117</td><td>Non-Enhancer</td></tr>\n",
       "\t<tr><th scope=row>6440</th><td>chr1</td><td>643900</td><td>644000</td><td>Enhancer    </td></tr>\n",
       "\t<tr><th scope=row>6719</th><td>chr1</td><td>671800</td><td>671900</td><td>Enhancer    </td></tr>\n",
       "\t<tr><th scope=row>6980</th><td>chr1</td><td>697900</td><td>698000</td><td>Enhancer    </td></tr>\n",
       "\t<tr><th scope=row>6989</th><td>chr1</td><td>698800</td><td>698900</td><td>Enhancer    </td></tr>\n",
       "\t<tr><th scope=row>7251</th><td>chr1</td><td>725000</td><td>725100</td><td>Enhancer    </td></tr>\n",
       "\t<tr><th scope=row>8</th><td>chr1</td><td>778495</td><td>778981</td><td>Non-Enhancer</td></tr>\n",
       "\t<tr><th scope=row>9</th><td>chr1</td><td>779095</td><td>779195</td><td>Non-Enhancer</td></tr>\n",
       "\t<tr><th scope=row>10</th><td>chr1</td><td>827249</td><td>827677</td><td>Non-Enhancer</td></tr>\n",
       "\t<tr><th scope=row>8364</th><td>chr1</td><td>836300</td><td>836400</td><td>Enhancer    </td></tr>\n",
       "\t<tr><th scope=row>11</th><td>chr1</td><td>869683</td><td>870163</td><td>Non-Enhancer</td></tr>\n",
       "\t<tr><th scope=row>⋮</th><td>⋮</td><td>⋮</td><td>⋮</td><td>⋮</td></tr>\n",
       "\t<tr><th scope=row>30636442</th><td>chrY</td><td>27322600</td><td>27322700</td><td>Enhancer    </td></tr>\n",
       "\t<tr><th scope=row>30636594</th><td>chrY</td><td>27337800</td><td>27337900</td><td>Enhancer    </td></tr>\n",
       "\t<tr><th scope=row>30638712</th><td>chrY</td><td>27549600</td><td>27549700</td><td>Enhancer    </td></tr>\n",
       "\t<tr><th scope=row>30641352</th><td>chrY</td><td>27813600</td><td>27813700</td><td>Enhancer    </td></tr>\n",
       "\t<tr><th scope=row>30642334</th><td>chrY</td><td>27911800</td><td>27911900</td><td>Enhancer    </td></tr>\n",
       "\t<tr><th scope=row>30642859</th><td>chrY</td><td>27964300</td><td>27964400</td><td>Enhancer    </td></tr>\n",
       "\t<tr><th scope=row>30644342</th><td>chrY</td><td>28112600</td><td>28112700</td><td>Enhancer    </td></tr>\n",
       "\t<tr><th scope=row>30644469</th><td>chrY</td><td>28125300</td><td>28125400</td><td>Enhancer    </td></tr>\n",
       "\t<tr><th scope=row>30646176</th><td>chrY</td><td>28296000</td><td>28296100</td><td>Enhancer    </td></tr>\n",
       "\t<tr><th scope=row>30649249</th><td>chrY</td><td>28603300</td><td>28603400</td><td>Enhancer    </td></tr>\n",
       "\t<tr><th scope=row>30650305</th><td>chrY</td><td>28708900</td><td>28709000</td><td>Enhancer    </td></tr>\n",
       "\t<tr><th scope=row>30650310</th><td>chrY</td><td>28709400</td><td>28709500</td><td>Enhancer    </td></tr>\n",
       "\t<tr><th scope=row>30650662</th><td>chrY</td><td>28744600</td><td>28744700</td><td>Enhancer    </td></tr>\n",
       "\t<tr><th scope=row>30650776</th><td>chrY</td><td>28756000</td><td>28756100</td><td>Enhancer    </td></tr>\n",
       "\t<tr><th scope=row>30651198</th><td>chrY</td><td>28798200</td><td>28798300</td><td>Enhancer    </td></tr>\n",
       "\t<tr><th scope=row>52796</th><td>chrY</td><td>56728052</td><td>56728229</td><td>Non-Enhancer</td></tr>\n",
       "\t<tr><th scope=row>52797</th><td>chrY</td><td>56734700</td><td>56734888</td><td>Non-Enhancer</td></tr>\n",
       "\t<tr><th scope=row>52798</th><td>chrY</td><td>56763428</td><td>56763610</td><td>Non-Enhancer</td></tr>\n",
       "\t<tr><th scope=row>30951799</th><td>chrY</td><td>58858300</td><td>58858400</td><td>Enhancer    </td></tr>\n",
       "\t<tr><th scope=row>30952077</th><td>chrY</td><td>58886100</td><td>58886200</td><td>Enhancer    </td></tr>\n",
       "\t<tr><th scope=row>30952105</th><td>chrY</td><td>58888900</td><td>58889000</td><td>Enhancer    </td></tr>\n",
       "\t<tr><th scope=row>30952188</th><td>chrY</td><td>58897200</td><td>58897300</td><td>Enhancer    </td></tr>\n",
       "\t<tr><th scope=row>30953094</th><td>chrY</td><td>58987800</td><td>58987900</td><td>Enhancer    </td></tr>\n",
       "\t<tr><th scope=row>30953263</th><td>chrY</td><td>59004700</td><td>59004800</td><td>Enhancer    </td></tr>\n",
       "\t<tr><th scope=row>30953544</th><td>chrY</td><td>59032800</td><td>59032900</td><td>Enhancer    </td></tr>\n",
       "\t<tr><th scope=row>30953872</th><td>chrY</td><td>59065600</td><td>59065700</td><td>Enhancer    </td></tr>\n",
       "\t<tr><th scope=row>30954218</th><td>chrY</td><td>59100200</td><td>59100300</td><td>Enhancer    </td></tr>\n",
       "\t<tr><th scope=row>30954963</th><td>chrY</td><td>59174700</td><td>59174800</td><td>Enhancer    </td></tr>\n",
       "\t<tr><th scope=row>30955816</th><td>chrY</td><td>59260000</td><td>59260100</td><td>Enhancer    </td></tr>\n",
       "\t<tr><th scope=row>30956216</th><td>chrY</td><td>59300000</td><td>59300100</td><td>Enhancer    </td></tr>\n",
       "</tbody>\n",
       "</table>\n"
      ],
      "text/latex": [
       "A data.frame: 105476 × 4\n",
       "\\begin{tabular}{r|llll}\n",
       "  & Chrom & Start & End & Class\\\\\n",
       "  & <fct> & <int> & <int> & <chr>\\\\\n",
       "\\hline\n",
       "\t1 & chr1 &  10153 &  10350 & Non-Enhancer\\\\\n",
       "\t149 & chr1 &  14800 &  14900 & Enhancer    \\\\\n",
       "\t508 & chr1 &  50700 &  50800 & Enhancer    \\\\\n",
       "\t577 & chr1 &  57600 &  57700 & Enhancer    \\\\\n",
       "\t638 & chr1 &  63700 &  63800 & Enhancer    \\\\\n",
       "\t827 & chr1 &  82600 &  82700 & Enhancer    \\\\\n",
       "\t1018 & chr1 & 101700 & 101800 & Enhancer    \\\\\n",
       "\t1234 & chr1 & 123300 & 123400 & Enhancer    \\\\\n",
       "\t2 & chr1 & 180794 & 180924 & Non-Enhancer\\\\\n",
       "\t3 & chr1 & 181401 & 181567 & Non-Enhancer\\\\\n",
       "\t2539 & chr1 & 253800 & 253900 & Enhancer    \\\\\n",
       "\t2625 & chr1 & 262400 & 262500 & Enhancer    \\\\\n",
       "\t4 & chr1 & 267971 & 268080 & Non-Enhancer\\\\\n",
       "\t3747 & chr1 & 374600 & 374700 & Enhancer    \\\\\n",
       "\t3932 & chr1 & 393100 & 393200 & Enhancer    \\\\\n",
       "\t5692 & chr1 & 569100 & 569200 & Enhancer    \\\\\n",
       "\t5915 & chr1 & 591400 & 591500 & Enhancer    \\\\\n",
       "\t5 & chr1 & 629853 & 630033 & Non-Enhancer\\\\\n",
       "\t6 & chr1 & 631302 & 631610 & Non-Enhancer\\\\\n",
       "\t7 & chr1 & 633940 & 634117 & Non-Enhancer\\\\\n",
       "\t6440 & chr1 & 643900 & 644000 & Enhancer    \\\\\n",
       "\t6719 & chr1 & 671800 & 671900 & Enhancer    \\\\\n",
       "\t6980 & chr1 & 697900 & 698000 & Enhancer    \\\\\n",
       "\t6989 & chr1 & 698800 & 698900 & Enhancer    \\\\\n",
       "\t7251 & chr1 & 725000 & 725100 & Enhancer    \\\\\n",
       "\t8 & chr1 & 778495 & 778981 & Non-Enhancer\\\\\n",
       "\t9 & chr1 & 779095 & 779195 & Non-Enhancer\\\\\n",
       "\t10 & chr1 & 827249 & 827677 & Non-Enhancer\\\\\n",
       "\t8364 & chr1 & 836300 & 836400 & Enhancer    \\\\\n",
       "\t11 & chr1 & 869683 & 870163 & Non-Enhancer\\\\\n",
       "\t⋮ & ⋮ & ⋮ & ⋮ & ⋮\\\\\n",
       "\t30636442 & chrY & 27322600 & 27322700 & Enhancer    \\\\\n",
       "\t30636594 & chrY & 27337800 & 27337900 & Enhancer    \\\\\n",
       "\t30638712 & chrY & 27549600 & 27549700 & Enhancer    \\\\\n",
       "\t30641352 & chrY & 27813600 & 27813700 & Enhancer    \\\\\n",
       "\t30642334 & chrY & 27911800 & 27911900 & Enhancer    \\\\\n",
       "\t30642859 & chrY & 27964300 & 27964400 & Enhancer    \\\\\n",
       "\t30644342 & chrY & 28112600 & 28112700 & Enhancer    \\\\\n",
       "\t30644469 & chrY & 28125300 & 28125400 & Enhancer    \\\\\n",
       "\t30646176 & chrY & 28296000 & 28296100 & Enhancer    \\\\\n",
       "\t30649249 & chrY & 28603300 & 28603400 & Enhancer    \\\\\n",
       "\t30650305 & chrY & 28708900 & 28709000 & Enhancer    \\\\\n",
       "\t30650310 & chrY & 28709400 & 28709500 & Enhancer    \\\\\n",
       "\t30650662 & chrY & 28744600 & 28744700 & Enhancer    \\\\\n",
       "\t30650776 & chrY & 28756000 & 28756100 & Enhancer    \\\\\n",
       "\t30651198 & chrY & 28798200 & 28798300 & Enhancer    \\\\\n",
       "\t52796 & chrY & 56728052 & 56728229 & Non-Enhancer\\\\\n",
       "\t52797 & chrY & 56734700 & 56734888 & Non-Enhancer\\\\\n",
       "\t52798 & chrY & 56763428 & 56763610 & Non-Enhancer\\\\\n",
       "\t30951799 & chrY & 58858300 & 58858400 & Enhancer    \\\\\n",
       "\t30952077 & chrY & 58886100 & 58886200 & Enhancer    \\\\\n",
       "\t30952105 & chrY & 58888900 & 58889000 & Enhancer    \\\\\n",
       "\t30952188 & chrY & 58897200 & 58897300 & Enhancer    \\\\\n",
       "\t30953094 & chrY & 58987800 & 58987900 & Enhancer    \\\\\n",
       "\t30953263 & chrY & 59004700 & 59004800 & Enhancer    \\\\\n",
       "\t30953544 & chrY & 59032800 & 59032900 & Enhancer    \\\\\n",
       "\t30953872 & chrY & 59065600 & 59065700 & Enhancer    \\\\\n",
       "\t30954218 & chrY & 59100200 & 59100300 & Enhancer    \\\\\n",
       "\t30954963 & chrY & 59174700 & 59174800 & Enhancer    \\\\\n",
       "\t30955816 & chrY & 59260000 & 59260100 & Enhancer    \\\\\n",
       "\t30956216 & chrY & 59300000 & 59300100 & Enhancer    \\\\\n",
       "\\end{tabular}\n"
      ],
      "text/markdown": [
       "\n",
       "A data.frame: 105476 × 4\n",
       "\n",
       "| <!--/--> | Chrom &lt;fct&gt; | Start &lt;int&gt; | End &lt;int&gt; | Class &lt;chr&gt; |\n",
       "|---|---|---|---|---|\n",
       "| 1 | chr1 |  10153 |  10350 | Non-Enhancer |\n",
       "| 149 | chr1 |  14800 |  14900 | Enhancer     |\n",
       "| 508 | chr1 |  50700 |  50800 | Enhancer     |\n",
       "| 577 | chr1 |  57600 |  57700 | Enhancer     |\n",
       "| 638 | chr1 |  63700 |  63800 | Enhancer     |\n",
       "| 827 | chr1 |  82600 |  82700 | Enhancer     |\n",
       "| 1018 | chr1 | 101700 | 101800 | Enhancer     |\n",
       "| 1234 | chr1 | 123300 | 123400 | Enhancer     |\n",
       "| 2 | chr1 | 180794 | 180924 | Non-Enhancer |\n",
       "| 3 | chr1 | 181401 | 181567 | Non-Enhancer |\n",
       "| 2539 | chr1 | 253800 | 253900 | Enhancer     |\n",
       "| 2625 | chr1 | 262400 | 262500 | Enhancer     |\n",
       "| 4 | chr1 | 267971 | 268080 | Non-Enhancer |\n",
       "| 3747 | chr1 | 374600 | 374700 | Enhancer     |\n",
       "| 3932 | chr1 | 393100 | 393200 | Enhancer     |\n",
       "| 5692 | chr1 | 569100 | 569200 | Enhancer     |\n",
       "| 5915 | chr1 | 591400 | 591500 | Enhancer     |\n",
       "| 5 | chr1 | 629853 | 630033 | Non-Enhancer |\n",
       "| 6 | chr1 | 631302 | 631610 | Non-Enhancer |\n",
       "| 7 | chr1 | 633940 | 634117 | Non-Enhancer |\n",
       "| 6440 | chr1 | 643900 | 644000 | Enhancer     |\n",
       "| 6719 | chr1 | 671800 | 671900 | Enhancer     |\n",
       "| 6980 | chr1 | 697900 | 698000 | Enhancer     |\n",
       "| 6989 | chr1 | 698800 | 698900 | Enhancer     |\n",
       "| 7251 | chr1 | 725000 | 725100 | Enhancer     |\n",
       "| 8 | chr1 | 778495 | 778981 | Non-Enhancer |\n",
       "| 9 | chr1 | 779095 | 779195 | Non-Enhancer |\n",
       "| 10 | chr1 | 827249 | 827677 | Non-Enhancer |\n",
       "| 8364 | chr1 | 836300 | 836400 | Enhancer     |\n",
       "| 11 | chr1 | 869683 | 870163 | Non-Enhancer |\n",
       "| ⋮ | ⋮ | ⋮ | ⋮ | ⋮ |\n",
       "| 30636442 | chrY | 27322600 | 27322700 | Enhancer     |\n",
       "| 30636594 | chrY | 27337800 | 27337900 | Enhancer     |\n",
       "| 30638712 | chrY | 27549600 | 27549700 | Enhancer     |\n",
       "| 30641352 | chrY | 27813600 | 27813700 | Enhancer     |\n",
       "| 30642334 | chrY | 27911800 | 27911900 | Enhancer     |\n",
       "| 30642859 | chrY | 27964300 | 27964400 | Enhancer     |\n",
       "| 30644342 | chrY | 28112600 | 28112700 | Enhancer     |\n",
       "| 30644469 | chrY | 28125300 | 28125400 | Enhancer     |\n",
       "| 30646176 | chrY | 28296000 | 28296100 | Enhancer     |\n",
       "| 30649249 | chrY | 28603300 | 28603400 | Enhancer     |\n",
       "| 30650305 | chrY | 28708900 | 28709000 | Enhancer     |\n",
       "| 30650310 | chrY | 28709400 | 28709500 | Enhancer     |\n",
       "| 30650662 | chrY | 28744600 | 28744700 | Enhancer     |\n",
       "| 30650776 | chrY | 28756000 | 28756100 | Enhancer     |\n",
       "| 30651198 | chrY | 28798200 | 28798300 | Enhancer     |\n",
       "| 52796 | chrY | 56728052 | 56728229 | Non-Enhancer |\n",
       "| 52797 | chrY | 56734700 | 56734888 | Non-Enhancer |\n",
       "| 52798 | chrY | 56763428 | 56763610 | Non-Enhancer |\n",
       "| 30951799 | chrY | 58858300 | 58858400 | Enhancer     |\n",
       "| 30952077 | chrY | 58886100 | 58886200 | Enhancer     |\n",
       "| 30952105 | chrY | 58888900 | 58889000 | Enhancer     |\n",
       "| 30952188 | chrY | 58897200 | 58897300 | Enhancer     |\n",
       "| 30953094 | chrY | 58987800 | 58987900 | Enhancer     |\n",
       "| 30953263 | chrY | 59004700 | 59004800 | Enhancer     |\n",
       "| 30953544 | chrY | 59032800 | 59032900 | Enhancer     |\n",
       "| 30953872 | chrY | 59065600 | 59065700 | Enhancer     |\n",
       "| 30954218 | chrY | 59100200 | 59100300 | Enhancer     |\n",
       "| 30954963 | chrY | 59174700 | 59174800 | Enhancer     |\n",
       "| 30955816 | chrY | 59260000 | 59260100 | Enhancer     |\n",
       "| 30956216 | chrY | 59300000 | 59300100 | Enhancer     |\n",
       "\n"
      ],
      "text/plain": [
       "         Chrom Start    End      Class       \n",
       "1        chr1   10153    10350   Non-Enhancer\n",
       "149      chr1   14800    14900   Enhancer    \n",
       "508      chr1   50700    50800   Enhancer    \n",
       "577      chr1   57600    57700   Enhancer    \n",
       "638      chr1   63700    63800   Enhancer    \n",
       "827      chr1   82600    82700   Enhancer    \n",
       "1018     chr1  101700   101800   Enhancer    \n",
       "1234     chr1  123300   123400   Enhancer    \n",
       "2        chr1  180794   180924   Non-Enhancer\n",
       "3        chr1  181401   181567   Non-Enhancer\n",
       "2539     chr1  253800   253900   Enhancer    \n",
       "2625     chr1  262400   262500   Enhancer    \n",
       "4        chr1  267971   268080   Non-Enhancer\n",
       "3747     chr1  374600   374700   Enhancer    \n",
       "3932     chr1  393100   393200   Enhancer    \n",
       "5692     chr1  569100   569200   Enhancer    \n",
       "5915     chr1  591400   591500   Enhancer    \n",
       "5        chr1  629853   630033   Non-Enhancer\n",
       "6        chr1  631302   631610   Non-Enhancer\n",
       "7        chr1  633940   634117   Non-Enhancer\n",
       "6440     chr1  643900   644000   Enhancer    \n",
       "6719     chr1  671800   671900   Enhancer    \n",
       "6980     chr1  697900   698000   Enhancer    \n",
       "6989     chr1  698800   698900   Enhancer    \n",
       "7251     chr1  725000   725100   Enhancer    \n",
       "8        chr1  778495   778981   Non-Enhancer\n",
       "9        chr1  779095   779195   Non-Enhancer\n",
       "10       chr1  827249   827677   Non-Enhancer\n",
       "8364     chr1  836300   836400   Enhancer    \n",
       "11       chr1  869683   870163   Non-Enhancer\n",
       "⋮        ⋮     ⋮        ⋮        ⋮           \n",
       "30636442 chrY  27322600 27322700 Enhancer    \n",
       "30636594 chrY  27337800 27337900 Enhancer    \n",
       "30638712 chrY  27549600 27549700 Enhancer    \n",
       "30641352 chrY  27813600 27813700 Enhancer    \n",
       "30642334 chrY  27911800 27911900 Enhancer    \n",
       "30642859 chrY  27964300 27964400 Enhancer    \n",
       "30644342 chrY  28112600 28112700 Enhancer    \n",
       "30644469 chrY  28125300 28125400 Enhancer    \n",
       "30646176 chrY  28296000 28296100 Enhancer    \n",
       "30649249 chrY  28603300 28603400 Enhancer    \n",
       "30650305 chrY  28708900 28709000 Enhancer    \n",
       "30650310 chrY  28709400 28709500 Enhancer    \n",
       "30650662 chrY  28744600 28744700 Enhancer    \n",
       "30650776 chrY  28756000 28756100 Enhancer    \n",
       "30651198 chrY  28798200 28798300 Enhancer    \n",
       "52796    chrY  56728052 56728229 Non-Enhancer\n",
       "52797    chrY  56734700 56734888 Non-Enhancer\n",
       "52798    chrY  56763428 56763610 Non-Enhancer\n",
       "30951799 chrY  58858300 58858400 Enhancer    \n",
       "30952077 chrY  58886100 58886200 Enhancer    \n",
       "30952105 chrY  58888900 58889000 Enhancer    \n",
       "30952188 chrY  58897200 58897300 Enhancer    \n",
       "30953094 chrY  58987800 58987900 Enhancer    \n",
       "30953263 chrY  59004700 59004800 Enhancer    \n",
       "30953544 chrY  59032800 59032900 Enhancer    \n",
       "30953872 chrY  59065600 59065700 Enhancer    \n",
       "30954218 chrY  59100200 59100300 Enhancer    \n",
       "30954963 chrY  59174700 59174800 Enhancer    \n",
       "30955816 chrY  59260000 59260100 Enhancer    \n",
       "30956216 chrY  59300000 59300100 Enhancer    "
      ]
     },
     "metadata": {},
     "output_type": "display_data"
    }
   ],
   "source": [
    "chromosomes <- c(\"chr1\",\"chr2\",\"chr3\",\"chr4\",\"chr5\",\"chr6\",\"chr7\",\"chr8\",\"chr9\",\"chr10\",\"chr11\",\"chr12\",\"chr13\",\"chr14\",\n",
    "                  \"chr15\", \"chr16\", \"chr17\", \"chr18\", \"chr19\", \"chr20\",\"chr21\", \"chr22\", \"chrX\", \"chrY\")\n",
    "my_consolidated_dataset<- as.data.frame(my_consolidated_dataset[my_consolidated_dataset$Chrom %in% chromosomes, ])\n",
    "my_consolidated_dataset"
   ]
  },
  {
   "cell_type": "markdown",
   "metadata": {},
   "source": [
    "You would've noticed one thing. The class variable is a \"character\". We would like it to be factor variable. So, let's change it. Note that this manipulation can also be carried out at the time of defining the *Class* variable ,but whatever!"
   ]
  },
  {
   "cell_type": "code",
   "execution_count": 1,
   "metadata": {},
   "outputs": [],
   "source": [
    "my_consolidated_dataset$Class <- as.factor(my_consolidated_dataset$Class)"
   ]
  },
  {
   "cell_type": "markdown",
   "metadata": {},
   "source": [
    "So, the idea here is that we shall have regions in chromosome 1 indexed as is, and then we shall engage the end index of chromosome 1 as the starting index of chromosome 2; same for chromosome 3 of chromosome 2 ans so forth. In order to accomplish that, let us break down the given dataset for each chromosome."
   ]
  },
  {
   "cell_type": "code",
   "execution_count": 2,
   "metadata": {},
   "outputs": [],
   "source": [
    "chr1_data<- my_consolidated_dataset[my_consolidated_dataset$Chrom == \"chr1\", ]\n",
    "chr2_data<- my_consolidated_dataset[my_consolidated_dataset$Chrom == \"chr2\", ]\n",
    "chr3_data<- my_consolidated_dataset[my_consolidated_dataset$Chrom == \"chr3\", ]\n",
    "chr4_data<- my_consolidated_dataset[my_consolidated_dataset$Chrom == \"chr4\", ]\n",
    "chr5_data<- my_consolidated_dataset[my_consolidated_dataset$Chrom == \"chr5\", ]\n",
    "chr6_data<- my_consolidated_dataset[my_consolidated_dataset$Chrom == \"chr6\", ]\n",
    "chr7_data<- my_consolidated_dataset[my_consolidated_dataset$Chrom == \"chr7\", ]\n",
    "chr8_data<- my_consolidated_dataset[my_consolidated_dataset$Chrom == \"chr8\", ]\n",
    "chr9_data<- my_consolidated_dataset[my_consolidated_dataset$Chrom == \"chr9\", ]\n",
    "chr10_data<- my_consolidated_dataset[my_consolidated_dataset$Chrom == \"chr10\", ]\n",
    "chr11_data<- my_consolidated_dataset[my_consolidated_dataset$Chrom == \"chr11\", ]\n",
    "chr12_data<- my_consolidated_dataset[my_consolidated_dataset$Chrom == \"chr12\", ]\n",
    "chr13_data<- my_consolidated_dataset[my_consolidated_dataset$Chrom == \"chr13\", ]\n",
    "chr14_data<- my_consolidated_dataset[my_consolidated_dataset$Chrom == \"chr14\", ]\n",
    "chr15_data<- my_consolidated_dataset[my_consolidated_dataset$Chrom == \"chr15\", ]\n",
    "chr16_data<- my_consolidated_dataset[my_consolidated_dataset$Chrom == \"chr16\", ]\n",
    "chr17_data<- my_consolidated_dataset[my_consolidated_dataset$Chrom == \"chr17\", ]\n",
    "chr18_data<- my_consolidated_dataset[my_consolidated_dataset$Chrom == \"chr18\", ]\n",
    "chr19_data<- my_consolidated_dataset[my_consolidated_dataset$Chrom == \"chr19\", ]\n",
    "chr20_data<- my_consolidated_dataset[my_consolidated_dataset$Chrom == \"chr20\", ]\n",
    "chr21_data<- my_consolidated_dataset[my_consolidated_dataset$Chrom == \"chr21\", ]\n",
    "chr22_data<- my_consolidated_dataset[my_consolidated_dataset$Chrom == \"chr22\", ]\n",
    "chrX_data<- my_consolidated_dataset[my_consolidated_dataset$Chrom == \"chrX\", ]\n",
    "chrY_data<- my_consolidated_dataset[my_consolidated_dataset$Chrom == \"chrY\", ]"
   ]
  },
  {
   "cell_type": "markdown",
   "metadata": {},
   "source": [
    "Now that we have clustered all the chromosomes individually, we can proceed towards collating all the indexes in a linear order. The logic is such: We shall consider the overall end index of every preceeding chromosome and add it to both the indexes (start and end) of the current chromosomal ranges. Since the range to handle integer elements is limited, we shall mandatorily switch to \"double\" data type. "
   ]
  },
  {
   "cell_type": "code",
   "execution_count": 3,
   "metadata": {},
   "outputs": [],
   "source": [
    "chr2_data$Start <- max(chr1_data$End)+as.double(chr2_data$Start)\n",
    "chr2_data$End <- max(chr1_data$End)+as.double(chr2_data$End)\n",
    "chr3_data$Start <- max(chr2_data$End)+as.double(chr3_data$Start)\n",
    "chr3_data$End <- max(chr2_data$End)+as.double(chr3_data$End)\n",
    "chr4_data$Start <- max(chr3_data$End)+as.double(chr4_data$Start)\n",
    "chr4_data$End <- max(chr3_data$End)+as.double(chr4_data$End)\n",
    "chr5_data$Start <- max(chr4_data$End)+as.double(chr5_data$Start)\n",
    "chr5_data$End <- max(chr4_data$End)+as.double(chr5_data$End)\n",
    "chr6_data$Start <- max(chr5_data$End)+as.double(chr6_data$Start)\n",
    "chr6_data$End <- max(chr5_data$End)+as.double(chr6_data$End)\n",
    "chr7_data$Start <- max(chr6_data$End)+as.double(chr7_data$Start)\n",
    "chr7_data$End <- max(chr6_data$End)+as.double(chr7_data$End)\n",
    "chr8_data$Start <- max(chr7_data$End)+as.double(chr8_data$Start)\n",
    "chr8_data$End <- max(chr7_data$End)+as.double(chr8_data$End)\n",
    "chr9_data$Start <- max(chr8_data$End)+as.double(chr9_data$Start)\n",
    "chr9_data$End <- max(chr8_data$End)+as.double(chr9_data$End)\n",
    "chr10_data$Start <- max(chr9_data$End)+as.double(chr10_data$Start)\n",
    "chr10_data$End <- max(chr9_data$End)+as.double(chr10_data$End)\n",
    "chr11_data$Start <- max(chr10_data$End)+as.double(chr11_data$Start)\n",
    "chr11_data$End <- max(chr10_data$End)+as.double(chr11_data$End)\n",
    "chr12_data$Start <- max(chr11_data$End)+as.double(chr12_data$Start)\n",
    "chr12_data$End <- max(chr11_data$End)+as.double(chr12_data$End)\n",
    "chr13_data$Start <- max(chr12_data$End)+as.double(chr13_data$Start)\n",
    "chr13_data$End <- max(chr12_data$End)+as.double(chr13_data$End)\n",
    "chr14_data$Start <- max(chr13_data$End)+as.double(chr14_data$Start)\n",
    "chr14_data$End <- max(chr13_data$End)+as.double(chr14_data$End)\n",
    "chr15_data$Start <- max(chr14_data$End)+as.double(chr15_data$Start)\n",
    "chr15_data$End <- max(chr14_data$End)+as.double(chr15_data$End)\n",
    "chr16_data$Start <- max(chr15_data$End)+as.double(chr16_data$Start)\n",
    "chr16_data$End <- max(chr15_data$End)+as.double(chr16_data$End)\n",
    "chr17_data$Start <- max(chr16_data$End)+as.double(chr17_data$Start)\n",
    "chr17_data$End <- max(chr16_data$End)+as.double(chr17_data$End)\n",
    "chr18_data$Start <- max(chr17_data$End)+as.double(chr18_data$Start)\n",
    "chr18_data$End <- max(chr17_data$End)+as.double(chr18_data$End)\n",
    "chr19_data$Start <- max(chr18_data$End)+as.double(chr19_data$Start)\n",
    "chr19_data$End <- max(chr18_data$End)+as.double(chr19_data$End)\n",
    "chr20_data$Start <- max(chr19_data$End)+as.double(chr20_data$Start)\n",
    "chr20_data$End <- max(chr19_data$End)+as.double(chr20_data$End)\n",
    "chr21_data$Start <- max(chr20_data$End)+as.double(chr21_data$Start)\n",
    "chr21_data$End <- max(chr20_data$End)+as.double(chr21_data$End)\n",
    "chr22_data$Start <- max(chr21_data$End)+as.double(chr22_data$Start)\n",
    "chr22_data$End <- max(chr21_data$End)+as.double(chr22_data$End)\n",
    "chrX_data$Start <- max(chr22_data$End)+as.double(chrX_data$Start)\n",
    "chrX_data$End <- max(chr22_data$End)+as.double(chrX_data$End)\n",
    "chrY_data$Start <- max(chrX_data$End)+as.double(chrY_data$Start)\n",
    "chrY_data$End <- max(chrX_data$End)+as.double(chrY_data$End)"
   ]
  },
  {
   "cell_type": "markdown",
   "metadata": {},
   "source": [
    "The resultant dataset is engendered in the ascending order of chromosomal ranges that could be construed for classification, i.e. either \"Enhancer\" or \"Non-Enhancer\", irrespective of the chromosomal labels."
   ]
  },
  {
   "cell_type": "code",
   "execution_count": 4,
   "metadata": {},
   "outputs": [
    {
     "data": {
      "text/html": [
       "<table>\n",
       "<caption>A data.frame: 26550037 × 4</caption>\n",
       "<thead>\n",
       "\t<tr><th></th><th scope=col>Chrom</th><th scope=col>Start</th><th scope=col>End</th><th scope=col>Class</th></tr>\n",
       "\t<tr><th></th><th scope=col>&lt;fct&gt;</th><th scope=col>&lt;int&gt;</th><th scope=col>&lt;int&gt;</th><th scope=col>&lt;fct&gt;</th></tr>\n",
       "</thead>\n",
       "<tbody>\n",
       "\t<tr><th scope=row>1</th><td>chr1</td><td>7325</td><td> 7360</td><td>Enhancer    </td></tr>\n",
       "\t<tr><th scope=row>2</th><td>chr1</td><td>7334</td><td> 7369</td><td>Enhancer    </td></tr>\n",
       "\t<tr><th scope=row>21000000</th><td>chr1</td><td>9970</td><td>10004</td><td>Non-Enhancer</td></tr>\n",
       "\t<tr><th scope=row>51000000</th><td>chr1</td><td>9971</td><td> 9996</td><td>Non-Enhancer</td></tr>\n",
       "\t<tr><th scope=row>61000000</th><td>chr1</td><td>9971</td><td> 9996</td><td>Non-Enhancer</td></tr>\n",
       "\t<tr><th scope=row>71000000</th><td>chr1</td><td>9971</td><td> 9996</td><td>Non-Enhancer</td></tr>\n",
       "\t<tr><th scope=row>121000000</th><td>chr1</td><td>9971</td><td> 9997</td><td>Non-Enhancer</td></tr>\n",
       "\t<tr><th scope=row>22100000</th><td>chr1</td><td>9973</td><td> 9998</td><td>Non-Enhancer</td></tr>\n",
       "\t<tr><th scope=row>15100000</th><td>chr1</td><td>9973</td><td>10001</td><td>Non-Enhancer</td></tr>\n",
       "\t<tr><th scope=row>21100002</th><td>chr1</td><td>9973</td><td> 9998</td><td>Non-Enhancer</td></tr>\n",
       "\t<tr><th scope=row>16100001</th><td>chr1</td><td>9973</td><td>10001</td><td>Non-Enhancer</td></tr>\n",
       "\t<tr><th scope=row>20100002</th><td>chr1</td><td>9973</td><td> 9998</td><td>Non-Enhancer</td></tr>\n",
       "\t<tr><th scope=row>17100000</th><td>chr1</td><td>9973</td><td>10001</td><td>Non-Enhancer</td></tr>\n",
       "\t<tr><th scope=row>25100001</th><td>chr1</td><td>9974</td><td>10001</td><td>Non-Enhancer</td></tr>\n",
       "\t<tr><th scope=row>33100000</th><td>chr1</td><td>9975</td><td>10006</td><td>Non-Enhancer</td></tr>\n",
       "\t<tr><th scope=row>30100000</th><td>chr1</td><td>9975</td><td>10001</td><td>Non-Enhancer</td></tr>\n",
       "\t<tr><th scope=row>27100000</th><td>chr1</td><td>9975</td><td>10001</td><td>Non-Enhancer</td></tr>\n",
       "\t<tr><th scope=row>41100000</th><td>chr1</td><td>9977</td><td> 9998</td><td>Non-Enhancer</td></tr>\n",
       "\t<tr><th scope=row>46100000</th><td>chr1</td><td>9977</td><td> 9998</td><td>Non-Enhancer</td></tr>\n",
       "\t<tr><th scope=row>43100000</th><td>chr1</td><td>9977</td><td> 9998</td><td>Non-Enhancer</td></tr>\n",
       "\t<tr><th scope=row>45100000</th><td>chr1</td><td>9977</td><td> 9998</td><td>Non-Enhancer</td></tr>\n",
       "\t<tr><th scope=row>40100000</th><td>chr1</td><td>9977</td><td>10007</td><td>Non-Enhancer</td></tr>\n",
       "\t<tr><th scope=row>38100000</th><td>chr1</td><td>9977</td><td>10001</td><td>Non-Enhancer</td></tr>\n",
       "\t<tr><th scope=row>63100000</th><td>chr1</td><td>9978</td><td>10004</td><td>Non-Enhancer</td></tr>\n",
       "\t<tr><th scope=row>61100000</th><td>chr1</td><td>9978</td><td>10004</td><td>Non-Enhancer</td></tr>\n",
       "\t<tr><th scope=row>51100000</th><td>chr1</td><td>9978</td><td>10001</td><td>Non-Enhancer</td></tr>\n",
       "\t<tr><th scope=row>57100000</th><td>chr1</td><td>9978</td><td>10002</td><td>Non-Enhancer</td></tr>\n",
       "\t<tr><th scope=row>56100000</th><td>chr1</td><td>9978</td><td>10002</td><td>Non-Enhancer</td></tr>\n",
       "\t<tr><th scope=row>60100000</th><td>chr1</td><td>9978</td><td>10004</td><td>Non-Enhancer</td></tr>\n",
       "\t<tr><th scope=row>59100000</th><td>chr1</td><td>9978</td><td>10004</td><td>Non-Enhancer</td></tr>\n",
       "\t<tr><th scope=row>⋮</th><td>⋮</td><td>⋮</td><td>⋮</td><td>⋮</td></tr>\n",
       "\t<tr><th scope=row>34183697</th><td>chrY</td><td>59337802</td><td>59337837</td><td>Non-Enhancer</td></tr>\n",
       "\t<tr><th scope=row>34183698</th><td>chrY</td><td>59337920</td><td>59337955</td><td>Non-Enhancer</td></tr>\n",
       "\t<tr><th scope=row>34183701</th><td>chrY</td><td>59338199</td><td>59338231</td><td>Non-Enhancer</td></tr>\n",
       "\t<tr><th scope=row>34183705</th><td>chrY</td><td>59339207</td><td>59339242</td><td>Non-Enhancer</td></tr>\n",
       "\t<tr><th scope=row>34183715</th><td>chrY</td><td>59341613</td><td>59341648</td><td>Non-Enhancer</td></tr>\n",
       "\t<tr><th scope=row>34183716</th><td>chrY</td><td>59341662</td><td>59341694</td><td>Non-Enhancer</td></tr>\n",
       "\t<tr><th scope=row>34183717</th><td>chrY</td><td>59341681</td><td>59341716</td><td>Non-Enhancer</td></tr>\n",
       "\t<tr><th scope=row>34183721</th><td>chrY</td><td>59342061</td><td>59342095</td><td>Non-Enhancer</td></tr>\n",
       "\t<tr><th scope=row>34183722</th><td>chrY</td><td>59342817</td><td>59342841</td><td>Non-Enhancer</td></tr>\n",
       "\t<tr><th scope=row>34183723</th><td>chrY</td><td>59343379</td><td>59343411</td><td>Non-Enhancer</td></tr>\n",
       "\t<tr><th scope=row>34183724</th><td>chrY</td><td>59345584</td><td>59345619</td><td>Non-Enhancer</td></tr>\n",
       "\t<tr><th scope=row>34183725</th><td>chrY</td><td>59348490</td><td>59348520</td><td>Non-Enhancer</td></tr>\n",
       "\t<tr><th scope=row>34183726</th><td>chrY</td><td>59348800</td><td>59348834</td><td>Non-Enhancer</td></tr>\n",
       "\t<tr><th scope=row>34183730</th><td>chrY</td><td>59351003</td><td>59351038</td><td>Non-Enhancer</td></tr>\n",
       "\t<tr><th scope=row>34183731</th><td>chrY</td><td>59352573</td><td>59352608</td><td>Non-Enhancer</td></tr>\n",
       "\t<tr><th scope=row>34183736</th><td>chrY</td><td>59356609</td><td>59356640</td><td>Non-Enhancer</td></tr>\n",
       "\t<tr><th scope=row>34183738</th><td>chrY</td><td>59357017</td><td>59357049</td><td>Non-Enhancer</td></tr>\n",
       "\t<tr><th scope=row>34183739</th><td>chrY</td><td>59357076</td><td>59357106</td><td>Non-Enhancer</td></tr>\n",
       "\t<tr><th scope=row>34183742</th><td>chrY</td><td>59357839</td><td>59357874</td><td>Non-Enhancer</td></tr>\n",
       "\t<tr><th scope=row>34183744</th><td>chrY</td><td>59357988</td><td>59358023</td><td>Non-Enhancer</td></tr>\n",
       "\t<tr><th scope=row>34183745</th><td>chrY</td><td>59357991</td><td>59358025</td><td>Non-Enhancer</td></tr>\n",
       "\t<tr><th scope=row>34183746</th><td>chrY</td><td>59361102</td><td>59361137</td><td>Non-Enhancer</td></tr>\n",
       "\t<tr><th scope=row>34183747</th><td>chrY</td><td>59361402</td><td>59361435</td><td>Non-Enhancer</td></tr>\n",
       "\t<tr><th scope=row>34183750</th><td>chrY</td><td>59362686</td><td>59362715</td><td>Non-Enhancer</td></tr>\n",
       "\t<tr><th scope=row>34183751</th><td>chrY</td><td>59362853</td><td>59362888</td><td>Non-Enhancer</td></tr>\n",
       "\t<tr><th scope=row>34183753</th><td>chrY</td><td>59362900</td><td>59362935</td><td>Non-Enhancer</td></tr>\n",
       "\t<tr><th scope=row>34183756</th><td>chrY</td><td>59362942</td><td>59362977</td><td>Non-Enhancer</td></tr>\n",
       "\t<tr><th scope=row>34183761</th><td>chrY</td><td>59363273</td><td>59363308</td><td>Non-Enhancer</td></tr>\n",
       "\t<tr><th scope=row>34183762</th><td>chrY</td><td>59363274</td><td>59363304</td><td>Non-Enhancer</td></tr>\n",
       "\t<tr><th scope=row>34183767</th><td>chrY</td><td>59363277</td><td>59363311</td><td>Non-Enhancer</td></tr>\n",
       "</tbody>\n",
       "</table>\n"
      ],
      "text/latex": [
       "A data.frame: 26550037 × 4\n",
       "\\begin{tabular}{r|llll}\n",
       "  & Chrom & Start & End & Class\\\\\n",
       "  & <fct> & <int> & <int> & <fct>\\\\\n",
       "\\hline\n",
       "\t1 & chr1 & 7325 &  7360 & Enhancer    \\\\\n",
       "\t2 & chr1 & 7334 &  7369 & Enhancer    \\\\\n",
       "\t21000000 & chr1 & 9970 & 10004 & Non-Enhancer\\\\\n",
       "\t51000000 & chr1 & 9971 &  9996 & Non-Enhancer\\\\\n",
       "\t61000000 & chr1 & 9971 &  9996 & Non-Enhancer\\\\\n",
       "\t71000000 & chr1 & 9971 &  9996 & Non-Enhancer\\\\\n",
       "\t121000000 & chr1 & 9971 &  9997 & Non-Enhancer\\\\\n",
       "\t22100000 & chr1 & 9973 &  9998 & Non-Enhancer\\\\\n",
       "\t15100000 & chr1 & 9973 & 10001 & Non-Enhancer\\\\\n",
       "\t21100002 & chr1 & 9973 &  9998 & Non-Enhancer\\\\\n",
       "\t16100001 & chr1 & 9973 & 10001 & Non-Enhancer\\\\\n",
       "\t20100002 & chr1 & 9973 &  9998 & Non-Enhancer\\\\\n",
       "\t17100000 & chr1 & 9973 & 10001 & Non-Enhancer\\\\\n",
       "\t25100001 & chr1 & 9974 & 10001 & Non-Enhancer\\\\\n",
       "\t33100000 & chr1 & 9975 & 10006 & Non-Enhancer\\\\\n",
       "\t30100000 & chr1 & 9975 & 10001 & Non-Enhancer\\\\\n",
       "\t27100000 & chr1 & 9975 & 10001 & Non-Enhancer\\\\\n",
       "\t41100000 & chr1 & 9977 &  9998 & Non-Enhancer\\\\\n",
       "\t46100000 & chr1 & 9977 &  9998 & Non-Enhancer\\\\\n",
       "\t43100000 & chr1 & 9977 &  9998 & Non-Enhancer\\\\\n",
       "\t45100000 & chr1 & 9977 &  9998 & Non-Enhancer\\\\\n",
       "\t40100000 & chr1 & 9977 & 10007 & Non-Enhancer\\\\\n",
       "\t38100000 & chr1 & 9977 & 10001 & Non-Enhancer\\\\\n",
       "\t63100000 & chr1 & 9978 & 10004 & Non-Enhancer\\\\\n",
       "\t61100000 & chr1 & 9978 & 10004 & Non-Enhancer\\\\\n",
       "\t51100000 & chr1 & 9978 & 10001 & Non-Enhancer\\\\\n",
       "\t57100000 & chr1 & 9978 & 10002 & Non-Enhancer\\\\\n",
       "\t56100000 & chr1 & 9978 & 10002 & Non-Enhancer\\\\\n",
       "\t60100000 & chr1 & 9978 & 10004 & Non-Enhancer\\\\\n",
       "\t59100000 & chr1 & 9978 & 10004 & Non-Enhancer\\\\\n",
       "\t⋮ & ⋮ & ⋮ & ⋮ & ⋮\\\\\n",
       "\t34183697 & chrY & 59337802 & 59337837 & Non-Enhancer\\\\\n",
       "\t34183698 & chrY & 59337920 & 59337955 & Non-Enhancer\\\\\n",
       "\t34183701 & chrY & 59338199 & 59338231 & Non-Enhancer\\\\\n",
       "\t34183705 & chrY & 59339207 & 59339242 & Non-Enhancer\\\\\n",
       "\t34183715 & chrY & 59341613 & 59341648 & Non-Enhancer\\\\\n",
       "\t34183716 & chrY & 59341662 & 59341694 & Non-Enhancer\\\\\n",
       "\t34183717 & chrY & 59341681 & 59341716 & Non-Enhancer\\\\\n",
       "\t34183721 & chrY & 59342061 & 59342095 & Non-Enhancer\\\\\n",
       "\t34183722 & chrY & 59342817 & 59342841 & Non-Enhancer\\\\\n",
       "\t34183723 & chrY & 59343379 & 59343411 & Non-Enhancer\\\\\n",
       "\t34183724 & chrY & 59345584 & 59345619 & Non-Enhancer\\\\\n",
       "\t34183725 & chrY & 59348490 & 59348520 & Non-Enhancer\\\\\n",
       "\t34183726 & chrY & 59348800 & 59348834 & Non-Enhancer\\\\\n",
       "\t34183730 & chrY & 59351003 & 59351038 & Non-Enhancer\\\\\n",
       "\t34183731 & chrY & 59352573 & 59352608 & Non-Enhancer\\\\\n",
       "\t34183736 & chrY & 59356609 & 59356640 & Non-Enhancer\\\\\n",
       "\t34183738 & chrY & 59357017 & 59357049 & Non-Enhancer\\\\\n",
       "\t34183739 & chrY & 59357076 & 59357106 & Non-Enhancer\\\\\n",
       "\t34183742 & chrY & 59357839 & 59357874 & Non-Enhancer\\\\\n",
       "\t34183744 & chrY & 59357988 & 59358023 & Non-Enhancer\\\\\n",
       "\t34183745 & chrY & 59357991 & 59358025 & Non-Enhancer\\\\\n",
       "\t34183746 & chrY & 59361102 & 59361137 & Non-Enhancer\\\\\n",
       "\t34183747 & chrY & 59361402 & 59361435 & Non-Enhancer\\\\\n",
       "\t34183750 & chrY & 59362686 & 59362715 & Non-Enhancer\\\\\n",
       "\t34183751 & chrY & 59362853 & 59362888 & Non-Enhancer\\\\\n",
       "\t34183753 & chrY & 59362900 & 59362935 & Non-Enhancer\\\\\n",
       "\t34183756 & chrY & 59362942 & 59362977 & Non-Enhancer\\\\\n",
       "\t34183761 & chrY & 59363273 & 59363308 & Non-Enhancer\\\\\n",
       "\t34183762 & chrY & 59363274 & 59363304 & Non-Enhancer\\\\\n",
       "\t34183767 & chrY & 59363277 & 59363311 & Non-Enhancer\\\\\n",
       "\\end{tabular}\n"
      ],
      "text/markdown": [
       "\n",
       "A data.frame: 26550037 × 4\n",
       "\n",
       "| <!--/--> | Chrom &lt;fct&gt; | Start &lt;int&gt; | End &lt;int&gt; | Class &lt;fct&gt; |\n",
       "|---|---|---|---|---|\n",
       "| 1 | chr1 | 7325 |  7360 | Enhancer     |\n",
       "| 2 | chr1 | 7334 |  7369 | Enhancer     |\n",
       "| 21000000 | chr1 | 9970 | 10004 | Non-Enhancer |\n",
       "| 51000000 | chr1 | 9971 |  9996 | Non-Enhancer |\n",
       "| 61000000 | chr1 | 9971 |  9996 | Non-Enhancer |\n",
       "| 71000000 | chr1 | 9971 |  9996 | Non-Enhancer |\n",
       "| 121000000 | chr1 | 9971 |  9997 | Non-Enhancer |\n",
       "| 22100000 | chr1 | 9973 |  9998 | Non-Enhancer |\n",
       "| 15100000 | chr1 | 9973 | 10001 | Non-Enhancer |\n",
       "| 21100002 | chr1 | 9973 |  9998 | Non-Enhancer |\n",
       "| 16100001 | chr1 | 9973 | 10001 | Non-Enhancer |\n",
       "| 20100002 | chr1 | 9973 |  9998 | Non-Enhancer |\n",
       "| 17100000 | chr1 | 9973 | 10001 | Non-Enhancer |\n",
       "| 25100001 | chr1 | 9974 | 10001 | Non-Enhancer |\n",
       "| 33100000 | chr1 | 9975 | 10006 | Non-Enhancer |\n",
       "| 30100000 | chr1 | 9975 | 10001 | Non-Enhancer |\n",
       "| 27100000 | chr1 | 9975 | 10001 | Non-Enhancer |\n",
       "| 41100000 | chr1 | 9977 |  9998 | Non-Enhancer |\n",
       "| 46100000 | chr1 | 9977 |  9998 | Non-Enhancer |\n",
       "| 43100000 | chr1 | 9977 |  9998 | Non-Enhancer |\n",
       "| 45100000 | chr1 | 9977 |  9998 | Non-Enhancer |\n",
       "| 40100000 | chr1 | 9977 | 10007 | Non-Enhancer |\n",
       "| 38100000 | chr1 | 9977 | 10001 | Non-Enhancer |\n",
       "| 63100000 | chr1 | 9978 | 10004 | Non-Enhancer |\n",
       "| 61100000 | chr1 | 9978 | 10004 | Non-Enhancer |\n",
       "| 51100000 | chr1 | 9978 | 10001 | Non-Enhancer |\n",
       "| 57100000 | chr1 | 9978 | 10002 | Non-Enhancer |\n",
       "| 56100000 | chr1 | 9978 | 10002 | Non-Enhancer |\n",
       "| 60100000 | chr1 | 9978 | 10004 | Non-Enhancer |\n",
       "| 59100000 | chr1 | 9978 | 10004 | Non-Enhancer |\n",
       "| ⋮ | ⋮ | ⋮ | ⋮ | ⋮ |\n",
       "| 34183697 | chrY | 59337802 | 59337837 | Non-Enhancer |\n",
       "| 34183698 | chrY | 59337920 | 59337955 | Non-Enhancer |\n",
       "| 34183701 | chrY | 59338199 | 59338231 | Non-Enhancer |\n",
       "| 34183705 | chrY | 59339207 | 59339242 | Non-Enhancer |\n",
       "| 34183715 | chrY | 59341613 | 59341648 | Non-Enhancer |\n",
       "| 34183716 | chrY | 59341662 | 59341694 | Non-Enhancer |\n",
       "| 34183717 | chrY | 59341681 | 59341716 | Non-Enhancer |\n",
       "| 34183721 | chrY | 59342061 | 59342095 | Non-Enhancer |\n",
       "| 34183722 | chrY | 59342817 | 59342841 | Non-Enhancer |\n",
       "| 34183723 | chrY | 59343379 | 59343411 | Non-Enhancer |\n",
       "| 34183724 | chrY | 59345584 | 59345619 | Non-Enhancer |\n",
       "| 34183725 | chrY | 59348490 | 59348520 | Non-Enhancer |\n",
       "| 34183726 | chrY | 59348800 | 59348834 | Non-Enhancer |\n",
       "| 34183730 | chrY | 59351003 | 59351038 | Non-Enhancer |\n",
       "| 34183731 | chrY | 59352573 | 59352608 | Non-Enhancer |\n",
       "| 34183736 | chrY | 59356609 | 59356640 | Non-Enhancer |\n",
       "| 34183738 | chrY | 59357017 | 59357049 | Non-Enhancer |\n",
       "| 34183739 | chrY | 59357076 | 59357106 | Non-Enhancer |\n",
       "| 34183742 | chrY | 59357839 | 59357874 | Non-Enhancer |\n",
       "| 34183744 | chrY | 59357988 | 59358023 | Non-Enhancer |\n",
       "| 34183745 | chrY | 59357991 | 59358025 | Non-Enhancer |\n",
       "| 34183746 | chrY | 59361102 | 59361137 | Non-Enhancer |\n",
       "| 34183747 | chrY | 59361402 | 59361435 | Non-Enhancer |\n",
       "| 34183750 | chrY | 59362686 | 59362715 | Non-Enhancer |\n",
       "| 34183751 | chrY | 59362853 | 59362888 | Non-Enhancer |\n",
       "| 34183753 | chrY | 59362900 | 59362935 | Non-Enhancer |\n",
       "| 34183756 | chrY | 59362942 | 59362977 | Non-Enhancer |\n",
       "| 34183761 | chrY | 59363273 | 59363308 | Non-Enhancer |\n",
       "| 34183762 | chrY | 59363274 | 59363304 | Non-Enhancer |\n",
       "| 34183767 | chrY | 59363277 | 59363311 | Non-Enhancer |\n",
       "\n"
      ],
      "text/plain": [
       "          Chrom Start    End      Class       \n",
       "1         chr1  7325      7360    Enhancer    \n",
       "2         chr1  7334      7369    Enhancer    \n",
       "21000000  chr1  9970     10004    Non-Enhancer\n",
       "51000000  chr1  9971      9996    Non-Enhancer\n",
       "61000000  chr1  9971      9996    Non-Enhancer\n",
       "71000000  chr1  9971      9996    Non-Enhancer\n",
       "121000000 chr1  9971      9997    Non-Enhancer\n",
       "22100000  chr1  9973      9998    Non-Enhancer\n",
       "15100000  chr1  9973     10001    Non-Enhancer\n",
       "21100002  chr1  9973      9998    Non-Enhancer\n",
       "16100001  chr1  9973     10001    Non-Enhancer\n",
       "20100002  chr1  9973      9998    Non-Enhancer\n",
       "17100000  chr1  9973     10001    Non-Enhancer\n",
       "25100001  chr1  9974     10001    Non-Enhancer\n",
       "33100000  chr1  9975     10006    Non-Enhancer\n",
       "30100000  chr1  9975     10001    Non-Enhancer\n",
       "27100000  chr1  9975     10001    Non-Enhancer\n",
       "41100000  chr1  9977      9998    Non-Enhancer\n",
       "46100000  chr1  9977      9998    Non-Enhancer\n",
       "43100000  chr1  9977      9998    Non-Enhancer\n",
       "45100000  chr1  9977      9998    Non-Enhancer\n",
       "40100000  chr1  9977     10007    Non-Enhancer\n",
       "38100000  chr1  9977     10001    Non-Enhancer\n",
       "63100000  chr1  9978     10004    Non-Enhancer\n",
       "61100000  chr1  9978     10004    Non-Enhancer\n",
       "51100000  chr1  9978     10001    Non-Enhancer\n",
       "57100000  chr1  9978     10002    Non-Enhancer\n",
       "56100000  chr1  9978     10002    Non-Enhancer\n",
       "60100000  chr1  9978     10004    Non-Enhancer\n",
       "59100000  chr1  9978     10004    Non-Enhancer\n",
       "⋮         ⋮     ⋮        ⋮        ⋮           \n",
       "34183697  chrY  59337802 59337837 Non-Enhancer\n",
       "34183698  chrY  59337920 59337955 Non-Enhancer\n",
       "34183701  chrY  59338199 59338231 Non-Enhancer\n",
       "34183705  chrY  59339207 59339242 Non-Enhancer\n",
       "34183715  chrY  59341613 59341648 Non-Enhancer\n",
       "34183716  chrY  59341662 59341694 Non-Enhancer\n",
       "34183717  chrY  59341681 59341716 Non-Enhancer\n",
       "34183721  chrY  59342061 59342095 Non-Enhancer\n",
       "34183722  chrY  59342817 59342841 Non-Enhancer\n",
       "34183723  chrY  59343379 59343411 Non-Enhancer\n",
       "34183724  chrY  59345584 59345619 Non-Enhancer\n",
       "34183725  chrY  59348490 59348520 Non-Enhancer\n",
       "34183726  chrY  59348800 59348834 Non-Enhancer\n",
       "34183730  chrY  59351003 59351038 Non-Enhancer\n",
       "34183731  chrY  59352573 59352608 Non-Enhancer\n",
       "34183736  chrY  59356609 59356640 Non-Enhancer\n",
       "34183738  chrY  59357017 59357049 Non-Enhancer\n",
       "34183739  chrY  59357076 59357106 Non-Enhancer\n",
       "34183742  chrY  59357839 59357874 Non-Enhancer\n",
       "34183744  chrY  59357988 59358023 Non-Enhancer\n",
       "34183745  chrY  59357991 59358025 Non-Enhancer\n",
       "34183746  chrY  59361102 59361137 Non-Enhancer\n",
       "34183747  chrY  59361402 59361435 Non-Enhancer\n",
       "34183750  chrY  59362686 59362715 Non-Enhancer\n",
       "34183751  chrY  59362853 59362888 Non-Enhancer\n",
       "34183753  chrY  59362900 59362935 Non-Enhancer\n",
       "34183756  chrY  59362942 59362977 Non-Enhancer\n",
       "34183761  chrY  59363273 59363308 Non-Enhancer\n",
       "34183762  chrY  59363274 59363304 Non-Enhancer\n",
       "34183767  chrY  59363277 59363311 Non-Enhancer"
      ]
     },
     "metadata": {},
     "output_type": "display_data"
    }
   ],
   "source": [
    "my_consolidated_dataset"
   ]
  },
  {
   "cell_type": "markdown",
   "metadata": {},
   "source": [
    "If that is the case, we can take the liberty to remove the attribute \"Chrom\" from the dataset and proceed with the classification task solely on the basis of \"Start\" and \"End\" indexes, i.e. attributes."
   ]
  },
  {
   "cell_type": "code",
   "execution_count": 5,
   "metadata": {},
   "outputs": [
    {
     "name": "stdout",
     "output_type": "stream",
     "text": [
      "'data.frame':\t26550037 obs. of  3 variables:\n",
      " $ Start: int  7325 7334 9970 9971 9971 9971 9971 9973 9973 9973 ...\n",
      " $ End  : int  7360 7369 10004 9996 9996 9996 9997 9998 10001 9998 ...\n",
      " $ Class: Factor w/ 2 levels \"Enhancer\",\"Non-Enhancer\": 1 1 2 2 2 2 2 2 2 2 ...\n"
     ]
    }
   ],
   "source": [
    "my_consolidated_dataset <- my_consolidated_dataset[,-1]\n",
    "str(my_consolidated_dataset)"
   ]
  },
  {
   "cell_type": "markdown",
   "metadata": {},
   "source": []
  },
  {
   "cell_type": "markdown",
   "metadata": {},
   "source": [
    "### Notes\n",
    "\n",
    "  1.  The authors [@Rajagopal2013] construed p300 (a transcription co-activator) binding sites overlapping DNase-I hypersentitive sites and distal to annotated transcription start sites (TSS) as active p300 binding sites representative of enhancers.\n",
    "  2. Clusters with presence or absence of H3K36me3 were hypothesized to represent genic and inter-genic enhancers respectively.\n",
    "  3. While pre-processing the genomic ranges data if you need to convert WIG file to BED file, you may want to refer to BEDOPS -> wig2bed() function. This is available as a command line utility.\n",
    "\n",
    "P.S. During intermediary partitioning, if the node has the lowest Gini Index, it becomes leaf node. That will most likely be the case when all remaining non-root nodes have been exhausted, checking for impurity score.\n",
    "\n",
    "All workshop study material is available at my github page (https://github.com/shauryajauhari).\n"
   ]
  }
 ],
 "metadata": {
  "kernelspec": {
   "display_name": "R",
   "language": "R",
   "name": "ir"
  },
  "language_info": {
   "codemirror_mode": "r",
   "file_extension": ".r",
   "mimetype": "text/x-r-source",
   "name": "R",
   "pygments_lexer": "r",
   "version": "3.5.2"
  }
 },
 "nbformat": 4,
 "nbformat_minor": 2
}
