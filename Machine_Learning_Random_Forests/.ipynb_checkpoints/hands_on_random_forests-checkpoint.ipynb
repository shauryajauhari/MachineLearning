{
 "cells": [
  {
   "cell_type": "markdown",
   "metadata": {},
   "source": [
    "# Decision Trees and Random Forests"
   ]
  },
  {
   "cell_type": "markdown",
   "metadata": {},
   "source": [
    "Shaurya Jauhari (Email: shauryajauhari@gzhmu.edu.cn)"
   ]
  },
  {
   "cell_type": "markdown",
   "metadata": {},
   "source": [
    "Welcome to the second workshop in the series of **Machine Learning Fundamentals**. In this session, we shall explore the theory of **Decision Trees** and scale it to the broader concept of **Random Forests**. Decision trees epitomize the divide and conquer strategy to accomplish classification tasks (although they could also be implemented for regression chores as well)(Quinlan 1986, Rokach 2005). From the previous session on **Logistic Regression**, you may recall that if the response variable is catergorical in nature (factors in R), we aim classification, or else, if the response variable is continuous, it denotes regression. Classification and regression methodologies are both categorized under supervised machine learning. The theme of machine learning was realized in 1950s and since then, coupled with the data deluge and upheaval in computational prowess, has exhibited stronghold in data analysis domain (See figure below)."
   ]
  },
  {
   "cell_type": "markdown",
   "metadata": {},
   "source": [
    "![Machine Learning Genesis](./ML_Genesis.png)"
   ]
  },
  {
   "cell_type": "markdown",
   "metadata": {},
   "source": [
    "In order to appreciate the concept of random forests, it is incumbent to learn about decision trees. A decision tree is the unit of random forest. "
   ]
  },
  {
   "cell_type": "markdown",
   "metadata": {},
   "source": [
    "There is also an added understanding about dimensionality reduction in decision trees (and random forests as well). If you may recall the same concept in logistic regression, the idea was to penalize \"non-performing\" features by reducing their coefficients close to(alpha=0:Ridge) or equal to zero(alpha=1:Lasso).(P.S. There is also a provision for replicating the objective of train-test data partitioning, i.e. cross-validation). In decision trees, entropy and information gain parameters are calculated to ascertain the best attribute to split/ partition the tree. It is crucial to engender the tree a definitive structure, else the curse of biasness in decision trees for continuous and nominal data comes to play.   "
   ]
  },
  {
   "cell_type": "markdown",
   "metadata": {},
   "source": [
    "Random forests enlighten on the dogma of democracy, i.e. *majority wins*. Decision Trees are rudimentary classification algorithms that, at a low-level, are synonymous to *if-then* conditional statements in programming languages. They follow the strategy of iterative recursion, and intuitively the leaf nodes hold the final verdict. The highest aggregate from all leaf nodes (terminals) is graded as the output of that decision tree.  \n",
    "\n",
    "In this module, we shall delve into creation of basic decision trees to have an understanding of it. For the purpose, we shall load the package **party** and make use of the function **ctree()** to calculate and analyze decision trees. Furthermore, we shall require the packages **rpart**, **party**, **randomForest** as well. Let's load them up."
   ]
  },
  {
   "cell_type": "markdown",
   "metadata": {},
   "source": [
    "## Package Installation and Loading"
   ]
  },
  {
   "cell_type": "code",
   "execution_count": 1,
   "metadata": {},
   "outputs": [
    {
     "name": "stdout",
     "output_type": "stream",
     "text": [
      "\n",
      "The downloaded binary packages are in\n",
      "\t/var/folders/hm/c3_fjypn62v5xh5b5ygv267m0000gn/T//RtmpTrphVb/downloaded_packages\n"
     ]
    },
    {
     "name": "stderr",
     "output_type": "stream",
     "text": [
      "Loading required package: grid\n",
      "Loading required package: mvtnorm\n",
      "Loading required package: modeltools\n",
      "Loading required package: stats4\n",
      "Loading required package: strucchange\n",
      "Loading required package: zoo\n",
      "\n",
      "Attaching package: ‘zoo’\n",
      "\n",
      "The following objects are masked from ‘package:base’:\n",
      "\n",
      "    as.Date, as.Date.numeric\n",
      "\n",
      "Loading required package: sandwich\n"
     ]
    }
   ],
   "source": [
    "install.packages(\"party\", dependencies = TRUE, repos = \"https://mirrors.tuna.tsinghua.edu.cn/CRAN/\")\n",
    "install.packages(\"rpart\", dependencies = TRUE, repos = \"https://mirrors.tuna.tsinghua.edu.cn/CRAN/\")\n",
    "install.packages(\"randomForest\", dependencies = TRUE, repos = \"https://mirrors.tuna.tsinghua.edu.cn/CRAN/\")\n",
    "library(party)\n",
    "library(rpart)\n",
    "library(randomForest)"
   ]
  },
  {
   "cell_type": "markdown",
   "metadata": {},
   "source": []
  },
  {
   "cell_type": "markdown",
   "metadata": {},
   "source": [
    "Let us now, pick up a dataset. The dataset pertains to the soft computation of the **enhancer prediction** module in bioinformatics. We certainly take into cognizance the biological implications about enhancer regions (See figure below).   \n",
    "Certain known classes of proteins/ cis-regulatory elements called Transcription Factors (TFs) and Transcription Co-Activators (TCoAs) are programmed to bind to regions in the genome called *Enhancers*, that remotely orchestrate the phenomena of gene regulation. They are at a distal location to the *Promoters*, regions associated with genes and respective Transcription Start Sites (TSS). On stimulus from TFs, the enhancer and promoter sequences reciprocate and actuate the transcription machinery."
   ]
  },
  {
   "cell_type": "markdown",
   "metadata": {},
   "source": [
    "![Enhancer Prediction Basis](./WorkFlow_Illustration.jpg)"
   ]
  },
  {
   "cell_type": "markdown",
   "metadata": {},
   "source": [
    "## Dataset handling"
   ]
  },
  {
   "cell_type": "markdown",
   "metadata": {},
   "source": [
    "For use in this session, we have chosen a compound dataset from the studies as follows; for **non-enhancer** data, we referenced \"Chromatin accessibility assay of IMR90 Cell Line; DS11759\", sample dataset deposited to GEO labeled GSM468792. (P.S. Although these are not, but if a  dataset is originally available as a WIG file, firstly, it is converted to BED and is then subsequently cleaned for  use(See Notes: 3).\n",
    "To add to the positive class data, we consider regions that are **enhancers**. Under this category, we include regions from ChIP-Seq study from GSM929090, available as BED file. These are p300 binding sites from the IMR90 cell lines. Also, in interest of this exercise, we shall consider equal proportions of enhancer and nonenhancer regions; although, enhancer sites are lower in number in comparison to the promoter sites (Rajagopal 2013)."
   ]
  },
  {
   "cell_type": "markdown",
   "metadata": {},
   "source": [
    "![Dataset Profile](./Dataset_Profile.jpg)"
   ]
  },
  {
   "cell_type": "code",
   "execution_count": 4,
   "metadata": {},
   "outputs": [],
   "source": [
    "mydata_enhancers <- read.csv(\"./GSM2445787.bed\", sep = '\\t', header = FALSE)\n",
    "mydata_nonenhancers <- read.csv(\"./GSM817160.bed\", sep = '\\t', header = FALSE)"
   ]
  },
  {
   "cell_type": "markdown",
   "metadata": {},
   "source": [
    "We choose to incorporate only those peaks with occurence of 1 and above. Additionally, a column for \"Class\" has been added that uniformly holds the value \"Enhancer\" as all the peaks correspond to p300 bindings in the genome. Finally, we have also pruned the dataset for columns on peak ids and frequencies as they are beyond the scope of our analysis."
   ]
  },
  {
   "cell_type": "code",
   "execution_count": 5,
   "metadata": {},
   "outputs": [],
   "source": [
    "mydata_enhancers <- mydata_enhancers[mydata_enhancers$V5 > 0,]\n",
    "mydata_enhancers <- mydata_enhancers[,c(1,2,3)]\n",
    "mydata_enhancers$Class <- \"Enhancer\"\n",
    "colnames(mydata_enhancers) <- c(\"Chrom\", \"Start\", \"End\", \"Class\")"
   ]
  },
  {
   "cell_type": "code",
   "execution_count": 6,
   "metadata": {},
   "outputs": [],
   "source": [
    "enhancer_indexes <- sample(1:nrow(mydata_enhancers),nrow(mydata_nonenhancers)) \n",
    "mydata_enhancers<- mydata_enhancers[enhancer_indexes,]"
   ]
  },
  {
   "cell_type": "markdown",
   "metadata": {},
   "source": [
    "Again for the nonenhancer data, we shall be following the same protocol."
   ]
  },
  {
   "cell_type": "code",
   "execution_count": 7,
   "metadata": {},
   "outputs": [],
   "source": [
    "mydata_nonenhancers <- mydata_nonenhancers[mydata_nonenhancers$V5 > 0,]\n",
    "mydata_nonenhancers <- mydata_nonenhancers[,c(1,2,3)]\n",
    "mydata_nonenhancers$Class <- \"Non-Enhancer\"\n",
    "colnames(mydata_nonenhancers) <- c(\"Chrom\", \"Start\", \"End\", \"Class\")"
   ]
  },
  {
   "cell_type": "markdown",
   "metadata": {},
   "source": [
    "We have hit a roadbloack here! In order to execute for decision trees, given the dataset, we shall always have a node\n",
    "that is having two attributes minimum. Since fields \"Chrom\", \"Start\", and \"End\" are intimately related, we will need \n",
    "\"Chrom\" as default attribute, alongwith \"Start\" or \"End\" or both. There are two ways to solve this problem. First is \n",
    "to have a tree with two attributes at each node. Second way could help by, (i) having the file in sorted order by \n",
    "chromosome names, (ii) and then setting up a new column indicating cumulative \"Start\" and \"End\" extremities. "
   ]
  },
  {
   "cell_type": "markdown",
   "metadata": {},
   "source": [
    "Let us try the second way out.\n",
    "It is better to confirm if we have the data in sorted order by chromosomes."
   ]
  },
  {
   "cell_type": "code",
   "execution_count": 8,
   "metadata": {},
   "outputs": [],
   "source": [
    "mydata_enhancers_sorted_chrom_names <- mydata_enhancers[with(mydata_enhancers, order(Chrom,Start)), ]\n",
    "mydata_nonenhancers_sorted_chrom_names <- mydata_nonenhancers[with(mydata_nonenhancers, order(Chrom,Start)), ]"
   ]
  },
  {
   "cell_type": "markdown",
   "metadata": {},
   "source": [
    "Cool! Eventually, we converge these dataframes into one and *voila* you have a base version of the dataset to work upon. Let's say we name it *my_consolidated_dataset*. "
   ]
  },
  {
   "cell_type": "code",
   "execution_count": 12,
   "metadata": {},
   "outputs": [],
   "source": [
    "my_consolidated_dataset <- rbind(mydata_enhancers_sorted_chrom_names, mydata_nonenhancers_sorted_chrom_names)\n",
    "my_consolidated_dataset <- my_consolidated_dataset[with(my_consolidated_dataset, order(Chrom, Start)), ]"
   ]
  },
  {
   "cell_type": "markdown",
   "metadata": {},
   "source": [
    "In addition we're also not willing to process random chromosomal entries that might've crept in."
   ]
  },
  {
   "cell_type": "code",
   "execution_count": 14,
   "metadata": {},
   "outputs": [
    {
     "data": {
      "text/html": [
       "<table>\n",
       "<caption>A data.frame: 105476 × 4</caption>\n",
       "<thead>\n",
       "\t<tr><th></th><th scope=col>Chrom</th><th scope=col>Start</th><th scope=col>End</th><th scope=col>Class</th></tr>\n",
       "\t<tr><th></th><th scope=col>&lt;fct&gt;</th><th scope=col>&lt;int&gt;</th><th scope=col>&lt;int&gt;</th><th scope=col>&lt;chr&gt;</th></tr>\n",
       "</thead>\n",
       "<tbody>\n",
       "\t<tr><th scope=row>1</th><td>chr1</td><td> 10153</td><td> 10350</td><td>Non-Enhancer</td></tr>\n",
       "\t<tr><th scope=row>149</th><td>chr1</td><td> 14800</td><td> 14900</td><td>Enhancer    </td></tr>\n",
       "\t<tr><th scope=row>508</th><td>chr1</td><td> 50700</td><td> 50800</td><td>Enhancer    </td></tr>\n",
       "\t<tr><th scope=row>577</th><td>chr1</td><td> 57600</td><td> 57700</td><td>Enhancer    </td></tr>\n",
       "\t<tr><th scope=row>638</th><td>chr1</td><td> 63700</td><td> 63800</td><td>Enhancer    </td></tr>\n",
       "\t<tr><th scope=row>827</th><td>chr1</td><td> 82600</td><td> 82700</td><td>Enhancer    </td></tr>\n",
       "\t<tr><th scope=row>1018</th><td>chr1</td><td>101700</td><td>101800</td><td>Enhancer    </td></tr>\n",
       "\t<tr><th scope=row>1234</th><td>chr1</td><td>123300</td><td>123400</td><td>Enhancer    </td></tr>\n",
       "\t<tr><th scope=row>2</th><td>chr1</td><td>180794</td><td>180924</td><td>Non-Enhancer</td></tr>\n",
       "\t<tr><th scope=row>3</th><td>chr1</td><td>181401</td><td>181567</td><td>Non-Enhancer</td></tr>\n",
       "\t<tr><th scope=row>2539</th><td>chr1</td><td>253800</td><td>253900</td><td>Enhancer    </td></tr>\n",
       "\t<tr><th scope=row>2625</th><td>chr1</td><td>262400</td><td>262500</td><td>Enhancer    </td></tr>\n",
       "\t<tr><th scope=row>4</th><td>chr1</td><td>267971</td><td>268080</td><td>Non-Enhancer</td></tr>\n",
       "\t<tr><th scope=row>3747</th><td>chr1</td><td>374600</td><td>374700</td><td>Enhancer    </td></tr>\n",
       "\t<tr><th scope=row>3932</th><td>chr1</td><td>393100</td><td>393200</td><td>Enhancer    </td></tr>\n",
       "\t<tr><th scope=row>5692</th><td>chr1</td><td>569100</td><td>569200</td><td>Enhancer    </td></tr>\n",
       "\t<tr><th scope=row>5915</th><td>chr1</td><td>591400</td><td>591500</td><td>Enhancer    </td></tr>\n",
       "\t<tr><th scope=row>5</th><td>chr1</td><td>629853</td><td>630033</td><td>Non-Enhancer</td></tr>\n",
       "\t<tr><th scope=row>6</th><td>chr1</td><td>631302</td><td>631610</td><td>Non-Enhancer</td></tr>\n",
       "\t<tr><th scope=row>7</th><td>chr1</td><td>633940</td><td>634117</td><td>Non-Enhancer</td></tr>\n",
       "\t<tr><th scope=row>6440</th><td>chr1</td><td>643900</td><td>644000</td><td>Enhancer    </td></tr>\n",
       "\t<tr><th scope=row>6719</th><td>chr1</td><td>671800</td><td>671900</td><td>Enhancer    </td></tr>\n",
       "\t<tr><th scope=row>6980</th><td>chr1</td><td>697900</td><td>698000</td><td>Enhancer    </td></tr>\n",
       "\t<tr><th scope=row>6989</th><td>chr1</td><td>698800</td><td>698900</td><td>Enhancer    </td></tr>\n",
       "\t<tr><th scope=row>7251</th><td>chr1</td><td>725000</td><td>725100</td><td>Enhancer    </td></tr>\n",
       "\t<tr><th scope=row>8</th><td>chr1</td><td>778495</td><td>778981</td><td>Non-Enhancer</td></tr>\n",
       "\t<tr><th scope=row>9</th><td>chr1</td><td>779095</td><td>779195</td><td>Non-Enhancer</td></tr>\n",
       "\t<tr><th scope=row>10</th><td>chr1</td><td>827249</td><td>827677</td><td>Non-Enhancer</td></tr>\n",
       "\t<tr><th scope=row>8364</th><td>chr1</td><td>836300</td><td>836400</td><td>Enhancer    </td></tr>\n",
       "\t<tr><th scope=row>11</th><td>chr1</td><td>869683</td><td>870163</td><td>Non-Enhancer</td></tr>\n",
       "\t<tr><th scope=row>⋮</th><td>⋮</td><td>⋮</td><td>⋮</td><td>⋮</td></tr>\n",
       "\t<tr><th scope=row>30636442</th><td>chrY</td><td>27322600</td><td>27322700</td><td>Enhancer    </td></tr>\n",
       "\t<tr><th scope=row>30636594</th><td>chrY</td><td>27337800</td><td>27337900</td><td>Enhancer    </td></tr>\n",
       "\t<tr><th scope=row>30638712</th><td>chrY</td><td>27549600</td><td>27549700</td><td>Enhancer    </td></tr>\n",
       "\t<tr><th scope=row>30641352</th><td>chrY</td><td>27813600</td><td>27813700</td><td>Enhancer    </td></tr>\n",
       "\t<tr><th scope=row>30642334</th><td>chrY</td><td>27911800</td><td>27911900</td><td>Enhancer    </td></tr>\n",
       "\t<tr><th scope=row>30642859</th><td>chrY</td><td>27964300</td><td>27964400</td><td>Enhancer    </td></tr>\n",
       "\t<tr><th scope=row>30644342</th><td>chrY</td><td>28112600</td><td>28112700</td><td>Enhancer    </td></tr>\n",
       "\t<tr><th scope=row>30644469</th><td>chrY</td><td>28125300</td><td>28125400</td><td>Enhancer    </td></tr>\n",
       "\t<tr><th scope=row>30646176</th><td>chrY</td><td>28296000</td><td>28296100</td><td>Enhancer    </td></tr>\n",
       "\t<tr><th scope=row>30649249</th><td>chrY</td><td>28603300</td><td>28603400</td><td>Enhancer    </td></tr>\n",
       "\t<tr><th scope=row>30650305</th><td>chrY</td><td>28708900</td><td>28709000</td><td>Enhancer    </td></tr>\n",
       "\t<tr><th scope=row>30650310</th><td>chrY</td><td>28709400</td><td>28709500</td><td>Enhancer    </td></tr>\n",
       "\t<tr><th scope=row>30650662</th><td>chrY</td><td>28744600</td><td>28744700</td><td>Enhancer    </td></tr>\n",
       "\t<tr><th scope=row>30650776</th><td>chrY</td><td>28756000</td><td>28756100</td><td>Enhancer    </td></tr>\n",
       "\t<tr><th scope=row>30651198</th><td>chrY</td><td>28798200</td><td>28798300</td><td>Enhancer    </td></tr>\n",
       "\t<tr><th scope=row>52796</th><td>chrY</td><td>56728052</td><td>56728229</td><td>Non-Enhancer</td></tr>\n",
       "\t<tr><th scope=row>52797</th><td>chrY</td><td>56734700</td><td>56734888</td><td>Non-Enhancer</td></tr>\n",
       "\t<tr><th scope=row>52798</th><td>chrY</td><td>56763428</td><td>56763610</td><td>Non-Enhancer</td></tr>\n",
       "\t<tr><th scope=row>30951799</th><td>chrY</td><td>58858300</td><td>58858400</td><td>Enhancer    </td></tr>\n",
       "\t<tr><th scope=row>30952077</th><td>chrY</td><td>58886100</td><td>58886200</td><td>Enhancer    </td></tr>\n",
       "\t<tr><th scope=row>30952105</th><td>chrY</td><td>58888900</td><td>58889000</td><td>Enhancer    </td></tr>\n",
       "\t<tr><th scope=row>30952188</th><td>chrY</td><td>58897200</td><td>58897300</td><td>Enhancer    </td></tr>\n",
       "\t<tr><th scope=row>30953094</th><td>chrY</td><td>58987800</td><td>58987900</td><td>Enhancer    </td></tr>\n",
       "\t<tr><th scope=row>30953263</th><td>chrY</td><td>59004700</td><td>59004800</td><td>Enhancer    </td></tr>\n",
       "\t<tr><th scope=row>30953544</th><td>chrY</td><td>59032800</td><td>59032900</td><td>Enhancer    </td></tr>\n",
       "\t<tr><th scope=row>30953872</th><td>chrY</td><td>59065600</td><td>59065700</td><td>Enhancer    </td></tr>\n",
       "\t<tr><th scope=row>30954218</th><td>chrY</td><td>59100200</td><td>59100300</td><td>Enhancer    </td></tr>\n",
       "\t<tr><th scope=row>30954963</th><td>chrY</td><td>59174700</td><td>59174800</td><td>Enhancer    </td></tr>\n",
       "\t<tr><th scope=row>30955816</th><td>chrY</td><td>59260000</td><td>59260100</td><td>Enhancer    </td></tr>\n",
       "\t<tr><th scope=row>30956216</th><td>chrY</td><td>59300000</td><td>59300100</td><td>Enhancer    </td></tr>\n",
       "</tbody>\n",
       "</table>\n"
      ],
      "text/latex": [
       "A data.frame: 105476 × 4\n",
       "\\begin{tabular}{r|llll}\n",
       "  & Chrom & Start & End & Class\\\\\n",
       "  & <fct> & <int> & <int> & <chr>\\\\\n",
       "\\hline\n",
       "\t1 & chr1 &  10153 &  10350 & Non-Enhancer\\\\\n",
       "\t149 & chr1 &  14800 &  14900 & Enhancer    \\\\\n",
       "\t508 & chr1 &  50700 &  50800 & Enhancer    \\\\\n",
       "\t577 & chr1 &  57600 &  57700 & Enhancer    \\\\\n",
       "\t638 & chr1 &  63700 &  63800 & Enhancer    \\\\\n",
       "\t827 & chr1 &  82600 &  82700 & Enhancer    \\\\\n",
       "\t1018 & chr1 & 101700 & 101800 & Enhancer    \\\\\n",
       "\t1234 & chr1 & 123300 & 123400 & Enhancer    \\\\\n",
       "\t2 & chr1 & 180794 & 180924 & Non-Enhancer\\\\\n",
       "\t3 & chr1 & 181401 & 181567 & Non-Enhancer\\\\\n",
       "\t2539 & chr1 & 253800 & 253900 & Enhancer    \\\\\n",
       "\t2625 & chr1 & 262400 & 262500 & Enhancer    \\\\\n",
       "\t4 & chr1 & 267971 & 268080 & Non-Enhancer\\\\\n",
       "\t3747 & chr1 & 374600 & 374700 & Enhancer    \\\\\n",
       "\t3932 & chr1 & 393100 & 393200 & Enhancer    \\\\\n",
       "\t5692 & chr1 & 569100 & 569200 & Enhancer    \\\\\n",
       "\t5915 & chr1 & 591400 & 591500 & Enhancer    \\\\\n",
       "\t5 & chr1 & 629853 & 630033 & Non-Enhancer\\\\\n",
       "\t6 & chr1 & 631302 & 631610 & Non-Enhancer\\\\\n",
       "\t7 & chr1 & 633940 & 634117 & Non-Enhancer\\\\\n",
       "\t6440 & chr1 & 643900 & 644000 & Enhancer    \\\\\n",
       "\t6719 & chr1 & 671800 & 671900 & Enhancer    \\\\\n",
       "\t6980 & chr1 & 697900 & 698000 & Enhancer    \\\\\n",
       "\t6989 & chr1 & 698800 & 698900 & Enhancer    \\\\\n",
       "\t7251 & chr1 & 725000 & 725100 & Enhancer    \\\\\n",
       "\t8 & chr1 & 778495 & 778981 & Non-Enhancer\\\\\n",
       "\t9 & chr1 & 779095 & 779195 & Non-Enhancer\\\\\n",
       "\t10 & chr1 & 827249 & 827677 & Non-Enhancer\\\\\n",
       "\t8364 & chr1 & 836300 & 836400 & Enhancer    \\\\\n",
       "\t11 & chr1 & 869683 & 870163 & Non-Enhancer\\\\\n",
       "\t⋮ & ⋮ & ⋮ & ⋮ & ⋮\\\\\n",
       "\t30636442 & chrY & 27322600 & 27322700 & Enhancer    \\\\\n",
       "\t30636594 & chrY & 27337800 & 27337900 & Enhancer    \\\\\n",
       "\t30638712 & chrY & 27549600 & 27549700 & Enhancer    \\\\\n",
       "\t30641352 & chrY & 27813600 & 27813700 & Enhancer    \\\\\n",
       "\t30642334 & chrY & 27911800 & 27911900 & Enhancer    \\\\\n",
       "\t30642859 & chrY & 27964300 & 27964400 & Enhancer    \\\\\n",
       "\t30644342 & chrY & 28112600 & 28112700 & Enhancer    \\\\\n",
       "\t30644469 & chrY & 28125300 & 28125400 & Enhancer    \\\\\n",
       "\t30646176 & chrY & 28296000 & 28296100 & Enhancer    \\\\\n",
       "\t30649249 & chrY & 28603300 & 28603400 & Enhancer    \\\\\n",
       "\t30650305 & chrY & 28708900 & 28709000 & Enhancer    \\\\\n",
       "\t30650310 & chrY & 28709400 & 28709500 & Enhancer    \\\\\n",
       "\t30650662 & chrY & 28744600 & 28744700 & Enhancer    \\\\\n",
       "\t30650776 & chrY & 28756000 & 28756100 & Enhancer    \\\\\n",
       "\t30651198 & chrY & 28798200 & 28798300 & Enhancer    \\\\\n",
       "\t52796 & chrY & 56728052 & 56728229 & Non-Enhancer\\\\\n",
       "\t52797 & chrY & 56734700 & 56734888 & Non-Enhancer\\\\\n",
       "\t52798 & chrY & 56763428 & 56763610 & Non-Enhancer\\\\\n",
       "\t30951799 & chrY & 58858300 & 58858400 & Enhancer    \\\\\n",
       "\t30952077 & chrY & 58886100 & 58886200 & Enhancer    \\\\\n",
       "\t30952105 & chrY & 58888900 & 58889000 & Enhancer    \\\\\n",
       "\t30952188 & chrY & 58897200 & 58897300 & Enhancer    \\\\\n",
       "\t30953094 & chrY & 58987800 & 58987900 & Enhancer    \\\\\n",
       "\t30953263 & chrY & 59004700 & 59004800 & Enhancer    \\\\\n",
       "\t30953544 & chrY & 59032800 & 59032900 & Enhancer    \\\\\n",
       "\t30953872 & chrY & 59065600 & 59065700 & Enhancer    \\\\\n",
       "\t30954218 & chrY & 59100200 & 59100300 & Enhancer    \\\\\n",
       "\t30954963 & chrY & 59174700 & 59174800 & Enhancer    \\\\\n",
       "\t30955816 & chrY & 59260000 & 59260100 & Enhancer    \\\\\n",
       "\t30956216 & chrY & 59300000 & 59300100 & Enhancer    \\\\\n",
       "\\end{tabular}\n"
      ],
      "text/markdown": [
       "\n",
       "A data.frame: 105476 × 4\n",
       "\n",
       "| <!--/--> | Chrom &lt;fct&gt; | Start &lt;int&gt; | End &lt;int&gt; | Class &lt;chr&gt; |\n",
       "|---|---|---|---|---|\n",
       "| 1 | chr1 |  10153 |  10350 | Non-Enhancer |\n",
       "| 149 | chr1 |  14800 |  14900 | Enhancer     |\n",
       "| 508 | chr1 |  50700 |  50800 | Enhancer     |\n",
       "| 577 | chr1 |  57600 |  57700 | Enhancer     |\n",
       "| 638 | chr1 |  63700 |  63800 | Enhancer     |\n",
       "| 827 | chr1 |  82600 |  82700 | Enhancer     |\n",
       "| 1018 | chr1 | 101700 | 101800 | Enhancer     |\n",
       "| 1234 | chr1 | 123300 | 123400 | Enhancer     |\n",
       "| 2 | chr1 | 180794 | 180924 | Non-Enhancer |\n",
       "| 3 | chr1 | 181401 | 181567 | Non-Enhancer |\n",
       "| 2539 | chr1 | 253800 | 253900 | Enhancer     |\n",
       "| 2625 | chr1 | 262400 | 262500 | Enhancer     |\n",
       "| 4 | chr1 | 267971 | 268080 | Non-Enhancer |\n",
       "| 3747 | chr1 | 374600 | 374700 | Enhancer     |\n",
       "| 3932 | chr1 | 393100 | 393200 | Enhancer     |\n",
       "| 5692 | chr1 | 569100 | 569200 | Enhancer     |\n",
       "| 5915 | chr1 | 591400 | 591500 | Enhancer     |\n",
       "| 5 | chr1 | 629853 | 630033 | Non-Enhancer |\n",
       "| 6 | chr1 | 631302 | 631610 | Non-Enhancer |\n",
       "| 7 | chr1 | 633940 | 634117 | Non-Enhancer |\n",
       "| 6440 | chr1 | 643900 | 644000 | Enhancer     |\n",
       "| 6719 | chr1 | 671800 | 671900 | Enhancer     |\n",
       "| 6980 | chr1 | 697900 | 698000 | Enhancer     |\n",
       "| 6989 | chr1 | 698800 | 698900 | Enhancer     |\n",
       "| 7251 | chr1 | 725000 | 725100 | Enhancer     |\n",
       "| 8 | chr1 | 778495 | 778981 | Non-Enhancer |\n",
       "| 9 | chr1 | 779095 | 779195 | Non-Enhancer |\n",
       "| 10 | chr1 | 827249 | 827677 | Non-Enhancer |\n",
       "| 8364 | chr1 | 836300 | 836400 | Enhancer     |\n",
       "| 11 | chr1 | 869683 | 870163 | Non-Enhancer |\n",
       "| ⋮ | ⋮ | ⋮ | ⋮ | ⋮ |\n",
       "| 30636442 | chrY | 27322600 | 27322700 | Enhancer     |\n",
       "| 30636594 | chrY | 27337800 | 27337900 | Enhancer     |\n",
       "| 30638712 | chrY | 27549600 | 27549700 | Enhancer     |\n",
       "| 30641352 | chrY | 27813600 | 27813700 | Enhancer     |\n",
       "| 30642334 | chrY | 27911800 | 27911900 | Enhancer     |\n",
       "| 30642859 | chrY | 27964300 | 27964400 | Enhancer     |\n",
       "| 30644342 | chrY | 28112600 | 28112700 | Enhancer     |\n",
       "| 30644469 | chrY | 28125300 | 28125400 | Enhancer     |\n",
       "| 30646176 | chrY | 28296000 | 28296100 | Enhancer     |\n",
       "| 30649249 | chrY | 28603300 | 28603400 | Enhancer     |\n",
       "| 30650305 | chrY | 28708900 | 28709000 | Enhancer     |\n",
       "| 30650310 | chrY | 28709400 | 28709500 | Enhancer     |\n",
       "| 30650662 | chrY | 28744600 | 28744700 | Enhancer     |\n",
       "| 30650776 | chrY | 28756000 | 28756100 | Enhancer     |\n",
       "| 30651198 | chrY | 28798200 | 28798300 | Enhancer     |\n",
       "| 52796 | chrY | 56728052 | 56728229 | Non-Enhancer |\n",
       "| 52797 | chrY | 56734700 | 56734888 | Non-Enhancer |\n",
       "| 52798 | chrY | 56763428 | 56763610 | Non-Enhancer |\n",
       "| 30951799 | chrY | 58858300 | 58858400 | Enhancer     |\n",
       "| 30952077 | chrY | 58886100 | 58886200 | Enhancer     |\n",
       "| 30952105 | chrY | 58888900 | 58889000 | Enhancer     |\n",
       "| 30952188 | chrY | 58897200 | 58897300 | Enhancer     |\n",
       "| 30953094 | chrY | 58987800 | 58987900 | Enhancer     |\n",
       "| 30953263 | chrY | 59004700 | 59004800 | Enhancer     |\n",
       "| 30953544 | chrY | 59032800 | 59032900 | Enhancer     |\n",
       "| 30953872 | chrY | 59065600 | 59065700 | Enhancer     |\n",
       "| 30954218 | chrY | 59100200 | 59100300 | Enhancer     |\n",
       "| 30954963 | chrY | 59174700 | 59174800 | Enhancer     |\n",
       "| 30955816 | chrY | 59260000 | 59260100 | Enhancer     |\n",
       "| 30956216 | chrY | 59300000 | 59300100 | Enhancer     |\n",
       "\n"
      ],
      "text/plain": [
       "         Chrom Start    End      Class       \n",
       "1        chr1   10153    10350   Non-Enhancer\n",
       "149      chr1   14800    14900   Enhancer    \n",
       "508      chr1   50700    50800   Enhancer    \n",
       "577      chr1   57600    57700   Enhancer    \n",
       "638      chr1   63700    63800   Enhancer    \n",
       "827      chr1   82600    82700   Enhancer    \n",
       "1018     chr1  101700   101800   Enhancer    \n",
       "1234     chr1  123300   123400   Enhancer    \n",
       "2        chr1  180794   180924   Non-Enhancer\n",
       "3        chr1  181401   181567   Non-Enhancer\n",
       "2539     chr1  253800   253900   Enhancer    \n",
       "2625     chr1  262400   262500   Enhancer    \n",
       "4        chr1  267971   268080   Non-Enhancer\n",
       "3747     chr1  374600   374700   Enhancer    \n",
       "3932     chr1  393100   393200   Enhancer    \n",
       "5692     chr1  569100   569200   Enhancer    \n",
       "5915     chr1  591400   591500   Enhancer    \n",
       "5        chr1  629853   630033   Non-Enhancer\n",
       "6        chr1  631302   631610   Non-Enhancer\n",
       "7        chr1  633940   634117   Non-Enhancer\n",
       "6440     chr1  643900   644000   Enhancer    \n",
       "6719     chr1  671800   671900   Enhancer    \n",
       "6980     chr1  697900   698000   Enhancer    \n",
       "6989     chr1  698800   698900   Enhancer    \n",
       "7251     chr1  725000   725100   Enhancer    \n",
       "8        chr1  778495   778981   Non-Enhancer\n",
       "9        chr1  779095   779195   Non-Enhancer\n",
       "10       chr1  827249   827677   Non-Enhancer\n",
       "8364     chr1  836300   836400   Enhancer    \n",
       "11       chr1  869683   870163   Non-Enhancer\n",
       "⋮        ⋮     ⋮        ⋮        ⋮           \n",
       "30636442 chrY  27322600 27322700 Enhancer    \n",
       "30636594 chrY  27337800 27337900 Enhancer    \n",
       "30638712 chrY  27549600 27549700 Enhancer    \n",
       "30641352 chrY  27813600 27813700 Enhancer    \n",
       "30642334 chrY  27911800 27911900 Enhancer    \n",
       "30642859 chrY  27964300 27964400 Enhancer    \n",
       "30644342 chrY  28112600 28112700 Enhancer    \n",
       "30644469 chrY  28125300 28125400 Enhancer    \n",
       "30646176 chrY  28296000 28296100 Enhancer    \n",
       "30649249 chrY  28603300 28603400 Enhancer    \n",
       "30650305 chrY  28708900 28709000 Enhancer    \n",
       "30650310 chrY  28709400 28709500 Enhancer    \n",
       "30650662 chrY  28744600 28744700 Enhancer    \n",
       "30650776 chrY  28756000 28756100 Enhancer    \n",
       "30651198 chrY  28798200 28798300 Enhancer    \n",
       "52796    chrY  56728052 56728229 Non-Enhancer\n",
       "52797    chrY  56734700 56734888 Non-Enhancer\n",
       "52798    chrY  56763428 56763610 Non-Enhancer\n",
       "30951799 chrY  58858300 58858400 Enhancer    \n",
       "30952077 chrY  58886100 58886200 Enhancer    \n",
       "30952105 chrY  58888900 58889000 Enhancer    \n",
       "30952188 chrY  58897200 58897300 Enhancer    \n",
       "30953094 chrY  58987800 58987900 Enhancer    \n",
       "30953263 chrY  59004700 59004800 Enhancer    \n",
       "30953544 chrY  59032800 59032900 Enhancer    \n",
       "30953872 chrY  59065600 59065700 Enhancer    \n",
       "30954218 chrY  59100200 59100300 Enhancer    \n",
       "30954963 chrY  59174700 59174800 Enhancer    \n",
       "30955816 chrY  59260000 59260100 Enhancer    \n",
       "30956216 chrY  59300000 59300100 Enhancer    "
      ]
     },
     "metadata": {},
     "output_type": "display_data"
    }
   ],
   "source": [
    "my_consolidated_dataset<- as.data.frame(my_consolidated_dataset[my_consolidated_dataset$Chrom %in% c(\"chr1\",\"chr2\",\"chr3\",\"chr4\",\"chr5\",\"chr6\",\"chr7\",\n",
    "                                                                       \"chr8\",\"chr9\",\"chr10\",\"chr11\",\"chr12\",\"chr13\",\"chr14\",\n",
    "                                                                       \"chr15\", \"chr16\", \"chr17\", \"chr18\", \"chr19\", \"chr20\",\n",
    "                                                                       \"chr21\", \"chr22\", \"chrX\", \"chrY\"), ])\n",
    "my_consolidated_dataset"
   ]
  },
  {
   "cell_type": "markdown",
   "metadata": {},
   "source": [
    "You would've noticed one thing. The class variable is a \"character\". We would like it to be factor variable. So, let's change it. Note that this manipulation can also be carried out at the time of defining the *Class* variable ,but whatever!"
   ]
  },
  {
   "cell_type": "code",
   "execution_count": null,
   "metadata": {},
   "outputs": [],
   "source": [
    "my_consolidated_dataset$Class <- as.factor(my_consolidated_dataset$Class)"
   ]
  },
  {
   "cell_type": "markdown",
   "metadata": {},
   "source": [
    "So, the idea here is that we shall have regions in chromosome 1 indexed as is, and then we shall engage the end index of chromosome 1 as the starting index of chromosome 2; same for chromosome 3 of chromosome 2 ans so forth. In order to accomplish that, let us break down the given dataset for each chromosome."
   ]
  },
  {
   "cell_type": "code",
   "execution_count": 15,
   "metadata": {},
   "outputs": [],
   "source": [
    "chr1_data<- my_consolidated_dataset[my_consolidated_dataset$Chrom == \"chr1\", ]\n",
    "chr2_data<- my_consolidated_dataset[my_consolidated_dataset$Chrom == \"chr2\", ]\n",
    "chr3_data<- my_consolidated_dataset[my_consolidated_dataset$Chrom == \"chr3\", ]\n",
    "chr4_data<- my_consolidated_dataset[my_consolidated_dataset$Chrom == \"chr4\", ]\n",
    "chr5_data<- my_consolidated_dataset[my_consolidated_dataset$Chrom == \"chr5\", ]\n",
    "chr6_data<- my_consolidated_dataset[my_consolidated_dataset$Chrom == \"chr6\", ]\n",
    "chr7_data<- my_consolidated_dataset[my_consolidated_dataset$Chrom == \"chr7\", ]\n",
    "chr8_data<- my_consolidated_dataset[my_consolidated_dataset$Chrom == \"chr8\", ]\n",
    "chr9_data<- my_consolidated_dataset[my_consolidated_dataset$Chrom == \"chr9\", ]\n",
    "chr10_data<- my_consolidated_dataset[my_consolidated_dataset$Chrom == \"chr10\", ]\n",
    "chr11_data<- my_consolidated_dataset[my_consolidated_dataset$Chrom == \"chr11\", ]\n",
    "chr12_data<- my_consolidated_dataset[my_consolidated_dataset$Chrom == \"chr12\", ]\n",
    "chr13_data<- my_consolidated_dataset[my_consolidated_dataset$Chrom == \"chr13\", ]\n",
    "chr14_data<- my_consolidated_dataset[my_consolidated_dataset$Chrom == \"chr14\", ]\n",
    "chr15_data<- my_consolidated_dataset[my_consolidated_dataset$Chrom == \"chr15\", ]\n",
    "chr16_data<- my_consolidated_dataset[my_consolidated_dataset$Chrom == \"chr16\", ]\n",
    "chr17_data<- my_consolidated_dataset[my_consolidated_dataset$Chrom == \"chr17\", ]\n",
    "chr18_data<- my_consolidated_dataset[my_consolidated_dataset$Chrom == \"chr18\", ]\n",
    "chr19_data<- my_consolidated_dataset[my_consolidated_dataset$Chrom == \"chr19\", ]\n",
    "chr20_data<- my_consolidated_dataset[my_consolidated_dataset$Chrom == \"chr20\", ]\n",
    "chr21_data<- my_consolidated_dataset[my_consolidated_dataset$Chrom == \"chr21\", ]\n",
    "chr22_data<- my_consolidated_dataset[my_consolidated_dataset$Chrom == \"chr22\", ]\n",
    "chrX_data<- my_consolidated_dataset[my_consolidated_dataset$Chrom == \"chrX\", ]\n",
    "chrY_data<- my_consolidated_dataset[my_consolidated_dataset$Chrom == \"chrY\", ]"
   ]
  },
  {
   "cell_type": "markdown",
   "metadata": {},
   "source": [
    "Now that we have clustered all the chromosomes individually, we can proceed towards "
   ]
  },
  {
   "cell_type": "markdown",
   "metadata": {},
   "source": []
  },
  {
   "cell_type": "markdown",
   "metadata": {},
   "source": [
    "### Notes\n",
    "\n",
    "  1.  The authors [@Rajagopal2013] construed p300 (a transcription co-activator) binding sites overlapping DNase-I hypersentitive sites and distal to annotated transcription start sites (TSS) as active p300 binding sites representative of enhancers.\n",
    "  2. Clusters with presence or absence of H3K36me3 were hypothesized to represent genic and inter-genic enhancers respectively.\n",
    "  3. While pre-processing the genomic ranges data if you need to convert WIG file to BED file, you may want to refer to BEDOPS -> wig2bed() function. This is available as a command line utility.\n",
    "\n",
    "P.S. During intermediary partitioning, if the node has the lowest Gini Index, it becomes leaf node. That will most likely be the case when all remaining non-root nodes have been exhausted, checking for impurity score.\n",
    "\n",
    "All workshop study material is available at my github page (https://github.com/shauryajauhari).\n"
   ]
  }
 ],
 "metadata": {
  "kernelspec": {
   "display_name": "R",
   "language": "R",
   "name": "ir"
  },
  "language_info": {
   "codemirror_mode": "r",
   "file_extension": ".r",
   "mimetype": "text/x-r-source",
   "name": "R",
   "pygments_lexer": "r",
   "version": "3.5.2"
  }
 },
 "nbformat": 4,
 "nbformat_minor": 2
}
